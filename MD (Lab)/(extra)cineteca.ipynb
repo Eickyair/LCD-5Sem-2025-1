{
 "cells": [
  {
   "cell_type": "markdown",
   "metadata": {},
   "source": [
    "### Bibliotecas"
   ]
  },
  {
   "cell_type": "code",
   "execution_count": 1,
   "metadata": {},
   "outputs": [],
   "source": [
    "from urllib.request import urlopen\n",
    "import ssl\n",
    "from bs4 import BeautifulSoup\n",
    "import re\n",
    "from datetime import datetime, timedelta\n",
    "import pandas as pd\n",
    "from ipywidgets import Dropdown"
   ]
  },
  {
   "cell_type": "markdown",
   "metadata": {},
   "source": [
    "### Funciones"
   ]
  },
  {
   "cell_type": "code",
   "execution_count": 2,
   "metadata": {},
   "outputs": [],
   "source": [
    "def retrieve_from_url(url='https://www.cinetecanacional.net/sedes/cartelera.php?cinemaId=003#gsc.tab=0'):\n",
    "    # Ignore SSL certificate errors\n",
    "    ctx = ssl.create_default_context()\n",
    "    ctx.check_hostname = False\n",
    "    ctx.verify_mode = ssl.CERT_NONE\n",
    "\n",
    "    html = urlopen(url, context=ctx).read()\n",
    "    return BeautifulSoup(html, \"html.parser\")"
   ]
  },
  {
   "cell_type": "code",
   "execution_count": 3,
   "metadata": {},
   "outputs": [],
   "source": [
    "def get_dates(soup):\n",
    "    return {date for date in re.findall(r'cartelera\\.php\\?cinemaId=003&amp;dia=(\\d{4}-\\d{2}-\\d{2})', str(soup)) if date >= datetime.today().strftime('%Y-%m-%d')}"
   ]
  },
  {
   "cell_type": "code",
   "execution_count": 4,
   "metadata": {},
   "outputs": [],
   "source": [
    "def create_movie_dataframe(soup):\n",
    "    df = pd.DataFrame(columns=('Title', 'Starts', 'Ends', 'Duration'))\n",
    "    cartelera = soup('div',id='cartelera')[0]\n",
    "    movies = cartelera('div', class_='col-12 col-md-6 col-lg-4 float-left')\n",
    "    for mov in movies:\n",
    "        title = mov('p', class_='font-weight-bold text-uppercase text-decoration-none text-black')[0].text\n",
    "        length = int(re.findall(r'Dur.: (\\d+) mins.\\)', str(mov))[0])\n",
    "        shows = re.findall(r'(\\d{2}:\\d{2})', str(mov))\n",
    "        for h in shows:\n",
    "            begins = datetime.strptime(h, '%H:%M')\n",
    "            ends = begins + timedelta(minutes=length)\n",
    "            new_row = {'Title': title, 'Starts': begins.time(), 'Ends': ends.time(), 'Duration': length}\n",
    "            df.loc[len(df)] = new_row\n",
    "    return df"
   ]
  },
  {
   "cell_type": "code",
   "execution_count": 5,
   "metadata": {},
   "outputs": [],
   "source": [
    "def which_movies(df):\n",
    "    df_out = pd.DataFrame(columns=('Title', 'Starts', 'Ends', 'Duration'))\n",
    "    df_sorted = df.sort_values(by='Ends')\n",
    "    while len(df_sorted) > 0:\n",
    "        current_time = df_sorted['Ends'].iloc[0]\n",
    "        df_out.loc[len(df_out)] = df_sorted.iloc[0].copy()\n",
    "        df_sorted = df_sorted[df_sorted['Starts'] >= current_time]\n",
    "    return df_out"
   ]
  },
  {
   "cell_type": "markdown",
   "metadata": {},
   "source": [
    "### Ejecución"
   ]
  },
  {
   "cell_type": "code",
   "execution_count": 6,
   "metadata": {},
   "outputs": [],
   "source": [
    "dates = sorted(list(get_dates(retrieve_from_url())))\n",
    "w = Dropdown(options=dates, value=dates[0], description='Select date:', disabled=False,)"
   ]
  },
  {
   "cell_type": "code",
   "execution_count": 7,
   "metadata": {},
   "outputs": [
    {
     "data": {
      "application/vnd.jupyter.widget-view+json": {
       "model_id": "2d05d720083b4a999e2a8798c755f7a6",
       "version_major": 2,
       "version_minor": 0
      },
      "text/plain": [
       "Dropdown(description='Select date:', options=('2024-09-12', '2024-09-13', '2024-09-14', '2024-09-15', '2024-09…"
      ]
     },
     "metadata": {},
     "output_type": "display_data"
    }
   ],
   "source": [
    "display(w)"
   ]
  },
  {
   "cell_type": "markdown",
   "metadata": {},
   "source": [
    "$\\downarrow \\downarrow \\downarrow$ ***Volver a ejecutar las celdas de aquí hacia abajo si cambias la fecha***     $\\downarrow \\downarrow \\downarrow$"
   ]
  },
  {
   "cell_type": "code",
   "execution_count": 22,
   "metadata": {},
   "outputs": [],
   "source": [
    "df = create_movie_dataframe(retrieve_from_url('https://www.cinetecanacional.net/sedes/cartelera.php?cinemaId=003&dia=' + w.value + '#gsc.tab=0'))"
   ]
  },
  {
   "cell_type": "code",
   "execution_count": 23,
   "metadata": {},
   "outputs": [
    {
     "name": "stdout",
     "output_type": "stream",
     "text": [
      "Este es el máximo de películas que puedes ver el 2024-09-17 en la Cineteca Nacional.\n"
     ]
    }
   ],
   "source": [
    "print('Este es el máximo de películas que puedes ver el', w.value, 'en la Cineteca Nacional.')"
   ]
  },
  {
   "cell_type": "code",
   "execution_count": 24,
   "metadata": {},
   "outputs": [
    {
     "data": {
      "text/html": [
       "<div>\n",
       "<style scoped>\n",
       "    .dataframe tbody tr th:only-of-type {\n",
       "        vertical-align: middle;\n",
       "    }\n",
       "\n",
       "    .dataframe tbody tr th {\n",
       "        vertical-align: top;\n",
       "    }\n",
       "\n",
       "    .dataframe thead th {\n",
       "        text-align: right;\n",
       "    }\n",
       "</style>\n",
       "<table border=\"1\" class=\"dataframe\">\n",
       "  <thead>\n",
       "    <tr style=\"text-align: right;\">\n",
       "      <th></th>\n",
       "      <th>Title</th>\n",
       "      <th>Starts</th>\n",
       "      <th>Ends</th>\n",
       "      <th>Duration</th>\n",
       "    </tr>\n",
       "  </thead>\n",
       "  <tbody>\n",
       "    <tr>\n",
       "      <th>0</th>\n",
       "      <td>Salaryman</td>\n",
       "      <td>14:00:00</td>\n",
       "      <td>15:20:00</td>\n",
       "      <td>80</td>\n",
       "    </tr>\n",
       "    <tr>\n",
       "      <th>1</th>\n",
       "      <td>Dormir con los ojos abiertos</td>\n",
       "      <td>16:00:00</td>\n",
       "      <td>17:37:00</td>\n",
       "      <td>97</td>\n",
       "    </tr>\n",
       "    <tr>\n",
       "      <th>2</th>\n",
       "      <td>El grosor del polvo</td>\n",
       "      <td>18:15:00</td>\n",
       "      <td>19:37:00</td>\n",
       "      <td>82</td>\n",
       "    </tr>\n",
       "    <tr>\n",
       "      <th>3</th>\n",
       "      <td>Dormir con los ojos abiertos</td>\n",
       "      <td>20:15:00</td>\n",
       "      <td>21:52:00</td>\n",
       "      <td>97</td>\n",
       "    </tr>\n",
       "  </tbody>\n",
       "</table>\n",
       "</div>"
      ],
      "text/plain": [
       "                          Title    Starts      Ends Duration\n",
       "0                     Salaryman  14:00:00  15:20:00       80\n",
       "1  Dormir con los ojos abiertos  16:00:00  17:37:00       97\n",
       "2           El grosor del polvo  18:15:00  19:37:00       82\n",
       "3  Dormir con los ojos abiertos  20:15:00  21:52:00       97"
      ]
     },
     "execution_count": 24,
     "metadata": {},
     "output_type": "execute_result"
    }
   ],
   "source": [
    "which_movies(df)"
   ]
  },
  {
   "cell_type": "code",
   "execution_count": 25,
   "metadata": {},
   "outputs": [
    {
     "name": "stdout",
     "output_type": "stream",
     "text": [
      "Con un total de 4 películas, y un tiempo de 356 minutos.\n",
      "Esto es aproximadamente 5 horas y 56 minutos.\n",
      "=D!\n"
     ]
    }
   ],
   "source": [
    "print('Con un total de', len(which_movies(df)), 'películas, y un tiempo de', which_movies(df)['Duration'].sum(), 'minutos.')\n",
    "print('Esto es aproximadamente', which_movies(df)['Duration'].sum()//60, 'horas y', which_movies(df)['Duration'].sum()%60, 'minutos.')\n",
    "print('=D!')"
   ]
  }
 ],
 "metadata": {
  "kernelspec": {
   "display_name": "Python 3",
   "language": "python",
   "name": "python3"
  },
  "language_info": {
   "codemirror_mode": {
    "name": "ipython",
    "version": 3
   },
   "file_extension": ".py",
   "mimetype": "text/x-python",
   "name": "python",
   "nbconvert_exporter": "python",
   "pygments_lexer": "ipython3",
   "version": "3.12.4"
  }
 },
 "nbformat": 4,
 "nbformat_minor": 2
}
