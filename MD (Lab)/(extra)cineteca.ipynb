{
 "cells": [
  {
   "cell_type": "markdown",
   "metadata": {},
   "source": [
    "### Bibliotecas"
   ]
  },
  {
   "cell_type": "code",
   "execution_count": 1,
   "metadata": {},
   "outputs": [],
   "source": [
    "from urllib.request import urlopen\n",
    "import ssl\n",
    "from bs4 import BeautifulSoup\n",
    "import re\n",
    "from datetime import datetime, timedelta\n",
    "import pandas as pd\n",
    "from ipywidgets import Dropdown"
   ]
  },
  {
   "cell_type": "markdown",
   "metadata": {},
   "source": [
    "### Funciones"
   ]
  },
  {
   "cell_type": "code",
   "execution_count": 2,
   "metadata": {},
   "outputs": [],
   "source": [
    "def retrieve_from_url(url='https://www.cinetecanacional.net/sedes/cartelera.php?cinemaId=003#gsc.tab=0'):\n",
    "    # Ignore SSL certificate errors\n",
    "    ctx = ssl.create_default_context()\n",
    "    ctx.check_hostname = False\n",
    "    ctx.verify_mode = ssl.CERT_NONE\n",
    "\n",
    "    html = urlopen(url, context=ctx).read()\n",
    "    return BeautifulSoup(html, \"html.parser\")"
   ]
  },
  {
   "cell_type": "code",
   "execution_count": 3,
   "metadata": {},
   "outputs": [],
   "source": [
    "def get_dates(soup):\n",
    "    return sorted(list({date for date in re.findall(r'cartelera\\.php\\?cinemaId=003&amp;dia=(\\d{4}-\\d{2}-\\d{2})', str(soup)) if date >= datetime.today().strftime('%Y-%m-%d')}))"
   ]
  },
  {
   "cell_type": "code",
   "execution_count": 4,
   "metadata": {},
   "outputs": [],
   "source": [
    "def get_movies_data(soup):\n",
    "    movies_data={'Title': [], 'Starts': [], 'Ends': [], 'Duration':[]}\n",
    "    cartelera = soup('div',id='cartelera')[0]\n",
    "    movies = cartelera('div', class_='col-12 col-md-6 col-lg-4 float-left')\n",
    "    for mov in movies:\n",
    "        title = mov('p', class_='font-weight-bold text-uppercase text-decoration-none text-black')[0].text\n",
    "        length = int(re.findall(r'Dur.: (\\d+) mins.\\)', str(mov))[0])\n",
    "        shows = re.findall(r'(\\d{2}:\\d{2})', str(mov))\n",
    "        for h in shows:\n",
    "            begins = datetime.strptime(h, '%H:%M')\n",
    "            ends = begins + timedelta(minutes=length)\n",
    "            movies_data['Title'].append(title)\n",
    "            movies_data['Starts'].append(begins.time())\n",
    "            movies_data['Ends'].append(ends.time())\n",
    "            movies_data['Duration'].append(length)\n",
    "    return movies_data"
   ]
  },
  {
   "cell_type": "code",
   "execution_count": 5,
   "metadata": {},
   "outputs": [],
   "source": [
    "def which_movies(df):\n",
    "    df_out = pd.DataFrame(columns=('Title', 'Starts', 'Ends', 'Duration'))\n",
    "    df_sorted = df.sort_values(by='Ends')\n",
    "    while len(df_sorted) > 0:\n",
    "        current_time = df_sorted['Ends'].iloc[0]\n",
    "        df_out.loc[len(df_out)] = df_sorted.iloc[0].copy()\n",
    "        df_sorted = df_sorted[df_sorted['Starts'] >= current_time]\n",
    "    return df_out"
   ]
  },
  {
   "cell_type": "markdown",
   "metadata": {},
   "source": [
    "### Ejecución"
   ]
  },
  {
   "cell_type": "code",
   "execution_count": 6,
   "metadata": {},
   "outputs": [],
   "source": [
    "dates = get_dates(retrieve_from_url())\n",
    "w = Dropdown(options=dates, value=dates[0], description='Select date:', disabled=False,)"
   ]
  },
  {
   "cell_type": "code",
   "execution_count": 7,
   "metadata": {},
   "outputs": [
    {
     "data": {
      "application/vnd.jupyter.widget-view+json": {
       "model_id": "e1a4ac00d8c4435cb28873ef48494b95",
       "version_major": 2,
       "version_minor": 0
      },
      "text/plain": [
       "Dropdown(description='Select date:', options=('2024-09-12', '2024-09-13', '2024-09-14', '2024-09-15', '2024-09…"
      ]
     },
     "metadata": {},
     "output_type": "display_data"
    }
   ],
   "source": [
    "display(w)"
   ]
  },
  {
   "cell_type": "markdown",
   "metadata": {},
   "source": [
    "$\\downarrow \\downarrow \\downarrow$ ***Volver a ejecutar las celdas de aquí hacia abajo si cambias la fecha***     $\\downarrow \\downarrow \\downarrow$"
   ]
  },
  {
   "cell_type": "code",
   "execution_count": 10,
   "metadata": {},
   "outputs": [
    {
     "name": "stdout",
     "output_type": "stream",
     "text": [
      "Cartelera del 2024-09-17\n"
     ]
    },
    {
     "data": {
      "text/html": [
       "<div>\n",
       "<style scoped>\n",
       "    .dataframe tbody tr th:only-of-type {\n",
       "        vertical-align: middle;\n",
       "    }\n",
       "\n",
       "    .dataframe tbody tr th {\n",
       "        vertical-align: top;\n",
       "    }\n",
       "\n",
       "    .dataframe thead th {\n",
       "        text-align: right;\n",
       "    }\n",
       "</style>\n",
       "<table border=\"1\" class=\"dataframe\">\n",
       "  <thead>\n",
       "    <tr style=\"text-align: right;\">\n",
       "      <th></th>\n",
       "      <th>Title</th>\n",
       "      <th>Starts</th>\n",
       "      <th>Ends</th>\n",
       "      <th>Duration</th>\n",
       "    </tr>\n",
       "  </thead>\n",
       "  <tbody>\n",
       "    <tr>\n",
       "      <th>0</th>\n",
       "      <td>An endless sunday</td>\n",
       "      <td>16:45:00</td>\n",
       "      <td>18:40:00</td>\n",
       "      <td>115</td>\n",
       "    </tr>\n",
       "    <tr>\n",
       "      <th>1</th>\n",
       "      <td>An endless sunday</td>\n",
       "      <td>21:00:00</td>\n",
       "      <td>22:55:00</td>\n",
       "      <td>115</td>\n",
       "    </tr>\n",
       "    <tr>\n",
       "      <th>2</th>\n",
       "      <td>Creatura</td>\n",
       "      <td>16:00:00</td>\n",
       "      <td>17:52:00</td>\n",
       "      <td>112</td>\n",
       "    </tr>\n",
       "    <tr>\n",
       "      <th>3</th>\n",
       "      <td>Creatura</td>\n",
       "      <td>20:30:00</td>\n",
       "      <td>22:22:00</td>\n",
       "      <td>112</td>\n",
       "    </tr>\n",
       "    <tr>\n",
       "      <th>4</th>\n",
       "      <td>Dormir con los ojos abiertos</td>\n",
       "      <td>16:00:00</td>\n",
       "      <td>17:37:00</td>\n",
       "      <td>97</td>\n",
       "    </tr>\n",
       "    <tr>\n",
       "      <th>5</th>\n",
       "      <td>Dormir con los ojos abiertos</td>\n",
       "      <td>20:15:00</td>\n",
       "      <td>21:52:00</td>\n",
       "      <td>97</td>\n",
       "    </tr>\n",
       "    <tr>\n",
       "      <th>6</th>\n",
       "      <td>El grosor del polvo</td>\n",
       "      <td>14:00:00</td>\n",
       "      <td>15:22:00</td>\n",
       "      <td>82</td>\n",
       "    </tr>\n",
       "    <tr>\n",
       "      <th>7</th>\n",
       "      <td>El grosor del polvo</td>\n",
       "      <td>18:15:00</td>\n",
       "      <td>19:37:00</td>\n",
       "      <td>82</td>\n",
       "    </tr>\n",
       "    <tr>\n",
       "      <th>8</th>\n",
       "      <td>Otra piel</td>\n",
       "      <td>15:00:00</td>\n",
       "      <td>16:10:00</td>\n",
       "      <td>70</td>\n",
       "    </tr>\n",
       "    <tr>\n",
       "      <th>9</th>\n",
       "      <td>Otra piel</td>\n",
       "      <td>19:15:00</td>\n",
       "      <td>20:25:00</td>\n",
       "      <td>70</td>\n",
       "    </tr>\n",
       "    <tr>\n",
       "      <th>10</th>\n",
       "      <td>Salaryman</td>\n",
       "      <td>14:00:00</td>\n",
       "      <td>15:20:00</td>\n",
       "      <td>80</td>\n",
       "    </tr>\n",
       "    <tr>\n",
       "      <th>11</th>\n",
       "      <td>Salaryman</td>\n",
       "      <td>18:30:00</td>\n",
       "      <td>19:50:00</td>\n",
       "      <td>80</td>\n",
       "    </tr>\n",
       "  </tbody>\n",
       "</table>\n",
       "</div>"
      ],
      "text/plain": [
       "                           Title    Starts      Ends  Duration\n",
       "0              An endless sunday  16:45:00  18:40:00       115\n",
       "1              An endless sunday  21:00:00  22:55:00       115\n",
       "2                       Creatura  16:00:00  17:52:00       112\n",
       "3                       Creatura  20:30:00  22:22:00       112\n",
       "4   Dormir con los ojos abiertos  16:00:00  17:37:00        97\n",
       "5   Dormir con los ojos abiertos  20:15:00  21:52:00        97\n",
       "6            El grosor del polvo  14:00:00  15:22:00        82\n",
       "7            El grosor del polvo  18:15:00  19:37:00        82\n",
       "8                      Otra piel  15:00:00  16:10:00        70\n",
       "9                      Otra piel  19:15:00  20:25:00        70\n",
       "10                     Salaryman  14:00:00  15:20:00        80\n",
       "11                     Salaryman  18:30:00  19:50:00        80"
      ]
     },
     "execution_count": 10,
     "metadata": {},
     "output_type": "execute_result"
    }
   ],
   "source": [
    "movie_data = get_movies_data(retrieve_from_url('https://www.cinetecanacional.net/sedes/cartelera.php?cinemaId=003&dia=' + w.value + '#gsc.tab=0'))\n",
    "df = pd.DataFrame(movie_data)\n",
    "print('Cartelera del', w.value,)\n",
    "df"
   ]
  },
  {
   "cell_type": "code",
   "execution_count": 11,
   "metadata": {},
   "outputs": [
    {
     "name": "stdout",
     "output_type": "stream",
     "text": [
      "Este es el máximo de películas que puedes ver el 2024-09-17 en la Cineteca Nacional.\n",
      "Con un total de 4 películas, y un tiempo de 356 minutos.\n",
      "Esto es aproximadamente 5 horas y 56 minutos.\n",
      "=D!\n"
     ]
    },
    {
     "data": {
      "text/html": [
       "<div>\n",
       "<style scoped>\n",
       "    .dataframe tbody tr th:only-of-type {\n",
       "        vertical-align: middle;\n",
       "    }\n",
       "\n",
       "    .dataframe tbody tr th {\n",
       "        vertical-align: top;\n",
       "    }\n",
       "\n",
       "    .dataframe thead th {\n",
       "        text-align: right;\n",
       "    }\n",
       "</style>\n",
       "<table border=\"1\" class=\"dataframe\">\n",
       "  <thead>\n",
       "    <tr style=\"text-align: right;\">\n",
       "      <th></th>\n",
       "      <th>Title</th>\n",
       "      <th>Starts</th>\n",
       "      <th>Ends</th>\n",
       "      <th>Duration</th>\n",
       "    </tr>\n",
       "  </thead>\n",
       "  <tbody>\n",
       "    <tr>\n",
       "      <th>0</th>\n",
       "      <td>Salaryman</td>\n",
       "      <td>14:00:00</td>\n",
       "      <td>15:20:00</td>\n",
       "      <td>80</td>\n",
       "    </tr>\n",
       "    <tr>\n",
       "      <th>1</th>\n",
       "      <td>Dormir con los ojos abiertos</td>\n",
       "      <td>16:00:00</td>\n",
       "      <td>17:37:00</td>\n",
       "      <td>97</td>\n",
       "    </tr>\n",
       "    <tr>\n",
       "      <th>2</th>\n",
       "      <td>El grosor del polvo</td>\n",
       "      <td>18:15:00</td>\n",
       "      <td>19:37:00</td>\n",
       "      <td>82</td>\n",
       "    </tr>\n",
       "    <tr>\n",
       "      <th>3</th>\n",
       "      <td>Dormir con los ojos abiertos</td>\n",
       "      <td>20:15:00</td>\n",
       "      <td>21:52:00</td>\n",
       "      <td>97</td>\n",
       "    </tr>\n",
       "  </tbody>\n",
       "</table>\n",
       "</div>"
      ],
      "text/plain": [
       "                          Title    Starts      Ends Duration\n",
       "0                     Salaryman  14:00:00  15:20:00       80\n",
       "1  Dormir con los ojos abiertos  16:00:00  17:37:00       97\n",
       "2           El grosor del polvo  18:15:00  19:37:00       82\n",
       "3  Dormir con los ojos abiertos  20:15:00  21:52:00       97"
      ]
     },
     "execution_count": 11,
     "metadata": {},
     "output_type": "execute_result"
    }
   ],
   "source": [
    "print('Este es el máximo de películas que puedes ver el', w.value, 'en la Cineteca Nacional.')\n",
    "print('Con un total de', len(which_movies(df)), 'películas, y un tiempo de', which_movies(df)['Duration'].sum(), 'minutos.')\n",
    "print('Esto es aproximadamente', which_movies(df)['Duration'].sum()//60, 'horas y', which_movies(df)['Duration'].sum()%60, 'minutos.')\n",
    "print('=D!')\n",
    "which_movies(df)"
   ]
  }
 ],
 "metadata": {
  "kernelspec": {
   "display_name": "Python 3",
   "language": "python",
   "name": "python3"
  },
  "language_info": {
   "codemirror_mode": {
    "name": "ipython",
    "version": 3
   },
   "file_extension": ".py",
   "mimetype": "text/x-python",
   "name": "python",
   "nbconvert_exporter": "python",
   "pygments_lexer": "ipython3",
   "version": "3.12.4"
  }
 },
 "nbformat": 4,
 "nbformat_minor": 2
}
