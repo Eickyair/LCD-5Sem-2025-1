{
  "cells": [
    {
      "cell_type": "markdown",
      "metadata": {
        "id": "mBaAjZ2yg9w5"
      },
      "source": [
        "#  Laboratorio 1: **Introducción**"
      ]
    },
    {
      "cell_type": "markdown",
      "metadata": {
        "id": "gzAnyHqHfmMd"
      },
      "source": [
        "Antes de iniciar siempre es importante agregar al inicio las librerías que vamos a usar, y compilar la celda correspondiente."
      ]
    },
    {
      "cell_type": "code",
      "execution_count": 1,
      "metadata": {
        "id": "XwzBSV5ocrC6"
      },
      "outputs": [],
      "source": [
        "import numpy as np"
      ]
    },
    {
      "cell_type": "markdown",
      "metadata": {
        "id": "Ms-tPctFY7hR"
      },
      "source": [
        "En esta sesión veremos algunos ejemplos de inducción y cómo este principio nos puede ayudar a ser más eficientes al resolver un problema."
      ]
    },
    {
      "cell_type": "markdown",
      "metadata": {
        "id": "p_EAt0wkZKdc"
      },
      "source": [
        "# Ejemplos"
      ]
    },
    {
      "cell_type": "markdown",
      "metadata": {
        "id": "NbE-tratMKJa"
      },
      "source": [
        "## Ejemplo 1\n",
        "\n",
        "Encuentra el valor de\n",
        "\n",
        "$$\\Big\\lfloor \\frac{1}{2}\\Big \\rfloor + \\Big\\lfloor \\frac{2}{2}\\Big \\rfloor + \\cdots + \\Big\\lfloor \\frac{10^9}{2}\\Big \\rfloor$$"
      ]
    },
    {
      "cell_type": "markdown",
      "metadata": {
        "id": "cd5Mp1JkkQYm"
      },
      "source": [
        "¿Qué sucede si intentamos calcular dicho valor usando la computadora?"
      ]
    },
    {
      "cell_type": "code",
      "execution_count": 2,
      "metadata": {
        "colab": {
          "base_uri": "https://localhost:8080/",
          "height": 190
        },
        "id": "Ck243v01kU0d",
        "outputId": "afd7b00a-2343-4074-e71c-e374015b8822"
      },
      "outputs": [
        {
          "name": "stdout",
          "output_type": "stream",
          "text": [
            "El valor es 2.4999999950000006e+17\n"
          ]
        }
      ],
      "source": [
        "s = 0\n",
        "for n in range(1000000000):\n",
        "  s += np.floor(n/2)\n",
        "print('El valor es {}'.format(s))"
      ]
    },
    {
      "cell_type": "markdown",
      "metadata": {
        "id": "nj1p54wLppbq"
      },
      "source": [
        "Necesitamos alguna otra forma de obtener el valor, puesto que la computadora no tiene los recursos suficientes."
      ]
    },
    {
      "cell_type": "markdown",
      "metadata": {
        "id": "i2B1VILJbzlE"
      },
      "source": [
        "**1.** Hagamos algunos casos pequeños para encontrar algún patrón."
      ]
    },
    {
      "cell_type": "code",
      "execution_count": 3,
      "metadata": {
        "colab": {
          "base_uri": "https://localhost:8080/",
          "height": 168
        },
        "id": "NGPXUKFjcA64",
        "outputId": "f1f2e600-b6ba-4ab1-f34b-ec45282b5db8"
      },
      "outputs": [
        {
          "name": "stdout",
          "output_type": "stream",
          "text": [
            "n = 1; Suma = 0.0\n",
            "n = 2; Suma = 1.0\n",
            "n = 3; Suma = 2.0\n",
            "n = 4; Suma = 4.0\n",
            "n = 5; Suma = 6.0\n",
            "n = 6; Suma = 9.0\n",
            "n = 7; Suma = 12.0\n",
            "n = 8; Suma = 16.0\n",
            "n = 9; Suma = 20.0\n"
          ]
        }
      ],
      "source": [
        "s = 0\n",
        "for n in range (1, 10):\n",
        "    s += np.floor(n/2)\n",
        "    print(f\"n = {n}; Suma = {s}\")"
      ]
    },
    {
      "cell_type": "markdown",
      "metadata": {
        "id": "KgTR3qgEdJC4"
      },
      "source": [
        "**2.** ¿Alguna conjetura? Probaremos por inducción que\n",
        "\n",
        "$$\\Big\\lfloor \\frac{1}{2}\\Big \\rfloor + \\Big\\lfloor \\frac{2}{2}\\Big \\rfloor + \\cdots + \\Big\\lfloor \\frac{n}{2}\\Big \\rfloor = \\Big \\lfloor \\frac{n}{2} \\Big \\rfloor \\Big \\lfloor \\frac{n+1}{2}\\Big \\rfloor$$\n",
        "\n",
        " - Caso base: Con los casos que hemos checado anteriormente es más que suficiente.\n",
        " - Hipótesis de inducción. La fórmula que queremos probar.\n",
        " - $n+1$: Supongamos que nuestra fórmula es cierta para $k$. Para $k+1$, sumamos $\\lfloor(k+1)/2\\rfloor$ de ambos lados.\n",
        "\n",
        "$$\\Big\\lfloor \\frac{1}{2}\\Big \\rfloor + \\Big\\lfloor \\frac{2}{2}\\Big \\rfloor + \\cdots + \\Big\\lfloor \\frac{k}{2}\\Big \\rfloor + \\Big\\lfloor \\frac{k+1}{2}\\Big \\rfloor = \\Big \\lfloor \\frac{k}{2} \\Big \\rfloor \\Big \\lfloor \\frac{k+1}{2}\\Big \\rfloor + \\Big\\lfloor \\frac{k+1}{2}\\Big \\rfloor$$\n",
        "\n",
        "\n",
        "$$= \\Big \\lfloor \\frac{k+1}{2}\\Big \\rfloor (\\Big \\lfloor \\frac{k}{2}\\Big \\rfloor + 1) $$\n",
        "\n",
        "$$ = \\Big \\lfloor \\frac{k+1}{2} \\Big \\rfloor \\Big \\lfloor \\frac{k}{2}+1\\Big \\rfloor $$\n",
        "\n",
        "$$ = \\Big \\lfloor \\frac{k+1}{2} \\Big \\rfloor \\Big \\lfloor \\frac{k+2}{2}\\Big \\rfloor $$\n",
        "\n"
      ]
    },
    {
      "cell_type": "markdown",
      "metadata": {
        "id": "wev-gYiLeuPI"
      },
      "source": [
        "**3.** Concluimos calculando el valor que se nos ha pedido."
      ]
    },
    {
      "cell_type": "code",
      "execution_count": 4,
      "metadata": {
        "id": "Tows-jMPJtf_",
        "outputId": "f2d62a17-1774-43cf-f693-cba4bb32f173"
      },
      "outputs": [
        {
          "data": {
            "text/plain": [
              "np.float64(2.5e+17)"
            ]
          },
          "execution_count": 4,
          "metadata": {},
          "output_type": "execute_result"
        }
      ],
      "source": [
        "np.floor(1e9/2)*np.floor((1e9+1)/2)"
      ]
    },
    {
      "cell_type": "markdown",
      "metadata": {
        "id": "FaM-53PIJtgA"
      },
      "source": [
        "Adicionalmente, medimos cuánto tiempo tarda:"
      ]
    },
    {
      "cell_type": "code",
      "execution_count": 5,
      "metadata": {
        "colab": {
          "base_uri": "https://localhost:8080/"
        },
        "id": "HkbX0EyOe1EZ",
        "outputId": "c4500dde-36cf-4c88-971b-4f175db781ba"
      },
      "outputs": [
        {
          "name": "stdout",
          "output_type": "stream",
          "text": [
            "1.27 μs ± 31.1 ns per loop (mean ± std. dev. of 7 runs, 1,000,000 loops each)\n"
          ]
        }
      ],
      "source": [
        "%%timeit\n",
        "np.floor(1e9/2)*np.floor((1e9+1)/2)"
      ]
    },
    {
      "cell_type": "markdown",
      "metadata": {
        "id": "PLeEsKXsJRw7"
      },
      "source": [
        "Comparemos el tiempo de ejecución con el tiempo que toma hacer la operación de forma directa. (Haremos la suma hasta $10^6$, pues tarda mucho para $10^9$)."
      ]
    },
    {
      "cell_type": "code",
      "execution_count": 6,
      "metadata": {
        "colab": {
          "base_uri": "https://localhost:8080/"
        },
        "id": "RFqdB3evJQeG",
        "outputId": "b0a4ebcc-e083-44dd-ee12-6a7a097b8d4e"
      },
      "outputs": [
        {
          "name": "stdout",
          "output_type": "stream",
          "text": [
            "752 ms ± 22.8 ms per loop (mean ± std. dev. of 7 runs, 1 loop each)\n"
          ]
        }
      ],
      "source": [
        "%%timeit\n",
        "\n",
        "s = 0\n",
        "for i in range (1, 1000001):\n",
        "    s += np.floor(i/2)"
      ]
    },
    {
      "cell_type": "markdown",
      "metadata": {
        "id": "d9hNIOlkKOgx"
      },
      "source": [
        "Esto nos muestra que fue de gran ayuda encontrar una fórmula cerrada para reducir bastante el tiempo de ejecución."
      ]
    },
    {
      "cell_type": "markdown",
      "metadata": {
        "id": "5C3irAq-5fK5"
      },
      "source": [
        "## Ejemplo 2\n",
        "\n",
        "Sea $f : \\mathbb{N} \\rightarrow \\mathbb{R}$ una función tal que:\n",
        "\n",
        "$$f(1) = 1001, \\qquad f(1) + f(2) + \\cdots + f(n) = n^2 f(n)$$\n",
        "\n",
        "para todo entero $n > 1$. Encuentra el valor de $f(10007)$.\n",
        "\n",
        "---"
      ]
    },
    {
      "cell_type": "markdown",
      "metadata": {
        "id": "UWpRY7Ot6SW_"
      },
      "source": [
        "**1.** Por simplicidad, definimos:\n",
        "\n",
        "$$g(n) \\equiv \\frac{f(n)}{1001}$$\n",
        "\n",
        "Con lo cual tenemos:\n",
        "\n",
        "$$g(1) = 1, \\qquad g(1) + \\cdots + g(n) = n^2 g(n)$$\n",
        "\n",
        "Agrupando los $g(n)$ y factorizando:\n",
        "\n",
        "$$(n^2 -1)g(n) = g(1) + g(2) + \\cdots g(n-1)$$\n",
        "\n",
        "Y como $((n-1)^2 - 1)g(n-1) = g(1) + g(2) + \\cdots g(n-2)$, sustituyendo tenemos:\n",
        "\n",
        "$$(n^2 -1)g(n) = ((n-1)^2 - 1)g(n-1) + g(n-1) = (n-1)^2g(n-1)$$\n",
        "\n",
        "De esto obtenemos que:\n",
        "\n",
        "$$g(n) = \\frac{n-1}{n + 1}g(n-1)$$\n",
        "\n",
        "Ahora, hagamos los primeros casos:"
      ]
    },
    {
      "cell_type": "code",
      "execution_count": 7,
      "metadata": {
        "colab": {
          "base_uri": "https://localhost:8080/",
          "height": 151
        },
        "id": "-GAnkTkQ71Es",
        "outputId": "6f68eed9-5a25-4ad5-e0cb-74d4eae03768"
      },
      "outputs": [
        {
          "name": "stdout",
          "output_type": "stream",
          "text": [
            "n = 2 ; g(n) = 0.3333333333333333\n",
            "n = 3 ; g(n) = 0.16666666666666666\n",
            "n = 4 ; g(n) = 0.1\n",
            "n = 5 ; g(n) = 0.06666666666666667\n",
            "n = 6 ; g(n) = 0.047619047619047616\n",
            "n = 7 ; g(n) = 0.03571428571428571\n",
            "n = 8 ; g(n) = 0.027777777777777776\n",
            "n = 9 ; g(n) = 0.02222222222222222\n",
            "n = 10 ; g(n) = 0.01818181818181818\n"
          ]
        }
      ],
      "source": [
        "g = 1\n",
        "for n in range (2, 11):\n",
        "    g = g*(n-1)/(n+1)\n",
        "    print(f\"n = {n} ; g(n) = {g}\")"
      ]
    },
    {
      "cell_type": "markdown",
      "metadata": {
        "id": "HZgKg8pL82hw"
      },
      "source": [
        "**2.** Si recordamos la representación decimal de algunas fracciones podemos ver que esto sigue un patrón. Para hacernos la vida más fácil, definimos:\n",
        "\n",
        "$$ h(1) = 1 \\\\ \\text{Para }n\\geq 2 \\text{:}\\\\ h(n) = \\frac{1}{g(n)}$$\n",
        "\n",
        "$$= \\frac{n+1}{n-1}*h(n-1)$$"
      ]
    },
    {
      "cell_type": "markdown",
      "metadata": {
        "id": "TpMDRoen-3wh"
      },
      "source": [
        "Así, evaluando ahora la función $h$ obtenemos lo siguiente."
      ]
    },
    {
      "cell_type": "code",
      "execution_count": 8,
      "metadata": {
        "colab": {
          "base_uri": "https://localhost:8080/",
          "height": 151
        },
        "id": "wjIT1BIY9Gj6",
        "outputId": "b78699cc-11bb-4d09-a50e-5d515b57b311"
      },
      "outputs": [
        {
          "name": "stdout",
          "output_type": "stream",
          "text": [
            "n = 2 ; h(n) = 3.0\n",
            "n = 3 ; h(n) = 6.0\n",
            "n = 4 ; h(n) = 10.0\n",
            "n = 5 ; h(n) = 15.0\n",
            "n = 6 ; h(n) = 21.0\n",
            "n = 7 ; h(n) = 28.0\n",
            "n = 8 ; h(n) = 36.0\n",
            "n = 9 ; h(n) = 45.0\n",
            "n = 10 ; h(n) = 55.0\n"
          ]
        }
      ],
      "source": [
        "h = 1\n",
        "for n in range (2, 11):\n",
        "    h = h*(n+1)/(n-1)\n",
        "    print(f\"n = {n} ; h(n) = {h}\")"
      ]
    },
    {
      "cell_type": "markdown",
      "metadata": {
        "id": "2bNUz1Sw9eGe"
      },
      "source": [
        "**3.** Notamos que estas son las sumas de los $n$ primeros enteros. Sabemos que la fórmula correspondiente es:\n",
        "\n",
        "$$\\frac{n(n+1)}{2}$$\n",
        "\n",
        "Con lo cual nuestra conjetura queda como sigue:\n",
        "\n",
        "$$h(n) = \\frac{n(n+1)}{2}$$\n",
        "\n",
        "Probando por inducción:\n",
        "\n",
        "* Caso base:\n",
        "\n",
        "Usando que $h(n) = \\frac{n+1}{n-1} * h(n-1)$ para $n\\geq 2$:\n",
        "\n",
        "$$h(2) = \\frac{3}{1}\\ * h(1) = 3 $$\n",
        "\n",
        "Por otro lado, nuestra propuesta de fórmula da el siguiente resultado:\n",
        "$$ \\frac{2\\cdot 3}{2} = 3$$\n",
        "\n",
        "Con esto, el caso base está completo.\n",
        "\n",
        "* Hipótesis de Inducción: Supongamos que $h(n) = \\frac{n(n+1)}{2}.$\n",
        "\n",
        "* Paso inductivo: Queremos probar que\n",
        "\n",
        "$$h(n+1) = \\frac{(n+1)(n+2)}{2}$$\n",
        "Por definición:\n",
        "\n",
        "$$h(n+1) = \\frac{n+2}{n}h(n)$$\n",
        "\n",
        "Por H.I.:\n",
        "\n",
        "\\begin{align}\n",
        "&= \\frac{n+2}{n}\\frac{n(n+1)}{2}\\\\\n",
        "&= \\frac{(n+1)(n+2)}{2}\n",
        "\\end{align}\n",
        "\n",
        "Por el Principio de Inducción, hemos demostrado que\n",
        "\n",
        "$$h(n) = \\frac{n(n+1)}{2}$$\n",
        "\n",
        "para cualquier $n\\geq 2$.\n",
        "\n",
        "Finalmente, recordando que buscamos $f(10007)$, calculamos usando la fórmula que encontramos:"
      ]
    },
    {
      "cell_type": "code",
      "execution_count": 9,
      "metadata": {
        "colab": {
          "base_uri": "https://localhost:8080/"
        },
        "id": "ZOXgFhcj-Uja",
        "outputId": "7617e166-4de4-41c9-c961-75c1bb1c1f17"
      },
      "outputs": [
        {
          "name": "stdout",
          "output_type": "stream",
          "text": [
            "1.9990003799898025e-05\n"
          ]
        }
      ],
      "source": [
        "# print(2/(10007*10008*1001))\n",
        "print((2/(10007*10008))*1001)"
      ]
    },
    {
      "cell_type": "markdown",
      "metadata": {
        "id": "e47bW0j-ZyY-"
      },
      "source": [
        "## Ejemplo 3\n",
        "\n",
        "Definimos $F_n = 2^{2^n} + 1$, el $n$ -ésimo número de Fermat, para $n = 0, 1, \\dots$.\n",
        "\n",
        "**Muestra que cualesquiera dos números de Fermat son primos relativos ($a$ y $b$ son primos relativos si su máximo común divisor es $1$).**"
      ]
    },
    {
      "cell_type": "markdown",
      "metadata": {
        "id": "R1Uvf6kmaZ_G"
      },
      "source": [
        "**1.** Casos pequeños. No podemos hacer muchos casos porque $2^{2^n}$ es muy grande, veamos qué pasa con los primeros $6$ números de Fermat:"
      ]
    },
    {
      "cell_type": "code",
      "execution_count": 10,
      "metadata": {
        "colab": {
          "base_uri": "https://localhost:8080/",
          "height": 134
        },
        "id": "DyMJtAF2asV0",
        "outputId": "2f44f275-9455-418c-a077-c08e5d41e5b5"
      },
      "outputs": [
        {
          "name": "stdout",
          "output_type": "stream",
          "text": [
            "3\n",
            "5\n",
            "17\n",
            "257\n",
            "65537\n",
            "4294967297\n"
          ]
        }
      ],
      "source": [
        "F = []\n",
        "for i in range(6):\n",
        "    F.append(2**(2**i) + 1)\n",
        "    print(F[i])"
      ]
    },
    {
      "cell_type": "markdown",
      "metadata": {
        "id": "6TmYLPxmblwd"
      },
      "source": [
        "*Paso 2.* A primera vista no hay mucho de dónde agarrarnos. Intentando buscar un patrón notamos que:\n",
        "\n",
        "* $3 = 5 -2$\n",
        "\n",
        "* $3 \\times 5 = 17 - 2$\n",
        "\n",
        "* $3 \\times 5 \\times 17 = 255 = 257 - 2$\n",
        "\n",
        "Entonces, podemos conjeturar que:\n",
        "\n",
        "$$F_n - 2 = F_0\\cdot F_1\\cdot F_2 \\cdots F_{n-1}$$\n",
        "\n",
        "Para ver por qué nos sirve esto, consideremos $F_m$ y $F_n$, con $m>n$. Entonces, tenemos:\n",
        "\n",
        "$$F_m - 2 = F_0\\cdot F_1\\cdot F_2 \\cdots F_n\\cdots F_{m-1}$$\n",
        "\n",
        "Es decir:\n",
        "\n",
        "$$2 = F_m - F_0\\cdot F_1\\cdot F_2 \\cdots F_n\\cdots F_{m-1}$$\n",
        "\n",
        "Ahora, suponiendo que $d$ divide a $F_m$ y $F_n$, $d$ también debe de poder dividir la resta anterior; por lo tanto $d=1$ ó $d=2$. Sin embargo, es fácil ver que todos los números de Fermat son impares (ya que son una potencia de 2 mas 1), por lo tanto concluimos que $d=1$, y por lo tanto $F_m$ y $F_n$ son primos relativos.\n",
        "\n",
        "---\n",
        "\n",
        "Nuestra demostración anterior depende de la conjetura que hicimos:\n",
        "\n",
        "$$F_n - 2 = F_0\\cdot F_1\\cdot F_2 \\cdots F_{n-1}$$\n",
        "\n",
        "Comprobemos que se vale para los primeros casos:"
      ]
    },
    {
      "cell_type": "code",
      "execution_count": 11,
      "metadata": {
        "colab": {
          "base_uri": "https://localhost:8080/",
          "height": 101
        },
        "id": "qyMwY2uucaBo",
        "outputId": "020547e6-5287-4265-acc5-b7610c07b2b7"
      },
      "outputs": [
        {
          "name": "stdout",
          "output_type": "stream",
          "text": [
            "Se cumple\n",
            "Se cumple\n",
            "Se cumple\n",
            "Se cumple\n",
            "Se cumple\n"
          ]
        }
      ],
      "source": [
        "P = F[0]\n",
        "for i in range (5):\n",
        "    if (F[i+1] - P == 2):\n",
        "        print(\"Se cumple\")\n",
        "    else:\n",
        "        print(\"No se cumple :c\")\n",
        "\n",
        "    if i+1 < 5:\n",
        "        P *= F[i+1]"
      ]
    },
    {
      "cell_type": "markdown",
      "metadata": {
        "id": "ptuUWrxndD6c"
      },
      "source": [
        "*Paso 3*. Nuestros casos parecen soportarla. Entonces, probamos por inducción:\n",
        "\n",
        "* Caso base: Los casos que ya vimos anteriormente.\n",
        "* H.I.: $F_1 \\cdot F_2 \\cdot \\dots \\cdot F_k = F_{k+1}-2$.\n",
        "* Paso inductivo: Multiplicando ambos lados de la H.I. por $F_{k+1}$, tenemos:\n",
        "\n",
        "$$F_1 \\cdot F_2 \\cdots F_{k} \\cdot F_{k+1} = (F_{k+1} - 2)F_{k+1}$$\n",
        "\n",
        "Recordando que $F_{n} = 2^{2^n}+1$, tenemos que:\n",
        "\n",
        "\\begin{align}\n",
        "(F_{k+1} - 2)F_{k+1} &= (2^{2^{k+1}} - 1)(2^{2^{k+1}} + 1) \\\\\n",
        "&= 2^{2^{k+2}} - 1 \\\\\n",
        "&= F_{k+2} - 2\n",
        "\\end{align}\n",
        "\n",
        "De donde concluimos el paso inductivo, y por lo tanto que se cumple $F_1 \\cdot F_2 \\cdots F_n = F_{n+1}-2$ para todo entero positivo $n$, lo cual a su vez prueba que todo par de números de Fermat son primos relativos\n",
        "\n",
        "---\n",
        "\n",
        "**Bonus:** Existe un número infinito de primos\n",
        "\n",
        "**Demostración:** Hay un número infinito de números de Fermat, cada uno de los cuales es primo relativo en relación a todos los demás. Por lo tanto, cada $F_n$ tiene factores primos diferentes, lo cual prueba que hay un número infinito de primos."
      ]
    },
    {
      "cell_type": "markdown",
      "metadata": {
        "id": "E6Go_fx5fWyC"
      },
      "source": [
        "# Ejercicios"
      ]
    },
    {
      "cell_type": "markdown",
      "metadata": {
        "id": "cx7jfQ7lJtgJ"
      },
      "source": [
        "## Ejercicio 1\n",
        "\n",
        "Considera la función:\n",
        "\n",
        "$$\n",
        "f(n) = 1^4 + 2^4 + \\cdots + n^4,\\qquad n\\geq 1,\\ n\\in \\mathbb{N}\n",
        "$$\n",
        "\n",
        "* Escribe una función para encontrar el valor de $f(n)$ para $n$ arbitraria, que regrese un error si $n$ se sale del dominio.\n",
        "* Demuestra por inducción que:\n",
        "\n",
        "$$\n",
        "f(n) = \\frac{1}{30}n(n+1)(2n+1)(3n^2+3n-1)\n",
        "$$"
      ]
    },
    {
      "cell_type": "code",
      "execution_count": 12,
      "metadata": {},
      "outputs": [],
      "source": [
        "def f1(n):\n",
        "    try:\n",
        "        if not isinstance(n, int) or not n >= 1:\n",
        "            raise ValueError('El valor dado no está en el dominio')\n",
        "        f = 1\n",
        "        for i in range(2,n+1):\n",
        "            f += i**4\n",
        "        return f\n",
        "    except ValueError as err:\n",
        "        print(err)"
      ]
    },
    {
      "cell_type": "code",
      "execution_count": 13,
      "metadata": {},
      "outputs": [
        {
          "name": "stdout",
          "output_type": "stream",
          "text": [
            "f(1) = 1\n",
            "f(2) = 17\n",
            "f(3) = 98\n",
            "f(4) = 354\n",
            "f(5) = 979\n",
            "f(6) = 2275\n",
            "f(7) = 4676\n",
            "f(8) = 8772\n",
            "f(9) = 15333\n",
            "f(10) = 25333\n",
            "f(11) = 39974\n",
            "f(12) = 60710\n",
            "f(13) = 89271\n",
            "f(14) = 127687\n",
            "f(15) = 178312\n",
            "f(16) = 243848\n",
            "f(17) = 327369\n",
            "f(18) = 432345\n",
            "f(19) = 562666\n",
            "f(20) = 722666\n"
          ]
        }
      ],
      "source": [
        "for i in range(1,21):\n",
        "    print(f'f({i}) = {f1(i):.0f}')"
      ]
    },
    {
      "cell_type": "markdown",
      "metadata": {},
      "source": [
        "### Demostración\n",
        "\n",
        "#### **Paso 1:** Caso base\n",
        "\n",
        "$f(1)$:\n",
        "\n",
        "$$1^4 \\stackrel{?}{=} \\frac{1}{30}(1)(1+1)(2(1)+1)(3(1)^2+3(1)-1)$$\n",
        "\n",
        "$$1 \\stackrel{?}{=} \\frac{1}{30}(2)(3)(5)$$\n",
        "\n",
        "$$1 \\stackrel{?}{=} \\frac{30}{30}$$\n",
        "\n",
        "$$1 = 1 \\qquad \\textcolor{green}{\\checkmark}$$"
      ]
    },
    {
      "cell_type": "markdown",
      "metadata": {},
      "source": [
        "#### **Paso 2:** Hipótesis de inducción\n",
        "$f(n)$: $$1^4 + 2^4 + \\cdots + n^4 = \\frac{1}{30}n(n+1)(2n+1)(3n^2+3n-1)$$"
      ]
    },
    {
      "cell_type": "markdown",
      "metadata": {},
      "source": [
        "#### **Paso 3:** Tesis de inducción\n",
        "\n",
        "$f(n+1)$:\n",
        "\n",
        "$$1^4 + 2^4 + \\cdots + n^4 + (n+1)^4 \\stackrel{?}{=} \\frac{1}{30}(n+1)(n+2)(2(n+1)+1)(3(n+1)^2+3(n+1)-1)$$\n",
        "\n",
        "$$1^4 + 2^4 + \\cdots + n^4 + (n+1)^4 \\stackrel{?}{=} \\frac{1}{30}(n+1)(n+2)(2n+3)(3(n^2+2n+1)+3n+2)$$\n",
        "\n",
        "$$1^4 + 2^4 + \\cdots + n^4 + (n+1)^4 \\stackrel{?}{=} \\frac{1}{30}(n+1)(n+2)(2n+3)(3n^2+6n+3+3n+2)$$\n",
        "\n",
        "$$1^4 + 2^4 + \\cdots + n^4 + (n+1)^4 \\stackrel{?}{=} \\frac{1}{30}(n+1)(n+2)(2n+3)(3n^2+9n+5)$$"
      ]
    },
    {
      "cell_type": "markdown",
      "metadata": {},
      "source": [
        "Utilizando la hipótesis de inducción:\n",
        "$$ \\underbrace{1^4 + 2^4 + \\cdots + n^4} + (n+1)^4 \\stackrel{?}{=} \\frac{1}{30}(n+1)(n+2)(2n+3)(3n^2+9n+5)$$\n",
        "\n",
        "$$ f(n) \\qquad \\qquad \\qquad \\qquad \\qquad \\qquad \\qquad \\qquad \\qquad \\qquad \\qquad \\qquad$$\n",
        "\n",
        "$$\\overbrace{\\frac{1}{30}n(n+1)(2n+1)(3n^2+3n-1)} + (n+1)^4 \\stackrel{?}{=} \\frac{1}{30}(n+1)(n+2)(2n+3)(3n^2+9n+5)$$"
      ]
    },
    {
      "cell_type": "markdown",
      "metadata": {},
      "source": [
        "Desarrollando las multiplicaciones del lado izquierdo:\n",
        "$$\\frac{1}{30}(n^2+n)(2n+1)(3n^2+3n-1) + (n^4+4n^3+6n^2+4n+1) \\stackrel{?}{=} \\frac{1}{30}(n+1)(n+2)(2n+3)(3n^2+9n+5)$$\n",
        "\n",
        "$$\\frac{1}{30}(2n^3+3n^2+n)(3n^2+3n-1) + (n^4+4n^3+6n^2+4n+1) \\stackrel{?}{=} \\frac{1}{30}(n+1)(n+2)(2n+3)(3n^2+9n+5)$$\n",
        "\n",
        "$$\\frac{1}{30}(6n^5+15n^4+10n^3-n) + (n^4+4n^3+6n^2+4n+1) \\stackrel{?}{=} \\frac{1}{30}(n+1)(n+2)(2n+3)(3n^2+9n+5)$$\n",
        "\n",
        "$$\\frac{1}{30}(6n^5+45n^4+130n^3+180n^2+119n+30) \\stackrel{?}{=} \\frac{1}{30}(n+1)(n+2)(2n+3)(3n^2+9n+5)$$\n",
        "\n",
        "Desarrollando las multiplicaciones del lado derecho:\n",
        "$$\\frac{1}{30}(6n^5+45n^4+130n^3+180n^2+119n+30) \\stackrel{?}{=} \\frac{1}{30}(n^2+3n+2)(2n+3)(3n^2+9n+5)$$\n",
        "\n",
        "$$\\frac{1}{30}(6n^5+45n^4+130n^3+180n^2+119n+30) \\stackrel{?}{=} \\frac{1}{30}(2n^3+9n^2+13n+6)(3n^2+9n+5)$$\n",
        "\n",
        "$$\\frac{1}{30}(6n^5+45n^4+130n^3+180n^2+119n+30) = \\frac{1}{30}(6n^5+45n^4+130n^3+180n^2+119n+30) \\qquad \\textcolor{green}{\\checkmark}$$"
      ]
    },
    {
      "cell_type": "markdown",
      "metadata": {
        "id": "D3OiuIpPPfcw"
      },
      "source": [
        "## Ejercicio 2\n",
        "\n",
        "Considera la función:\n",
        "\n",
        "$$\n",
        "f(n) = n^2-1, \\qquad n\\geq 1,\\ n\\in\\mathbb{N}\n",
        "$$\n",
        "\n",
        "* Escribe una función para encontrar el valor de $f(n)$ para $n$ arbitraria, que regrese un error si $n$ se sale del dominio.\n",
        "* Utilizando tu función, encuentra para cuáles argumentos $n$, $f(n)$ es divisible por 8. Realiza una conjetura y demuéstrala por inducción."
      ]
    },
    {
      "cell_type": "code",
      "execution_count": 14,
      "metadata": {},
      "outputs": [],
      "source": [
        "def f2(n):\n",
        "    try:\n",
        "        if not isinstance(n, int) or not n >= 1:\n",
        "            raise ValueError('El valor dado no está en el dominio')\n",
        "        return n**2-1\n",
        "    except ValueError as err:\n",
        "        print(err)"
      ]
    },
    {
      "cell_type": "code",
      "execution_count": 15,
      "metadata": {},
      "outputs": [
        {
          "name": "stdout",
          "output_type": "stream",
          "text": [
            "f(1) = 0\n",
            "f(3) = 8\n",
            "f(5) = 24\n",
            "f(7) = 48\n",
            "f(9) = 80\n",
            "f(11) = 120\n",
            "f(13) = 168\n",
            "f(15) = 224\n",
            "f(17) = 288\n",
            "f(19) = 360\n",
            "f(21) = 440\n",
            "f(23) = 528\n",
            "f(25) = 624\n",
            "f(27) = 728\n",
            "f(29) = 840\n",
            "f(31) = 960\n",
            "f(33) = 1088\n",
            "f(35) = 1224\n",
            "f(37) = 1368\n",
            "f(39) = 1520\n"
          ]
        }
      ],
      "source": [
        "# Probando primeros casos\n",
        "for i in range(1,41):\n",
        "    f = f2(i)\n",
        "    if not f % 8:\n",
        "        print(f'f({i}) = {f:.0f}')"
      ]
    },
    {
      "cell_type": "markdown",
      "metadata": {},
      "source": [
        "**Conjetura**: $f(n)$ es divisible entre 8 si $n$ es impar."
      ]
    },
    {
      "cell_type": "markdown",
      "metadata": {},
      "source": [
        "### Demostración\n",
        "\n",
        "#### **Paso 1:** Caso base\n",
        "\n",
        "Dado que 1 es impar\n",
        "\n",
        "$f(1)$:\n",
        "\n",
        "$$ f(1)=(1)^2-1=0$$\n",
        "\n",
        "$$0 \\text{ es divisible entre } 8 \\qquad \\textcolor{green}{\\checkmark}$$"
      ]
    },
    {
      "cell_type": "markdown",
      "metadata": {},
      "source": [
        "#### **Paso 2:** Hipótesis de inducción\n",
        "Sea un número impar $n = 2k+1$\n",
        "\n",
        "$f(2k+1)$: $$f(2k+1) = (2k+1)^2-1 =4k^2+4k\\text{ es divisible entre 8 }$$"
      ]
    },
    {
      "cell_type": "markdown",
      "metadata": {},
      "source": [
        "#### **Paso 3:** Tesis de inducción\n",
        "Para el siguiente número impar $n+2=2k+3$\n",
        "\n",
        "$f(2k+3)$:\n",
        "\n",
        "$$f(2k+3)=(2k+3)^2-1$$\n",
        "\n",
        "$$f(2k+3)=4k^2+12k+9-1$$\n",
        "\n",
        "$$f(2k+3)=4k^2+12k+8$$\n",
        "\n",
        "Separando la suma:\n",
        "$$4k^2+12k+8=4k^2+4k+8k+8$$\n",
        "\n",
        "Se puede ver que:\n",
        "$$4k^2+4k+\\underbrace{8(k+1)}$$\n",
        "\n",
        "$$ \\qquad \\qquad \\qquad \\qquad \\qquad \\qquad \\text{Es divisible entre }8 $$\n",
        "\n",
        "Utilizando la hipótesis de inducción:\n",
        "\n",
        "$$\\underbrace{4k^2+4k}+8(k+1)$$\n",
        "\n",
        "$$ \\qquad \\text{Es divisible entre }8 $$\n",
        "\n",
        "La suma de dos números divisibles entre 8 es divisible entre 8, por lo tanto:\n",
        "\n",
        "$$f(2k+3) = 4k^2+4k+8(k+1)\\text{ es divisible entre 8 } \\qquad \\textcolor{green}{\\checkmark}$$"
      ]
    },
    {
      "cell_type": "markdown",
      "metadata": {
        "id": "qyn7WQtaQoLS"
      },
      "source": [
        "## Ejercicio 3\n",
        "\n",
        "Considera ahora la función:\n",
        "\n",
        "$$\n",
        "f(n) = n^4-1, \\qquad n\\geq 1,\\ n\\in\\mathbb{N}\n",
        "$$\n",
        "\n",
        "Realiza los mismos pasos del ejercicio anterior, pero ahora buscando para cuáles $n$ sucede que $f(n)$ es divisible por 16.\n",
        "\n",
        "¿Notas algún patrón?"
      ]
    },
    {
      "cell_type": "code",
      "execution_count": 16,
      "metadata": {},
      "outputs": [],
      "source": [
        "def f3(n):\n",
        "    try:\n",
        "        if not isinstance(n, int) or not n >= 1:\n",
        "            raise ValueError('El valor dado no está en el dominio')\n",
        "        return n**4-1\n",
        "    except ValueError as err:\n",
        "        print(err)"
      ]
    },
    {
      "cell_type": "code",
      "execution_count": 17,
      "metadata": {},
      "outputs": [
        {
          "name": "stdout",
          "output_type": "stream",
          "text": [
            "f(1) = 0\n",
            "f(3) = 80\n",
            "f(5) = 624\n",
            "f(7) = 2400\n",
            "f(9) = 6560\n",
            "f(11) = 14640\n",
            "f(13) = 28560\n",
            "f(15) = 50624\n",
            "f(17) = 83520\n",
            "f(19) = 130320\n",
            "f(21) = 194480\n",
            "f(23) = 279840\n",
            "f(25) = 390624\n",
            "f(27) = 531440\n",
            "f(29) = 707280\n",
            "f(31) = 923520\n",
            "f(33) = 1185920\n",
            "f(35) = 1500624\n",
            "f(37) = 1874160\n",
            "f(39) = 2313440\n"
          ]
        }
      ],
      "source": [
        "# Probando primeros casos\n",
        "for i in range(1,41):\n",
        "    f = f3(i)\n",
        "    if not f % 8:\n",
        "        print(f'f({i}) = {f:.0f}')"
      ]
    },
    {
      "cell_type": "markdown",
      "metadata": {},
      "source": [
        "**Conjetura**: $f(n)$ es divisible entre 16 si $n$ es impar."
      ]
    },
    {
      "cell_type": "markdown",
      "metadata": {},
      "source": [
        "### Demostración\n",
        "\n",
        "#### **Paso 1:** Caso base\n",
        "\n",
        "Dado que 1 es impar\n",
        "\n",
        "$f(1)$:\n",
        "\n",
        "$$ f(1)=(1)^4-1=0$$\n",
        "\n",
        "$$0 \\text{ es divisible entre } 16 \\qquad \\textcolor{green}{\\checkmark}$$"
      ]
    },
    {
      "cell_type": "markdown",
      "metadata": {},
      "source": [
        "#### **Paso 2:** Hipótesis de inducción\n",
        "Sea un número impar $n = 2k+1$\n",
        "\n",
        "$f(2k+1)$: $$f(2k+1) = (2k+1)^4-1 = 16k^4+32k^3+24k^2+8k \\text{ es divisible entre 16 }$$"
      ]
    },
    {
      "cell_type": "markdown",
      "metadata": {},
      "source": [
        "#### **Paso 3:** Tesis de inducción\n",
        "Para el siguiente número impar $n+2=2k+3$\n",
        "\n",
        "$f(2k+3)$:\n",
        "\n",
        "$$f(2k+3)=(2k+3)^4-1$$\n",
        "\n",
        "$$f(2k+3)=16k^4+96k^3+216k^2+216k+81-1$$\n",
        "\n",
        "$$f(2k+3)=16k^4+96k^3+216k^2+216k+80$$\n",
        "\n",
        "Separando la suma:\n",
        "\n",
        "$$16k^4+96k^3+216k^2+216k+80=16k^4+32k^3+24k^2+8k+64k^3+192k^2+208k+80$$\n",
        "\n",
        "Se puede ver que:\n",
        "\n",
        "$$16k^4+32k^3+24k^2+8k+\\underbrace{16(4k^3+12k^2+13k+5)}$$\n",
        "\n",
        "$$\\qquad \\qquad \\qquad \\qquad \\qquad \\qquad \\qquad \\text{Es divisible entre }16$$\n",
        "\n",
        "Utilizando la hipótesis de inducción:\n",
        "\n",
        "$$\\underbrace{16k^4+32k^3+24k^2+8k}+64k^3+192k^2+208k+80$$\n",
        "\n",
        "$$\\text{Es divisible entre }16 \\qquad \\qquad \\qquad \\qquad \\qquad $$\n",
        "\n",
        "La suma de dos números divisibles entre 16 es divisible entre 16, por lo tanto:\n",
        "\n",
        "$$f(2k+3)=16k^4+32k^3+24k^2+8k+16(4k^3+12k^2+13k+5) \\text{ es divisible entre 16 } \\qquad \\textcolor{green}{\\checkmark}$$"
      ]
    }
  ],
  "metadata": {
    "colab": {
      "provenance": []
    },
    "kernelspec": {
      "display_name": "Python 3",
      "name": "python3"
    },
    "language_info": {
      "codemirror_mode": {
        "name": "ipython",
        "version": 3
      },
      "file_extension": ".py",
      "mimetype": "text/x-python",
      "name": "python",
      "nbconvert_exporter": "python",
      "pygments_lexer": "ipython3",
      "version": "3.12.4"
    }
  },
  "nbformat": 4,
  "nbformat_minor": 0
}
