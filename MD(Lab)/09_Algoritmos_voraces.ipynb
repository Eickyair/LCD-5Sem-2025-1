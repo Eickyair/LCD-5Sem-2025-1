{
 "cells": [
  {
   "cell_type": "code",
   "execution_count": 11,
   "id": "1f113cef-1561-44cc-ac93-9ea8a55a7351",
   "metadata": {},
   "outputs": [],
   "source": [
    "import matplotlib.pyplot as plt\n",
    "import numpy as np"
   ]
  },
  {
   "cell_type": "markdown",
   "id": "bebddff0-30fa-4335-93c2-bc1285683622",
   "metadata": {},
   "source": [
    "En esta libreta, veremos varios ejemplos de algoritmos voraces (*greedy* en inglés), y cómo demostrar formalmente que efectivamente son correctos."
   ]
  },
  {
   "cell_type": "markdown",
   "id": "1bef03f6",
   "metadata": {},
   "source": [
    "### Algoritmo de Dijkstra\n",
    "Puedes encontrar el camino más corto desde un nodo a todos los otros nodos del grafo, generando un árbol del camino más corto.\n",
    "\n",
    "\n",
    "\"¿Cuál es el camino más corto para viajar desde Rotterdam a Groningen? Es el algoritmo para el camino más corto, el cual diseñé en aproximadamente 20 minutos\" - entrevista (https://dl.acm.org/doi/pdf/10.1145/1787234.1787249)\n",
    "\n",
    "\n",
    "https://www.freecodecamp.org/espanol/news/algoritmo-de-la-ruta-mas-corta-de-dijkstra-introduccion-grafica/"
   ]
  },
  {
   "cell_type": "markdown",
   "id": "2a4e6937-e87b-41a5-9592-16ab8ec0b2cb",
   "metadata": {},
   "source": [
    "# Ejemplos"
   ]
  },
  {
   "attachments": {
    "9963dd6e7596b5cdc25ad4d790c0f421-icono-de-casete-naranja-y-rojo.png.webp": {
     "image/webp": "[encoded data removed]"
    }
   },
   "cell_type": "markdown",
   "id": "4ea48440-3fa2-498f-8243-5b0ec57f129d",
   "metadata": {},
   "source": [
    "## Cintas magnéticas\n",
    "\n",
    "El sistema de archivado más utilizado para respaldar datos de manera robusta es el de *cintas magnéticas*. Para leer un archivo de una cinta, el lector debe de pasar por todos los archivos que aparecen delante de él, lo cual toma bastante tiempo.\n",
    "\n",
    "![9963dd6e7596b5cdc25ad4d790c0f421-icono-de-casete-naranja-y-rojo.png.webp](attachment:9963dd6e7596b5cdc25ad4d790c0f421-icono-de-casete-naranja-y-rojo.png.webp)\n",
    "\n",
    "Sea $L$ un arreglo con los *largos* de cada uno de los archivos, con la $i$-ésima entrada correspondiendo al largo del archivo $i$. Si los archivos están almacenados en orden desde el 1 hasta el $n$, el costo de accesar el $k$-ésimo archivo es:\n",
    "\n",
    "$$\n",
    "C(k) = \\sum_{i=1}^kL[i]\n",
    "$$\n",
    "\n",
    "Si asumimos que todos los archivos tienen la misma probabilidad de lectura, el valor esperado del costo es:\n",
    "\n",
    "$$\n",
    "\\mathbb{E}\\left[C\\right] = \\sum_{k=1}^n\\frac{C(k)}{n} = \\frac{1}{n}\\sum_{k=1}^n\\sum_{i=1}^kL[i]\n",
    "$$\n",
    "\n",
    "### Reordenamiento\n",
    "\n",
    "Si cambiamos el orden de los archivos en la cinta, cambiamos el costo de acceso: algunos archivos se vuelven más baratos de leer, pero otros se vuelven más caros. Diferentes órdenes resultan en distintos valores esperados de costo. \n",
    "\n",
    "Ahora, denotemos con $\\pi(i)$ el índice del archivo en la $i$-ésima posición de la cinta. Por ejemplo, si el archivo 3 está en la primera posición, tenemos que $\\pi(1) = 3$. Con esta notación, el valor esperado de una cierta permutación ${\\Pi}$ es:\n",
    "\n",
    "$$\n",
    "\\mathbb{E}[C(\\Pi)] = \\frac{1}{n}\\sum_{k=1}^n\\sum_{i=1}^kL[\\pi(i)]\n",
    "$$\n",
    "\n",
    "### Solución óptima\n",
    "\n",
    "¿Qué orden debemos de usar si queremos minimizar el valor esperado del costo? La respuesta intuitiva es bastante clara: ordenamos los archivos del más pequeño al más grande. Demostramos esto de manera formal:\n",
    "\n",
    "**Lema:** El valor esperado del costo se minimiza cuando $L[\\pi(i)]<L[\\pi(i+1)]$ para toda $i$.\n",
    "\n",
    "**Demostración:** Supongamos que se cumple $L[\\pi(i)] > L[\\pi(i+1)]$ para algún $i$. Por simplicidad, definimos $a=\\pi(i)$ y $b=\\pi(i+1)$. \n",
    "\n",
    "Si cambiamos los archivos $a$ y $b$, el costo de accesar a $a$ se incrementa por $L[b]$, y el costo de accesar a $b$ se decrementa por $L[a]$. Entonces, el valor esperado del costo cambia por:\n",
    "\n",
    "$$\n",
    "\\Delta C = \\frac{L[b]-L[a]}{n}\n",
    "$$\n",
    "\n",
    "Pero recordemos que habíamos asumido que $L[a] > L[b]$, i.e. $L[b] - L[a]<0$. Por lo tanto, al intercambiar $a$ y $b$, se reduce el costo esperado, de lo cual se sigue que el ordenamiento óptimo es el propuesto."
   ]
  },
  {
   "cell_type": "markdown",
   "id": "c7015ed8-8501-4f8c-8df2-502f3e46c98f",
   "metadata": {},
   "source": [
    "## Cintas magnéticas con frecuencias\n",
    "\n",
    "Ahora, supongamos que aparte de la lista de largos $L$, tenemos una lista $F$ que nos dice cuántas veces accederemos cada uno de los elementos. El costo *total* de accesar todos los archivos en la cinta es:\n",
    "\n",
    "$$\n",
    "\\begin{align}\n",
    "    \\Sigma[C(\\Pi)] &= \\sum_{k=1}^n\\left(F[\\pi(k)]C(k)\\right) \\\\\n",
    "    &= \\sum_{k=1}^n\\left(F[\\pi(k)]\\sum_{i=1}^kL[\\pi(i)]\\right) \\\\\n",
    "    &= \\sum_{k=1}^n\\sum_{i=1}^kF[\\pi(k)]L[\\pi(i)]\n",
    "\\end{align}\n",
    "$$\n",
    "\n",
    "¿Cómo ordenamos los archivos de modo que el costo total se minimice?\n",
    "\n",
    "Si todos los archivos se accesan con la misma frecuencia, el problema se reduce al del ejemplo anterior, por lo cual sólo hay que reordenarlos en orden ascendente de tamaño. Por otro lado, si tienen el mismo tamaño, pero distintas frecuencias, por un argumento perfectamente análogo, llegamos a que deben de ordenarse de forma **descendente** en frecuencia.\n",
    "\n",
    "Sin embargo, ¿qué pasa si tanto el tamaño como la frecuencia varían? En este caso, proponemos que debemos de ordenarlas de manera ascendente, de acuerdo a la razón:\n",
    "\n",
    "$$\n",
    "Q(\\pi(i)) = \\frac{L[\\pi(i)]}{F[\\pi(i)]}\n",
    "$$\n",
    "\n",
    "Lo demostramos de manera formal:\n",
    "\n",
    "**Lema:** El costo total se minimiza cuando $Q(\\pi(i)) \\leq Q(\\pi(i+1))$ para toda $i$.\n",
    "\n",
    "**Demostración:** Supongamos que $Q(\\pi(i)) > Q(\\pi(i+1))$ para alguna $i$. Sean $a$ y $b$ como las definimos previamente. Si intercambiamos los archivos $a$ y $b$, el costo de accesar $a$ se incrementa por $L[b]$, y el costo de accesar a $b$ se decrementa por $L[a]$. Este intercambio altera el costo total por $L[b]F[a]-L[a]F[b]$, pero este cambio es una mejora, ya que:\n",
    "\n",
    "$$\n",
    "\\frac{L[a]}{F[a]}>\\frac{L[b]}{F[b]}\\Leftrightarrow L[b]F[a]-L[a]F[b]<0\n",
    "$$\n",
    "\n",
    "Por lo tanto, el intercambiar $a$ y $b$ disminuye el costo total, de lo cual se sigue que el ordenamiento óptimo es el propuesto."
   ]
  },
  {
   "cell_type": "markdown",
   "id": "7f1a2e8d-23f5-4eb8-a3d2-bf7b52331642",
   "metadata": {},
   "source": [
    "## Clases\n",
    "\n",
    "Estamos empezando un nuevo semestre y queremos armar nuestro horario, dado un conjunto de $n$ clases posibles. Para esto, tenemos dos listas: $S$, que tiene los tiempos de inicio de cada clase, y $F$, que tiene los tiempos de final. Para graduarnos lo más rápido posible, queremos inscribirnos a tantas clases como sea posible, de modo que ninguna se empalme.\n",
    "\n",
    "Este problema tiene una solución recursiva relativamente simple. Tomamos la primera clase de la lista, y consideramos dos posibilidades: la inscribimos o no la inscribimos. Para ambos casos, pasamos a la segunda clase, y hacemos lo mismo de manera recursiva. \n",
    "\n",
    "Con memoización y otros trucos de programación dinámica, podemos lograr que este algoritmo tenga una complejidad de $O(n^3)$, lo cual no es muy bueno.\n",
    "\n",
    "---\n",
    "\n",
    "¿Cómo podemos mejorar esto? Empecemos notando que, intuitivamente, nos gustaría que la primera clase en nuestro horario terminase lo más pronto posible, ya que eso nos dejaría más tiempo para inscribir más clases. De esto, se sigue el siguiente algoritmo voraz: \n",
    "\n",
    "1. Ordenamos las clases en orden ascendente, de acuerdo a su tiempo de término.\n",
    "2. Iteramos sobre la lista ordenada:\n",
    "    1. Si encontramos una clase que no se empalma con las clases en nuestro horario, la añadimos al horario.\n",
    "\n",
    "Afirmamos que este algoritmo produce **un** horario maximal. Nótese que no estamos diciendo que este horario es el único posible.\n",
    "\n",
    "Escribiéndolo en Python:"
   ]
  },
  {
   "cell_type": "code",
   "execution_count": 12,
   "id": "680f1e56-268c-4df2-a515-50ea4d28f7a6",
   "metadata": {},
   "outputs": [
    {
     "data": {
      "text/plain": [
       "array([0, 1, 4, 2, 3])"
      ]
     },
     "execution_count": 12,
     "metadata": {},
     "output_type": "execute_result"
    }
   ],
   "source": [
    "l = [\"a\", \"b\", \"d\", \"e\", \"c\"]\n",
    "np.argsort(l)"
   ]
  },
  {
   "cell_type": "code",
   "execution_count": 13,
   "id": "67905340-dda4-403a-8f4a-49260102d0e4",
   "metadata": {},
   "outputs": [],
   "source": [
    "def make_schedule(S, F):\n",
    "    idx = np.argsort(F)\n",
    "    out = []\n",
    "    for i in idx:\n",
    "        if len(out) == 0:\n",
    "            out.append(i)\n",
    "        else:\n",
    "            last_idx = out[-1]\n",
    "            if S[i] > F[last_idx]:\n",
    "                out.append(i)\n",
    "    return out"
   ]
  },
  {
   "cell_type": "markdown",
   "id": "a52c3446-9345-4894-b5f7-1cc3a1de84a3",
   "metadata": {},
   "source": [
    "Por ejemplo, si tenemos las siguientes clases:\n",
    "\n",
    "* 7 a 15\n",
    "* 1 a 8\n",
    "* 1 a 4\n",
    "* 5 a 8\n",
    "* 9 a 10\n",
    "* 3 a 7\n",
    "* 6 a 8\n",
    "\n",
    "Graficando:"
   ]
  },
  {
   "cell_type": "code",
   "execution_count": 14,
   "id": "0e8a4ded-f7f2-4d9d-821b-ef6d24cd5138",
   "metadata": {},
   "outputs": [
    {
     "data": {
      "image/png": "[encoded data removed]",
      "text/plain": [
       "<Figure size 800x300 with 1 Axes>"
      ]
     },
     "metadata": {},
     "output_type": "display_data"
    }
   ],
   "source": [
    "S = [7, 1, 1, 5, 9, 3, 6]\n",
    "F = [15, 8, 4, 8, 10, 7, 8]\n",
    "\n",
    "fig, ax = plt.subplots(figsize=(8, 3))\n",
    "for i in range(len(S)):\n",
    "    width = F[i] - S[i]\n",
    "    ax.broken_barh([(S[i], width)], (i-0.5, 1), edgecolor=\"k\")\n",
    "plt.show()"
   ]
  },
  {
   "cell_type": "markdown",
   "id": "e52a3d63-0ac1-468a-ab20-26ffd3e55965",
   "metadata": {},
   "source": [
    "Una posible solución es:"
   ]
  },
  {
   "cell_type": "code",
   "execution_count": 15,
   "id": "81081f20-b53f-4b02-8c86-5ee347d087ef",
   "metadata": {},
   "outputs": [
    {
     "data": {
      "image/png": "[encoded data removed]",
      "text/plain": [
       "<Figure size 800x300 with 1 Axes>"
      ]
     },
     "metadata": {},
     "output_type": "display_data"
    }
   ],
   "source": [
    "out = make_schedule(S, F)\n",
    "\n",
    "fig, ax = plt.subplots(figsize=(8, 3))\n",
    "for i in range(len(S)):\n",
    "    width = F[i] - S[i]\n",
    "    fc = \"red\" if i in out else \"C0\"\n",
    "    ax.broken_barh([(S[i], width)], (i-0.5, 1), edgecolor=\"k\", facecolor=fc)\n",
    "plt.show()"
   ]
  },
  {
   "cell_type": "markdown",
   "id": "56a3ae01-3278-4b52-a934-cb7ef61cc550",
   "metadata": {},
   "source": [
    "Para demostrar que este algoritmo es correcto, primero demostramos el siguiente lema:\n",
    "\n",
    "**Lema:** Al menos un horario maximal incluye la clase que acaba primero.\n",
    "\n",
    "**Demostración:** Sea $f$ la clase que acaba primero. Supongamos que tenemos un horario maximal $X$ que no incluye a $f$. Sea $g$ la clase en $X$ que acaba primero. Como $f$ termina antes que $g$, $f$ no se empalma con ninguna de las clases en $X\\setminus \\{g\\}$. Por lo tanto, el horario $X' = X\\cup \\{f\\}\\setminus \\{g\\}$ no tiene conflictos, y dado que tiene el mismo número de elementos que $X$, se concluye que también es maximal.\n",
    "\n",
    "Ahora, demostramos que nuestro algoritmo es correcto por inducción:\n",
    "\n",
    "**Demostración:** Sea $f$ la clase que termina primero, y $A$ el subconjunto de las clases que empiezan después de que $f$ acaba. Por el lema anterior, sabemos que algún horario óptimo contiene a $f$, entonces, si hacemos una lista de todos los horarios que contienen a $f$, y obtenemos el más grande, habremos encontrado un óptimo.\n",
    "\n",
    "El mejor horario que incluye a $f$ debe de contener un sub-horario óptimo para las clases que no se empalman con $f$, es decir, un horario óptimo para $A$. Entonces, por inducción, el algoritmo genera un horario óptimo."
   ]
  },
  {
   "cell_type": "markdown",
   "id": "06da05a5-16ee-4c2a-b64d-d07df9bb48dd",
   "metadata": {
    "id": "hFPV01cuIKTz"
   },
   "source": [
    "## Monedas\n",
    "\n",
    "Consideremos monedas con valores $1, 2, 5, 10$. Dado un entero positivo $n$, ¿cómo podemos encontrar el menor número de monedas con el que podemos sumar $n$?\n",
    "\n",
    "Un algoritmo voraz sería en cada momento, considerar el mayor valor que es menor o igual a $n$, y usar esa moneda, continuando con este proceso con el valor que resulta de restarle a $n$ el valor de la moneda usada.\n",
    "\n",
    "Veamos una implementación de esto:"
   ]
  },
  {
   "cell_type": "code",
   "execution_count": 16,
   "id": "64490c15-25a0-407f-834e-c32f59873ec3",
   "metadata": {
    "colab": {
     "base_uri": "https://localhost:8080/"
    },
    "id": "MvmcuMXkKKrl",
    "outputId": "8a6057bb-86e9-45b5-a120-afdacbfdfb9b"
   },
   "outputs": [],
   "source": [
    "def min_coins(n, coins):\n",
    "    max_idx = len(coins) - 1\n",
    "    count = [0] * len(coins)\n",
    "    while n > 0:\n",
    "        count[max_idx] += n//coins[max_idx]\n",
    "        n -= count[max_idx] * coins[max_idx]\n",
    "        max_idx -= 1\n",
    "    return sum(count), count"
   ]
  },
  {
   "cell_type": "code",
   "execution_count": 17,
   "id": "647c06fe",
   "metadata": {},
   "outputs": [
    {
     "name": "stdout",
     "output_type": "stream",
     "text": [
      "(10, [0, 0, 0, 10])\n",
      "(4, [0, 1, 1, 2])\n",
      "(8, [0, 0, 1, 7])\n"
     ]
    }
   ],
   "source": [
    "coins = [1, 2, 5, 10]\n",
    "\n",
    "print(min_coins(100, coins))\n",
    "print(min_coins(27, coins))\n",
    "print(min_coins(75, coins))"
   ]
  },
  {
   "cell_type": "markdown",
   "id": "79e3b0ad-9f31-4f99-8b33-994c53f566b1",
   "metadata": {
    "id": "4Ov-EyN4LZwx"
   },
   "source": [
    "Para demostrar que es correcto, primero demostramos el siguiente lema:\n",
    "\n",
    "**Lema:** Si nosotros sabemos que el algoritmo no usó ninguna moneda de $10$, entonces a lo mucho cambiamos $9$ pesos.\n",
    "\n",
    "**Demostración:** Primero, notemos que nuestro algoritmo utiliza a lo mucho una moneda de $1$, ya que de otra manera podría haberla sustituido por una de $2$. Por el mismo argumento, no puede usar tres monedas de $2$, ya que podría haberlas cambiado por una de $5$ y una de $1$. \n",
    "\n",
    "Por lo tanto, la suma máxima que podemos formar es:\n",
    "\n",
    "$$ 1 \\cdot 1 + 2 \\cdot 2 + 1 \\cdot 5 = 10 $$\n",
    "\n",
    "Pero si hubiésemos llegado a 10, podríamos haber cambiado las monedas por una de $10$. Por lo tanto, tenemos que detenernos en $10-1=9$. \n",
    "\n",
    "---\n",
    "\n",
    "Ahora, probamos la correctitud del algoritmo por inducción. \n",
    "\n",
    "* **Caso base:** Consideramos todos los enteros del 1 al 10, para los cuales es fácil ver que nuestro algoritmo sí nos da el menor número de monedas posible. \n",
    "* **H.I.** El algoritmo regresa la menor cantidad de monedas posible para todo $k \\leq n$.\n",
    "* $n+1$: Como ya vimos que es cierto para todo entero positivo menor o igual a $10$, podemos suponer que $11 \\leq n+1$. \n",
    "\n",
    "Por el lema, dado que $n+1>10$, sabemos que el algoritmo utiliza al menos una moneda de $10$. Usándola, tenemos ahora $n+1-10$. Esta suma es menor que $n+1$, por lo cual por H.I. sabemos que el algoritmo nos dará una solución óptima. Finalmente, si añadimos la moneda de $10$ del principio a esta solución, tendremos una solución óptima para $n+1$.\n",
    "\n",
    "---\n",
    "\n",
    "Con esto hemos probado que el algoritmo greedy para esta distribución de monedas nos dice el menor número de monedas posible, ¿será cierto para cualquier destribución de monedas?\n",
    "\n",
    "Como es de esperarse, no. Hay diferentes cosas que pueden suceder para que el algoritmo no nos dé el menor número de monedas necesario.\n",
    "*   Puede suceder que exista $n$ tal que no se pueda formar con las monedas disponibles. Por ejemplo, si $\\{3, 7\\}$ son las posibles denominaciones de las monedas, no se puede formar el número $11$.\n",
    "*   También puede suceder que sí exista forma de llegar al número deseado, pero que nuestro algoritmo no nos diga correctamente el menor número de monedas necesarias, un ejemplo de esto es tener monedas con denominaciones $\\{1, 4, 7, 8, 10\\}$ y queremos formar el número $15$, siguiendo el algoritmo greedy se seleccionarán una moneda de $10$, otra de $4$ y otra de $1$, sin embargo, es posible usar menos monedas, seleccionando una de $8$ y otra de $7$.\n",
    "\n",
    "¿Se puede dar un algoritmo que siempre funcione independientemente de las denominaciones de las monedas? En efecto se puede, usando programación dinámica es posible garantizar encontrar la respuesta independientemente de las denominaciones (¿cómo hacemos esto?). Esto ilustra algo que es también bastante usual: si un algoritmo greedy no funciona, se puede encontrar una forma de resolver el problema usando programación dinámica, esto no es una regla pero suele ser bastante común.\n"
   ]
  },
  {
   "cell_type": "markdown",
   "id": "713d877c-252c-4172-b7cc-2911117c9b7e",
   "metadata": {},
   "source": [
    "# Ejercicios"
   ]
  },
  {
   "cell_type": "markdown",
   "id": "f77cdf79-15d5-44b8-89e1-5d1243469b70",
   "metadata": {},
   "source": [
    "## Ejercicio 1\n",
    "\n",
    "Reescribe el algoritmo para el problema de las monedas cuando tienes un número limitado de monedas de cada denominación."
   ]
  },
  {
   "cell_type": "markdown",
   "id": "1ed59ca5-69cc-4eb3-b431-c7aeb4d67150",
   "metadata": {},
   "source": [
    "Se realizaron las siguientes modificaciones:\n",
    "\n",
    "1. Sabemos que el bucle `while` de la linea 4 se ejecutará mientras `n>0`, sin embargo, ahora existe la posibilidad de que no podamos cubrir el monto `n` con las monedas disponibles. Entonces, se agregó la condición de que `mx_idx>=0` para salir del ciclo cuando se hayan recorrido todas las denominaciones de monedas.\n",
    "\n",
    "2. Se agregó el cálculo de `max_per_coin`, la cual contiene la cantidad máxima que se puede usar de monedas de una denominación en particular. Para ello, se toma el mínimo entre `limits[max_idx]` y `n // coins[max_idx]`\n",
    "\n",
    "3. Se decrementa `n` de acuerdo al número máximo de monedas permitidas en la denominación actual. \n",
    "\n",
    "4. Se verifica que, si no se pudo cubrir el monto `n`, la función retorna `None`."
   ]
  },
  {
   "cell_type": "code",
   "execution_count": 18,
   "id": "ca924066-1bdc-4337-876d-39e8b39b5026",
   "metadata": {},
   "outputs": [],
   "source": [
    "def min_coins_limited(n: int, coins: list[int], limits: list[int]) -> tuple[int, list[int]]:\n",
    "    \"\"\"\n",
    "    Parameters:\n",
    "    -----------\n",
    "    n: int\n",
    "        Valor a alcanzar con las monedas\n",
    "    coins: list[int]\n",
    "        Lista de valores de las monedas disponibles ordenadas de menor a mayor\n",
    "    limits: list[int]\n",
    "        Lista de límites de uso de cada moneda\n",
    "    Returns:\n",
    "    --------\n",
    "    tuple[int, list[int]]\n",
    "        Número total de monedas usadas y desglose de monedas usadas\n",
    "    \"\"\"\n",
    "    max_idx = len(coins) - 1\n",
    "    count = [0] * len(coins)\n",
    "    while n > 0 and max_idx >= 0: # Se agrega la condicion de max_idx >= 0 por si no se logra cubrir el monto n\n",
    "        max_per_coin = min(n // coins[max_idx], limits[max_idx]) # Toma en cuenta el límite de uso de la moneda\n",
    "        count[max_idx] = max_per_coin\n",
    "        n -= max_per_coin * coins[max_idx]\n",
    "        max_idx -= 1\n",
    "    # Si n es mayor a 0, entonces no se logró cubrir el monto con las monedas disponibles\n",
    "    if n > 0:\n",
    "        return None, count \n",
    "    return sum(count), count"
   ]
  },
  {
   "cell_type": "markdown",
   "id": "86f7f32b",
   "metadata": {},
   "source": [
    "Ejemplos"
   ]
  },
  {
   "cell_type": "code",
   "execution_count": null,
   "id": "40a93e18",
   "metadata": {},
   "outputs": [
    {
     "data": {
      "text/plain": [
       "{7: (2, [0, 1, 1, 0]),\n",
       " 14: (3, [0, 2, 0, 1]),\n",
       " 23: (4, [1, 1, 0, 2]),\n",
       " 28: (5, [1, 1, 1, 2]),\n",
       " 50: (None, [5, 2, 1, 3])}"
      ]
     },
     "execution_count": 19,
     "metadata": {},
     "output_type": "execute_result"
    }
   ],
   "source": [
    "coins = [1, 2, 5, 10]\n",
    "limits = [5, 2, 1, 3]\n",
    "\n",
    "test = [7, 14, 23, 28, 50]\n",
    "limited_results = {n: min_coins_limited(n, coins, limits) for n in test}\n",
    "limited_results"
   ]
  },
  {
   "cell_type": "markdown",
   "id": "03ff7e68",
   "metadata": {},
   "source": [
    "- $n=7$: Se necesita 1 moneda de 5 y 1 de 2. Total: 2 monedas\n",
    "- $n=14$: Se necesita 1 moneda de 10 y 2 de 2. Total: 3 monedas\n",
    "- $n=23$: Se necesitan 2 monedas de 10, 1 de 2 y 1 de 1. Total: 4 monedas\n",
    "- $n=28$: Se necesitan 2 moneda de 10, 1 de 5, 1 de 2 y 1 de 2. Total: 5 monedas\n",
    "- $n=50$: No se puede cubrir ese monto con las cantidades de monedas disponibles."
   ]
  },
  {
   "cell_type": "markdown",
   "id": "9a6b6bfc-0a93-4017-b6ff-3e1f5215dd6f",
   "metadata": {},
   "source": [
    "## Ejercicio 2\n",
    "\n",
    "* Tienes un conjunto de $n$ sustancias en forma de líquido. La sustancia $i$ tiene un valor total $v_i$, y un peso total $w_i$. \n",
    "* Tienes una mochila que puede aguantar un peso máximo $z$. \n",
    "* Puedes escoger cuánto de cada sustancia llevar (i.e., puedes escoger no llevar la sustancia $i$, o llevar solo la mitad, o un tercio, etc.) El valor de la parte que llevas es proporcional (i.e., si escoges $\\frac{w_i}{2}$ de la sustancia $i$, el valor correspondiente será $\\frac{v_i}{2}$)\n",
    "\n",
    "Diseña un algoritmo voraz que escoja las sustancias tal que el valor total se maximice. A este problema se le conoce como el **problema de la mochila continuo** (o **fraccional**)."
   ]
  },
  {
   "cell_type": "markdown",
   "id": "1032dfe5-cdfa-4b8a-83a3-e77b5c225f49",
   "metadata": {},
   "source": [
    "La idea principal consiste en obtener el valor de cada sustancia por unidad de peso. Es decir el cociente $\\frac{v_i}{w_i}$ para todas las sustancias. A partir de estas proporciones, es conveniente ordenar las sustancias de mayor a menor según su valor por unidad de peso. Luego, tenemos que agregar las sustancias a la mochila de la siguiente manera:\n",
    "\n",
    "Se recorre la lista ordenada de proporciones en un ciclo, empezando por el mayor:\n",
    "- Si el peso actual `weight` no excede el peso soportado por la mochila `z`, agregamos la sustancia completa (i.e. `z >= weight`). Le restamos a `z` el peso de la sustancia que acabamos de agregar a la mochila, y sumamos en la variable `total_value` el valor de la sustancia que metimos a la mochila.\n",
    "\n",
    "- En otro caso (no podemos tomar toda la sustancia), tomamos una fracción de ella. Tomamos las `z` unidades de peso aún disponibles en la mochila y agregamos su valor a `total_value`. Salimos del ciclo, dado que ya llenamos la mochila."
   ]
  },
  {
   "cell_type": "code",
   "execution_count": 30,
   "id": "ce35fe5d-f939-4150-9a16-024830ad78ca",
   "metadata": {},
   "outputs": [],
   "source": [
    "def knapsack_continuous(W: list[int], V: list[int], z:int) -> float:\n",
    "    \"\"\"\n",
    "    Parameters:\n",
    "    -----------\n",
    "    W: list[int]\n",
    "        Lista de pesos de los objetos\n",
    "    V: list[int]\n",
    "        Lista de valores de los objetos\n",
    "    z: int\n",
    "        Peso máximo que puede llevar la mochila\n",
    "    Returns:\n",
    "    --------\n",
    "    float\n",
    "        Valor máximo que se puede llevar en la mochila\n",
    "    \"\"\"\n",
    "    proportion = sorted([(V[i] / W[i], W[i], V[i]) for i in range(len(W))], reverse=True)\n",
    "    print(proportion)\n",
    "    total_value = 0\n",
    "    for value_per_weight, weight, value in proportion:\n",
    "        if z >= weight:\n",
    "            # Tomamos toda la sustancia\n",
    "            z -= weight\n",
    "            total_value += value\n",
    "        else:\n",
    "            # Tomamos una fracción de la sustancia\n",
    "            total_value += value_per_weight * z\n",
    "            break  # Ya alcanzamos el límite de peso\n",
    "    return total_value"
   ]
  },
  {
   "cell_type": "markdown",
   "id": "3e450e52",
   "metadata": {},
   "source": [
    "Ejemplos:"
   ]
  },
  {
   "cell_type": "code",
   "execution_count": null,
   "id": "18239ada",
   "metadata": {},
   "outputs": [
    {
     "name": "stdout",
     "output_type": "stream",
     "text": [
      "[(6.0, 10, 60), (5.0, 20, 100), (4.0, 30, 120)]\n"
     ]
    },
    {
     "data": {
      "text/plain": [
       "240.0"
      ]
     },
     "execution_count": 31,
     "metadata": {},
     "output_type": "execute_result"
    }
   ],
   "source": [
    "W = [10, 20, 30]\n",
    "V = [60, 100, 120]\n",
    "z = 50\n",
    "knapsack_continuous(W, V, z)"
   ]
  },
  {
   "cell_type": "markdown",
   "id": "3e2772bf",
   "metadata": {},
   "source": [
    "1. Primera sustancia: Su peso es 10, menor que 10. La tomamos completa.\n",
    "    - Capacidad restante = 50 - 10 = 40\n",
    "    - Valor total = 60\n",
    "2. Segunda sustancia: Su peso es 20, menor que 40. La tomamos completa.\n",
    "    - Capacidad restante = 40 - 20 = 20\n",
    "    - Valor total = 60 + 100 = 160\n",
    "3. Tercera sustancia: Su peso es 30, mayor que 20. Tomamos la fracción correspondiente.\n",
    "    - Valor de la fracción = 20 $\\times$ 4 = 80\n",
    "    - Valor total = 160 + 80 = 240"
   ]
  },
  {
   "cell_type": "code",
   "execution_count": null,
   "id": "61255cca",
   "metadata": {},
   "outputs": [
    {
     "name": "stdout",
     "output_type": "stream",
     "text": [
      "[(10.0, 5, 50), (6.0, 15, 90), (6.0, 10, 60)]\n"
     ]
    },
    {
     "data": {
      "text/plain": [
       "140.0"
      ]
     },
     "execution_count": 32,
     "metadata": {},
     "output_type": "execute_result"
    }
   ],
   "source": [
    "W = [5, 10, 15]\n",
    "V = [50, 60, 90]\n",
    "z = 20\n",
    "knapsack_continuous(W, V, z)"
   ]
  },
  {
   "cell_type": "markdown",
   "id": "fcebcd6a",
   "metadata": {},
   "source": [
    "1. Primera sustancia: Su peso es 5, menor que 20. LA tomamos completa.\n",
    "    - Capacidad restante = 20 - 5 = 15\n",
    "    - Valor total = 50\n",
    "2. Segunda sustancia: Su peso es 10, menor que 15. La tomamos completa.\n",
    "    - Capacidad restante = 15 - 10 = 5\n",
    "    - Valor total = 50 + 60 = 110\n",
    "3. Tercera sustancia: Su peso es 15, mayor que 5. Tomamos la fracción correspondiente.\n",
    "    - Valor de la fracción = 6 $\\times$ 5 = 30\n",
    "    - Valor total = 110 + 30 = 140"
   ]
  },
  {
   "cell_type": "markdown",
   "id": "f19225ea",
   "metadata": {},
   "source": [
    "Éxito :)"
   ]
  }
 ],
 "metadata": {
  "kernelspec": {
   "display_name": "Python 3",
   "language": "python",
   "name": "python3"
  },
  "language_info": {
   "codemirror_mode": {
    "name": "ipython",
    "version": 3
   },
   "file_extension": ".py",
   "mimetype": "text/x-python",
   "name": "python",
   "nbconvert_exporter": "python",
   "pygments_lexer": "ipython3",
   "version": "3.12.7"
  }
 },
 "nbformat": 4,
 "nbformat_minor": 5
}
