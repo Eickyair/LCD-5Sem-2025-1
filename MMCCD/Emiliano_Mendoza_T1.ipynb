{
 "cells": [
  {
   "cell_type": "markdown",
   "metadata": {},
   "source": [
    "## **Códigos en Python**"
   ]
  },
  {
   "cell_type": "markdown",
   "metadata": {},
   "source": [
    "Escribe en Python un codigo que obtenga la factorización *LU* otro que obtenga la factorizacion *PLU* y otro que obtenga la\n",
    "factorizacion de Cholesky de una matriz *A*. En caso de que la factorizacion no pueda realizarse sobre la matriz *A* tu codigo \n",
    "debe arrojar que es lo que la matriz *A* no cumple."
   ]
  },
  {
   "cell_type": "code",
   "execution_count": 62,
   "metadata": {},
   "outputs": [],
   "source": [
    "import numpy as np\n",
    "import matplotlib.pyplot as plt"
   ]
  },
  {
   "cell_type": "code",
   "execution_count": 63,
   "metadata": {},
   "outputs": [],
   "source": [
    "class InvalidInputMatrix(Exception):\n",
    "    def __init__(self, message):\n",
    "        super().__init__(message)"
   ]
  },
  {
   "cell_type": "code",
   "execution_count": 64,
   "metadata": {},
   "outputs": [],
   "source": [
    "def lu_fact(A: np.ndarray) -> tuple[np.ndarray, np.ndarray]:\n",
    "    \"\"\"\n",
    "    LU decomposition of a square matrix A. \n",
    "    Matrix A must not contain any zero in the diagonal and must be invertible.\n",
    "\n",
    "    Example\n",
    "    --------\n",
    "    >>> A = np.array([[3, 1, 1], [-3, -3, 1], [3, -3, 6]])\n",
    "    >>> lu_fact(A)\n",
    "    (array([[ 1.,  0.,  0.],\n",
    "            [-1.,  1.,  0.],\n",
    "            [ 1.,  2.,  1.]]), \n",
    "    array([[ 3,  1,  1],\n",
    "          [ 0, -2,  2],\n",
    "          [ 0,  0,  1]]))\n",
    "\n",
    "    Parameters\n",
    "    ----------\n",
    "    A (ndarray) : nxn coefficient matrix\n",
    "\n",
    "    Returns\n",
    "    -------\n",
    "    U (ndarray) : Upper triangular matrix\n",
    "    L (ndarray) : Lower triangular matrix\n",
    "    \"\"\"\n",
    "    if np.linalg.det(A) == 0:\n",
    "        raise InvalidInputMatrix('The matrix must be invertible.')\n",
    "    m, n = np.shape(A)\n",
    "    if m != n:\n",
    "        raise InvalidInputMatrix('The matrix must be square.')\n",
    "    if np.any(np.diag(A) == 0):\n",
    "        raise InvalidInputMatrix('The matrix must not contain any zero in the diagonal.')\n",
    "    L = np.zeros((n, n))\n",
    "    U = np.copy(A)\n",
    "    for j in range(n-1):\n",
    "        for i in range(j+1,n):\n",
    "            L[i,j] = (U[i,j])/(U[j,j])\n",
    "            U[i] = U[i] - L[i,j]*U[j]\n",
    "    L = L + np.eye(n)\n",
    "    return L, U"
   ]
  },
  {
   "cell_type": "code",
   "execution_count": 65,
   "metadata": {},
   "outputs": [],
   "source": [
    "def swap_rows(A: np.ndarray, i: int, j: int) -> None:\n",
    "    \"\"\" \n",
    "    Swap rows i and j in matrix A.\n",
    "    \"\"\"\n",
    "    temp = np.copy(A[i])\n",
    "    A[i] = A[j]\n",
    "    A[j] = temp"
   ]
  },
  {
   "cell_type": "code",
   "execution_count": 66,
   "metadata": {},
   "outputs": [],
   "source": [
    "def plu_fact(A: np.ndarray) -> tuple[np.ndarray, np.ndarray, np.ndarray]:\n",
    "    \"\"\" \n",
    "    PLU decomposition of a square matrix A\n",
    "\n",
    "    Example\n",
    "    --------\n",
    "    >>> A = np.array([[0., -1., 4.], [2., 1., 1.], [1., 1., -2.]])\n",
    "    >>> plu_fact(A)\n",
    "    (array([[ 0. , 1. , 0.],\n",
    "            [ 1. , 0. , 0.],\n",
    "            [ 0. , 0. , 1.]]),\n",
    "    array([[ 1. ,  0. ,  0. ],\n",
    "           [ 0. ,  1. ,  0. ],\n",
    "           [ 0.5, -0.5,  1. ]]),\n",
    "    array([[ 2. ,  1. ,  1. ],\n",
    "           [ 0. , -1. ,  4. ],\n",
    "           [ 0. ,  0. , -0.5]]))\n",
    "\n",
    "    Parameters\n",
    "    ----------\n",
    "    A (ndarray) : nxn coefficient matrix\n",
    "\n",
    "    Returns\n",
    "    -------\n",
    "    P (ndarray) : Permutation matrix\n",
    "    U (ndarray) : Upper triangular matrix\n",
    "    L (ndarray) : Lower triangular matrix\n",
    "    \"\"\"\n",
    "    if np.linalg.det(A) == 0:\n",
    "        raise InvalidInputMatrix('The matrix must be invertible.')\n",
    "    m, n = np.shape(A)\n",
    "    if m != n:\n",
    "        raise InvalidInputMatrix('The matrix must be square.')\n",
    "    P = np.eye(n)\n",
    "    L = np.zeros((n, n))\n",
    "    U = np.copy(A)\n",
    "    for j in range(n-1):\n",
    "        if U[j,j] == 0:\n",
    "            max_num = 0\n",
    "            index = 0\n",
    "            for k in range(j+1, n):\n",
    "                if abs(U[k,j]) > max_num:\n",
    "                    max_num = abs(U[k,j])\n",
    "                    index = k\n",
    "            swap_rows(U, j, index)\n",
    "            swap_rows(P, j, index)\n",
    "        for i in range(j+1,n):\n",
    "            L[i,j] = (U[i,j])/(U[j,j])\n",
    "            U[i] = U[i] - L[i,j]*U[j]\n",
    "    L = L + np.eye(n)\n",
    "    return P, L, U"
   ]
  },
  {
   "cell_type": "code",
   "execution_count": 90,
   "metadata": {},
   "outputs": [],
   "source": [
    "def cholesky_fact(A: np.ndarray) -> np.ndarray:\n",
    "    \"\"\" \n",
    "    Cholesky decomposition of a symmetric positive definite matrix A\n",
    "\n",
    "    Example\n",
    "    --------\n",
    "    >>> A = np.array([[4., -1., 1.], [-1., 4.25, 2.75], [1., 2.75, 3.5]])\n",
    "    >>> cholesky_fact(A)\n",
    "    array([[ 2. , -0.5,  0.5],\n",
    "           [ 0. ,  2. ,  1.5],\n",
    "           [ 0. ,  0. ,  1. ]])\n",
    "\n",
    "    Parameters\n",
    "    ----------\n",
    "    A (ndarray) : nxn coefficient matrix\n",
    "\n",
    "    Returns\n",
    "    -------\n",
    "    U (ndarray) : Upper triangular matrix\n",
    "    \"\"\"\n",
    "    if np.linalg.det(A) == 0:\n",
    "        raise InvalidInputMatrix('The matrix must be invertible.')\n",
    "    m, n = np.shape(A)\n",
    "    if m != n:\n",
    "        raise InvalidInputMatrix('The matrix must be square.')\n",
    "    if not np.allclose(A, A.T):\n",
    "        raise InvalidInputMatrix('The matrix must be symmetric.')\n",
    "    x = np.ones(n)\n",
    "    if x.T @ A @ x <= 0:\n",
    "        raise InvalidInputMatrix('The matrix must be positive definite.')\n",
    "    U = np.copy(A)\n",
    "    for i in range(n):\n",
    "        for j in range(i+1, n):\n",
    "            U[j] = U[j] - U[i]*U[j,i]/U[i,i]\n",
    "        U[i] = U[i]/np.sqrt(U[i,i])\n",
    "    return U"
   ]
  },
  {
   "cell_type": "markdown",
   "metadata": {},
   "source": [
    "## **Error en la factorización**"
   ]
  },
  {
   "cell_type": "markdown",
   "metadata": {},
   "source": [
    "Se define el error en la factorización LU como\n",
    "\n",
    "$$ ||A-LU|| $$\n",
    "\n",
    "para la factorización PLU como\n",
    "\n",
    "$$ ||PA-LU|| $$\n",
    "\n",
    "y para la factorización de Cholesky como\n",
    "\n",
    "$$ || A-U^TU || $$"
   ]
  },
  {
   "cell_type": "code",
   "execution_count": null,
   "metadata": {},
   "outputs": [],
   "source": [
    "def lu_error(A: np.ndarray, L: np.ndarray, U: np.ndarray) -> float:\n",
    "    \"\"\" \n",
    "    Calculate the error of LU decomposition\n",
    "\n",
    "    Parameters\n",
    "    ----------\n",
    "    A (ndarray) : nxn coefficient matrix\n",
    "    L (ndarray) : Lower triangular matrix\n",
    "    U (ndarray) : Upper triangular matrix\n",
    "\n",
    "    Returns\n",
    "    -------\n",
    "    error (float) : Error of LU decomposition\n",
    "    \"\"\"\n",
    "    return np.linalg.norm(A - L @ U)"
   ]
  },
  {
   "cell_type": "code",
   "execution_count": null,
   "metadata": {},
   "outputs": [],
   "source": [
    "def plu_error(A: np.ndarray, P: np.ndarray, L: np.ndarray, U: np.ndarray) -> float:\n",
    "    \"\"\" \n",
    "    Calculate the error of PLU decomposition\n",
    "\n",
    "    Parameters\n",
    "    ----------\n",
    "    A (ndarray) : nxn coefficient matrix\n",
    "    P (ndarray) : Permutation matrix\n",
    "    L (ndarray) : Lower triangular matrix\n",
    "    U (ndarray) : Upper triangular matrix\n",
    "\n",
    "    Returns\n",
    "    -------\n",
    "    error (float) : Error of PLU decomposition\n",
    "    \"\"\"\n",
    "    return np.linalg.norm(P @ A - L @ U)"
   ]
  },
  {
   "cell_type": "code",
   "execution_count": null,
   "metadata": {},
   "outputs": [],
   "source": [
    "def cholesky_error(A: np.ndarray, U: np.ndarray) -> float:\n",
    "    \"\"\" \n",
    "    Calculate the error of Cholesky decomposition\n",
    "\n",
    "    Parameters\n",
    "    ----------\n",
    "    A (ndarray) : nxn coefficient matrix\n",
    "    U (ndarray) : Upper triangular matrix\n",
    "\n",
    "    Returns\n",
    "    -------\n",
    "    error (float) : Error of Cholesky decomposition\n",
    "    \"\"\"\n",
    "    return np.linalg.norm(A - U.T @ U)"
   ]
  },
  {
   "cell_type": "markdown",
   "metadata": {},
   "source": [
    "1. Considera un vector N con 50 entradas en orden ascendente, de tal forma que si $N=(n_1,...,n_{50})$, entonces $n_1=2, n_i-n_{i-1}=10$ y en consecuencia $n_{50} = 502$."
   ]
  },
  {
   "cell_type": "code",
   "execution_count": 96,
   "metadata": {},
   "outputs": [
    {
     "data": {
      "text/plain": [
       "array([  2,  12,  22,  32,  42,  52,  62,  72,  82,  92, 102, 112, 122,\n",
       "       132, 142, 152, 162, 172, 182, 192, 202, 212, 222, 232, 242, 252,\n",
       "       262, 272, 282, 292, 302, 312, 322, 332, 342, 352, 362, 372, 382,\n",
       "       392, 402, 412, 422, 432, 442, 452, 462, 472, 482, 492, 502])"
      ]
     },
     "execution_count": 96,
     "metadata": {},
     "output_type": "execute_result"
    }
   ],
   "source": [
    "N = np.arange(2, 503, 10)\n",
    "N"
   ]
  },
  {
   "cell_type": "markdown",
   "metadata": {},
   "source": [
    "2. Para cada $n_i$, crea una matriz $M_i$ de dimensiones $n \\times n$, con valores aleatorios y calcula el error asociado a la factorización"
   ]
  },
  {
   "cell_type": "code",
   "execution_count": null,
   "metadata": {},
   "outputs": [],
   "source": []
  },
  {
   "cell_type": "markdown",
   "metadata": {},
   "source": [
    "## **Estabilidad en la factorización PLU**"
   ]
  }
 ],
 "metadata": {
  "kernelspec": {
   "display_name": "Python 3",
   "language": "python",
   "name": "python3"
  },
  "language_info": {
   "codemirror_mode": {
    "name": "ipython",
    "version": 3
   },
   "file_extension": ".py",
   "mimetype": "text/x-python",
   "name": "python",
   "nbconvert_exporter": "python",
   "pygments_lexer": "ipython3",
   "version": "3.12.4"
  }
 },
 "nbformat": 4,
 "nbformat_minor": 2
}
