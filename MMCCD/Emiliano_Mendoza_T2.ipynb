{
 "cells": [
  {
   "cell_type": "markdown",
   "metadata": {},
   "source": [
    "***Autor: Carlos Emiliano Mendoza Hernández***"
   ]
  },
  {
   "cell_type": "markdown",
   "metadata": {},
   "source": [
    "Bibliotecas"
   ]
  },
  {
   "cell_type": "code",
   "execution_count": 2,
   "metadata": {},
   "outputs": [],
   "source": [
    "import numpy as np\n",
    "import matplotlib.pyplot as plt"
   ]
  },
  {
   "cell_type": "markdown",
   "metadata": {},
   "source": [
    "Clase generadora de excepciones para los códigos"
   ]
  },
  {
   "cell_type": "code",
   "execution_count": 3,
   "metadata": {},
   "outputs": [],
   "source": [
    "class InvalidInputMatrix(Exception):\n",
    "    \"\"\"\n",
    "    Exception raised for errors in the input matrix.\n",
    "    \"\"\"\n",
    "    def __init__(self, message):\n",
    "        super().__init__(message)"
   ]
  },
  {
   "cell_type": "markdown",
   "metadata": {},
   "source": [
    "#### 1. Solución a la ecuación $\\mathbf{Ax=b}$"
   ]
  },
  {
   "cell_type": "markdown",
   "metadata": {},
   "source": [
    "- Dada la ecuación $\\mathbf{Lx=b}$, donde $\\mathbf{L}$ es una matriz triangular inferior. Programa una función en Python que encuentre $\\mathbf{x}$ dadas $\\mathbf{L}$ y $\\mathbf{b}$. "
   ]
  },
  {
   "cell_type": "code",
   "execution_count": 4,
   "metadata": {},
   "outputs": [],
   "source": [
    "def solve_lx_b(L: np.ndarray, b: np.ndarray) -> np.ndarray:\n",
    "    \"\"\"\n",
    "    Solves the system of linear equations Lx = b, where L is a lower triangular matrix.\n",
    "    \n",
    "    Example\n",
    "    -------\n",
    "    >>> l = np.array([[2., 0., 0., 0.], \n",
    "                      [1., 5., 0., 0.],\n",
    "                      [4., 5., 2., 0.],\n",
    "                      [2., 4., 4., 1.]])\n",
    "    >>> b = np.array([9., 10., 5., 6.]).T\n",
    "    >>> solve_lx_b(l, b)\n",
    "    array([[ 4.5 ],\n",
    "           [ 1.1 ],\n",
    "           [-9.25],\n",
    "           [29.6 ]])\n",
    "\n",
    "    Parameters\n",
    "    ----------\n",
    "    L (ndarray) : A lower triangular square matrix\n",
    "    b (ndarray) : A column vector of the same length as the number of rows in L\n",
    "\n",
    "    Returns\n",
    "    ----------\n",
    "    x (ndarray) : A column vector that solves the system of linear equations Lx = b\n",
    "    \"\"\"\n",
    "    m, n = np.shape(L)\n",
    "    if m != n:\n",
    "        raise InvalidInputMatrix(\"Matrix L is not square\")\n",
    "    n = np.size(b)\n",
    "    if n != m:\n",
    "        raise InvalidInputMatrix(\"Matrix L and vector b have incompatible dimensions\")\n",
    "    x = np.zeros((n,1))\n",
    "    x[0] = b[0]/L[0,0]\n",
    "    for i in range (1,n):\n",
    "        x[i] = (b[i]-L[i,0:i]@x[0:i])/L[i,i]\n",
    "    return x"
   ]
  },
  {
   "cell_type": "markdown",
   "metadata": {},
   "source": [
    "- Considera ahora la ecuación $\\mathbf{Ux=b}$ donde $\\mathbf{U}$ es una matriz triangular superior. Programa en Python una función que encuentre $\\mathbf{x}$ dadas $\\mathbf{U}$ y $\\mathbf{b}$."
   ]
  },
  {
   "cell_type": "code",
   "execution_count": 5,
   "metadata": {},
   "outputs": [],
   "source": [
    "def solve_ux_b(U: np.ndarray, b: np.ndarray) -> np.ndarray:\n",
    "    \"\"\"\n",
    "    Solves the system of linear equations Ux = b, where U is an upper triangular matrix.\n",
    "    \n",
    "    Example\n",
    "    -------\n",
    "    >>> U = np.array([[2., 1., 4., 2.], \n",
    "                      [0., 5., 5., 4.],\n",
    "                      [0., 0., 2., 4.],\n",
    "                      [0., 0., 0., 1.]])\n",
    "    >>> b = np.array([9., 10., 5., 6.]).T\n",
    "    >>> solve_ux_b(u, b)\n",
    "    array([[14.15],\n",
    "           [ 6.7 ],\n",
    "           [-9.5 ],\n",
    "           [ 6.  ]])\n",
    "\n",
    "    Parameters\n",
    "    ----------\n",
    "    U (ndarray) : An upper triangular square matrix\n",
    "    b (ndarray) : A column vector of the same length as the number of rows in U\n",
    "\n",
    "    Returns\n",
    "    ----------\n",
    "    x (ndarray) : A column vector that solves the system of linear equations Ux = b\n",
    "    \"\"\"\n",
    "    m, n = np.shape(U)\n",
    "    if m != n:\n",
    "        raise InvalidInputMatrix(\"Matrix U is not square\")\n",
    "    n = np.size(b)\n",
    "    if n != m:\n",
    "        raise InvalidInputMatrix(\"Matrix U and vector b have incompatible dimensions\")\n",
    "    x = np.zeros((n,1))\n",
    "    x[n-1] = b[n-1]/U[n-1,n-1]\n",
    "    for i in range (n-2,-1,-1):\n",
    "        x[i] = (b[i]-U[i,i+1:n]@x[i+1:n,0])/U[i,i]\n",
    "    return x"
   ]
  },
  {
   "cell_type": "markdown",
   "metadata": {},
   "source": [
    "- Dada una matriz $\\mathbf{A} \\in \\mathbb{R}^{n \\times n}$ invertible, existe la solución a la ecuación $\\mathbf{Ax=b}$. Si $\\mathbf{A=LU}$, la solución a la ecuación $\\mathbf{Ax=b}$ puede encontrarse solucionando primero la ecuación $\\mathbf{Ly=b}$ y luego la ecuación $\\mathbf{Ux=y}$. Utilizando esto, programa en Python una función que encuentre $\\mathbf{x}$ dados $\\mathbf{A}$ y $\\mathbf{B}$, después de encontrar la factorización $\\mathbf{PLU}$ de $\\mathbf{A}$."
   ]
  },
  {
   "cell_type": "markdown",
   "metadata": {},
   "source": [
    "Funciones auxiliares de PLU"
   ]
  },
  {
   "cell_type": "code",
   "execution_count": 6,
   "metadata": {},
   "outputs": [],
   "source": [
    "def swap_rows(A: np.ndarray, i: int, j: int) -> np.ndarray:\n",
    "    B = np.copy(A)\n",
    "    A[i] = B[j]\n",
    "    A[j] = B[i]\n",
    "    return A"
   ]
  },
  {
   "cell_type": "code",
   "execution_count": 7,
   "metadata": {},
   "outputs": [],
   "source": [
    "def max_index(v: np.array, j: int) -> int:\n",
    "    v = np.abs(v)\n",
    "    index = np.argmax(v[j:])\n",
    "    index += j\n",
    "    return index"
   ]
  },
  {
   "cell_type": "markdown",
   "metadata": {},
   "source": [
    "PLU"
   ]
  },
  {
   "cell_type": "code",
   "execution_count": 8,
   "metadata": {},
   "outputs": [],
   "source": [
    "def plu_fact(A: np.ndarray, epsilon: float=1e-15) -> tuple[np.ndarray, np.ndarray, np.ndarray]:\n",
    "    \"\"\" \n",
    "    PLU decomposition of a square matrix A\n",
    "\n",
    "    Example\n",
    "    --------\n",
    "    >>> A = np.array([[0., -1., 4.], [2., 1., 1.], [1., 1., -2.]])\n",
    "    >>> plu_fact(A)\n",
    "    (array([[ 0. , 1. , 0.],\n",
    "            [ 1. , 0. , 0.],\n",
    "            [ 0. , 0. , 1.]]),\n",
    "    array([[ 1. ,  0. ,  0. ],\n",
    "           [ 0. ,  1. ,  0. ],\n",
    "           [ 0.5, -0.5,  1. ]]),\n",
    "    array([[ 2. ,  1. ,  1. ],\n",
    "           [ 0. , -1. ,  4. ],\n",
    "           [ 0. ,  0. , -0.5]]))\n",
    "\n",
    "    Parameters\n",
    "    ----------\n",
    "    A (ndarray) : nxn coefficient matrix\n",
    "\n",
    "    Returns\n",
    "    -------\n",
    "    P (ndarray) : Permutation matrix\n",
    "    L (ndarray) : Lower triangular matrix\n",
    "    U (ndarray) : Upper triangular matrix\n",
    "    \"\"\"\n",
    "    m, n = np.shape(A)\n",
    "    if m != n:\n",
    "        raise InvalidInputMatrix('The matrix is not square.')\n",
    "    P = np.eye(n)\n",
    "    L = np.zeros((n, n))\n",
    "    U = np.copy(A)\n",
    "    for j in range(n-1):\n",
    "        index = max_index(U[:,j], j)\n",
    "        if abs(U[index, j]) < epsilon:\n",
    "            raise InvalidInputMatrix('The matrix is non invertible.')\n",
    "        P = swap_rows(P, j, index)\n",
    "        L = swap_rows(L, j, index)\n",
    "        U = swap_rows(U, j, index)\n",
    "        for i in range(j+1,n):\n",
    "            L[i,j] = (U[i,j])/(U[j,j])\n",
    "            U[i] = U[i] - L[i,j]*U[j]\n",
    "    L = L + np.eye(n)\n",
    "    return P, L, U"
   ]
  },
  {
   "cell_type": "markdown",
   "metadata": {},
   "source": [
    "Los sistemas a resolver son\n",
    "$$\\mathbf{Ly=P^Tb}$$\n",
    "$$\\mathbf{\\mathbf{Ux=y}}$$"
   ]
  },
  {
   "cell_type": "code",
   "execution_count": 9,
   "metadata": {},
   "outputs": [],
   "source": [
    "def solve_sle_plu(A: np.ndarray, b: np.ndarray, epsilon: float=1e-15) -> np.ndarray:\n",
    "    \"\"\"\n",
    "    Solves the system of linear equations Ax = b using PLU factorization\n",
    "\n",
    "    Example\n",
    "    --------\n",
    "    >>> A = np.array([[0., -1., 4.], [2., 1., 1.], [1., 1., -2.]])\n",
    "    >>> b = np.array([1., 2., 3.])\n",
    "    >>> solve_sle_plu(A, b)\n",
    "    array([[ 14.],\n",
    "           [-21.],\n",
    "           [ -5.]])\n",
    "\n",
    "    Parameters\n",
    "    ----------\n",
    "    A (ndarray) : nxn coefficient matrix\n",
    "    b (ndarray) : nx1 constant matrix\n",
    "\n",
    "    Returns\n",
    "    -------\n",
    "    x (ndarray) : nx1 solution vector\n",
    "    \"\"\"\n",
    "    m, n = np.shape(A)\n",
    "    if m != n:\n",
    "        raise InvalidInputMatrix(\"Matrix A is not square\")\n",
    "    n = np.size(b)\n",
    "    if n != m:\n",
    "        raise InvalidInputMatrix(\"Matrix A and vector b have incompatible dimensions\")\n",
    "    P, L, U = plu_fact(A, epsilon)\n",
    "    y = solve_lx_b(L, P.T@b)\n",
    "    x = solve_ux_b(U, y)\n",
    "    return x"
   ]
  },
  {
   "cell_type": "markdown",
   "metadata": {},
   "source": [
    "- Realiza lo mismo que en el inciso anterior suponiendo que A es simétrica y definida positiva, es decir, utiliza Cholesky para encontrar $A=LL^T$."
   ]
  },
  {
   "cell_type": "code",
   "execution_count": 21,
   "metadata": {},
   "outputs": [],
   "source": [
    "def cholesky_fact(A: np.ndarray, epsilon: float=1e-15) -> np.ndarray:\n",
    "    \"\"\" \n",
    "    Cholesky decomposition of a symmetric positive definite matrix A\n",
    "\n",
    "    Example\n",
    "    --------\n",
    "    >>> A = np.array([[4., -1., 1.], [-1., 4.25, 2.75], [1., 2.75, 3.5]])\n",
    "    >>> cholesky_fact(A)\n",
    "    array([[ 2. ,  0. ,  0. ],\n",
    "           [-0.5,  2. ,  0. ],\n",
    "           [ 0.5,  1.5,  1. ]])\n",
    "\n",
    "    Parameters\n",
    "    ----------\n",
    "    A (ndarray) : nxn coefficient matrix\n",
    "\n",
    "    Returns\n",
    "    -------\n",
    "    L (ndarray) : Lower triangular matrix\n",
    "    \"\"\"\n",
    "    if not np.allclose(A, A.T):\n",
    "        raise InvalidInputMatrix('The matrix is not symmetric.')\n",
    "    m, n = np.shape(A)\n",
    "    if m != n:\n",
    "        raise InvalidInputMatrix('The matrix is not square.')\n",
    "    L = np.zeros((n, n))\n",
    "    for j in range(n):\n",
    "        for i in range(j, n):\n",
    "            if i == j:\n",
    "                root = A[i, i] - np.sum(L[i,:j]**2)\n",
    "                if root < 0:\n",
    "                    raise InvalidInputMatrix('The matrix is non positive definite.')\n",
    "                root = np.sqrt(root)\n",
    "                if root < epsilon:\n",
    "                    raise InvalidInputMatrix('The matrix is non invertible.')\n",
    "                L[i, i] = root\n",
    "            elif i > j:\n",
    "                L[i, j] = (1/L[j, j])*(A[i, j] - np.sum(L[i,:j]*L[j,:j]))\n",
    "    return L"
   ]
  },
  {
   "cell_type": "markdown",
   "metadata": {},
   "source": [
    "Los sistemas a resolver son\n",
    "$$\\mathbf{Ly=b}$$\n",
    "$$\\mathbf{L^T=y}$$"
   ]
  },
  {
   "cell_type": "code",
   "execution_count": 22,
   "metadata": {},
   "outputs": [],
   "source": [
    "def solve_sle_cholesky(A: np.ndarray, b: np.ndarray) -> np.ndarray:\n",
    "    \"\"\"\n",
    "    Solves the system of linear equations Ax = b using Cholesky factorization\n",
    "\n",
    "    Example\n",
    "    --------\n",
    "    >>> A = np.array([[4., 12., -16.], [12., 37., -43.], [-16., -43., 98.]])\n",
    "    >>> b = np.array([1., 2., 3.])\n",
    "    >>> solve_sle_cholesky(A, b)\n",
    "    array([[28.58333333],\n",
    "          [-7.66666667],\n",
    "          [ 1.33333333]])\n",
    "\n",
    "    Parameters\n",
    "    ----------\n",
    "    A (ndarray) : nxn coefficient matrix\n",
    "    b (ndarray) : nx1 constant matrix\n",
    "\n",
    "    Returns\n",
    "    -------\n",
    "    x (ndarray) : nx1 solution vector\n",
    "    \"\"\"\n",
    "    m, n = np.shape(A)\n",
    "    if m != n:\n",
    "        raise InvalidInputMatrix(\"Matrix A is not square\")\n",
    "    n = np.size(b)\n",
    "    if n != m:\n",
    "        raise InvalidInputMatrix(\"Matrix A and vector b have incompatible dimensions\")\n",
    "    L = cholesky_fact(A)\n",
    "    y = solve_lx_b(L, b)\n",
    "    x = solve_ux_b(L.T, y)\n",
    "    return x"
   ]
  }
 ],
 "metadata": {
  "kernelspec": {
   "display_name": "Python 3",
   "language": "python",
   "name": "python3"
  },
  "language_info": {
   "codemirror_mode": {
    "name": "ipython",
    "version": 3
   },
   "file_extension": ".py",
   "mimetype": "text/x-python",
   "name": "python",
   "nbconvert_exporter": "python",
   "pygments_lexer": "ipython3",
   "version": "3.12.4"
  }
 },
 "nbformat": 4,
 "nbformat_minor": 2
}
