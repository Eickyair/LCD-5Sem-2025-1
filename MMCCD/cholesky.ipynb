{
 "cells": [
  {
   "cell_type": "markdown",
   "metadata": {},
   "source": [
    "# Factorización de Cholesky"
   ]
  },
  {
   "cell_type": "code",
   "execution_count": 1,
   "metadata": {},
   "outputs": [],
   "source": [
    "import numpy as np\n",
    "import matplotlib.pyplot as plt"
   ]
  },
  {
   "cell_type": "code",
   "execution_count": 2,
   "metadata": {},
   "outputs": [],
   "source": [
    "def cholesky(A, epsilon=1e-15):\n",
    "    m, n = np.shape(A)\n",
    "    if m != n: # La matriz no es cuadrada\n",
    "        return None\n",
    "    U = np.copy(A)\n",
    "    for i in range(n):\n",
    "        if abs(U[i,i]) < epsilon:\n",
    "            return None # La matriz no es definida positiva o no es invertible\n",
    "        for j in range(i+1, n):\n",
    "            U[j] = U[j] - U[i]*U[j,i]/U[i,i]\n",
    "        U[i] = U[i]/np.sqrt(U[i,i])\n",
    "    return U"
   ]
  },
  {
   "cell_type": "code",
   "execution_count": 3,
   "metadata": {},
   "outputs": [
    {
     "data": {
      "text/plain": [
       "array([[ 2. , -0.5,  0.5],\n",
       "       [ 0. ,  2. ,  1.5],\n",
       "       [ 0. ,  0. ,  1. ]])"
      ]
     },
     "execution_count": 3,
     "metadata": {},
     "output_type": "execute_result"
    }
   ],
   "source": [
    "A = np.array([[4., -1., 1.], [-1., 4.25, 2.75], [1., 2.75, 3.5]])\n",
    "U = cholesky(A)\n",
    "U"
   ]
  },
  {
   "cell_type": "code",
   "execution_count": 4,
   "metadata": {},
   "outputs": [
    {
     "data": {
      "text/plain": [
       "array([[ 4.  , -1.  ,  1.  ],\n",
       "       [-1.  ,  4.25,  2.75],\n",
       "       [ 1.  ,  2.75,  3.5 ]])"
      ]
     },
     "execution_count": 4,
     "metadata": {},
     "output_type": "execute_result"
    }
   ],
   "source": [
    "U.T @ U"
   ]
  },
  {
   "cell_type": "markdown",
   "metadata": {},
   "source": [
    "### Otra versión"
   ]
  },
  {
   "cell_type": "code",
   "execution_count": 5,
   "metadata": {},
   "outputs": [],
   "source": [
    "def cholesky_v2(A, epsilon=1e-15):\n",
    "    m, n = np.shape(A)\n",
    "    if m != n: # La matriz no es cuadrada\n",
    "        return None\n",
    "    L = np.zeros((n, n))\n",
    "    for j in range(n):\n",
    "        for i in range(j, n):\n",
    "            if i == j:\n",
    "                root = A[i, i] - np.sum(L[i,:j]**2)\n",
    "                if root < 0:\n",
    "                    return None # La matriz no es definida positiva\n",
    "                root = np.sqrt(root)\n",
    "                if root < epsilon:\n",
    "                    return None # La matriz no es invertible\n",
    "                L[i, i] = root\n",
    "            elif i > j:\n",
    "                L[i, j] = (1/L[j, j])*(A[i, j] - np.sum(L[i,:j]*L[j,:j]))\n",
    "    return L"
   ]
  },
  {
   "cell_type": "code",
   "execution_count": 6,
   "metadata": {},
   "outputs": [
    {
     "data": {
      "text/plain": [
       "array([[ 2. ,  0. ,  0. ],\n",
       "       [-0.5,  2. ,  0. ],\n",
       "       [ 0.5,  1.5,  1. ]])"
      ]
     },
     "execution_count": 6,
     "metadata": {},
     "output_type": "execute_result"
    }
   ],
   "source": [
    "A = np.array([[4., -1., 1.], [-1., 4.25, 2.75], [1., 2.75, 3.5]])\n",
    "L = cholesky_v2(A)\n",
    "L"
   ]
  },
  {
   "cell_type": "code",
   "execution_count": 7,
   "metadata": {},
   "outputs": [
    {
     "data": {
      "text/plain": [
       "array([[ 4.  , -1.  ,  1.  ],\n",
       "       [-1.  ,  4.25,  2.75],\n",
       "       [ 1.  ,  2.75,  3.5 ]])"
      ]
     },
     "execution_count": 7,
     "metadata": {},
     "output_type": "execute_result"
    }
   ],
   "source": [
    "L @ L.T"
   ]
  },
  {
   "cell_type": "code",
   "execution_count": 8,
   "metadata": {},
   "outputs": [
    {
     "data": {
      "text/plain": [
       "np.float64(6.355287432313019e-14)"
      ]
     },
     "execution_count": 8,
     "metadata": {},
     "output_type": "execute_result"
    }
   ],
   "source": [
    "M = 20 # M: Máximo valor de la distribución\n",
    "A = M*np.random.rand(3,3)\n",
    "B = A.T @ A\n",
    "U = cholesky(B)\n",
    "np.linalg.norm(B - U.T@U)"
   ]
  },
  {
   "cell_type": "code",
   "execution_count": 9,
   "metadata": {},
   "outputs": [
    {
     "data": {
      "text/plain": [
       "np.float64(1.797546735911271e-13)"
      ]
     },
     "execution_count": 9,
     "metadata": {},
     "output_type": "execute_result"
    }
   ],
   "source": [
    "L = cholesky_v2(B)\n",
    "np.linalg.norm(B - L@L.T)"
   ]
  },
  {
   "cell_type": "code",
   "execution_count": 10,
   "metadata": {},
   "outputs": [],
   "source": [
    "errores_v1 = []\n",
    "enes = list(range(3,301,3))\n",
    "for n in enes:\n",
    "    M = 20 # M: Máximo valor de la distribución\n",
    "    A = M*np.random.rand(n,n)\n",
    "    B = A.T @ A\n",
    "    U = cholesky(B)\n",
    "    errores_v1.append(np.linalg.norm(B - U.T@U))"
   ]
  },
  {
   "cell_type": "code",
   "execution_count": 11,
   "metadata": {},
   "outputs": [],
   "source": [
    "errores_v2 = []\n",
    "for n in enes:\n",
    "    M = 20 # M: Máximo valor de la distribución\n",
    "    A = M*np.random.rand(n,n)\n",
    "    B = A.T @ A\n",
    "    L = cholesky_v2(B)\n",
    "    errores_v2.append(np.linalg.norm(B - L@L.T))"
   ]
  },
  {
   "cell_type": "code",
   "execution_count": 12,
   "metadata": {},
   "outputs": [
    {
     "data": {
      "text/plain": [
       "<matplotlib.legend.Legend at 0x1ce5e5fa060>"
      ]
     },
     "execution_count": 12,
     "metadata": {},
     "output_type": "execute_result"
    },
    {
     "data": {
      "image/png": "[encoded data removed]",
      "text/plain": [
       "<Figure size 640x480 with 1 Axes>"
      ]
     },
     "metadata": {},
     "output_type": "display_data"
    }
   ],
   "source": [
    "plt.plot(enes, errores_v1, 'b--o', label='v1')\n",
    "plt.plot(enes, errores_v2, 'r--o', label='v2')\n",
    "plt.xlabel('Dimensión de la matriz (n)')\n",
    "plt.ylabel('Error')\n",
    "plt.title('Error de la factorización de Cholesky')\n",
    "plt.grid(alpha=0.4)\n",
    "plt.legend()"
   ]
  }
 ],
 "metadata": {
  "kernelspec": {
   "display_name": "Python 3",
   "language": "python",
   "name": "python3"
  },
  "language_info": {
   "codemirror_mode": {
    "name": "ipython",
    "version": 3
   },
   "file_extension": ".py",
   "mimetype": "text/x-python",
   "name": "python",
   "nbconvert_exporter": "python",
   "pygments_lexer": "ipython3",
   "version": "3.12.4"
  }
 },
 "nbformat": 4,
 "nbformat_minor": 2
}
