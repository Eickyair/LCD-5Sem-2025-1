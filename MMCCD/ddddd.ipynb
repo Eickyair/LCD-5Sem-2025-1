{
 "cells": [
  {
   "cell_type": "code",
   "execution_count": 40,
   "metadata": {},
   "outputs": [],
   "source": [
    "import numpy as np"
   ]
  },
  {
   "cell_type": "code",
   "execution_count": 41,
   "metadata": {},
   "outputs": [],
   "source": [
    "def solve_sle_jacobi(A: np.ndarray, b: np.ndarray, x0: np.ndarray, epsilon: float, i_max: int) -> np.ndarray:\n",
    "    \"\"\"\n",
    "    Solves the system of linear equations Ax = b using Jacobi method\n",
    "\n",
    "    Example\n",
    "    --------\n",
    "    >>> A = np.array([[10, 1, 2], [4, 6, -1], [-2, 3, 8]], dtype=float)\n",
    "    >>> b = np.array([[3, 9, 51]], dtype=float).T\n",
    "    >>> x0 = np.array([[3/10, 9/6, 51/8]], dtype=float).T\n",
    "    >>> solve_sle_jacobi(A, b, x0, 1e-8, 100)\n",
    "    array([[-1.],\n",
    "           [ 3.],\n",
    "           [ 5.]])\n",
    "\n",
    "    Parameters\n",
    "    ----------\n",
    "    A (ndarray) : nxn coefficient matrix\n",
    "    b (ndarray) : nx1 constant matrix\n",
    "    x0 (ndarray) : nx1 initial guess\n",
    "    epsilon (float) : tolerance\n",
    "    i_max (int) : maximum number of iterations\n",
    "\n",
    "    Returns\n",
    "    -------\n",
    "    x (ndarray) : nx1 solution vector\n",
    "    \"\"\"\n",
    "    m, n = np.shape(A)\n",
    "    x = np.copy(x0)\n",
    "    for k in range(i_max):\n",
    "        x = np.concatenate((x, np.zeros((n, 1))), axis=1) # To store the values of x at each iteration\n",
    "        for i in range(n):\n",
    "            # if not abs(A[i,i]) > sum(abs(A[i,j]) for j in range(n) if i != j):\n",
    "                # raise InvalidInputMatrix(\"The matrix is not diagonally dominant\")\n",
    "            sum_x = 0\n",
    "            for j in range(n):\n",
    "                if i != j:\n",
    "                    sum_x += A[i, j] * x[j, k]\n",
    "            x[i, k+1] = 1/A[i, i]*(b[i,0]-sum_x)\n",
    "        verror = np.linalg.norm(x[:,k+1]-x[:,k])\n",
    "        if verror < epsilon:\n",
    "            return x[:, k+1][:, None]\n",
    "    return x[:, i_max][:, None]"
   ]
  },
  {
   "cell_type": "markdown",
   "metadata": {},
   "source": [
    "- Genera una matriz $\\mathbf{A}\\in \\mathbb{R}^{100 \\times 100}$ de forma aleatoria en Python y utilizando la función de numpy para factorización QR, obtén la matriz $\\mathbf{Q}$ de la factorización $\\mathbf{A=QR}$."
   ]
  },
  {
   "cell_type": "code",
   "execution_count": 42,
   "metadata": {},
   "outputs": [
    {
     "name": "stdout",
     "output_type": "stream",
     "text": [
      "[[0.64615898 0.09264093 0.87047399 0.3957063 ]\n",
      " [0.7895208  0.96121817 0.53150696 0.37770392]\n",
      " [0.54833551 0.91200666 0.61301375 0.86000806]\n",
      " [0.29374581 0.28313332 0.66871445 0.62876185]]\n",
      "[[-0.54075707  0.79224033 -0.03126729 -0.28099716]\n",
      " [-0.66073361 -0.27190751  0.54002423  0.4448272 ]\n",
      " [-0.45889063 -0.54622471 -0.32518242 -0.62073695]\n",
      " [-0.24582979  0.00775443 -0.77566267  0.58125296]]\n"
     ]
    }
   ],
   "source": [
    "A = np.random.rand(4,4)\n",
    "Q, _ = np.linalg.qr(A)\n",
    "print(A)\n",
    "print(Q)"
   ]
  },
  {
   "cell_type": "markdown",
   "metadata": {},
   "source": [
    "- Define una matriz diagonal $\\mathbf{D}$, tal que $d_{ii}>d_{(i+1)(i+1)}$ y $d_{11}<1$."
   ]
  },
  {
   "cell_type": "code",
   "execution_count": 43,
   "metadata": {},
   "outputs": [],
   "source": [
    "def gen_d(n: int=100) -> np.ndarray:\n",
    "    \"\"\"\n",
    "    Generates a diagonal matrix D with random values\n",
    "    \"\"\"\n",
    "    D = np.zeros((n,n))\n",
    "    D[0,0] = np.random.random() # D[0,0] < 1\n",
    "    for i in range(n-1):\n",
    "        D[i+1,i+1] = (np.random.random())*D[i,i] # D[i,i] > D[i+1,i+1]\n",
    "    return D"
   ]
  },
  {
   "cell_type": "code",
   "execution_count": 44,
   "metadata": {},
   "outputs": [
    {
     "data": {
      "text/plain": [
       "array([[0.32189289, 0.        , 0.        , 0.        ],\n",
       "       [0.        , 0.0869225 , 0.        , 0.        ],\n",
       "       [0.        , 0.        , 0.06512773, 0.        ],\n",
       "       [0.        , 0.        , 0.        , 0.05431774]])"
      ]
     },
     "execution_count": 44,
     "metadata": {},
     "output_type": "execute_result"
    }
   ],
   "source": [
    "D = gen_d(4)\n",
    "D"
   ]
  },
  {
   "cell_type": "markdown",
   "metadata": {},
   "source": [
    "- Con la matriz $\\mathbf{Q}$ y la matriz $\\mathbf{D}$, define una nueva matriz $$\\mathbf{M=QDQ^T}$$ Como $\\rho(M)<1$, se puede aproximar la solución a la ecuación $\\mathbf{Mx=b}$ con Jacobi y Gauss-Seidel."
   ]
  },
  {
   "cell_type": "code",
   "execution_count": 45,
   "metadata": {},
   "outputs": [
    {
     "data": {
      "text/plain": [
       "array([[0.15303636, 0.08839751, 0.05239882, 0.03603236],\n",
       "       [0.08839751, 0.1766958 , 0.08407422, 0.0388649 ],\n",
       "       [0.05239882, 0.08407422, 0.12153497, 0.0327734 ],\n",
       "       [0.03603236, 0.0388649 , 0.0327734 , 0.07699374]])"
      ]
     },
     "execution_count": 45,
     "metadata": {},
     "output_type": "execute_result"
    }
   ],
   "source": [
    "M = Q@D@Q.T\n",
    "M"
   ]
  },
  {
   "cell_type": "code",
   "execution_count": 46,
   "metadata": {},
   "outputs": [
    {
     "name": "stdout",
     "output_type": "stream",
     "text": [
      "Row 0: 0.1768286912863266\n",
      "|M[(0, 0)]|=0.15303636367148327 Puede no converger \n",
      "Row 1: 0.21133662900286937\n",
      "|M[(1, 1)]|=0.17669579509236868 Puede no converger \n",
      "Row 2: 0.16924643941351436\n",
      "|M[(2, 2)]|=0.12153497118945056 Puede no converger \n",
      "Row 3: 0.10767066327908373\n",
      "|M[(3, 3)]|=0.0769937364435238 Puede no converger \n"
     ]
    }
   ],
   "source": [
    "# Condicion suficiente de convergencia\n",
    "for i in range(4):\n",
    "    print(f'Row {i}: {sum(abs(M[i,j]) for j in range(4) if j != i)}')\n",
    "    if not abs(M[i,i]) > sum(abs(M[i,j]) for j in range(4) if j != i):\n",
    "            print(f'|M[{i,i}]|={abs(M[i,i])} Puede no converger ')"
   ]
  },
  {
   "cell_type": "code",
   "execution_count": 47,
   "metadata": {},
   "outputs": [],
   "source": [
    "# Condicion necesaria de convergencia\n",
    "for i in range(4):\n",
    "    for j in range(4):\n",
    "        if not abs(M[i,i]) > abs(M[i,j]) and i != j:\n",
    "            print(f'No converge: |M[{i,j}]| > |M[{i,i}]|')"
   ]
  },
  {
   "cell_type": "markdown",
   "metadata": {},
   "source": [
    "- Genera un vector $\\mathbf{x}$ y $\\mathbf{b}$ como en el ejercicio 1(e), utilizando $\\mathbf{M}$ en lugar de $\\mathbf{A}$."
   ]
  },
  {
   "cell_type": "code",
   "execution_count": 48,
   "metadata": {},
   "outputs": [],
   "source": [
    "x_s = np.array([[i+1 for i in range(4)]], dtype=float).T\n",
    "b = M@x_s"
   ]
  },
  {
   "cell_type": "code",
   "execution_count": 49,
   "metadata": {},
   "outputs": [],
   "source": [
    "x_jacobi = solve_sle_jacobi(M, b, np.zeros((4,1)), 1e-8, 100)"
   ]
  },
  {
   "cell_type": "code",
   "execution_count": 50,
   "metadata": {},
   "outputs": [
    {
     "data": {
      "text/plain": [
       "array([-3.73491477e+10, -3.85324878e+10, -4.30731954e+10, -4.36531157e+10])"
      ]
     },
     "execution_count": 50,
     "metadata": {},
     "output_type": "execute_result"
    }
   ],
   "source": [
    "x_jacobi.flatten()"
   ]
  }
 ],
 "metadata": {
  "kernelspec": {
   "display_name": "Python 3",
   "language": "python",
   "name": "python3"
  },
  "language_info": {
   "codemirror_mode": {
    "name": "ipython",
    "version": 3
   },
   "file_extension": ".py",
   "mimetype": "text/x-python",
   "name": "python",
   "nbconvert_exporter": "python",
   "pygments_lexer": "ipython3",
   "version": "3.12.6"
  }
 },
 "nbformat": 4,
 "nbformat_minor": 2
}
