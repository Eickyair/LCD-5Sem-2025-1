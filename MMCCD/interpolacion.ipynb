{
 "cells": [
  {
   "cell_type": "code",
   "execution_count": 97,
   "metadata": {},
   "outputs": [],
   "source": [
    "import numpy as np\n",
    "import matplotlib.pyplot as plt"
   ]
  },
  {
   "cell_type": "markdown",
   "metadata": {},
   "source": [
    "PLU"
   ]
  },
  {
   "cell_type": "code",
   "execution_count": 98,
   "metadata": {},
   "outputs": [],
   "source": [
    "def Perm_Row(A, i, j):\n",
    "    B = np.copy(A)\n",
    "    A[i], A[j] = B[j], B[i]\n",
    "    return A\n",
    "\n",
    "def Ind_max(A, ind):\n",
    "    return np.argmax(np.abs(A[:, ind][ind:]))+ind\n",
    "\n",
    "def PLU(A):\n",
    "    m, n = np.shape(A)\n",
    "    P = np.eye(n)\n",
    "    L = np.zeros((n, n))\n",
    "    U = np.copy(A)\n",
    "    if m != n:\n",
    "        return print(\"La matriz no es cuadrada.\")\n",
    "    for j in range(n-1):\n",
    "        index = Ind_max(U, j)\n",
    "        L = Perm_Row(L, j, index)\n",
    "        U = Perm_Row(U, index, j)\n",
    "        P = Perm_Row(P, index, j)\n",
    "        for i in range(j+1, n):\n",
    "            L[i][j] = U[i][j]/U[j][j]\n",
    "            U[i] = U[i] - L[i][j]*U[j]\n",
    "    L += np.eye(n)\n",
    "    return P, L, U\n",
    "\n",
    "def Solv_L(L, b):\n",
    "    n = len(b)\n",
    "    y = np.zeros(n)\n",
    "    for i in range(n):\n",
    "        y[i] = b[i]\n",
    "        for k in range(i):\n",
    "            y[i] -= L[i][k]*y[k]\n",
    "        y[i] = y[i]/L[i][i]\n",
    "    return y\n",
    "\n",
    "def Solv_U(U, b):\n",
    "    n = len(b)\n",
    "    y = np.zeros(n)\n",
    "    for i in range(n-1, -1, -1):\n",
    "        y[i] = b[i]\n",
    "        for k in range(i+1, n):\n",
    "            y[i] -= U[i][k]*y[k]\n",
    "        y[i] = y[i]/U[i][i]\n",
    "    return y\n",
    "\n",
    "def Solv_PLU(A, b):\n",
    "    P, L, U = PLU(A)\n",
    "    b = P@b\n",
    "    y = Solv_L(L, b)\n",
    "    x = Solv_U(U, y)\n",
    "    return x"
   ]
  },
  {
   "cell_type": "markdown",
   "metadata": {},
   "source": [
    "Vandermonde"
   ]
  },
  {
   "cell_type": "markdown",
   "metadata": {},
   "source": [
    "Datos $\\in \\mathbb{R}^{m \\times 2}$\n",
    "\n",
    "Datos $[:,0] =X$\n",
    "\n",
    "Datos $[:,1] =y$ "
   ]
  },
  {
   "cell_type": "markdown",
   "metadata": {},
   "source": [
    "$V^TVa = V^T y $\n",
    "\n",
    "$ Va = y$"
   ]
  },
  {
   "cell_type": "code",
   "execution_count": 99,
   "metadata": {},
   "outputs": [],
   "source": [
    "def vandermonde(X, grado): # m = grado + 1\n",
    "    m = len(X)\n",
    "    V = np.zeros((m, grado+1))\n",
    "    V[:,0] = np.ones(m)\n",
    "    for i in range(1, grado+1):\n",
    "        V[:,i] = X**i\n",
    "    return V"
   ]
  },
  {
   "cell_type": "markdown",
   "metadata": {},
   "source": [
    "$P(x)=\\sum_{k=0}^{\\text{grado}}a_x x^k$"
   ]
  },
  {
   "cell_type": "code",
   "execution_count": 100,
   "metadata": {},
   "outputs": [],
   "source": [
    "def coef_pol(datos, grado):\n",
    "    V = vandermonde(datos[:,0], grado)\n",
    "    a = Solv_PLU(V.T@V, V.T@datos[:,1])\n",
    "    return a"
   ]
  },
  {
   "cell_type": "markdown",
   "metadata": {},
   "source": [
    "$f(x) = pol\\_eval(a, x)$"
   ]
  },
  {
   "cell_type": "code",
   "execution_count": 101,
   "metadata": {},
   "outputs": [],
   "source": [
    "def pol_eval(a, x):\n",
    "    suma=0\n",
    "    m = len(a)\n",
    "    for i in range(m):\n",
    "        suma += a[i]*x**i\n",
    "    return suma"
   ]
  },
  {
   "cell_type": "code",
   "execution_count": 102,
   "metadata": {},
   "outputs": [],
   "source": [
    "def gen_puntos(a, b, f):\n",
    "    x = np.linspace(a, b, 4)\n",
    "    y = f(x)\n",
    "    datos = np.vstack((x, y)).T\n",
    "    return datos"
   ]
  },
  {
   "cell_type": "markdown",
   "metadata": {},
   "source": [
    "Método de Simpson\n",
    "\n",
    "$\\int_a^b f \\approx \\int_a^b P$, donde\n",
    "\n",
    "$P(x) = \\sum_{k=0}^3 a_k x^k = a_0 + a_1x + a_2 x^2 + a_3 x^3$\n",
    "\n",
    "es el polinomio que interpola a $f$ en los puntos $a, \\frac{b-a}{3}, \\frac{2}{3}(b-a), b$\n",
    "\n",
    "$\\int_a^b f = a_0(b-a) + \\frac{a_1}{2}(b^2-a^2) + \\frac{a_2}{3}(b^3-a^3) + \\frac{a_3}{4}(b^4-a^4)$"
   ]
  },
  {
   "cell_type": "code",
   "execution_count": 103,
   "metadata": {},
   "outputs": [],
   "source": [
    "def int_simpson(a, b, f):\n",
    "    datos = gen_puntos(a, b, f)\n",
    "    c = coef_pol(datos, 3)\n",
    "    suma = 0\n",
    "    for i in range(4):\n",
    "        suma += c[i] * (b**(i+1) - a**(i+1))/(i+1)\n",
    "    return suma"
   ]
  },
  {
   "cell_type": "markdown",
   "metadata": {},
   "source": [
    "Simpson compuesto\n",
    "\n",
    "$ \\{ a = t_0, t_1, ..., t_n \\} $\n",
    "\n",
    "$\\int_b^a f \\approx \\sum_{k=1}^{n} \\int_{t_{i-1}}^{t_i} P_i$,\n",
    "\n",
    "donde $P_i$ es el polinomio de grado 3 que interpola a $f$ en el intervalo $[t_{i-1}, t_i]$."
   ]
  },
  {
   "cell_type": "code",
   "execution_count": 104,
   "metadata": {},
   "outputs": [],
   "source": [
    "def int_simpson_comp(a, b, f, n):\n",
    "    part = np.linspace(a, b, n+1)\n",
    "    suma = 0\n",
    "    for i in range(n):\n",
    "        suma += int_simpson(part[i], part[i+1], f)\n",
    "    return suma"
   ]
  },
  {
   "cell_type": "markdown",
   "metadata": {},
   "source": [
    "Ejemplo:\n",
    "\n",
    "$f(x) = e^{-x^2}$ \n",
    "\n",
    "$\\int_{- \\infty}^{\\infty}f=\\sqrt{\\pi}$\n",
    "\n",
    "$\\int_{- \\infty}^{\\infty}f= \\int_{-m}^{m}f$"
   ]
  },
  {
   "cell_type": "code",
   "execution_count": 105,
   "metadata": {},
   "outputs": [],
   "source": [
    "def f(x):\n",
    "    return np.e ** (-(x**2))"
   ]
  },
  {
   "cell_type": "code",
   "execution_count": 106,
   "metadata": {},
   "outputs": [],
   "source": [
    "I = int_simpson_comp(-10, 10, f, 100) # Variar m"
   ]
  },
  {
   "cell_type": "markdown",
   "metadata": {},
   "source": [
    "$\\text{Error}=|\\sqrt{\\pi} - \\int_{-m}^{m}f|$"
   ]
  },
  {
   "cell_type": "code",
   "execution_count": 107,
   "metadata": {},
   "outputs": [
    {
     "name": "stdout",
     "output_type": "stream",
     "text": [
      "El valor de la integral es:  1.7724538509051666\n",
      "El error es:  3.4927616354707425e-13\n"
     ]
    }
   ],
   "source": [
    "error = np.abs(I - np.sqrt(np.pi))\n",
    "print(\"El valor de la integral es: \", I)\n",
    "print(\"El error es: \", error)"
   ]
  },
  {
   "cell_type": "markdown",
   "metadata": {},
   "source": [
    "Ejemplo:\n",
    "\n",
    "$\\ln (x) = \\int_1^x \\frac{1}{t} dt$"
   ]
  },
  {
   "cell_type": "code",
   "execution_count": 108,
   "metadata": {},
   "outputs": [],
   "source": [
    "def f2(t):\n",
    "    return 1/t"
   ]
  },
  {
   "cell_type": "code",
   "execution_count": 109,
   "metadata": {},
   "outputs": [],
   "source": [
    "def log_exp(x):\n",
    "    return int_simpson_comp(1, x, f2, 400)"
   ]
  },
  {
   "cell_type": "markdown",
   "metadata": {},
   "source": [
    "Grafica"
   ]
  },
  {
   "cell_type": "code",
   "execution_count": 110,
   "metadata": {},
   "outputs": [],
   "source": [
    "equises = np.linspace(1.1, 100, 100)\n",
    "yes = np.log(equises)\n",
    "yes2 = []\n",
    "for x in equises:\n",
    "    yes2.append(log_exp(x))"
   ]
  },
  {
   "cell_type": "code",
   "execution_count": 111,
   "metadata": {},
   "outputs": [
    {
     "data": {
      "image/png": "[encoded data removed]",
      "text/plain": [
       "<Figure size 1000x800 with 2 Axes>"
      ]
     },
     "metadata": {},
     "output_type": "display_data"
    }
   ],
   "source": [
    "import matplotlib.pyplot as plt\n",
    "\n",
    "# Create a figure and two subplots\n",
    "fig, (ax1, ax2) = plt.subplots(2, 1, figsize=(10, 8))\n",
    "\n",
    "# Plot the first graph on the first subplot\n",
    "ax1.plot(equises, yes, label=\"ln(x)\")\n",
    "ax1.legend()\n",
    "ax1.set_title(\"ln(x)\")\n",
    "\n",
    "# Plot the second graph on the second subplot\n",
    "ax2.plot(equises, yes2, label=\"Integral de 1/t\")\n",
    "ax2.legend()\n",
    "ax2.set_title(\"Integral de 1/t\")\n",
    "\n",
    "# Display the subplots\n",
    "plt.tight_layout()\n",
    "plt.show()"
   ]
  },
  {
   "cell_type": "markdown",
   "metadata": {},
   "source": [
    "Ejemplo:\n",
    "\n",
    "$\\rho(x) = \\frac{1}{\\sqrt{4\\pi}}e^{-\\frac{(x-\\mu)^2}{2}}$\n",
    "\n",
    "$\\int_a^b \\rho(x) dx = P(x) \\text{ en } [a,b]$"
   ]
  },
  {
   "cell_type": "markdown",
   "metadata": {},
   "source": [
    "$\\mu = 0, \\sigma = 1$\n",
    "\n",
    "$min(sample) = a$\n",
    "\n",
    "$max(sample) = b$\n",
    "\n",
    "$\\int_a^\\mu \\rho = 0.5$"
   ]
  },
  {
   "cell_type": "markdown",
   "metadata": {},
   "source": [
    "$y_i = frecuencia en [t_{i-1}, t_i]$\n",
    "\n",
    "$X = linspace(a,b,51)$"
   ]
  },
  {
   "cell_type": "code",
   "execution_count": 115,
   "metadata": {},
   "outputs": [
    {
     "data": {
      "image/png": "[encoded data removed]",
      "text/plain": [
       "<Figure size 640x480 with 1 Axes>"
      ]
     },
     "metadata": {},
     "output_type": "display_data"
    }
   ],
   "source": [
    "sample = np.random.normal(size=1000)\n",
    "y, X = np.histogram(sample, bins=50)\n",
    "plt.stairs(y, X, fill=True)\n",
    "plt.show()"
   ]
  },
  {
   "cell_type": "code",
   "execution_count": null,
   "metadata": {},
   "outputs": [],
   "source": [
    "def gen_puntos_2(a, b, f):\n",
    "    x = np.linspace(a, b, 4)\n",
    "    y = f(x)\n",
    "    datos = np.vstack((x, y)).T\n",
    "    return datos"
   ]
  }
 ],
 "metadata": {
  "kernelspec": {
   "display_name": "base",
   "language": "python",
   "name": "python3"
  },
  "language_info": {
   "codemirror_mode": {
    "name": "ipython",
    "version": 3
   },
   "file_extension": ".py",
   "mimetype": "text/x-python",
   "name": "python",
   "nbconvert_exporter": "python",
   "pygments_lexer": "ipython3",
   "version": "3.12.3"
  }
 },
 "nbformat": 4,
 "nbformat_minor": 2
}
