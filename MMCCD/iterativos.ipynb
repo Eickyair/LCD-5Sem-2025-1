{
 "cells": [
  {
   "cell_type": "markdown",
   "metadata": {},
   "source": [
    "# Jacobi"
   ]
  },
  {
   "cell_type": "code",
   "execution_count": 1,
   "metadata": {},
   "outputs": [],
   "source": [
    "import numpy as np"
   ]
  },
  {
   "cell_type": "code",
   "execution_count": 25,
   "metadata": {},
   "outputs": [],
   "source": [
    "def jacobi(A, b, x0, epsilon, kmax):\n",
    "    x = np.copy(x0)\n",
    "    for k in range(kmax):\n",
    "        x = np.concatenate((x, np.zeros((len(x0), 1))), axis=1)\n",
    "        for i in range(len(x0)):\n",
    "            sum_x = 0\n",
    "            for j in range(len(x0)):\n",
    "                if i != j:\n",
    "                    sum_x += A[i, j] * x[j,k]\n",
    "            x[i, k+1] = 1/A[i, i]*(-sum_x+b[i,0])\n",
    "        verror = np.linalg.norm(x[:,k+1]-x[:,k]) # Check\n",
    "        if verror < epsilon:\n",
    "            return x[:, k+1]\n",
    "    return x[:, kmax]"
   ]
  },
  {
   "cell_type": "code",
   "execution_count": 26,
   "metadata": {},
   "outputs": [
    {
     "data": {
      "text/plain": [
       "array([[ 9., -2., -1.,  0.,  3.],\n",
       "       [ 0.,  7.,  3., -1.,  0.],\n",
       "       [ 1., -2.,  8.,  2., -1.],\n",
       "       [ 1., -3.,  1.,  9., -1.],\n",
       "       [ 4., -1.,  2., -2., 10.]])"
      ]
     },
     "execution_count": 26,
     "metadata": {},
     "output_type": "execute_result"
    }
   ],
   "source": [
    "A = np.array([[9., -2., -1., 0., 3.], [0., 7., 3., -1., 0.], [1., -2., 8., 2., -1.],[1., -3., 1., 9., -1.], [4., -1., 2., -2., 10.]])\n",
    "A"
   ]
  },
  {
   "cell_type": "code",
   "execution_count": 27,
   "metadata": {},
   "outputs": [
    {
     "data": {
      "text/plain": [
       "array([[21.],\n",
       "       [ 0.],\n",
       "       [17.],\n",
       "       [-3.],\n",
       "       [25.]])"
      ]
     },
     "execution_count": 27,
     "metadata": {},
     "output_type": "execute_result"
    }
   ],
   "source": [
    "b = np.array([[21., 0., 17., -3., 25.]]).T\n",
    "b"
   ]
  },
  {
   "cell_type": "code",
   "execution_count": 28,
   "metadata": {},
   "outputs": [
    {
     "data": {
      "text/plain": [
       "array([[1.],\n",
       "       [1.],\n",
       "       [0.],\n",
       "       [1.],\n",
       "       [1.]])"
      ]
     },
     "execution_count": 28,
     "metadata": {},
     "output_type": "execute_result"
    }
   ],
   "source": [
    "x_0 = np.array([[1., 1., 0., 1., 1.]]).T\n",
    "x_0"
   ]
  },
  {
   "cell_type": "code",
   "execution_count": 31,
   "metadata": {},
   "outputs": [
    {
     "data": {
      "text/plain": [
       "array([ 2., -1.,  2., -1.,  1.])"
      ]
     },
     "execution_count": 31,
     "metadata": {},
     "output_type": "execute_result"
    }
   ],
   "source": [
    "sol_j = jacobi(A, b, x_0, 1e-8, 50)\n",
    "sol_j"
   ]
  },
  {
   "cell_type": "markdown",
   "metadata": {},
   "source": [
    "# Gauss-Seidel"
   ]
  },
  {
   "cell_type": "code",
   "execution_count": 67,
   "metadata": {},
   "outputs": [],
   "source": [
    "def gauss_seidel(A, b, x0, epsilon, kmax):\n",
    "    x = np.copy(x0)\n",
    "    for k in range(kmax):\n",
    "        x = np.concatenate((x, np.zeros((len(x0), 1))), axis=1)\n",
    "        for i in range(len(x0)):\n",
    "            sum_1, sum_2 = 0, 0\n",
    "            for j in range(i):\n",
    "                sum_1 += A[i, j] * x[j,k+1]\n",
    "            for j in range(i+1, len(x0)):\n",
    "                sum_2 += A[i, j] * x[j,k]\n",
    "            x[i, k+1] = 1/A[i, i]*(-sum_1-sum_2+b[i,0])\n",
    "        verror = np.linalg.norm(x[:,k+1]-x[:,k])\n",
    "        if verror < epsilon:\n",
    "            return x[:, k+1]\n",
    "    return x[:, kmax]"
   ]
  },
  {
   "cell_type": "code",
   "execution_count": 68,
   "metadata": {},
   "outputs": [
    {
     "data": {
      "text/plain": [
       "array([[ 9., -2., -1.,  0.,  3.],\n",
       "       [ 0.,  7.,  3., -1.,  0.],\n",
       "       [ 1., -2.,  8.,  2., -1.],\n",
       "       [ 1., -3.,  1.,  9., -1.],\n",
       "       [ 4., -1.,  2., -2., 10.]])"
      ]
     },
     "execution_count": 68,
     "metadata": {},
     "output_type": "execute_result"
    }
   ],
   "source": [
    "A = np.array([[9., -2., -1., 0., 3.], [0., 7., 3., -1., 0.], [1., -2., 8., 2., -1.],[1., -3., 1., 9., -1.], [4., -1., 2., -2., 10.]])\n",
    "A"
   ]
  },
  {
   "cell_type": "code",
   "execution_count": 69,
   "metadata": {},
   "outputs": [
    {
     "data": {
      "text/plain": [
       "array([[21.],\n",
       "       [ 0.],\n",
       "       [17.],\n",
       "       [-3.],\n",
       "       [25.]])"
      ]
     },
     "execution_count": 69,
     "metadata": {},
     "output_type": "execute_result"
    }
   ],
   "source": [
    "b = np.array([[21., 0., 17., -3., 25.]]).T\n",
    "b"
   ]
  },
  {
   "cell_type": "code",
   "execution_count": 70,
   "metadata": {},
   "outputs": [
    {
     "data": {
      "text/plain": [
       "array([[1.],\n",
       "       [1.],\n",
       "       [0.],\n",
       "       [1.],\n",
       "       [1.]])"
      ]
     },
     "execution_count": 70,
     "metadata": {},
     "output_type": "execute_result"
    }
   ],
   "source": [
    "x_0 = np.array([[1., 1., 0., 1., 1.]]).T\n",
    "x_0"
   ]
  },
  {
   "cell_type": "code",
   "execution_count": 72,
   "metadata": {},
   "outputs": [
    {
     "data": {
      "text/plain": [
       "array([ 2., -1.,  2., -1.,  1.])"
      ]
     },
     "execution_count": 72,
     "metadata": {},
     "output_type": "execute_result"
    }
   ],
   "source": [
    "sol_gs = gauss_seidel(A, b, x_0, 1e-8, 50)\n",
    "sol_gs"
   ]
  }
 ],
 "metadata": {
  "kernelspec": {
   "display_name": "Python 3",
   "language": "python",
   "name": "python3"
  },
  "language_info": {
   "codemirror_mode": {
    "name": "ipython",
    "version": 3
   },
   "file_extension": ".py",
   "mimetype": "text/x-python",
   "name": "python",
   "nbconvert_exporter": "python",
   "pygments_lexer": "ipython3",
   "version": "3.12.4"
  }
 },
 "nbformat": 4,
 "nbformat_minor": 2
}
