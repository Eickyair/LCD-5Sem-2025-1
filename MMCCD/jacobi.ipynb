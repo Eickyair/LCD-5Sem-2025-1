{
 "cells": [
  {
   "cell_type": "markdown",
   "metadata": {},
   "source": [
    "# Método iterativo de Jacobi"
   ]
  },
  {
   "cell_type": "code",
   "execution_count": 1,
   "metadata": {},
   "outputs": [],
   "source": [
    "import numpy as np"
   ]
  },
  {
   "cell_type": "code",
   "execution_count": 17,
   "metadata": {},
   "outputs": [],
   "source": [
    "def jacobi(A, b, x0, epsilon, kmax):\n",
    "    x = np.matrix(x0)\n",
    "    for k in range(kmax):\n",
    "        x = np.concatenate((x, np.zeros((len(x0), 1))), axis=1)\n",
    "        for i in range(len(x0)):\n",
    "            sum_x = 0\n",
    "            for j in range(len(x0)):\n",
    "                if i != j:\n",
    "                    sum_x += A[i, j] * x[j,k]\n",
    "            x[i, k+1] = 1/A[i, i]*(-sum_x+b[i,0])\n",
    "        verror = np.linalg.norm(x[:,k+1]-x[:,k]) # Check\n",
    "        if verror < epsilon:\n",
    "            return x[:, k+1]\n",
    "    return x[:, kmax]"
   ]
  },
  {
   "cell_type": "code",
   "execution_count": 5,
   "metadata": {},
   "outputs": [
    {
     "data": {
      "text/plain": [
       "matrix([[ 9., -2., -1.,  0.,  3.],\n",
       "        [ 0.,  7.,  3., -1.,  0.],\n",
       "        [ 1., -2.,  8.,  2., -1.],\n",
       "        [ 1., -3.,  1.,  9., -1.],\n",
       "        [ 4., -1.,  2., -2., 10.]])"
      ]
     },
     "execution_count": 5,
     "metadata": {},
     "output_type": "execute_result"
    }
   ],
   "source": [
    "A = np.matrix([[9., -2., -1., 0., 3.], [0., 7., 3., -1., 0.], [1., -2., 8., 2., -1.],[1., -3., 1., 9., -1.], [4., -1., 2., -2., 10.]])\n",
    "A"
   ]
  },
  {
   "cell_type": "code",
   "execution_count": 14,
   "metadata": {},
   "outputs": [
    {
     "data": {
      "text/plain": [
       "matrix([[21.],\n",
       "        [ 0.],\n",
       "        [17.],\n",
       "        [-3.],\n",
       "        [25.]])"
      ]
     },
     "execution_count": 14,
     "metadata": {},
     "output_type": "execute_result"
    }
   ],
   "source": [
    "b = np.matrix([21., 0., 17., -3., 25.]).T\n",
    "b"
   ]
  },
  {
   "cell_type": "code",
   "execution_count": 7,
   "metadata": {},
   "outputs": [
    {
     "data": {
      "text/plain": [
       "matrix([[1.],\n",
       "        [1.],\n",
       "        [0.],\n",
       "        [1.],\n",
       "        [1.]])"
      ]
     },
     "execution_count": 7,
     "metadata": {},
     "output_type": "execute_result"
    }
   ],
   "source": [
    "x_0 = np.matrix([1., 1., 0., 1., 1.]).T\n",
    "x_0"
   ]
  },
  {
   "cell_type": "code",
   "execution_count": 20,
   "metadata": {},
   "outputs": [
    {
     "data": {
      "text/plain": [
       "matrix([[ 2.],\n",
       "        [-1.],\n",
       "        [ 2.],\n",
       "        [-1.],\n",
       "        [ 1.]])"
      ]
     },
     "execution_count": 20,
     "metadata": {},
     "output_type": "execute_result"
    }
   ],
   "source": [
    "jacobi(A, b, x_0, 1e-8, 50)"
   ]
  }
 ],
 "metadata": {
  "kernelspec": {
   "display_name": "Python 3",
   "language": "python",
   "name": "python3"
  },
  "language_info": {
   "codemirror_mode": {
    "name": "ipython",
    "version": 3
   },
   "file_extension": ".py",
   "mimetype": "text/x-python",
   "name": "python",
   "nbconvert_exporter": "python",
   "pygments_lexer": "ipython3",
   "version": "3.12.4"
  }
 },
 "nbformat": 4,
 "nbformat_minor": 2
}
