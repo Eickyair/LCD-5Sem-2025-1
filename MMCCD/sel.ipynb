{
 "cells": [
  {
   "cell_type": "markdown",
   "metadata": {},
   "source": [
    "# Factorización LU"
   ]
  },
  {
   "cell_type": "code",
   "execution_count": 28,
   "metadata": {
    "ExecuteTime": {
     "end_time": "2024-08-30T17:07:04.321378Z",
     "start_time": "2024-08-30T17:07:04.302145Z"
    }
   },
   "outputs": [],
   "source": [
    "import numpy as np\n",
    "import matplotlib.pyplot as plt"
   ]
  },
  {
   "cell_type": "code",
   "execution_count": 29,
   "metadata": {
    "ExecuteTime": {
     "end_time": "2024-08-30T17:07:04.350093Z",
     "start_time": "2024-08-30T17:07:04.335958Z"
    }
   },
   "outputs": [
    {
     "data": {
      "text/plain": [
       "array([[17.51016261, 18.57845735, 10.59673443],\n",
       "       [15.68401862,  0.33817038, 12.39532222],\n",
       "       [ 7.9228282 , 16.59756353, 17.79814658]])"
      ]
     },
     "execution_count": 29,
     "metadata": {},
     "output_type": "execute_result"
    }
   ],
   "source": [
    "M = 20 # M: Máximo valor de la distribución\n",
    "A = M*np.random.rand(3,3)\n",
    "A"
   ]
  },
  {
   "cell_type": "code",
   "execution_count": 30,
   "metadata": {
    "ExecuteTime": {
     "end_time": "2024-08-30T17:07:04.394607Z",
     "start_time": "2024-08-30T17:07:04.389938Z"
    }
   },
   "outputs": [],
   "source": [
    "def fact_lu(A):\n",
    "    m, n = np.shape(A)\n",
    "    if m != n:\n",
    "        return None\n",
    "    L = np.zeros((n, n))\n",
    "    U = np.copy(A)\n",
    "    for j in range(n-1):\n",
    "        for i in range(j+1,n):\n",
    "            L[i,j] = (U[i,j])/(U[j,j])\n",
    "            U[i] = U[i] - L[i,j]*U[j]\n",
    "    L = L + np.eye(n)\n",
    "    return L, U"
   ]
  },
  {
   "cell_type": "code",
   "execution_count": 31,
   "metadata": {
    "ExecuteTime": {
     "end_time": "2024-08-30T17:07:04.447820Z",
     "start_time": "2024-08-30T17:07:04.440976Z"
    }
   },
   "outputs": [
    {
     "data": {
      "text/plain": [
       "array([[ 1.        ,  0.        ,  0.        ],\n",
       "       [ 0.89570948,  1.        ,  0.        ],\n",
       "       [ 0.45247028, -0.5024535 ,  1.        ]])"
      ]
     },
     "execution_count": 31,
     "metadata": {},
     "output_type": "execute_result"
    }
   ],
   "source": [
    "L, U = fact_lu(A)\n",
    "L"
   ]
  },
  {
   "cell_type": "code",
   "execution_count": 32,
   "metadata": {
    "ExecuteTime": {
     "end_time": "2024-08-30T17:07:04.566803Z",
     "start_time": "2024-08-30T17:07:04.562077Z"
    }
   },
   "outputs": [
    {
     "data": {
      "text/plain": [
       "array([[ 17.51016261,  18.57845735,  10.59673443],\n",
       "       [  0.        , -16.30272997,   2.90372674],\n",
       "       [  0.        ,   0.        ,  14.46242683]])"
      ]
     },
     "execution_count": 32,
     "metadata": {},
     "output_type": "execute_result"
    }
   ],
   "source": [
    "U"
   ]
  },
  {
   "cell_type": "code",
   "execution_count": 33,
   "metadata": {
    "ExecuteTime": {
     "end_time": "2024-08-30T17:07:04.901249Z",
     "start_time": "2024-08-30T17:07:04.897001Z"
    }
   },
   "outputs": [
    {
     "data": {
      "text/plain": [
       "array([[ 0.0000000e+00,  0.0000000e+00,  0.0000000e+00],\n",
       "       [ 0.0000000e+00, -8.8817842e-16,  0.0000000e+00],\n",
       "       [ 0.0000000e+00,  0.0000000e+00,  0.0000000e+00]])"
      ]
     },
     "execution_count": 33,
     "metadata": {},
     "output_type": "execute_result"
    }
   ],
   "source": [
    "A - L@U"
   ]
  },
  {
   "cell_type": "code",
   "execution_count": 34,
   "metadata": {
    "ExecuteTime": {
     "end_time": "2024-08-30T17:07:05.404860Z",
     "start_time": "2024-08-30T17:07:05.399634Z"
    }
   },
   "outputs": [
    {
     "data": {
      "text/plain": [
       "np.float64(8.881784197001252e-16)"
      ]
     },
     "execution_count": 34,
     "metadata": {},
     "output_type": "execute_result"
    }
   ],
   "source": [
    "np.linalg.norm(A - L@U)"
   ]
  },
  {
   "cell_type": "markdown",
   "metadata": {},
   "source": [
    "# Factorización PLU"
   ]
  },
  {
   "cell_type": "code",
   "execution_count": 35,
   "metadata": {
    "ExecuteTime": {
     "end_time": "2024-08-30T17:07:05.938122Z",
     "start_time": "2024-08-30T17:07:05.932717Z"
    }
   },
   "outputs": [],
   "source": [
    "def swap_rows(A, i, j):\n",
    "    temp = np.copy(A[i])\n",
    "    A[i] = A[j]\n",
    "    A[j] = temp"
   ]
  },
  {
   "cell_type": "code",
   "execution_count": 36,
   "metadata": {
    "ExecuteTime": {
     "end_time": "2024-08-30T17:07:06.063224Z",
     "start_time": "2024-08-30T17:07:06.058269Z"
    }
   },
   "outputs": [],
   "source": [
    "def fact_plu(A):\n",
    "    m, n = np.shape(A)\n",
    "    if m != n:\n",
    "        return None\n",
    "    P = np.eye(n)\n",
    "    L = np.zeros((n, n))\n",
    "    U = np.copy(A)\n",
    "    for j in range(n-1):\n",
    "        if U[j,j] == 0:\n",
    "            maxnum = 0\n",
    "            index = 0\n",
    "            for k in range(j+1, n):\n",
    "                if np.absolute(U[k,j]) > maxnum:\n",
    "                    maxnum = np.absolute(U[k,j])\n",
    "                    index = k\n",
    "            swap_rows(U, j, index)\n",
    "            swap_rows(P, j, index)\n",
    "        for i in range(j+1,n):\n",
    "            L[i,j] = (U[i,j])/(U[j,j]) # -> Obteniendo escalar, Pivote -> U[j,j]\n",
    "            U[i] = U[i] - L[i,j]*U[j] # -> Suma de renglon con otro renglon por escalar\n",
    "    L = L + np.eye(n)\n",
    "    return P, L, U"
   ]
  },
  {
   "cell_type": "code",
   "execution_count": 37,
   "metadata": {
    "ExecuteTime": {
     "end_time": "2024-08-30T17:07:06.094070Z",
     "start_time": "2024-08-30T17:07:06.088932Z"
    }
   },
   "outputs": [
    {
     "data": {
      "text/plain": [
       "array([[11.88134123, 18.12686431,  9.25806876],\n",
       "       [15.42720226, 17.4219689 , 15.94021333],\n",
       "       [ 1.60240227,  2.33289862, 16.70540813]])"
      ]
     },
     "execution_count": 37,
     "metadata": {},
     "output_type": "execute_result"
    }
   ],
   "source": [
    "M = 20 # M: Máximo valor de la distribución\n",
    "A = M*np.random.rand(3,3)\n",
    "A"
   ]
  },
  {
   "cell_type": "code",
   "execution_count": 38,
   "metadata": {
    "ExecuteTime": {
     "end_time": "2024-08-30T17:07:06.164839Z",
     "start_time": "2024-08-30T17:07:06.159423Z"
    }
   },
   "outputs": [
    {
     "data": {
      "text/plain": [
       "array([[1., 0., 0.],\n",
       "       [0., 1., 0.],\n",
       "       [0., 0., 1.]])"
      ]
     },
     "execution_count": 38,
     "metadata": {},
     "output_type": "execute_result"
    }
   ],
   "source": [
    "P, L, U = fact_plu(A)\n",
    "P"
   ]
  },
  {
   "cell_type": "code",
   "execution_count": 39,
   "metadata": {
    "ExecuteTime": {
     "end_time": "2024-08-30T17:07:06.276095Z",
     "start_time": "2024-08-30T17:07:06.269311Z"
    }
   },
   "outputs": [
    {
     "data": {
      "text/plain": [
       "array([[1.        , 0.        , 0.        ],\n",
       "       [1.29843946, 1.        , 0.        ],\n",
       "       [0.13486712, 0.01828707, 1.        ]])"
      ]
     },
     "execution_count": 39,
     "metadata": {},
     "output_type": "execute_result"
    }
   ],
   "source": [
    "L"
   ]
  },
  {
   "cell_type": "code",
   "execution_count": 40,
   "metadata": {
    "ExecuteTime": {
     "end_time": "2024-08-30T17:07:06.427256Z",
     "start_time": "2024-08-30T17:07:06.421727Z"
    }
   },
   "outputs": [
    {
     "data": {
      "text/plain": [
       "array([[ 1.18813412e+01,  1.81268643e+01,  9.25806876e+00],\n",
       "       [-1.77635684e-15, -6.11466695e+00,  3.91917156e+00],\n",
       "       [ 3.24843652e-17,  0.00000000e+00,  1.53851289e+01]])"
      ]
     },
     "execution_count": 40,
     "metadata": {},
     "output_type": "execute_result"
    }
   ],
   "source": [
    "U"
   ]
  },
  {
   "cell_type": "code",
   "execution_count": 41,
   "metadata": {
    "ExecuteTime": {
     "end_time": "2024-08-30T17:07:06.599362Z",
     "start_time": "2024-08-30T17:07:06.594883Z"
    }
   },
   "outputs": [
    {
     "data": {
      "text/plain": [
       "array([[0., 0., 0.],\n",
       "       [0., 0., 0.],\n",
       "       [0., 0., 0.]])"
      ]
     },
     "execution_count": 41,
     "metadata": {},
     "output_type": "execute_result"
    }
   ],
   "source": [
    "P@A - L@U"
   ]
  },
  {
   "cell_type": "code",
   "execution_count": 42,
   "metadata": {
    "ExecuteTime": {
     "end_time": "2024-08-30T17:07:06.755Z",
     "start_time": "2024-08-30T17:07:06.746955Z"
    }
   },
   "outputs": [
    {
     "data": {
      "text/plain": [
       "np.float64(0.0)"
      ]
     },
     "execution_count": 42,
     "metadata": {},
     "output_type": "execute_result"
    }
   ],
   "source": [
    "np.linalg.norm(P@A - L@U)"
   ]
  },
  {
   "cell_type": "code",
   "execution_count": 43,
   "metadata": {
    "ExecuteTime": {
     "end_time": "2024-08-30T17:07:11.536004Z",
     "start_time": "2024-08-30T17:07:06.976227Z"
    }
   },
   "outputs": [],
   "source": [
    "errores_LU = []\n",
    "enes = list(range(3,301,3))\n",
    "for n in enes:\n",
    "    M = 10 # M: Máximo valor de la distribución\n",
    "    A = M*np.random.rand(n,n)\n",
    "    L, U = fact_lu(A)\n",
    "    errores_LU.append(np.linalg.norm(A - L@U))"
   ]
  },
  {
   "cell_type": "code",
   "execution_count": 44,
   "metadata": {
    "ExecuteTime": {
     "end_time": "2024-08-30T17:07:15.839486Z",
     "start_time": "2024-08-30T17:07:11.536306Z"
    }
   },
   "outputs": [],
   "source": [
    "errores_PLU = []\n",
    "for n in enes:\n",
    "    M = 10 # M: Máximo valor de la distribución\n",
    "    A = M*np.random.rand(n,n)\n",
    "    P, L, U = fact_plu(A)\n",
    "    errores_PLU.append(np.linalg.norm(P@A - L@U))"
   ]
  },
  {
   "cell_type": "code",
   "execution_count": 45,
   "metadata": {
    "ExecuteTime": {
     "end_time": "2024-08-30T17:07:15.986864Z",
     "start_time": "2024-08-30T17:07:15.851493Z"
    }
   },
   "outputs": [
    {
     "data": {
      "text/plain": [
       "<matplotlib.legend.Legend at 0x1811af3ff80>"
      ]
     },
     "execution_count": 45,
     "metadata": {},
     "output_type": "execute_result"
    },
    {
     "data": {
      "image/png": "[encoded data removed]",
      "text/plain": [
       "<Figure size 640x480 with 1 Axes>"
      ]
     },
     "metadata": {},
     "output_type": "display_data"
    }
   ],
   "source": [
    "plt.plot(enes, errores_LU, 'b--o', label='LU')\n",
    "plt.plot(enes, errores_PLU, 'r--o', label='PLU')\n",
    "plt.xlabel('Dimensión de la matriz (n)')\n",
    "plt.ylabel('Error')\n",
    "plt.title('LU vs PLU')\n",
    "plt.grid(alpha=0.4)\n",
    "plt.legend()"
   ]
  },
  {
   "cell_type": "markdown",
   "metadata": {},
   "source": [
    "# Solución del SEL"
   ]
  },
  {
   "cell_type": "code",
   "execution_count": 46,
   "metadata": {
    "ExecuteTime": {
     "end_time": "2024-08-30T17:07:16.077080Z",
     "start_time": "2024-08-30T17:07:16.069740Z"
    }
   },
   "outputs": [],
   "source": [
    "def sel(A, b):\n",
    "    L, U = fact_lu(A)\n",
    "    n = np.size(A[0])\n",
    "    y = np.zeros((n,1))\n",
    "    y[0] = b[0]\n",
    "    for k in range (1,n):\n",
    "        y[k] = b[k]-L[k,0:k]@y[0:k]\n",
    "    x = np.zeros((n,1))\n",
    "    x[n-1] = y[n-1]/U[n-1,n-1]\n",
    "    for k in range(n-2,-1,-1):\n",
    "        x[k] = (y[k] - U[k,k+1:n]@x[k+1:n,0])/U[k,k]\n",
    "    return x, y, L, U"
   ]
  },
  {
   "cell_type": "code",
   "execution_count": 47,
   "metadata": {
    "ExecuteTime": {
     "end_time": "2024-08-30T17:07:16.098275Z",
     "start_time": "2024-08-30T17:07:16.094569Z"
    }
   },
   "outputs": [],
   "source": [
    "A = np.matrix([np.array([4.,5.,2.,-1.]),\n",
    "               np.array([5.,8.,7.,6.]),\n",
    "               np.array([3.,7.,-4.,-2.]),\n",
    "               np.array([-1.,6.,-2.,5.])])\n",
    "b = np.matrix([3.,2.,0.,1.]).T"
   ]
  },
  {
   "cell_type": "code",
   "execution_count": 48,
   "metadata": {
    "ExecuteTime": {
     "end_time": "2024-08-30T17:07:16.118830Z",
     "start_time": "2024-08-30T17:07:16.102839Z"
    }
   },
   "outputs": [],
   "source": [
    "x, y, L, U = sel(A, b)"
   ]
  },
  {
   "cell_type": "code",
   "execution_count": 49,
   "metadata": {
    "ExecuteTime": {
     "end_time": "2024-08-30T17:07:16.135498Z",
     "start_time": "2024-08-30T17:07:16.130586Z"
    }
   },
   "outputs": [
    {
     "data": {
      "text/plain": [
       "array([[-3.12698413],\n",
       "       [ 1.92063492],\n",
       "       [ 1.98412698],\n",
       "       [-1.93650794]])"
      ]
     },
     "execution_count": 49,
     "metadata": {},
     "output_type": "execute_result"
    }
   ],
   "source": [
    "x"
   ]
  },
  {
   "cell_type": "code",
   "execution_count": 50,
   "metadata": {
    "ExecuteTime": {
     "end_time": "2024-08-30T17:07:16.187911Z",
     "start_time": "2024-08-30T17:07:16.179953Z"
    }
   },
   "outputs": [
    {
     "data": {
      "text/plain": [
       "array([[ 3.        ],\n",
       "       [-1.75      ],\n",
       "       [ 1.        ],\n",
       "       [ 7.54639175]])"
      ]
     },
     "execution_count": 50,
     "metadata": {},
     "output_type": "execute_result"
    }
   ],
   "source": [
    "y"
   ]
  },
  {
   "cell_type": "code",
   "execution_count": 51,
   "metadata": {
    "ExecuteTime": {
     "end_time": "2024-08-30T17:07:16.265510Z",
     "start_time": "2024-08-30T17:07:16.260681Z"
    }
   },
   "outputs": [
    {
     "data": {
      "text/plain": [
       "array([[ 1.        ,  0.        ,  0.        ,  0.        ],\n",
       "       [ 1.25      ,  1.        ,  0.        ,  0.        ],\n",
       "       [ 0.75      ,  1.85714286,  1.        ,  0.        ],\n",
       "       [-0.25      ,  4.14285714,  1.45360825,  1.        ]])"
      ]
     },
     "execution_count": 51,
     "metadata": {},
     "output_type": "execute_result"
    }
   ],
   "source": [
    "L"
   ]
  },
  {
   "cell_type": "code",
   "execution_count": 52,
   "metadata": {
    "ExecuteTime": {
     "end_time": "2024-08-30T17:07:16.366115Z",
     "start_time": "2024-08-30T17:07:16.360783Z"
    }
   },
   "outputs": [
    {
     "data": {
      "text/plain": [
       "array([[ 4.00000000e+00,  5.00000000e+00,  2.00000000e+00,\n",
       "        -1.00000000e+00],\n",
       "       [ 0.00000000e+00,  1.75000000e+00,  4.50000000e+00,\n",
       "         7.25000000e+00],\n",
       "       [ 0.00000000e+00,  0.00000000e+00, -1.38571429e+01,\n",
       "        -1.47142857e+01],\n",
       "       [ 0.00000000e+00, -8.88178420e-16,  0.00000000e+00,\n",
       "        -3.89690722e+00]])"
      ]
     },
     "execution_count": 52,
     "metadata": {},
     "output_type": "execute_result"
    }
   ],
   "source": [
    "U"
   ]
  },
  {
   "cell_type": "code",
   "execution_count": 53,
   "metadata": {
    "ExecuteTime": {
     "end_time": "2024-08-30T17:07:16.464833Z",
     "start_time": "2024-08-30T17:07:16.460041Z"
    }
   },
   "outputs": [],
   "source": [
    "A = np.matrix([np.array([1.,1.,0.,3.]),\n",
    "               np.array([2.,1.,-1.,1.]),\n",
    "               np.array([3.,-1.,-1.,2.]),\n",
    "               np.array([-1.,2.,3.,-1.])])\n",
    "\n",
    "b = np.matrix([8.,7.,14.,-7.]).T\n",
    "\n",
    "x, y, L, U = sel(A, b)"
   ]
  },
  {
   "cell_type": "code",
   "execution_count": 54,
   "metadata": {
    "ExecuteTime": {
     "end_time": "2024-08-30T17:07:16.527629Z",
     "start_time": "2024-08-30T17:07:16.522630Z"
    }
   },
   "outputs": [
    {
     "name": "stdout",
     "output_type": "stream",
     "text": [
      "[[ 3.]\n",
      " [-1.]\n",
      " [ 0.]\n",
      " [ 2.]]\n",
      "[[  8.]\n",
      " [ -9.]\n",
      " [ 26.]\n",
      " [-26.]]\n",
      "[[ 1.  0.  0.  0.]\n",
      " [ 2.  1.  0.  0.]\n",
      " [ 3.  4.  1.  0.]\n",
      " [-1. -3.  0.  1.]]\n",
      "[[  1.   1.   0.   3.]\n",
      " [  0.  -1.  -1.  -5.]\n",
      " [  0.   0.   3.  13.]\n",
      " [  0.   0.   0. -13.]]\n"
     ]
    }
   ],
   "source": [
    "print(x)\n",
    "print(y)\n",
    "print(L)\n",
    "print(U)"
   ]
  }
 ],
 "metadata": {
  "kernelspec": {
   "display_name": "Python 3",
   "language": "python",
   "name": "python3"
  },
  "language_info": {
   "codemirror_mode": {
    "name": "ipython",
    "version": 3
   },
   "file_extension": ".py",
   "mimetype": "text/x-python",
   "name": "python",
   "nbconvert_exporter": "python",
   "pygments_lexer": "ipython3",
   "version": "3.12.4"
  }
 },
 "nbformat": 4,
 "nbformat_minor": 2
}
