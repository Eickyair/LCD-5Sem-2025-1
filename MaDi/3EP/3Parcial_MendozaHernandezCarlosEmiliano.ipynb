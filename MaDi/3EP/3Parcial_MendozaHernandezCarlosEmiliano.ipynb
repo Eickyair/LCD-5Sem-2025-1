{
 "cells": [
  {
   "cell_type": "code",
   "execution_count": 73,
   "metadata": {},
   "outputs": [],
   "source": [
    "import matplotlib.pyplot as plt\n",
    "import numpy as np\n",
    "import matplotlib.colors as colors"
   ]
  },
  {
   "cell_type": "markdown",
   "metadata": {},
   "source": [
    "# ***Carlos Emiliano Mendoza Hernández***\n",
    "# ***317579439***"
   ]
  },
  {
   "cell_type": "markdown",
   "metadata": {},
   "source": [
    "## ***Problemas***"
   ]
  },
  {
   "cell_type": "markdown",
   "metadata": {},
   "source": [
    "### ***1.***"
   ]
  },
  {
   "cell_type": "markdown",
   "metadata": {},
   "source": [
    "Una palabra es monovocálica si tiene solamente una vocal (quizás repetida varias veces), por ejemplo,\"casa\" solo tiene la 'a'. Se tiene una lista $L$ de $n$ palabras. Para cada vocal, se quiere encontrar su palabra monovocálica más grande en $L$.\n",
    "\n",
    "**Nota.** A todas las variantes de una vocal (mayúscula, minúscula, acentos, etc.) las consideramos la misma.\n",
    "\n",
    "**Instancia.** Encontrar las palabras monovocálicas más grandes para cada vocal de la lista en el archivo `espanol.txt`."
   ]
  },
  {
   "cell_type": "markdown",
   "metadata": {},
   "source": [
    "#### ***Tipo de problema***:"
   ]
  },
  {
   "cell_type": "markdown",
   "metadata": {},
   "source": [
    "**Problema.** Encontrar las palabras monovocálicas más grandes para cada vocal de la lista. Es un problema de enumeración."
   ]
  },
  {
   "cell_type": "markdown",
   "metadata": {},
   "source": [
    "#### ***Espacio de estados (análisis):***"
   ]
  },
  {
   "cell_type": "markdown",
   "metadata": {},
   "source": []
  },
  {
   "cell_type": "markdown",
   "metadata": {},
   "source": [
    "#### ***Mejora:***"
   ]
  },
  {
   "cell_type": "markdown",
   "metadata": {},
   "source": []
  },
  {
   "cell_type": "markdown",
   "metadata": {},
   "source": [
    "#### ***Solución en Python:***"
   ]
  },
  {
   "cell_type": "code",
   "execution_count": null,
   "metadata": {},
   "outputs": [],
   "source": []
  },
  {
   "cell_type": "markdown",
   "metadata": {},
   "source": [
    "#### ***Ejecución de la instancia:***"
   ]
  },
  {
   "cell_type": "code",
   "execution_count": null,
   "metadata": {},
   "outputs": [],
   "source": []
  },
  {
   "cell_type": "markdown",
   "metadata": {},
   "source": [
    "### ***2.***"
   ]
  },
  {
   "cell_type": "markdown",
   "metadata": {},
   "source": [
    "En un cuadrado de $n \\times n$ dividido en cuadraditos de $1 \\times 1$ se ha colocado un punto rojo en algunos de sus cuadraditos. ¿Se podrá elegir uno de los subcuadrados de $4 \\times 4$ que no tenga ningún punto rojo?\n",
    "\n",
    "![Figura 1](img/Figura1.png \"Ejemplo del problema 2\")\n",
    "\n",
    "Por ejemplo, en la Figura 1, del lado izquierdo hay un acomodo de puntos rojos en el que no se puede poner ningún cuadrado de $4 \\times 4$ sin puntos rojos, pero en el de la derecha sí se puede poner al cuadrado sombreado en verde.\n",
    "\n",
    "**Instancia.** Considera el tablero de $100 \\times 100$ en donde el cuadradito $(i,j)$ es el que está en la fila $i$ y columna $j$. Pondremos un punto rojo en $(i,j)$ si $i+j$ es un número primo. Resuelve el problema para este caso. Interpreta tu respuesta."
   ]
  },
  {
   "cell_type": "markdown",
   "metadata": {},
   "source": [
    "#### ***Tipo de problema***:"
   ]
  },
  {
   "cell_type": "markdown",
   "metadata": {},
   "source": [
    "**Problema.** ¿Se podrá elegir uno de los subcuadrados de $4 \\times 4$ que no tenga ningún punto rojo?\n",
    "La pregunta se responde con un \"sí\" o \"no\", por lo tanto es un problema de decisión."
   ]
  },
  {
   "cell_type": "markdown",
   "metadata": {},
   "source": [
    "#### ***Espacio de estados (análisis):***"
   ]
  },
  {
   "cell_type": "markdown",
   "metadata": {},
   "source": [
    "**Entrada.** Un entero positivo $n$ y una lista de tuplas $(i,j)$ que representan cuadritos de $1\\times 1$ en la fila $i$ y columna $j$.\n",
    "\n",
    "**Salida.** Un booleano, `True` si es posible tener algún cuadro de $4 \\times 4$ en el tablero, o `False` en caso contrario.\n",
    "\n",
    "Notamos que, si fijamos la esquina inferior derecha del cuadrado verde, podemos revisar un cuadrado de $4 \\times 4$ tomando los 3 cuadritos anteriores de esa fila y los 3 anteriores de esa columna. \n",
    "\n",
    "En otras palabras, para revisar si el cuadrado verde cabe poniendo la esquina inferior derecha en $(i,j)$, en realidad podemos revisar \n",
    "el cuadrado verde formado por los cuadritos $(i,j), (i-1,j), (i-2,j), (i-3,j),(i,j-1),...,(i-3,j-3)$.\n",
    "\n",
    "Entonces, para verificar todas las posibilidades del tablero, tenemos que poner la esquina verde en $(n-3)(n-3)$ posiciones y revisar que no tenga puntos rojos en alguna de esas coordenadas. Esto significa que, tenemos $(n-3)(n-3)$ cuadrados verdes posibles.\n",
    "\n",
    "Por otra parte, para saber que no hay cuadritos rojos dentro de algún cuadrado verde, necesitamos inspeccionar cada una de sus 16 celdas.\n",
    "\n",
    "La complejidad sería $O((n-3)\\times(n-3)\\times 16)=O((n-3)^2) = O(n^2)$. \n"
   ]
  },
  {
   "cell_type": "markdown",
   "metadata": {},
   "source": [
    "#### ***Mejora:***"
   ]
  },
  {
   "cell_type": "markdown",
   "metadata": {},
   "source": [
    "Podemos disminuir las operaciones para revisar si un cuadro de $4 \\times 4$ tiene puntos rojos adentro. Para ello usaremos una matriz adicional para almacenar los puntos rojos acumulados hasta cierta coordenada, i.e., si la entrada $(i,j)$ de la matriz acumulada es igual a $r$, quiere decir que en el subcuadro que se forma con las esquinas $(0,0), (0,j), (i,0), (i,j)$ tiene $r$ puntos rojos adentro.\n",
    "\n",
    "Ahora, para calcular la matriz de puntos rojos acumulados, usamos ***programación dinámica***.\n",
    "\n",
    "Creamos una matriz de puntos rojos acumulados de tamano $(n+1)(n+1)$ (esto para evitar indices negativos). La matriz se construye como:\n",
    "\n",
    "`pr_acumulados[i][j] = pr_acumulados[i-1][j] + pr_acumulados[i][j-1] - pr_acumulados[i-1][j-1] + tablero[i-1][j-1]`\n",
    "\n",
    "Conforme vamos calculando la matriz de acumulados, verificamos si ya encontramos un cuadrado sin puntos rojos, y en ese caso, terminar la ejecución.\n",
    "\n",
    "Para saber si un cuadro de $4 \\times 4$ tiene puntos rojos, basta con revisar que no hayan incrementos de $(i-4,j-4)$ a $(i,j-4)$ ni de $(i,j)$ a $(i-4,j)$, así, la verificación se reduce a:\n",
    "\n",
    "`pr_acumulados[i-4][j-4] - pr_acumulados[i][j-4] + pr_acumulados[i][j] - pr_acumulados[i-4][j] == 0`\n",
    "\n",
    "Si la verificación se cumple, entonces ese cuadro de $4 \\times 4$ no tiene puntos rojos adentro, y termina la ejecución.\n",
    "\n",
    "La complejidad sigue siendo $O(n^2)$ pues, en el peor caso, se calcula toda la matriz de acumulados. El cálculo de la matriz de acumulados toma tiempo $O(n^2)$, sin embargo, se reduce el tiempo de revisar si el cuadro tiene puntos rojos adentro, ya que, con fuerza bruta, las revisiones son independientes para cada cuadro, y en programación dinámica, los resultados anteriores se reutilzan para revisar el siguiente cuadrado y disminuyen las operaciones."
   ]
  },
  {
   "cell_type": "markdown",
   "metadata": {},
   "source": [
    "#### ***Solución en Python:***"
   ]
  },
  {
   "cell_type": "code",
   "execution_count": 74,
   "metadata": {},
   "outputs": [],
   "source": [
    "def crear_tablero(n, pr):\n",
    "    tablero = [[0] * n for _ in range(n)]\n",
    "    for i,j in pr:\n",
    "        tablero[i][j] = 1\n",
    "    return tablero\n",
    "\n",
    "def ejercicio2(n, pr):\n",
    "    tablero = crear_tablero(n, pr)\n",
    "    pr_acumulados = [[0] * (n + 1) for _ in range(n + 1)]\n",
    "    for i in range(1,n+1):\n",
    "        for j in range(1,n+1):\n",
    "            pr_acumulados[i][j] = pr_acumulados[i-1][j] + pr_acumulados[i][j-1] - pr_acumulados[i-1][j-1] + tablero[i-1][j-1]\n",
    "            if i >= 4 and j >= 4:\n",
    "                pr_adentro = pr_acumulados[i-4][j-4] - pr_acumulados[i][j-4] + pr_acumulados[i][j] - pr_acumulados[i-4][j]\n",
    "                if pr_adentro == 0:\n",
    "                    return True, i-4, j-4\n",
    "    return False, -1, -1"
   ]
  },
  {
   "cell_type": "markdown",
   "metadata": {},
   "source": [
    "#### ***Ejecución de la instancia:***"
   ]
  },
  {
   "cell_type": "code",
   "execution_count": 75,
   "metadata": {},
   "outputs": [],
   "source": [
    "# Funcion para determinar si un numero es primo\n",
    "def es_primo(n):\n",
    "    if n <= 1:\n",
    "        return False\n",
    "    for i in range(2, int(n**0.5) + 1):\n",
    "        if n % i == 0:\n",
    "            return False\n",
    "    return True"
   ]
  },
  {
   "cell_type": "code",
   "execution_count": null,
   "metadata": {},
   "outputs": [],
   "source": [
    "# Crear lista de pares de primos\n",
    "pares_primos = []\n",
    "for i in range(100):\n",
    "    for j in range(100):\n",
    "        if es_primo(i + j):\n",
    "            pares_primos.append((i, j))\n",
    "# Crear tablero\n",
    "tablero = crear_tablero(100, pares_primos)"
   ]
  },
  {
   "cell_type": "code",
   "execution_count": 77,
   "metadata": {},
   "outputs": [
    {
     "name": "stdout",
     "output_type": "stream",
     "text": [
      "Se encontro un cuadrado de 4x4 sin puntos rojos adentro en la posicion (0, 90)\n"
     ]
    },
    {
     "data": {
      "image/png": "[encoded data removed]",
      "text/plain": [
       "<Figure size 640x480 with 1 Axes>"
      ]
     },
     "metadata": {},
     "output_type": "display_data"
    }
   ],
   "source": [
    "# Mostrar resultado\n",
    "res, i, j = ejercicio2(100, pares_primos)\n",
    "if res:\n",
    "    print(f\"Se encontro un cuadrado de 4x4 sin puntos rojos adentro en la posicion ({i}, {j})\")\n",
    "else:\n",
    "    print(\"No se encontro un cuadrado de 4x4 sin puntos rojos adentro\")\n",
    "\n",
    "tablero = np.array(tablero)\n",
    "tablero[i:i+4, j:j+4] = 2\n",
    "color_map = {0: 'white', 1: 'red', 2: 'green'}\n",
    "plt.imshow(tablero, cmap=colors.ListedColormap([color_map[i] for i in color_map]))\n",
    "plt.show()"
   ]
  },
  {
   "cell_type": "markdown",
   "metadata": {},
   "source": [
    "### ***3.***"
   ]
  },
  {
   "cell_type": "markdown",
   "metadata": {},
   "source": [
    "Una *subpalabra* de una palabra *P* consiste de tomar algunas letras de *P* de izquierda a derecha, no necesariamente de manera consecutiva. Por ejemplo, la palabra *casa* tiene las 13 subpalabras *c, a, s, ca, cs, as, aa, sa, cas, caa, csa, asa, casa*. No tiene como subpalabra a *sc*, pues estas letras no aparecen en ese orden en *casa*. La palabra vacía nunca cuenta. Dada una palabra con *n* letras, ¿cuántas subpalabras tiene?\n",
    "\n",
    "**Instancia.** ¿Cuántas subpalabras tiene la siguiente palabra?\n",
    "\n",
    "$$\\text{tabagatabaagatabagbataab}$$"
   ]
  },
  {
   "cell_type": "markdown",
   "metadata": {},
   "source": [
    "### ***4.***"
   ]
  },
  {
   "cell_type": "markdown",
   "metadata": {},
   "source": [
    "Se tienen $n$ números enteros alrededor de un círculo, quizás algunos de ellos negativos. Diseña un algoritmo que encuentre cuál es el arco consecutivo de números consecutivos cuya suma sea mayor.\n",
    "\n",
    "**Instancia.** Resuelve el problema para la Figura 2. Por ejemplo,\n",
    "\n",
    "$$9, -9, 30, -31, -14, 7, -5$$\n",
    "\n",
    "son números que están en un arco consecutivo de números.\n",
    "\n",
    "![Figura 2](img/Figura2.png \"Ejemplo del problema 4\")"
   ]
  },
  {
   "cell_type": "markdown",
   "metadata": {},
   "source": [
    "#### ***Tipo de problema***:"
   ]
  },
  {
   "cell_type": "markdown",
   "metadata": {},
   "source": [
    "**Problema.** Encontrar el arco consecutivo de números cuya suma sea mayor. Es un problema de optimización."
   ]
  },
  {
   "cell_type": "markdown",
   "metadata": {},
   "source": [
    "#### ***Espacio de estados (análisis):***"
   ]
  },
  {
   "cell_type": "markdown",
   "metadata": {},
   "source": [
    "**Entrada.** Un número entero $n$ que es la cantidad de números en el círculo y una lista $C$ de números enteros (positivos y negativos).\n",
    "\n",
    "**Salida.** Una lista de números consecutivos en el círculo (no necesariamente también en $C$) con la máxima suma posible.\n",
    "\n",
    "Como los números están en un círculo, cada arco consecutivo puede empezar en cualquier posición y extenderse a cualquier otra posición. El espacio de estados consiste en todas las posibles combinaciones de subarcos consecutivos para sumar sus valores y guardar la mayor encontrada.\n",
    "\n",
    "Para resolver el problema de la contigüidad del primero con el último elemento de la lista, duplicamos $C$ y la concatenamos al final de ella misma. Así, para cada posición $i$ en la $C$ original, tomamos subarreglos consecutivos que empiezan en $i$ y tienen longitud de máximo $n$. \n",
    "\n",
    "Notamos que recorrer el espacio de estados toma tiempo $O(n^2)$, ya que se reocrren $n$ indices de $C$ y para cada uno de ellos se calcula la suma de hasta $n$ elementos. La suma toma $O(n)$, por lo tanto, verificar todas las sumas toma tiempo $O(n^3)$"
   ]
  },
  {
   "cell_type": "markdown",
   "metadata": {},
   "source": [
    "#### ***Mejora:***"
   ]
  },
  {
   "cell_type": "markdown",
   "metadata": {},
   "source": [
    "Aplicaremos la técnica de ***Divide y vencerás***. Podemos dividir el arreglo en dos mitades, resolver cada mitad de manera recursiva y luego combinar los resultados de las mitades. Sin embargo, al combinar las soluciones debemos considerar las tres posibilidades:\n",
    "\n",
    "1. El subarreglo con suma máxima está completamente en la mitad izquierda.\n",
    "2. El subarreglo con suma máxima está completamente en la mitad derecha.\n",
    "3. El subarreglo de suma máxima tiene elementos de ambas mitades.\n",
    "\n",
    "Entonces, los pasos a seguir son:\n",
    "\n",
    "1. Dividir el arreglo $C$ en dos mitades.\n",
    "2. Resolver el problema para cada mitad recursivamente.\n",
    "3. Combinar los resultados:\n",
    "    - Calcular la suma máxima en ambas mitades.\n",
    "    - Calcular la suma máxima en subarreglos que se extienden desde el final de la mitad izquierda hasta el comienzo de la mitad derecha.\n",
    "    - Considerar el caso circular.\n",
    "\n",
    "Para ello se crearon las siguientes funciones auxiliares:\n",
    "\n",
    "- `suma_maxima_cruzada(arr, izq, med, der)`: Calcula la suma máxima de un subarreglo que cruza el punto medio y devuelve la suma y los índices de inicio y fin de este sub arreglo. Sirve como funcion auxiliar para la siguiente funcion, ya que tambien es necesario verificar los sub arreglos que cruzan la mitad entre los arreglos al unirlos.\n",
    "\n",
    "- `suma_maxima_subarreglo(arr, izq, der)`: Divide el arreglo a la mitad, calcula las sumas máximas para ambas mitades con recursión, y la suma máxima cruzada. Devuelve la suma máxima y los índices correspondientes.\n",
    "\n",
    "La función de la solución completa se describe de la siguiente manera:\n",
    "\n",
    "1. Encontramos el subarreglo con suma máxima, considerando únicamente las posibilidades lineales.\n",
    "\n",
    "    `max_lineal, inicio_lineal, fin_lineal = suma_maxima_subarreglo(C, 0, n - 1)`\n",
    "\n",
    "2. Revisamos los casos circulares. Para ello, es conveniente invertir los signos de $C$ de tal manera que podamos usar la función `suma_maxima_subarreglo()` para encontrar el subarreglo intermedio menos valioso. Así, de la suma de todos los elementos del arreglo, podemos restar ese segmento menos valioso para obtener la suma máxima circular.\n",
    "\n",
    "    Notemos que si `max_circular == 0`, entonces todos los números de $C$ son negativos, y por lo tanto, encontramos el \"negativo menos negativo\" en el paso anterior y lo devolvemos.\n",
    "\n",
    "    Si no, devolvemos el mayor de la suma lineal y la suma circular.\n",
    "\n",
    "Ahora analicemos la complejidad:\n",
    "\n",
    "1. `suma_maxima_cruzada`: Se hace un unico barrido al arreglo, $O(n)$.\n",
    "\n",
    "2. `suma_maxima_subarreglo`: El arreglo se divide en dos mitades recursivamente hasta que cada mitad tiene solo un elemento. Al combinar el resultado de cada mitad, se calcula la suma máxima que cruza la mitad entre ambas mitades ($O(n)$). Por el teorema maestro: \n",
    "\n",
    "$$T(n) = 2T(\\frac{n}{2}) + O(n) \\rightarrow T(n) = O(n \\log n)$$\n",
    "\n",
    "3. **Solución completa**:\n",
    "\n",
    "    - Calcular la suma máxima lineal: $O(n \\log n)$\n",
    "    - Calcular la suma total del arreglo: $O(n)$\n",
    "    - Calcular la suma menos valiosa del arreglo invertido: $O(n \\log n)$\n",
    "\n",
    "    Por lo tanto, la complejidad esta acotada por $O(n \\log n)$"
   ]
  },
  {
   "cell_type": "markdown",
   "metadata": {},
   "source": [
    "#### ***Solución en Python:***"
   ]
  },
  {
   "cell_type": "code",
   "execution_count": null,
   "metadata": {},
   "outputs": [],
   "source": [
    "def ejercicio3(C):\n",
    "    def suma_maxima_cruzada(arr, izq, med, der):\n",
    "        suma_izq = -float('inf')\n",
    "        total = 0\n",
    "        max_izq = med\n",
    "        for i in range(med, izq - 1, -1):\n",
    "            total += arr[i]\n",
    "            if total > suma_izq:\n",
    "                suma_izq = total\n",
    "                max_izq = i\n",
    "        suma_der = -float('inf')\n",
    "        total = 0\n",
    "        max_der = med + 1\n",
    "        for i in range(med + 1, der + 1):\n",
    "            total += arr[i]\n",
    "            if total > suma_der:\n",
    "                suma_der = total\n",
    "                max_der = i\n",
    "        return suma_izq + suma_der, max_izq, max_der\n",
    "\n",
    "    def suma_maxima_subarreglo(arr, izq, der):\n",
    "        if izq == der:\n",
    "            return arr[izq], izq, der\n",
    "        med = (izq + der) // 2\n",
    "        max_izq, inicio_izq, fin_izq = suma_maxima_subarreglo(arr, izq, med)\n",
    "        max_der, inicio_der, fin_der = suma_maxima_subarreglo(arr, med + 1, der)\n",
    "        max_cruz, inicio_cruz, fin_cruz = suma_maxima_cruzada(arr, izq, med, der)\n",
    "        if max(max_izq, max_der, max_cruz) == max_izq:\n",
    "            return max_izq, inicio_izq, fin_izq\n",
    "        elif max(max_izq, max_der, max_cruz) == max_der:\n",
    "            return max_der, inicio_der, fin_der\n",
    "        return max_cruz, inicio_cruz, fin_cruz\n",
    "\n",
    "    n = len(C)\n",
    "    max_lineal, inicio_lineal, fin_lineal = suma_maxima_subarreglo(C, 0, n - 1)\n",
    "    total = sum(C)\n",
    "    C_neg = [-x for x in C]\n",
    "    min_invertido, inicio_invertido, fin_invertido = suma_maxima_subarreglo(C_neg, 0, n - 1)\n",
    "    max_circular = total + min_invertido\n",
    "    if max_circular == 0:\n",
    "        return max_lineal, C[inicio_lineal:fin_lineal + 1]\n",
    "    if max_lineal > max_circular:\n",
    "        return max_lineal, C[inicio_lineal:fin_lineal + 1]\n",
    "    return max_circular, C[fin_invertido + 1:] + C[:inicio_invertido]"
   ]
  },
  {
   "cell_type": "markdown",
   "metadata": {},
   "source": [
    "#### ***Ejecución de la instancia:***"
   ]
  },
  {
   "cell_type": "code",
   "execution_count": 8,
   "metadata": {},
   "outputs": [
    {
     "name": "stdout",
     "output_type": "stream",
     "text": [
      "La suma maxima es 225 y el subarreglo es [49, -6, 44, 40, -34, 44, 2, 6, -10, 9, -9, 30, -31, -14, 7, -5, 36, 27, 40]\n"
     ]
    }
   ],
   "source": [
    "C = [-6, 44, 40, -34, 44, 2, 6, -10, 9, -9, 30, -31, -14, 7, -5, 36, 27, 40, -34, -42, -34, -48, 42, -34, 0, -44, 0 -38, 49]\n",
    "maximo, subarreglo = ejercicio3(C)\n",
    "print(f\"La suma maxima es {maximo} y el subarreglo es {subarreglo}\")"
   ]
  },
  {
   "cell_type": "markdown",
   "metadata": {},
   "source": [
    "![Figura 2_2](img/Figura2_2.png \"Ejemplo del problema 4\")"
   ]
  },
  {
   "cell_type": "markdown",
   "metadata": {},
   "source": [
    "### ***5.***"
   ]
  },
  {
   "cell_type": "markdown",
   "metadata": {},
   "source": [
    "Nos dan una lista $L$ en donde cada elemento es una pareja `(persona, numero entero)`. En total hay $n$ parejas. Las personas, números e incluso parejas se pueden repetir. Queremos de aquí extraer otra lista $M$ que sólo aparezcan para cada persona, las 3 parejas con el mayor número entero (si hay menos de 3 queremos todas). La lista $M$ debe respetar el orden de $L$. En caso de que haya empate en una pareja, debe aparecer la que sale primero en $L$. Por ejemplo, si la lista es:\n",
    "\n",
    "$$L=[(A,5), (B,2), (B,1), (A,5), (A,8), (C,0), (C,4), (D,1), (B,9), (B,0), (A,8)]$$\n",
    "\n",
    "Los números de las $A$ de mayor a menor son $8,8,5,5...,$ así que el top 3 es $8,8,5$. Aunque el $(A,5)$ aparece dos veces, nos quedamos con su primera aparición. Como los $C$ sólo tienen dos parejas, aparecen ambas, y algo similar para los $D$. El $(B,0)$ no aparece porque para las $B$ el top 3 es $2,1,9$. Ya elegidas para las parejas que se quedan, debemos ponerlas en el orden que tenían en $L$.\n",
    "\n",
    "Debemos dar como respuesta entonces\n",
    "\n",
    "$$M=[(A,5), (B,2), (B,1), (A,8), (C,0), (C,4), (D,1), (B,9), (A,8)]$$\n",
    "\n",
    "**Instancia.**\n",
    "\n",
    "$$L = [(A, 5),(C, 1),(E, 8),(E, 9),(E, 2),(D, 5),(B, 4),(E, 5),$$\n",
    "$$(E, 8),(C, 3),(B, 9),(B, 0),(C, 9),(C, 1),(E, 5),(B, 7),$$\n",
    "$$(A, 7),(F, 1),(B, 7),(B, 1),(E, 8),(F, 3),(E, 6),(E, 2),$$\n",
    "$$(C, 8),(F, 0),(F, 1),(E, 0),(D, 3),(A, 0),(B, 3),(A, 5),$$\n",
    "$$(D, 3),(C, 2),(B, 3),(E, 7),(F, 1),(D, 3),(B, 8),(C, 6),$$\n",
    "$$(D, 1),(C, 0),(F, 4),(A, 6),(F, 7),(E, 7),(D, 8),(B, 8)]$$"
   ]
  },
  {
   "cell_type": "markdown",
   "metadata": {},
   "source": [
    "- Tipo de problema:\n",
    "- Espacio de estados (análisis):\n",
    "- Mejora:\n",
    "- Solución en Python:"
   ]
  },
  {
   "cell_type": "code",
   "execution_count": null,
   "metadata": {},
   "outputs": [],
   "source": []
  },
  {
   "cell_type": "markdown",
   "metadata": {},
   "source": [
    "- Ejecución de la instancia:"
   ]
  },
  {
   "cell_type": "code",
   "execution_count": null,
   "metadata": {},
   "outputs": [],
   "source": []
  },
  {
   "cell_type": "markdown",
   "metadata": {},
   "source": [
    "### ***6.***"
   ]
  },
  {
   "cell_type": "markdown",
   "metadata": {},
   "source": [
    "Se quiere saber cuál es el mejor valor de $k$ de 1 a $n$ para maximizar\n",
    "las siguientes funciones, y para dicho valor que maximiza, la evaluación\n",
    "correspondiente.\n",
    "\n",
    "- $f(k) = \\sin(1) + 2 \\sin(2) + 3 \\sin(3) + ... + k \\sin(k)$, donde $\\sin$ se evalúa en radianes.\n",
    "- $h(k) = \\sin(1) + 2 \\sin(\\frac{1}{2}) + 3 \\sin(\\frac{1}{3}) + ... + k \\sin(\\frac{1}{k})$, donde $\\sin$ se evalúa en radianes.\n",
    "\n",
    "**Instancia.** Resuelve el problema para $n=10^6$"
   ]
  },
  {
   "cell_type": "markdown",
   "metadata": {},
   "source": [
    "- Tipo de problema:\n",
    "- Espacio de estados (análisis):\n",
    "- Mejora:\n",
    "- Solución en Python:"
   ]
  },
  {
   "cell_type": "code",
   "execution_count": null,
   "metadata": {},
   "outputs": [],
   "source": []
  },
  {
   "cell_type": "markdown",
   "metadata": {},
   "source": [
    "- Ejecución de la instancia:"
   ]
  },
  {
   "cell_type": "code",
   "execution_count": null,
   "metadata": {},
   "outputs": [],
   "source": []
  },
  {
   "cell_type": "markdown",
   "metadata": {},
   "source": [
    "### ***7.***"
   ]
  },
  {
   "cell_type": "markdown",
   "metadata": {},
   "source": [
    "Una cuadrícula de $2 \\times n$ representa un laboratorio de cómputo. Con un cuadrado negro indicamos que la computadora de ese lugar está descompuesta y no se puede usar. Con uno blanco que sí se puede usar. Queremos meter a 6 estudiantes en ese salón. Pero, además, como hay una pandemia suelta, dos estudiantes no pueden quedar en cuadrados que compartan arista. Dados los cuadrados de computadoras descompuestas, ¿de cuántas\n",
    "formas se puede colocar a los estudiantes?\n",
    "\n",
    "Por ejemplo, en la Figura 3, arriba tenemos un posible salón. En esa misma\n",
    "figura, abajo en verde se indica una manera de colocar a 6 estudiantes.\n",
    "\n",
    "![Figura 3](img/Figura3.png \"Ejemplo de salon 2 x 8\")\n",
    "\n",
    "**Instancia.** La de la figura 4.\n",
    "\n",
    "![Figura 4](img/Figura4.png \"Instancia para resolver\")"
   ]
  },
  {
   "cell_type": "markdown",
   "metadata": {},
   "source": [
    "- Tipo de problema:\n",
    "- Espacio de estados (análisis):\n",
    "- Mejora:\n",
    "- Solución en Python:"
   ]
  },
  {
   "cell_type": "code",
   "execution_count": null,
   "metadata": {},
   "outputs": [],
   "source": []
  },
  {
   "cell_type": "markdown",
   "metadata": {},
   "source": [
    "- Ejecución de la instancia:"
   ]
  },
  {
   "cell_type": "code",
   "execution_count": null,
   "metadata": {},
   "outputs": [],
   "source": []
  },
  {
   "cell_type": "markdown",
   "metadata": {},
   "source": [
    "### ***8.***"
   ]
  },
  {
   "cell_type": "markdown",
   "metadata": {},
   "source": [
    "Se tiene un **cubo**. Un acomodo **bueno** consiste en poner sobre sus vértices 8 números distintos del 1 al $n$. Un acomodo es **muy bueno** si la suma de los números en cada cara del cubo es la misma para todas las caras. Da todos los acomodos muy buenos.\n",
    "\n",
    "**Instancia.** Resolver el problema para $n=15$."
   ]
  },
  {
   "cell_type": "markdown",
   "metadata": {},
   "source": [
    "#### ***Tipo de problema***:"
   ]
  },
  {
   "cell_type": "markdown",
   "metadata": {},
   "source": [
    "**Problema.** Dar todos los acomodos muy buenos. Es un problema de enumeración."
   ]
  },
  {
   "cell_type": "markdown",
   "metadata": {},
   "source": [
    "#### ***Espacio de estados (análisis):***"
   ]
  },
  {
   "cell_type": "markdown",
   "metadata": {},
   "source": [
    "**Entrada.** $n$, donde el rango de números a considerar va desde $1,...,n$\n",
    "\n",
    "**Salida.** Una lista de listas con todos los acomodos muy buenos (cada acomodo es de tamaño 8).\n",
    "\n",
    "El espacio de estados consiste de todos los muestreos posibles de 8 números, de $n$ en total; esto es, todos los acomodos **buenos** (no necesariamente también **muy buenos**).\n",
    "\n",
    "Para representar los vértices del cubo, hacemos un mapeo de los índices del posible acomodo con las posiciones de los vértices del cubo. Queda de la siguiente manera:\n",
    "\n",
    "- Cara 1: vértices $[0,1,2,3]$\n",
    "- Cara 2: vértices $[0,2,4,6]$\n",
    "- Cara 3: vértices $[1,3,5,7]$\n",
    "- Cara 4: vértices $[4,5,6,7]$\n",
    "- Cara 5: vértices $[2,3,6,7]$\n",
    "- Cara 6: vértices $[0,1,4,5]$\n",
    "\n",
    "Para ello, se necesitarían $^nP_8 = \\frac{n!}{(n-8)!} \\approx O(n^8)$ verificaciones, donde todas las sumas de vértices de cada cara deben ser iguales.\n",
    "\n",
    "Para que un acomodo sea **muy bueno** se debe cumplir que\n",
    "\n",
    "`sum(Cara 1) == sum(Cara 2) == sum(Cara 3) == sum(Cara 4) == sum(Cara 5) == sum(Cara 6)`\n",
    "\n",
    "Las sumas y comparaciones se hacen en tiempo constante.\n",
    "\n",
    "Por lo tanto, el espacio de estados toma tiempo $O(n^8)$"
   ]
  },
  {
   "cell_type": "markdown",
   "metadata": {},
   "source": [
    "#### ***Mejora:***"
   ]
  },
  {
   "cell_type": "markdown",
   "metadata": {},
   "source": []
  },
  {
   "cell_type": "markdown",
   "metadata": {},
   "source": [
    "#### ***Solución en Python:***"
   ]
  },
  {
   "cell_type": "code",
   "execution_count": null,
   "metadata": {},
   "outputs": [],
   "source": [
    "from itertools import combinations, permutations"
   ]
  },
  {
   "cell_type": "code",
   "execution_count": null,
   "metadata": {},
   "outputs": [],
   "source": [
    "def ejercicio8(n):\n",
    "    numeros = list(range(1, n+1))\n",
    "    count = 0\n",
    "    with open(\"ejercicio8.txt\", \"w\") as f:\n",
    "        for combinacion in combinations(numeros, 8):\n",
    "            for permutacion in permutations(combinacion):\n",
    "                v0, v1, v2, v3, v4, v5, v6, v7 = permutacion\n",
    "                cara_1 = v0 + v1 + v2 + v3\n",
    "                cara_2 = v0 + v2 + v4 + v6\n",
    "                cara_3 = v1 + v3 + v5 + v7\n",
    "                cara_4 = v4 + v5 + v6 + v7\n",
    "                cara_5 = v2 + v3 + v6 + v7\n",
    "                cara_6 = v0 + v1 + v4 + v5\n",
    "                if (cara_1 == cara_2 == cara_3 == cara_4 == cara_5 == cara_6):\n",
    "                    f.write(f\"[{v0}, {v1}, {v2}, {v3}, {v4}, {v5}, {v6}, {v7}]\\n\")\n",
    "                    count += 1\n",
    "    return count"
   ]
  },
  {
   "cell_type": "markdown",
   "metadata": {},
   "source": [
    "#### ***Ejecución de la instancia:***"
   ]
  },
  {
   "cell_type": "code",
   "execution_count": null,
   "metadata": {},
   "outputs": [
    {
     "name": "stdout",
     "output_type": "stream",
     "text": [
      "Número de acomodos muy buenos encontrados: 53616\n"
     ]
    }
   ],
   "source": [
    "n = 15\n",
    "acomodos_muy_buenos = ejercicio8(n)\n",
    "print(\"Número de acomodos muy buenos encontrados:\", acomodos_muy_buenos)"
   ]
  }
 ],
 "metadata": {
  "kernelspec": {
   "display_name": "base",
   "language": "python",
   "name": "python3"
  },
  "language_info": {
   "codemirror_mode": {
    "name": "ipython",
    "version": 3
   },
   "file_extension": ".py",
   "mimetype": "text/x-python",
   "name": "python",
   "nbconvert_exporter": "python",
   "pygments_lexer": "ipython3",
   "version": "3.12.3"
  }
 },
 "nbformat": 4,
 "nbformat_minor": 2
}
