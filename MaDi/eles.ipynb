{
 "cells": [
  {
   "cell_type": "code",
   "execution_count": 10,
   "metadata": {},
   "outputs": [],
   "source": [
    "def max_eles(n, E):\n",
    "    def hay_estorbo(i,j,E):\n",
    "        return (i,j) in E\n",
    "    def puntos_azules(n,E):\n",
    "        PA = []\n",
    "        for i in range(3):\n",
    "            for j in range(n-1):\n",
    "                if not hay_estorbo(i,j,E) and not hay_estorbo(i+1,j,E) and not hay_estorbo(i+1, j+1,E):\n",
    "                    PA.append([i,j])\n",
    "        return PA\n",
    "    def bt_llenado(v, PA, maximo, max_acomodo):\n",
    "        if sum(v) > maximo:\n",
    "            maximo, max_acomodo = sum(v), v.copy()\n",
    "        if len(v) == len(PA):\n",
    "            return maximo, max_acomodo\n",
    "        candidatos = [0]\n",
    "        pos_piezas_puestas = []\n",
    "        for k in range(len(v)):\n",
    "            if v[k]==1:\n",
    "                pos_piezas_puestas.append(PA[k])\n",
    "        set_puestas = set(pos_piezas_puestas)\n",
    "        i = PA[len(v)][0]\n",
    "        j = PA[len(v)][1]\n",
    "        set_malo = set(((i-1, j-1),(i-1,j),(i,j-1),(i,j+1),(i+1,j),(i+1,j+1)))\n",
    "        if set_malo.intersection(set_puestas) == set():\n",
    "            candidatos.append(1)\n",
    "        for c in candidatos:\n",
    "            v.append(c)\n",
    "            maximo, max_acomodo = bt_llenado(v, PA, maximo, max_acomodo)\n",
    "            v.pop()\n",
    "        return maximo, max_acomodo\n",
    "    PA = puntos_azules(n, E)\n",
    "    maximo, max_acomodo = bt_llenado([], PA, 0, [])\n",
    "    print(\"Termine, lo mejor es:\")\n",
    "    print(maximo)\n",
    "    print(max_acomodo)"
   ]
  },
  {
   "cell_type": "code",
   "execution_count": 11,
   "metadata": {},
   "outputs": [
    {
     "ename": "TypeError",
     "evalue": "unhashable type: 'list'",
     "output_type": "error",
     "traceback": [
      "\u001b[1;31m---------------------------------------------------------------------------\u001b[0m",
      "\u001b[1;31mTypeError\u001b[0m                                 Traceback (most recent call last)",
      "Cell \u001b[1;32mIn[11], line 1\u001b[0m\n\u001b[1;32m----> 1\u001b[0m max_eles(\u001b[38;5;241m3\u001b[39m, [(\u001b[38;5;241m0\u001b[39m,\u001b[38;5;241m1\u001b[39m), (\u001b[38;5;241m0\u001b[39m,\u001b[38;5;241m2\u001b[39m), (\u001b[38;5;241m1\u001b[39m,\u001b[38;5;241m1\u001b[39m)])\n",
      "Cell \u001b[1;32mIn[10], line 33\u001b[0m, in \u001b[0;36mmax_eles\u001b[1;34m(n, E)\u001b[0m\n\u001b[0;32m     31\u001b[0m     \u001b[38;5;28;01mreturn\u001b[39;00m maximo, max_acomodo\n\u001b[0;32m     32\u001b[0m PA \u001b[38;5;241m=\u001b[39m puntos_azules(n, E)\n\u001b[1;32m---> 33\u001b[0m maximo, max_acomodo \u001b[38;5;241m=\u001b[39m bt_llenado([], PA, \u001b[38;5;241m0\u001b[39m, [])\n\u001b[0;32m     34\u001b[0m \u001b[38;5;28mprint\u001b[39m(\u001b[38;5;124m\"\u001b[39m\u001b[38;5;124mTermine, lo mejor es:\u001b[39m\u001b[38;5;124m\"\u001b[39m)\n\u001b[0;32m     35\u001b[0m \u001b[38;5;28mprint\u001b[39m(maximo)\n",
      "Cell \u001b[1;32mIn[10], line 29\u001b[0m, in \u001b[0;36mmax_eles.<locals>.bt_llenado\u001b[1;34m(v, PA, maximo, max_acomodo)\u001b[0m\n\u001b[0;32m     27\u001b[0m \u001b[38;5;28;01mfor\u001b[39;00m c \u001b[38;5;129;01min\u001b[39;00m candidatos:\n\u001b[0;32m     28\u001b[0m     v\u001b[38;5;241m.\u001b[39mappend(c)\n\u001b[1;32m---> 29\u001b[0m     maximo, max_acomodo \u001b[38;5;241m=\u001b[39m bt_llenado(v, PA, maximo, max_acomodo)\n\u001b[0;32m     30\u001b[0m     v\u001b[38;5;241m.\u001b[39mpop()\n\u001b[0;32m     31\u001b[0m \u001b[38;5;28;01mreturn\u001b[39;00m maximo, max_acomodo\n",
      "Cell \u001b[1;32mIn[10], line 29\u001b[0m, in \u001b[0;36mmax_eles.<locals>.bt_llenado\u001b[1;34m(v, PA, maximo, max_acomodo)\u001b[0m\n\u001b[0;32m     27\u001b[0m \u001b[38;5;28;01mfor\u001b[39;00m c \u001b[38;5;129;01min\u001b[39;00m candidatos:\n\u001b[0;32m     28\u001b[0m     v\u001b[38;5;241m.\u001b[39mappend(c)\n\u001b[1;32m---> 29\u001b[0m     maximo, max_acomodo \u001b[38;5;241m=\u001b[39m bt_llenado(v, PA, maximo, max_acomodo)\n\u001b[0;32m     30\u001b[0m     v\u001b[38;5;241m.\u001b[39mpop()\n\u001b[0;32m     31\u001b[0m \u001b[38;5;28;01mreturn\u001b[39;00m maximo, max_acomodo\n",
      "Cell \u001b[1;32mIn[10], line 21\u001b[0m, in \u001b[0;36mmax_eles.<locals>.bt_llenado\u001b[1;34m(v, PA, maximo, max_acomodo)\u001b[0m\n\u001b[0;32m     19\u001b[0m     \u001b[38;5;28;01mif\u001b[39;00m v[k]\u001b[38;5;241m==\u001b[39m\u001b[38;5;241m1\u001b[39m:\n\u001b[0;32m     20\u001b[0m         pos_piezas_puestas\u001b[38;5;241m.\u001b[39mappend(PA[k])\n\u001b[1;32m---> 21\u001b[0m set_puestas \u001b[38;5;241m=\u001b[39m \u001b[38;5;28mset\u001b[39m(pos_piezas_puestas)\n\u001b[0;32m     22\u001b[0m i \u001b[38;5;241m=\u001b[39m PA[\u001b[38;5;28mlen\u001b[39m(v)][\u001b[38;5;241m0\u001b[39m]\n\u001b[0;32m     23\u001b[0m j \u001b[38;5;241m=\u001b[39m PA[\u001b[38;5;28mlen\u001b[39m(v)][\u001b[38;5;241m1\u001b[39m]\n",
      "\u001b[1;31mTypeError\u001b[0m: unhashable type: 'list'"
     ]
    }
   ],
   "source": [
    "max_eles(3, [(0,1), (0,2), (1,1)])"
   ]
  },
  {
   "cell_type": "code",
   "execution_count": null,
   "metadata": {},
   "outputs": [],
   "source": [
    "max_eles(7, [(0,1), (0,2), (2,1), (1,2), (2,1), (2,2), (3,1), (3,2), (4,1), (4,2), (5,1), (5,2), (6,1), (6,2)])"
   ]
  }
 ],
 "metadata": {
  "kernelspec": {
   "display_name": "base",
   "language": "python",
   "name": "python3"
  },
  "language_info": {
   "codemirror_mode": {
    "name": "ipython",
    "version": 3
   },
   "file_extension": ".py",
   "mimetype": "text/x-python",
   "name": "python",
   "nbconvert_exporter": "python",
   "pygments_lexer": "ipython3",
   "version": "3.12.3"
  }
 },
 "nbformat": 4,
 "nbformat_minor": 2
}
