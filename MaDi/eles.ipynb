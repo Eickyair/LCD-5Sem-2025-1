{
 "cells": [
  {
   "cell_type": "code",
   "execution_count": null,
   "metadata": {},
   "outputs": [],
   "source": [
    "def max_eles(n, E):\n",
    "    def hay_estorbo(i,j,E):\n",
    "        return (i,j) in E\n",
    "    def puntos_azules(n,E):\n",
    "        PA = []\n",
    "        for i in range(3):\n",
    "            for j in range(n-1):\n",
    "                if not hay_estorbo(i,j,E) and not hay_estorbo(i+1,j,E) and not hay_estorbo(i+1, j+1,E):\n",
    "                    PA.append((i,j))\n",
    "        return PA\n",
    "    def bt_llenado(v, PA, maximo):\n",
    "        if sum(v) > maximo:\n",
    "            maximo, max_acomodo = sum(v), v\n",
    "        if len(v) == len(PA):\n",
    "            return\n",
    "        candidatos = [0]\n",
    "        pos_piezas_puestas = []\n",
    "        for j in range(len(v)):\n",
    "            if j==1:\n",
    "                pos_piezas_puestas.append(PA[j])\n",
    "        i = PA[len(v)][0]\n",
    "        j = PA[len(v)][1]\n",
    "        set_puestas = set(pos_piezas_puestas)\n",
    "        set_malo = ((i-1, j-1),(i-1,j),(i,j-1),(i, j+1),(i+1,j),(i+1,j+1))\n",
    "        if set_malo.intersection(set_puestas) == set():\n",
    "            candidatos.append(1)\n",
    "        for c in candidatos:\n",
    "            v.append(c)\n",
    "            maximo, max_acomodo = bt_llenado(v, PA, maximo)\n",
    "            v.pop()\n",
    "\n",
    "    PA = puntos_azules(n, E)"
   ]
  },
  {
   "cell_type": "code",
   "execution_count": 4,
   "metadata": {},
   "outputs": [
    {
     "name": "stdout",
     "output_type": "stream",
     "text": [
      "[(1, 0), (2, 0), (2, 1)]\n"
     ]
    }
   ],
   "source": [
    "max_eles(3, [(0,1), (0,2), (1,1)])"
   ]
  }
 ],
 "metadata": {
  "kernelspec": {
   "display_name": "base",
   "language": "python",
   "name": "python3"
  },
  "language_info": {
   "codemirror_mode": {
    "name": "ipython",
    "version": 3
   },
   "file_extension": ".py",
   "mimetype": "text/x-python",
   "name": "python",
   "nbconvert_exporter": "python",
   "pygments_lexer": "ipython3",
   "version": "3.12.3"
  }
 },
 "nbformat": 4,
 "nbformat_minor": 2
}
