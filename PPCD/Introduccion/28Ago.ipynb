{
 "cells": [
  {
   "cell_type": "markdown",
   "metadata": {},
   "source": [
    "# Clasificador euclideano determinista a priori"
   ]
  },
  {
   "cell_type": "code",
   "execution_count": 2,
   "metadata": {},
   "outputs": [],
   "source": [
    "import numpy as np # Cómputo numérico\n",
    "from sympy import Matrix, symbols, log, simplify # Cómputo simbólico"
   ]
  },
  {
   "cell_type": "code",
   "execution_count": 3,
   "metadata": {},
   "outputs": [],
   "source": [
    "def clasif_e(samples):\n",
    "    # Vector genérico usando Sympy\n",
    "    X = Matrix([symbols('x' + str(i+1)) for i in range(samples[0].shape[0])])\n",
    "    print(' Variables : ', X)\n",
    "    fds = []\n",
    "    for s in samples:\n",
    "        m = Matrix(np.mean(s, axis=1))\n",
    "        fds.append(simplify(X.T*m - (m.T*m)/2))\n",
    "    return fds"
   ]
  },
  {
   "cell_type": "code",
   "execution_count": 4,
   "metadata": {},
   "outputs": [
    {
     "name": "stdout",
     "output_type": "stream",
     "text": [
      " Variables :  Matrix([[x1], [x2], [x3], [x4]])\n",
      "[Matrix([[1.0*x1 + 3.0*x2 + 5.0*x3 + 1.0*x4 - 18.0]]), Matrix([[7.0*x1 + 8.0*x2 + 1.0*x3 + 7.0*x4 - 81.5]])]\n"
     ]
    },
    {
     "data": {
      "text/latex": [
       "$\\displaystyle \\left[\\begin{matrix}1.0 x_{1} + 3.0 x_{2} + 5.0 x_{3} + 1.0 x_{4} - 18.0\\end{matrix}\\right]$"
      ],
      "text/plain": [
       "Matrix([[1.0*x1 + 3.0*x2 + 5.0*x3 + 1.0*x4 - 18.0]])"
      ]
     },
     "metadata": {},
     "output_type": "display_data"
    },
    {
     "data": {
      "text/latex": [
       "$\\displaystyle \\left[\\begin{matrix}7.0 x_{1} + 8.0 x_{2} + 1.0 x_{3} + 7.0 x_{4} - 81.5\\end{matrix}\\right]$"
      ],
      "text/plain": [
       "Matrix([[7.0*x1 + 8.0*x2 + 1.0*x3 + 7.0*x4 - 81.5]])"
      ]
     },
     "metadata": {},
     "output_type": "display_data"
    },
    {
     "name": "stdout",
     "output_type": "stream",
     "text": [
      "fd1:  Matrix([[4.00000000000000]])\n",
      "fd2:  Matrix([[-42.5000000000000]])\n"
     ]
    }
   ],
   "source": [
    "w1 = np.array([[1,5,6,1],[2,3,4,-2],[0,1,5,3],[1,3,5,2]]).T\n",
    "w2 = np.array([[6,8,-1,6],[7,9,3,6],[8,7,1,9]]).T\n",
    "samples = (w1,w2)\n",
    "fds = clasif_e(samples)\n",
    "print(fds)\n",
    "display(fds[0])\n",
    "display(fds[1])\n",
    "for fd in range(len(fds)):\n",
    "    print('fd' + str(fd+1) + ': ', fds[fd].evalf(subs={'x1':3, 'x2':1, 'x3':3, 'x4':1}))"
   ]
  },
  {
   "cell_type": "markdown",
   "metadata": {},
   "source": [
    "### Tarea\n",
    "\n",
    "Obtener las funciones discriminantes para las muestras:\n",
    "\n",
    "$$ \\omega_1 =  \\{(0.5, 10.5),(1, 12.5),(3, 10.5),(3, 12.5),(3, 14.5),(3, 18),(5, 18),(5, 16),(5, 14.5),(5, 13)\\} $$\n",
    "\n",
    "$$ \\omega_2 = \\{(6, 9),(8, 10),(9, 11),(8.5, 12),(7, 13.5),(8, 16)\\} $$"
   ]
  },
  {
   "cell_type": "markdown",
   "metadata": {},
   "source": [
    "Para calcular el centroide de las muestras, se calcula la media de cada fila."
   ]
  },
  {
   "cell_type": "markdown",
   "metadata": {},
   "source": [
    "$$ \\omega_1 = \\left\\{ \\begin{pmatrix} 0.5 \\\\ 10.5 \\end{pmatrix},  \\begin{pmatrix} 1 \\\\ 12.5 \\end{pmatrix}, \\begin{pmatrix} 3 \\\\ 10.5 \\end{pmatrix}, \\begin{pmatrix} 3 \\\\ 12.5 \\end{pmatrix}, \\begin{pmatrix} 3 \\\\ 14.5 \\end{pmatrix},\\begin{pmatrix} 3 \\\\ 18 \\end{pmatrix},\\begin{pmatrix} 5 \\\\ 18 \\end{pmatrix},\\begin{pmatrix} 5 \\\\ 16 \\end{pmatrix},\\begin{pmatrix} 5 \\\\ 14.5 \\end{pmatrix},\\begin{pmatrix} 5 \\\\ 13 \\end{pmatrix} \\right\\} $$"
   ]
  },
  {
   "cell_type": "markdown",
   "metadata": {},
   "source": [
    "$$ \\omega_2 = \\left\\{ \\begin{pmatrix} 6 \\\\ 9 \\end{pmatrix},  \\begin{pmatrix} 8 \\\\ 10 \\end{pmatrix}, \\begin{pmatrix} 9 \\\\ 11 \\end{pmatrix}, \\begin{pmatrix} 8.5 \\\\ 12 \\end{pmatrix}, \\begin{pmatrix} 7 \\\\ 13.5 \\end{pmatrix}, \\begin{pmatrix} 8 \\\\ 16 \\end{pmatrix} \\right\\} $$"
   ]
  },
  {
   "cell_type": "markdown",
   "metadata": {},
   "source": [
    "Los centroides de las dos clases son:"
   ]
  },
  {
   "cell_type": "code",
   "execution_count": 5,
   "metadata": {},
   "outputs": [
    {
     "name": "stdout",
     "output_type": "stream",
     "text": [
      "[ 3.35 14.  ]\n",
      "[ 7.75       11.91666667]\n"
     ]
    }
   ],
   "source": [
    "omega1 = np.array([[0.5, 10.5],[1, 12.5],[3, 10.5],[3, 12.5],[3, 14.5],[3, 18],[5, 18],[5, 16],[5, 14.5],[5, 13]]).T\n",
    "omega2 = np.array([[6, 9],[8, 10],[9, 11],[8.5, 12],[7, 13.5],[8, 16]]).T\n",
    "z_1 = np.mean(omega1, axis=1)\n",
    "z_2 = np.mean(omega2, axis=1)\n",
    "print(z_1)\n",
    "print(z_2)"
   ]
  },
  {
   "cell_type": "markdown",
   "metadata": {},
   "source": [
    "$$ z_1 = \\left\\{ \\begin{pmatrix} 3.35 \\\\ 14 \\end{pmatrix} \\right\\} $$"
   ]
  },
  {
   "cell_type": "markdown",
   "metadata": {},
   "source": [
    "$$ z_2 = \\left\\{ \\begin{pmatrix} 7.75 \\\\ 11.9166 \\end{pmatrix} \\right\\} $$"
   ]
  },
  {
   "cell_type": "markdown",
   "metadata": {},
   "source": [
    "Las funciones discrimantes son:"
   ]
  },
  {
   "cell_type": "markdown",
   "metadata": {},
   "source": [
    "$$ fd_K(X) = X^T \\cdot Z_K - \\frac{1}{2} \\cdot Z^T_K \\cdot Z_K \\quad \\quad \\forall k \\in K  $$"
   ]
  },
  {
   "cell_type": "markdown",
   "metadata": {},
   "source": [
    "$$ fd_1(X) = X^T \\cdot \\begin{pmatrix} 3.35 \\\\ 14 \\end{pmatrix} - \\frac{1}{2} \\cdot \\begin{pmatrix} 3.35 \\\\ 14 \\end{pmatrix}^T \\cdot \\begin{pmatrix} 3.35 \\\\ 14 \\end{pmatrix} $$"
   ]
  },
  {
   "cell_type": "markdown",
   "metadata": {},
   "source": [
    "$$ fd_2(X) = X^T \\cdot \\begin{pmatrix} 7.75 \\\\ 11.9166 \\end{pmatrix} - \\frac{1}{2} \\cdot \\begin{pmatrix} 7.75 \\\\ 11.9166 \\end{pmatrix}^T \\cdot \\begin{pmatrix} 7.75 \\\\ 11.9166 \\end{pmatrix} $$"
   ]
  },
  {
   "cell_type": "markdown",
   "metadata": {},
   "source": [
    "Desarrollando las operaciones:"
   ]
  },
  {
   "cell_type": "markdown",
   "metadata": {},
   "source": [
    "$$ fd_1 (X) = 3.35 x_1 +14 x_2 - 103.611 $$"
   ]
  },
  {
   "cell_type": "markdown",
   "metadata": {},
   "source": [
    "$$ fd_2(X) = 7.75 x_1 + 11.9166 x_2 - 101.033 $$"
   ]
  },
  {
   "cell_type": "code",
   "execution_count": 6,
   "metadata": {},
   "outputs": [
    {
     "name": "stdout",
     "output_type": "stream",
     "text": [
      " Variables :  Matrix([[x1], [x2]])\n",
      "[Matrix([[3.35*x1 + 14.0*x2 - 103.61125]]), Matrix([[7.75*x1 + 11.9166666666667*x2 - 101.034722222222]])]\n"
     ]
    }
   ],
   "source": [
    "samples = (omega1, omega2)\n",
    "fds = clasif_e(samples)\n",
    "print(fds)"
   ]
  },
  {
   "cell_type": "code",
   "execution_count": 7,
   "metadata": {},
   "outputs": [
    {
     "data": {
      "text/latex": [
       "$\\displaystyle \\left[\\begin{matrix}3.35 x_{1} + 14.0 x_{2} - 103.61125\\end{matrix}\\right]$"
      ],
      "text/plain": [
       "Matrix([[3.35*x1 + 14.0*x2 - 103.61125]])"
      ]
     },
     "metadata": {},
     "output_type": "display_data"
    },
    {
     "data": {
      "text/latex": [
       "$\\displaystyle \\left[\\begin{matrix}7.75 x_{1} + 11.9166666666667 x_{2} - 101.034722222222\\end{matrix}\\right]$"
      ],
      "text/plain": [
       "Matrix([[7.75*x1 + 11.9166666666667*x2 - 101.034722222222]])"
      ]
     },
     "metadata": {},
     "output_type": "display_data"
    }
   ],
   "source": [
    "# fd1\n",
    "display(fds[0])\n",
    "# fd2\n",
    "display(fds[1])"
   ]
  },
  {
   "cell_type": "markdown",
   "metadata": {},
   "source": [
    "Graficamente"
   ]
  },
  {
   "cell_type": "markdown",
   "metadata": {},
   "source": [
    "# Clasificador con distancia de Mahalanobis"
   ]
  },
  {
   "cell_type": "code",
   "execution_count": 8,
   "metadata": {},
   "outputs": [],
   "source": [
    "def clasif_m(samples):\n",
    "    X = Matrix([symbols('x' + str(i+1)) for i in range(samples[0].shape[0])])\n",
    "    print('Variables: ', X)\n",
    "    fds = []\n",
    "    for s in samples:\n",
    "        m = Matrix(np.mean(s, axis=1))\n",
    "        m_cov = np.cov(s, bias=True)\n",
    "        # print(m_cov)\n",
    "        m_ci = Matrix(m_cov).inv()\n",
    "        fds.append(simplify((X.T*m_ci*X)/-2 + X.T*m_ci*m - (m.T*m_ci*m)/2 - Matrix([log(m_ci.det())/2])))\n",
    "    return fds"
   ]
  },
  {
   "cell_type": "code",
   "execution_count": 9,
   "metadata": {},
   "outputs": [
    {
     "name": "stdout",
     "output_type": "stream",
     "text": [
      "Variables:  Matrix([[x1], [x2]])\n",
      "[Matrix([[-1.08695652173913*x1**2 - 1.08695652173913*x1*x2 + 6.95652173913044*x1 - 1.52173913043478*x2**2 + 8.47826086956522*x2 - 16.9768445432953]]), Matrix([[-1.08695652173913*x1**2 - 1.08695652173913*x1*x2 + 27.6086956521739*x1 - 1.52173913043478*x2**2 + 36.304347826087*x2 - 277.411627151991]])]\n"
     ]
    }
   ],
   "source": [
    "w1 = np.array([[1,2],[2,2],[3,1],[2,3],[3,2]]).T\n",
    "w2 = np.array([[8,10],[9,8],[9,9],[8,9],[7,9]]).T\n",
    "samples = (w1,w2)\n",
    "fds = clasif_m(samples)\n",
    "print(fds)"
   ]
  },
  {
   "cell_type": "code",
   "execution_count": 10,
   "metadata": {},
   "outputs": [
    {
     "data": {
      "text/latex": [
       "$\\displaystyle \\left[\\begin{matrix}- 1.08695652173913 x_{1}^{2} - 1.08695652173913 x_{1} x_{2} + 6.95652173913044 x_{1} - 1.52173913043478 x_{2}^{2} + 8.47826086956522 x_{2} - 16.9768445432953\\end{matrix}\\right]$"
      ],
      "text/plain": [
       "Matrix([[-1.08695652173913*x1**2 - 1.08695652173913*x1*x2 + 6.95652173913044*x1 - 1.52173913043478*x2**2 + 8.47826086956522*x2 - 16.9768445432953]])"
      ]
     },
     "metadata": {},
     "output_type": "display_data"
    },
    {
     "data": {
      "text/latex": [
       "$\\displaystyle \\left[\\begin{matrix}- 1.08695652173913 x_{1}^{2} - 1.08695652173913 x_{1} x_{2} + 27.6086956521739 x_{1} - 1.52173913043478 x_{2}^{2} + 36.304347826087 x_{2} - 277.411627151991\\end{matrix}\\right]$"
      ],
      "text/plain": [
       "Matrix([[-1.08695652173913*x1**2 - 1.08695652173913*x1*x2 + 27.6086956521739*x1 - 1.52173913043478*x2**2 + 36.304347826087*x2 - 277.411627151991]])"
      ]
     },
     "metadata": {},
     "output_type": "display_data"
    }
   ],
   "source": [
    "display(fds[0])\n",
    "display(fds[1])"
   ]
  },
  {
   "cell_type": "markdown",
   "metadata": {},
   "source": [
    "### Tarea\n",
    "Obtener las funciones discriminantes para las muestras:\n",
    "$$ \\omega_1 = \\{ (0.5, 10.5),(1, 12.5),(3, 10.5),(3, 12.5),(3, 14.5),(3, 18),(5, 18),(5, 16),(5, 14.5),(5, 13) \\} $$\n",
    "\n",
    "$$ \\omega_2 = \\{ (6, 9),(8, 10),(9, 11),(8.5, 12),(7, 13.5) (8, 16) \\} $$"
   ]
  },
  {
   "cell_type": "markdown",
   "metadata": {},
   "source": [
    "**Nota:** Las matrices de covarianzas no son iguales: se obtendrán funciones discriminantes\n",
    "cónicas."
   ]
  },
  {
   "cell_type": "markdown",
   "metadata": {},
   "source": [
    "$$ \\omega_1 = \\left\\{ \\begin{pmatrix} 0.5 \\\\ 10.5 \\end{pmatrix},  \\begin{pmatrix} 1 \\\\ 12.5 \\end{pmatrix}, \\begin{pmatrix} 3 \\\\ 10.5 \\end{pmatrix}, \\begin{pmatrix} 3 \\\\ 12.5 \\end{pmatrix}, \\begin{pmatrix} 3 \\\\ 14.5 \\end{pmatrix}, \\begin{pmatrix} 3 \\\\ 18 \\end{pmatrix}, \\begin{pmatrix} 5 \\\\ 18 \\end{pmatrix}, \\begin{pmatrix} 5 \\\\ 16 \\end{pmatrix}, \\begin{pmatrix} 5 \\\\ 14.5 \\end{pmatrix}, \\begin{pmatrix} 5 \\\\ 13 \\end{pmatrix} \\right\\} $$"
   ]
  },
  {
   "cell_type": "markdown",
   "metadata": {},
   "source": [
    "$$ \\omega_2 = \\left\\{ \\begin{pmatrix} 6 \\\\ 9 \\end{pmatrix},  \\begin{pmatrix} 8 \\\\ 10 \\end{pmatrix}, \\begin{pmatrix} 9 \\\\ 11 \\end{pmatrix}, \\begin{pmatrix} 8.5 \\\\ 12 \\end{pmatrix}, \\begin{pmatrix} 7 \\\\ 13.5 \\end{pmatrix}, \\begin{pmatrix} 8 \\\\ 16 \\end{pmatrix} \\right\\} $$"
   ]
  },
  {
   "cell_type": "markdown",
   "metadata": {},
   "source": [
    "Las medias (el cálculo es análogo al del centroide) son:"
   ]
  },
  {
   "cell_type": "code",
   "execution_count": 12,
   "metadata": {},
   "outputs": [
    {
     "name": "stdout",
     "output_type": "stream",
     "text": [
      "[ 3.35 14.  ]\n",
      "[ 7.75       11.91666667]\n"
     ]
    }
   ],
   "source": [
    "m_1 = np.mean(omega1, axis=1)\n",
    "m_2 = np.mean(omega2, axis=1)\n",
    "print(m_1)\n",
    "print(m_2)"
   ]
  },
  {
   "cell_type": "markdown",
   "metadata": {},
   "source": [
    "$$ \\vec{m}_1 = \\begin{pmatrix} 3.35 \\\\ 14 \\end{pmatrix}$$\n",
    "\n",
    "$$ \\vec{m}_2 = \\begin{pmatrix} 7.75 \\\\ 11.9166 \\end{pmatrix}$$"
   ]
  },
  {
   "cell_type": "markdown",
   "metadata": {},
   "source": [
    "Las matrices de covarianzas:"
   ]
  },
  {
   "cell_type": "markdown",
   "metadata": {},
   "source": [
    "$$ c11 = \\frac{1}{10} ((0.5-3.35)^2 + (1-3.35)^2 + (3-3.35)^2 + \\cdots + (5-3.35)^2)$$ \n",
    "$$ c11 = 2.5025$$"
   ]
  },
  {
   "cell_type": "markdown",
   "metadata": {},
   "source": [
    "$$ c12 = c21 = \\frac{1}{10}((0.5-3.35)(10.5-14)+(1-3.35)(12.5-14)+(3-3.35)(10.5-14) + \\cdots + (5-3.35)(13-14))$$\n",
    "$$ c12 = 2.275 $$"
   ]
  },
  {
   "cell_type": "markdown",
   "metadata": {},
   "source": [
    "$$ c22 = \\frac{1}{10} ((10.5-14)^2 + (12.5-14)^2 + (10.5-14)^2 + \\cdots + (13-14)^2)$$ \n",
    "$$ c22 = 6.65 $$"
   ]
  },
  {
   "cell_type": "markdown",
   "metadata": {},
   "source": [
    "$$ C_1 = \\begin{pmatrix}\n",
    "2.5025 & 2.275 \\\\\n",
    "2.275 & 6.65 \\\\\n",
    "\\end{pmatrix} $$"
   ]
  },
  {
   "cell_type": "code",
   "execution_count": 14,
   "metadata": {},
   "outputs": [
    {
     "data": {
      "text/plain": [
       "array([[2.5025, 2.275 ],\n",
       "       [2.275 , 6.65  ]])"
      ]
     },
     "execution_count": 14,
     "metadata": {},
     "output_type": "execute_result"
    }
   ],
   "source": [
    "cov_1 = np.cov(omega1, bias=True)\n",
    "cov_1"
   ]
  },
  {
   "cell_type": "markdown",
   "metadata": {},
   "source": [
    "---"
   ]
  },
  {
   "cell_type": "markdown",
   "metadata": {},
   "source": [
    "$$ c11 = \\frac{1}{10} ((6-7.75)^2 + (8-7.75)^2 + (9-7.75)^2 + \\cdots + (8-7.75)^2)$$ \n",
    "$$ c11 = 0.979166$$"
   ]
  },
  {
   "cell_type": "markdown",
   "metadata": {},
   "source": [
    "$$ c12 = c21 = \\frac{1}{10}((6-7.75)(9-11.9166) + (8-7.75)(10-11.9166) + (9-7.75)(11-11.9166) + \\cdots + (8-7.75)(16-11.9166))$$\n",
    "$$ c12 = 0.562499 $$"
   ]
  },
  {
   "cell_type": "markdown",
   "metadata": {},
   "source": [
    "$$ c22 = \\frac{1}{10} ((9-11.9166)^2 + (10-11.9166)^2 + (11-11.9166)^2 + \\cdots + (16-11.9166)^2)$$ \n",
    "$$ c22 = 5.368055 $$"
   ]
  },
  {
   "cell_type": "markdown",
   "metadata": {},
   "source": [
    "$$ C_2 = \\begin{pmatrix}\n",
    "0.979166 & 0.562499 \\\\\n",
    "0.562499 & 5.368055 \\\\\n",
    "\\end{pmatrix} $$"
   ]
  },
  {
   "cell_type": "code",
   "execution_count": 16,
   "metadata": {},
   "outputs": [
    {
     "data": {
      "text/plain": [
       "array([[0.97916667, 0.5625    ],\n",
       "       [0.5625    , 5.36805556]])"
      ]
     },
     "execution_count": 16,
     "metadata": {},
     "output_type": "execute_result"
    }
   ],
   "source": [
    "cov_2 = np.cov(omega2, bias=True)\n",
    "cov_2"
   ]
  },
  {
   "cell_type": "markdown",
   "metadata": {},
   "source": [
    "Las inversas de las matrices de covarianzas:"
   ]
  },
  {
   "cell_type": "code",
   "execution_count": 17,
   "metadata": {},
   "outputs": [
    {
     "name": "stdout",
     "output_type": "stream",
     "text": [
      "[[ 0.57997558 -0.1984127 ]\n",
      " [-0.1984127   0.21825397]]\n",
      "[[ 1.08669166 -0.11387067]\n",
      " [-0.11387067  0.19821931]]\n"
     ]
    }
   ],
   "source": [
    "cov_1_inv = np.linalg.inv(cov_1)\n",
    "cov_2_inv = np.linalg.inv(cov_2)\n",
    "print(cov_1_inv)\n",
    "print(cov_2_inv)"
   ]
  },
  {
   "cell_type": "markdown",
   "metadata": {},
   "source": [
    "$$ C^{-1}_1 =  \\begin{pmatrix} 0.57997558 & -0.1984127 \\\\ -0.1984127 & 0.21825397 \\\\ \\end{pmatrix} $$"
   ]
  },
  {
   "cell_type": "markdown",
   "metadata": {},
   "source": [
    "$$ C^{-1}_2 =  \\begin{pmatrix} 1.08669221 & -0.11387053 \\\\ -0.11387053 & 0.19821929 \\\\ \\end{pmatrix} $$"
   ]
  },
  {
   "cell_type": "markdown",
   "metadata": {},
   "source": [
    "Los determinantes:"
   ]
  },
  {
   "cell_type": "code",
   "execution_count": 19,
   "metadata": {},
   "outputs": [
    {
     "name": "stdout",
     "output_type": "stream",
     "text": [
      "11.466\n",
      "4.939814814814815\n"
     ]
    }
   ],
   "source": [
    "det_c1 = np.linalg.det(cov_1)\n",
    "det_c2 = np.linalg.det(cov_2)\n",
    "print(det_c1)\n",
    "print(det_c2)"
   ]
  },
  {
   "cell_type": "markdown",
   "metadata": {},
   "source": [
    "$$ |C_1| = 11.466$$\n",
    "\n",
    "$$ |C_2| = 4.939814814814815$$\n"
   ]
  },
  {
   "cell_type": "markdown",
   "metadata": {},
   "source": [
    "Las funciones discriminantes son:"
   ]
  },
  {
   "cell_type": "markdown",
   "metadata": {},
   "source": [
    "$$ fd_i(X) = -\\frac{1}{2} X^T \\cdot C^{-1}_i \\cdot X + X^T \\cdot C^{-1}_i \\cdot \\vec{m}_i - \\frac{1}{2} \\vec{m}^T_i \\cdot C^{-1}_i \\cdot \\vec{m}_i - \\frac{1}{2} \\ln |C_i| $$"
   ]
  },
  {
   "cell_type": "markdown",
   "metadata": {},
   "source": [
    "$$ fd_1(X) = -\\frac{1}{2} X^T \\cdot C^{-1}_1 \\cdot X + X^T \\cdot C^{-1}_1 \\cdot \\vec{m}_1 - \\frac{1}{2} \\vec{m}^T_1 \\cdot C^{-1}_1 \\cdot \\vec{m}_1 - \\frac{1}{2} \\ln |C_1| $$"
   ]
  },
  {
   "cell_type": "markdown",
   "metadata": {},
   "source": [
    "$$ fd_1  = -1.08695652173913 x_1^2 - 1.08695652173913 x_1x_2 + 6.95652173913044 x_1 - 1.52173913043478 x_2^2 + 8.47826086956522 x_2 - 16.9768445432953$$"
   ]
  },
  {
   "cell_type": "markdown",
   "metadata": {},
   "source": [
    "$$ fd_2(X) = -\\frac{1}{2} X^T \\cdot C^{-1}_2 \\cdot X + X^T \\cdot C^{-1}_2 \\cdot \\vec{m}_2 - \\frac{1}{2} \\vec{m}^T_2 \\cdot C^{-1}_i \\cdot \\vec{m}_2 - \\frac{1}{2} \\ln |C_2| $$"
   ]
  },
  {
   "cell_type": "markdown",
   "metadata": {},
   "source": [
    "$$ fd_2 = -1.08695652173913 x_1^2 - 1.08695652173913 x_1x_2 + 27.6086956521739 x_1 - 1.52173913043478 x_2^2 + 36.304347826087 x_2 - 277.411627151991$$"
   ]
  },
  {
   "cell_type": "code",
   "execution_count": 20,
   "metadata": {},
   "outputs": [
    {
     "name": "stdout",
     "output_type": "stream",
     "text": [
      "Variables:  Matrix([[x1], [x2]])\n",
      "[Matrix([[-1.08695652173913*x1**2 - 1.08695652173913*x1*x2 + 6.95652173913044*x1 - 1.52173913043478*x2**2 + 8.47826086956522*x2 - 16.9768445432953]]), Matrix([[-1.08695652173913*x1**2 - 1.08695652173913*x1*x2 + 27.6086956521739*x1 - 1.52173913043478*x2**2 + 36.304347826087*x2 - 277.411627151991]])]\n"
     ]
    }
   ],
   "source": [
    "samples = (omega1,omega2)\n",
    "fds = clasif_m(samples)\n",
    "print(fds)"
   ]
  },
  {
   "cell_type": "code",
   "execution_count": 21,
   "metadata": {},
   "outputs": [
    {
     "data": {
      "text/latex": [
       "$\\displaystyle \\left[\\begin{matrix}- 1.08695652173913 x_{1}^{2} - 1.08695652173913 x_{1} x_{2} + 6.95652173913044 x_{1} - 1.52173913043478 x_{2}^{2} + 8.47826086956522 x_{2} - 16.9768445432953\\end{matrix}\\right]$"
      ],
      "text/plain": [
       "Matrix([[-1.08695652173913*x1**2 - 1.08695652173913*x1*x2 + 6.95652173913044*x1 - 1.52173913043478*x2**2 + 8.47826086956522*x2 - 16.9768445432953]])"
      ]
     },
     "metadata": {},
     "output_type": "display_data"
    },
    {
     "data": {
      "text/latex": [
       "$\\displaystyle \\left[\\begin{matrix}- 1.08695652173913 x_{1}^{2} - 1.08695652173913 x_{1} x_{2} + 27.6086956521739 x_{1} - 1.52173913043478 x_{2}^{2} + 36.304347826087 x_{2} - 277.411627151991\\end{matrix}\\right]$"
      ],
      "text/plain": [
       "Matrix([[-1.08695652173913*x1**2 - 1.08695652173913*x1*x2 + 27.6086956521739*x1 - 1.52173913043478*x2**2 + 36.304347826087*x2 - 277.411627151991]])"
      ]
     },
     "metadata": {},
     "output_type": "display_data"
    }
   ],
   "source": [
    "display(fds[0])\n",
    "display(fds[1])"
   ]
  }
 ],
 "metadata": {
  "kernelspec": {
   "display_name": "Python 3",
   "language": "python",
   "name": "python3"
  },
  "language_info": {
   "codemirror_mode": {
    "name": "ipython",
    "version": 3
   },
   "file_extension": ".py",
   "mimetype": "text/x-python",
   "name": "python",
   "nbconvert_exporter": "python",
   "pygments_lexer": "ipython3",
   "version": "3.12.4"
  }
 },
 "nbformat": 4,
 "nbformat_minor": 2
}
