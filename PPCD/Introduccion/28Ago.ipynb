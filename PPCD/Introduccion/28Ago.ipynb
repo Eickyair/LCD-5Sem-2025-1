{
 "cells": [
  {
   "cell_type": "markdown",
   "metadata": {},
   "source": [
    "# Clasificador determinista euclideano"
   ]
  },
  {
   "cell_type": "code",
   "execution_count": 1,
   "metadata": {},
   "outputs": [],
   "source": [
    "import numpy as np # Cómputo numérico\n",
    "from sympy import Matrix, symbols, log, simplify # Cómputo simbólico"
   ]
  },
  {
   "cell_type": "code",
   "execution_count": 11,
   "metadata": {},
   "outputs": [],
   "source": [
    "def clasif_e(samples):\n",
    "    \"\"\"Docstring\"\"\"\n",
    "    # nsamples = len(samples)\n",
    "    # Vector genérico usando Sympy\n",
    "    X = Matrix(['x' + str(i+1) for i in range(samples[0].shape[0])])\n",
    "    fds = []\n",
    "    for s in samples:\n",
    "        m = Matrix(np.mean(s, axis=1))\n",
    "        fds.append(simplify(X.T*m - (m.T*m)/2))\n",
    "    return fds"
   ]
  },
  {
   "cell_type": "code",
   "execution_count": 12,
   "metadata": {},
   "outputs": [
    {
     "name": "stdout",
     "output_type": "stream",
     "text": [
      "[Matrix([[1.0*x1 + 3.0*x2 + 5.0*x3 + 1.0*x4 - 18.0]]), Matrix([[7.0*x1 + 8.0*x2 + 1.0*x3 + 7.0*x4 - 81.5]])]\n",
      "fd1:  Matrix([[4.00000000000000]])\n",
      "fd2:  Matrix([[-42.5000000000000]])\n"
     ]
    }
   ],
   "source": [
    "w1 = np.array([[1,5,6,1],[2,3,4,-2],[0,1,5,3],[1,3,5,2]]).T\n",
    "w2 = np.array([[6,8,-1,6],[7,9,3,6],[8,7,1,9]]).T\n",
    "samples = (w1,w2)\n",
    "fds = clasif_e(samples)\n",
    "print(fds)\n",
    "for fd in range(len(fds)):\n",
    "    print('fd' + str(fd+1) + ': ', fds[fd].evalf(subs={'x1':3, 'x2':1, 'x3':3, 'x4':1}))"
   ]
  },
  {
   "cell_type": "markdown",
   "metadata": {},
   "source": [
    "# Clasificador con distancia de Mahalanobis"
   ]
  },
  {
   "cell_type": "code",
   "execution_count": 13,
   "metadata": {},
   "outputs": [],
   "source": [
    "def clasif_m(samples):\n",
    "    \"\"\"Docs\"\"\"\n",
    "    # nsamples = len(samples)\n",
    "    X = Matrix([symbols('x' + str(i+1)) for i in range(samples[0].shape[0])])\n",
    "    print('Variables: ', X)\n",
    "    fds = []\n",
    "    for s in samples:\n",
    "        m = Matrix(np.mean(s, axis=1))\n",
    "        m_cov = np.cov(s, bias=True)\n",
    "        print(m_cov)\n",
    "        m_ci = Matrix(m_cov).inv()\n",
    "        fds.append(simplify((X.T*m_ci*X)/-2 + X.T*m_ci*m - (m.T*m_ci*m)/2 - Matrix([log(m_ci.det())/2])))"
   ]
  },
  {
   "cell_type": "code",
   "execution_count": 14,
   "metadata": {},
   "outputs": [
    {
     "name": "stdout",
     "output_type": "stream",
     "text": [
      "Variables:  Matrix([[x1], [x2]])\n",
      "[[ 0.56 -0.2 ]\n",
      " [-0.2   0.4 ]]\n",
      "[[ 0.56 -0.2 ]\n",
      " [-0.2   0.4 ]]\n"
     ]
    }
   ],
   "source": [
    "w1 = np.array([[1,2],[2,2],[3,1],[2,3],[3,2]]).T\n",
    "w2 = np.array([[8,10],[9,8],[9,9],[8,9],[7,9]]).T\n",
    "samples = (w1,w2)\n",
    "clasif_m(samples)"
   ]
  }
 ],
 "metadata": {
  "kernelspec": {
   "display_name": "Python 3",
   "language": "python",
   "name": "python3"
  },
  "language_info": {
   "codemirror_mode": {
    "name": "ipython",
    "version": 3
   },
   "file_extension": ".py",
   "mimetype": "text/x-python",
   "name": "python",
   "nbconvert_exporter": "python",
   "pygments_lexer": "ipython3",
   "version": "3.12.4"
  }
 },
 "nbformat": 4,
 "nbformat_minor": 2
}
