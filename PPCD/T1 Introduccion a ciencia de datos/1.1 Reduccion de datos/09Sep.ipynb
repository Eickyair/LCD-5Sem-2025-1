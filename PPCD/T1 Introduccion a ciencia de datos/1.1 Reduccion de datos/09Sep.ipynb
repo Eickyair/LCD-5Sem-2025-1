{
 "cells": [
  {
   "cell_type": "markdown",
   "metadata": {},
   "source": [
    "# Manipulando datos categóricos"
   ]
  },
  {
   "cell_type": "code",
   "execution_count": 60,
   "metadata": {},
   "outputs": [],
   "source": [
    "import pandas as pd"
   ]
  },
  {
   "cell_type": "markdown",
   "metadata": {},
   "source": [
    "Comúnmente los conjuntos de datos contienen datos categóricos. Es importante distinguir entre datos categóricos ordinales y nominales; los ordinales son aquellos que pueden ser ordenados (p.e., en la talla de una prenda M < G < XG); en los nominales no tiene mucho sentido pensar en un orden (p.e., en el color de una prenda)."
   ]
  },
  {
   "cell_type": "markdown",
   "metadata": {},
   "source": [
    "### Datos ordinales"
   ]
  },
  {
   "cell_type": "code",
   "execution_count": 61,
   "metadata": {},
   "outputs": [
    {
     "data": {
      "text/html": [
       "<div>\n",
       "<style scoped>\n",
       "    .dataframe tbody tr th:only-of-type {\n",
       "        vertical-align: middle;\n",
       "    }\n",
       "\n",
       "    .dataframe tbody tr th {\n",
       "        vertical-align: top;\n",
       "    }\n",
       "\n",
       "    .dataframe thead th {\n",
       "        text-align: right;\n",
       "    }\n",
       "</style>\n",
       "<table border=\"1\" class=\"dataframe\">\n",
       "  <thead>\n",
       "    <tr style=\"text-align: right;\">\n",
       "      <th></th>\n",
       "      <th>color</th>\n",
       "      <th>talla</th>\n",
       "      <th>precio</th>\n",
       "      <th>clase</th>\n",
       "    </tr>\n",
       "  </thead>\n",
       "  <tbody>\n",
       "    <tr>\n",
       "      <th>0</th>\n",
       "      <td>verde</td>\n",
       "      <td>M</td>\n",
       "      <td>10.3</td>\n",
       "      <td>clase1</td>\n",
       "    </tr>\n",
       "    <tr>\n",
       "      <th>1</th>\n",
       "      <td>rojo</td>\n",
       "      <td>G</td>\n",
       "      <td>14.2</td>\n",
       "      <td>clase2</td>\n",
       "    </tr>\n",
       "    <tr>\n",
       "      <th>2</th>\n",
       "      <td>azul</td>\n",
       "      <td>XG</td>\n",
       "      <td>15.6</td>\n",
       "      <td>clase1</td>\n",
       "    </tr>\n",
       "  </tbody>\n",
       "</table>\n",
       "</div>"
      ],
      "text/plain": [
       "   color talla  precio   clase\n",
       "0  verde     M    10.3  clase1\n",
       "1   rojo     G    14.2  clase2\n",
       "2   azul    XG    15.6  clase1"
      ]
     },
     "execution_count": 61,
     "metadata": {},
     "output_type": "execute_result"
    }
   ],
   "source": [
    "df = pd.DataFrame([\n",
    "    ['verde', 'M', 10.3, 'clase1'],\n",
    "    ['rojo', 'G', 14.2, 'clase2'],\n",
    "    ['azul', 'XG', 15.6, 'clase1'],\n",
    "])\n",
    "\n",
    "df.columns = ['color', 'talla', 'precio', 'clase']\n",
    "df"
   ]
  },
  {
   "cell_type": "markdown",
   "metadata": {},
   "source": [
    "Este conjunto de datos contiene una característica nominal (color) una ordinal (talla) y una numérica (precio). Este conjunto puede utilizarse en un algoritmo supervisado, dado que las\n",
    "etiquetas de la clase a la que pertenece cada muestra en la última columna."
   ]
  },
  {
   "cell_type": "markdown",
   "metadata": {},
   "source": [
    "### Mapeando valores ordinales"
   ]
  },
  {
   "cell_type": "code",
   "execution_count": 62,
   "metadata": {},
   "outputs": [],
   "source": [
    "import numpy as np"
   ]
  },
  {
   "cell_type": "code",
   "execution_count": 63,
   "metadata": {},
   "outputs": [
    {
     "data": {
      "text/plain": [
       "{'G': 0, 'M': 1, 'XG': 2}"
      ]
     },
     "execution_count": 63,
     "metadata": {},
     "output_type": "execute_result"
    }
   ],
   "source": [
    "talla_map = {et: ind for ind, et in enumerate(np.unique(df.talla))} \n",
    "# No sirve por el orden de las tallas M < G < XG\n",
    "talla_map"
   ]
  },
  {
   "cell_type": "markdown",
   "metadata": {},
   "source": [
    "Para garantizar que nuestros algoritmos interpretan correctamente características ordinales, es necesario convertir estas características en valores enteros; desafortunadamente no hay una\n",
    "función que pueda determinar automáticamente el orden correcto a partir de las etiquetas de la talla; por lo tanto, en general se debe realizar este proceso manualmente (con ayuda de un\n",
    "diccionario):"
   ]
  },
  {
   "cell_type": "code",
   "execution_count": 64,
   "metadata": {},
   "outputs": [
    {
     "data": {
      "text/html": [
       "<div>\n",
       "<style scoped>\n",
       "    .dataframe tbody tr th:only-of-type {\n",
       "        vertical-align: middle;\n",
       "    }\n",
       "\n",
       "    .dataframe tbody tr th {\n",
       "        vertical-align: top;\n",
       "    }\n",
       "\n",
       "    .dataframe thead th {\n",
       "        text-align: right;\n",
       "    }\n",
       "</style>\n",
       "<table border=\"1\" class=\"dataframe\">\n",
       "  <thead>\n",
       "    <tr style=\"text-align: right;\">\n",
       "      <th></th>\n",
       "      <th>color</th>\n",
       "      <th>talla</th>\n",
       "      <th>precio</th>\n",
       "      <th>clase</th>\n",
       "    </tr>\n",
       "  </thead>\n",
       "  <tbody>\n",
       "    <tr>\n",
       "      <th>0</th>\n",
       "      <td>verde</td>\n",
       "      <td>0</td>\n",
       "      <td>10.3</td>\n",
       "      <td>clase1</td>\n",
       "    </tr>\n",
       "    <tr>\n",
       "      <th>1</th>\n",
       "      <td>rojo</td>\n",
       "      <td>1</td>\n",
       "      <td>14.2</td>\n",
       "      <td>clase2</td>\n",
       "    </tr>\n",
       "    <tr>\n",
       "      <th>2</th>\n",
       "      <td>azul</td>\n",
       "      <td>2</td>\n",
       "      <td>15.6</td>\n",
       "      <td>clase1</td>\n",
       "    </tr>\n",
       "  </tbody>\n",
       "</table>\n",
       "</div>"
      ],
      "text/plain": [
       "   color  talla  precio   clase\n",
       "0  verde      0    10.3  clase1\n",
       "1   rojo      1    14.2  clase2\n",
       "2   azul      2    15.6  clase1"
      ]
     },
     "execution_count": 64,
     "metadata": {},
     "output_type": "execute_result"
    }
   ],
   "source": [
    "talla_map = {'M': 0, 'G': 1, 'XG': 2}\n",
    "df['talla'] = df['talla'].map(talla_map) #['talla'] es equivalente a .talla\n",
    "df"
   ]
  },
  {
   "cell_type": "markdown",
   "metadata": {},
   "source": [
    "### Codificando las etiquetas de clase"
   ]
  },
  {
   "cell_type": "markdown",
   "metadata": {},
   "source": [
    "Muchas algoritmos de aprendizaje requieren que las etiquetas de clase esten codificadas como números enteros. Aunque la mayoría de los algoritmos que provee scikit-learn pueden realizar\n",
    "esta conversión internamente, es una buena práctica proveer las etiquetas como enteros y como las clases no son ordinales no importa qué número se asigna a cada una de ellas. Por lo tanto,\n",
    "podemos enumerar las etiquetas de clase comenzando con 0:"
   ]
  },
  {
   "cell_type": "code",
   "execution_count": 65,
   "metadata": {},
   "outputs": [
    {
     "data": {
      "text/plain": [
       "{'clase1': 0, 'clase2': 1}"
      ]
     },
     "execution_count": 65,
     "metadata": {},
     "output_type": "execute_result"
    }
   ],
   "source": [
    "clase_map = {et: ind for ind, et in enumerate(np.unique(df['clase']))}\n",
    "clase_map"
   ]
  },
  {
   "cell_type": "markdown",
   "metadata": {},
   "source": [
    "A continuación podemos usar el diccionario para realizar la conversión de las etiquetas de\n",
    "clase a enteros:\n"
   ]
  },
  {
   "cell_type": "code",
   "execution_count": 66,
   "metadata": {},
   "outputs": [
    {
     "data": {
      "text/html": [
       "<div>\n",
       "<style scoped>\n",
       "    .dataframe tbody tr th:only-of-type {\n",
       "        vertical-align: middle;\n",
       "    }\n",
       "\n",
       "    .dataframe tbody tr th {\n",
       "        vertical-align: top;\n",
       "    }\n",
       "\n",
       "    .dataframe thead th {\n",
       "        text-align: right;\n",
       "    }\n",
       "</style>\n",
       "<table border=\"1\" class=\"dataframe\">\n",
       "  <thead>\n",
       "    <tr style=\"text-align: right;\">\n",
       "      <th></th>\n",
       "      <th>color</th>\n",
       "      <th>talla</th>\n",
       "      <th>precio</th>\n",
       "      <th>clase</th>\n",
       "    </tr>\n",
       "  </thead>\n",
       "  <tbody>\n",
       "    <tr>\n",
       "      <th>0</th>\n",
       "      <td>verde</td>\n",
       "      <td>0</td>\n",
       "      <td>10.3</td>\n",
       "      <td>0</td>\n",
       "    </tr>\n",
       "    <tr>\n",
       "      <th>1</th>\n",
       "      <td>rojo</td>\n",
       "      <td>1</td>\n",
       "      <td>14.2</td>\n",
       "      <td>1</td>\n",
       "    </tr>\n",
       "    <tr>\n",
       "      <th>2</th>\n",
       "      <td>azul</td>\n",
       "      <td>2</td>\n",
       "      <td>15.6</td>\n",
       "      <td>0</td>\n",
       "    </tr>\n",
       "  </tbody>\n",
       "</table>\n",
       "</div>"
      ],
      "text/plain": [
       "   color  talla  precio  clase\n",
       "0  verde      0    10.3      0\n",
       "1   rojo      1    14.2      1\n",
       "2   azul      2    15.6      0"
      ]
     },
     "execution_count": 66,
     "metadata": {},
     "output_type": "execute_result"
    }
   ],
   "source": [
    "df.clase = df.clase.map(clase_map)\n",
    "df"
   ]
  },
  {
   "cell_type": "markdown",
   "metadata": {},
   "source": [
    "### Codificando valores nominales en formaro one-hot"
   ]
  },
  {
   "cell_type": "markdown",
   "metadata": {},
   "source": [
    "Podemos realizar un proceso similar para la columna color (dado que no se requiere orden)."
   ]
  },
  {
   "cell_type": "code",
   "execution_count": 67,
   "metadata": {},
   "outputs": [
    {
     "data": {
      "text/plain": [
       "{'azul': 0, 'rojo': 1, 'verde': 2}"
      ]
     },
     "execution_count": 67,
     "metadata": {},
     "output_type": "execute_result"
    }
   ],
   "source": [
    "color_map = {et: ind for ind, et in enumerate(np.unique(df.color))}\n",
    "# No sirve porque no hay un orden en los colores\n",
    "color_map"
   ]
  },
  {
   "cell_type": "markdown",
   "metadata": {},
   "source": [
    "Si nos detuviéramos en este punto, estaríamos cayendo en uno de los errores más comúnes\n",
    "cuando se utilizan datos categóricos: los colores no tienen un orden particular; sin embargo un\n",
    "algoritmo de aprendizaje supondría que verde es mayor que rojo y que rojo es mayor que azul.\n",
    "Esta suposición no es correcta y aunque se podría obtener un buen resultado, en general puede\n",
    "no ser óptimo.\n",
    "\n",
    "Una posible solución es utilizar la técnica conocida como codificación one-hot. La idea\n",
    "básica es crear una nueva característica ficticia (dummy) por cada valor único de la columna\n",
    "nominal correspondiente. En este caso, se generarán tres columnas: azul, rojo y verde. Se utilizan\n",
    "valores binarios para indicar el color particular de cada muestra.\n",
    "Para realizar esta transformación se puede utilizar el OneHotEncoder disponible en el módulo\n",
    "preprocessing de sci-kitlearn:"
   ]
  },
  {
   "cell_type": "code",
   "execution_count": 68,
   "metadata": {},
   "outputs": [
    {
     "data": {
      "text/plain": [
       "array([[0., 0., 1.],\n",
       "       [0., 1., 0.],\n",
       "       [1., 0., 0.]])"
      ]
     },
     "execution_count": 68,
     "metadata": {},
     "output_type": "execute_result"
    }
   ],
   "source": [
    "from sklearn.preprocessing import OneHotEncoder\n",
    "ohe = OneHotEncoder(handle_unknown='ignore')\n",
    "ohe.fit(df[['color']])\n",
    "ohe.transform(df[['color']]).toarray()"
   ]
  },
  {
   "cell_type": "markdown",
   "metadata": {},
   "source": [
    "Una forma más conveniente para crear esas características ficticias para la codificación onehot, es utilizar el método get_dummies implementado en pandas. Si se aplica a un DataFrame,\n",
    "este método convertirá solamente las columnas de tipo string y dejará las otras columnas sin\n",
    "cambios "
   ]
  },
  {
   "cell_type": "code",
   "execution_count": 69,
   "metadata": {},
   "outputs": [
    {
     "data": {
      "text/html": [
       "<div>\n",
       "<style scoped>\n",
       "    .dataframe tbody tr th:only-of-type {\n",
       "        vertical-align: middle;\n",
       "    }\n",
       "\n",
       "    .dataframe tbody tr th {\n",
       "        vertical-align: top;\n",
       "    }\n",
       "\n",
       "    .dataframe thead th {\n",
       "        text-align: right;\n",
       "    }\n",
       "</style>\n",
       "<table border=\"1\" class=\"dataframe\">\n",
       "  <thead>\n",
       "    <tr style=\"text-align: right;\">\n",
       "      <th></th>\n",
       "      <th>azul</th>\n",
       "      <th>rojo</th>\n",
       "      <th>verde</th>\n",
       "    </tr>\n",
       "  </thead>\n",
       "  <tbody>\n",
       "    <tr>\n",
       "      <th>0</th>\n",
       "      <td>False</td>\n",
       "      <td>False</td>\n",
       "      <td>True</td>\n",
       "    </tr>\n",
       "    <tr>\n",
       "      <th>1</th>\n",
       "      <td>False</td>\n",
       "      <td>True</td>\n",
       "      <td>False</td>\n",
       "    </tr>\n",
       "    <tr>\n",
       "      <th>2</th>\n",
       "      <td>True</td>\n",
       "      <td>False</td>\n",
       "      <td>False</td>\n",
       "    </tr>\n",
       "  </tbody>\n",
       "</table>\n",
       "</div>"
      ],
      "text/plain": [
       "    azul   rojo  verde\n",
       "0  False  False   True\n",
       "1  False   True  False\n",
       "2   True  False  False"
      ]
     },
     "execution_count": 69,
     "metadata": {},
     "output_type": "execute_result"
    }
   ],
   "source": [
    "# Con pandas (Recomendado)\n",
    "pd.get_dummies(df['color'])"
   ]
  },
  {
   "cell_type": "code",
   "execution_count": 71,
   "metadata": {},
   "outputs": [
    {
     "data": {
      "text/html": [
       "<div>\n",
       "<style scoped>\n",
       "    .dataframe tbody tr th:only-of-type {\n",
       "        vertical-align: middle;\n",
       "    }\n",
       "\n",
       "    .dataframe tbody tr th {\n",
       "        vertical-align: top;\n",
       "    }\n",
       "\n",
       "    .dataframe thead th {\n",
       "        text-align: right;\n",
       "    }\n",
       "</style>\n",
       "<table border=\"1\" class=\"dataframe\">\n",
       "  <thead>\n",
       "    <tr style=\"text-align: right;\">\n",
       "      <th></th>\n",
       "      <th>precio</th>\n",
       "      <th>talla</th>\n",
       "      <th>color_azul</th>\n",
       "      <th>color_rojo</th>\n",
       "      <th>color_verde</th>\n",
       "    </tr>\n",
       "  </thead>\n",
       "  <tbody>\n",
       "    <tr>\n",
       "      <th>0</th>\n",
       "      <td>10.3</td>\n",
       "      <td>0</td>\n",
       "      <td>False</td>\n",
       "      <td>False</td>\n",
       "      <td>True</td>\n",
       "    </tr>\n",
       "    <tr>\n",
       "      <th>1</th>\n",
       "      <td>14.2</td>\n",
       "      <td>1</td>\n",
       "      <td>False</td>\n",
       "      <td>True</td>\n",
       "      <td>False</td>\n",
       "    </tr>\n",
       "    <tr>\n",
       "      <th>2</th>\n",
       "      <td>15.6</td>\n",
       "      <td>2</td>\n",
       "      <td>True</td>\n",
       "      <td>False</td>\n",
       "      <td>False</td>\n",
       "    </tr>\n",
       "  </tbody>\n",
       "</table>\n",
       "</div>"
      ],
      "text/plain": [
       "   precio  talla  color_azul  color_rojo  color_verde\n",
       "0    10.3      0       False       False         True\n",
       "1    14.2      1       False        True        False\n",
       "2    15.6      2        True       False        False"
      ]
     },
     "execution_count": 71,
     "metadata": {},
     "output_type": "execute_result"
    }
   ],
   "source": [
    "pd.get_dummies(df[['precio', 'color', 'talla']])"
   ]
  },
  {
   "cell_type": "code",
   "execution_count": 50,
   "metadata": {},
   "outputs": [
    {
     "data": {
      "text/html": [
       "<div>\n",
       "<style scoped>\n",
       "    .dataframe tbody tr th:only-of-type {\n",
       "        vertical-align: middle;\n",
       "    }\n",
       "\n",
       "    .dataframe tbody tr th {\n",
       "        vertical-align: top;\n",
       "    }\n",
       "\n",
       "    .dataframe thead th {\n",
       "        text-align: right;\n",
       "    }\n",
       "</style>\n",
       "<table border=\"1\" class=\"dataframe\">\n",
       "  <thead>\n",
       "    <tr style=\"text-align: right;\">\n",
       "      <th></th>\n",
       "      <th>rojo</th>\n",
       "      <th>verde</th>\n",
       "    </tr>\n",
       "  </thead>\n",
       "  <tbody>\n",
       "    <tr>\n",
       "      <th>0</th>\n",
       "      <td>False</td>\n",
       "      <td>True</td>\n",
       "    </tr>\n",
       "    <tr>\n",
       "      <th>1</th>\n",
       "      <td>True</td>\n",
       "      <td>False</td>\n",
       "    </tr>\n",
       "    <tr>\n",
       "      <th>2</th>\n",
       "      <td>False</td>\n",
       "      <td>False</td>\n",
       "    </tr>\n",
       "  </tbody>\n",
       "</table>\n",
       "</div>"
      ],
      "text/plain": [
       "    rojo  verde\n",
       "0  False   True\n",
       "1   True  False\n",
       "2  False  False"
      ]
     },
     "execution_count": 50,
     "metadata": {},
     "output_type": "execute_result"
    }
   ],
   "source": [
    "pd.get_dummies(df['color'], drop_first=True)"
   ]
  },
  {
   "cell_type": "markdown",
   "metadata": {},
   "source": [
    "### Escalamiento de características"
   ]
  },
  {
   "cell_type": "markdown",
   "metadata": {},
   "source": [
    "Este es otro paso clave en el preprocesamiento de datos; muchos algoritmos de aprendizaje y\n",
    "optimización tienen mejor comportamiento si las características discriminantes se encuentran en\n",
    "la misma escala.\n",
    "\n",
    "Existen dos enfoques comunes para escalar características:\n",
    "\n",
    "***Normalización***, se se refiere al reescalamiento de cada característica en el intervalo [0, 1].\n",
    "Para esto, se aplica el escalamiento min-max en cada columna:\n",
    "\n",
    "$$ x^{(i)}_{norm} = \\frac{x^{(i)}-x_{min}}{x_{max}-x_{min}} $$\n",
    "\n",
    "Donde $x^{(i)}$ es una muestra particular, $x_{min}$ es el valor mínimo de la columna y $x_{max}$ el máximo.\n",
    "\n",
    "***Estandarización***, este prepocesamiento puede resultar más práctico para algoritmos de\n",
    "optimización (p.e. gradient descent), esto se debe a que muchos modelos inicializan sus\n",
    "pesos a valores cercanos a 0. Utilizando estandarización, se centran las columnas de características a media 0 con desviación estándar 1. Además, la estandarización mantiene\n",
    "información útil sobre secciones aisladas y hace que los algoritmos sean menos sensibles a\n",
    "ellas en contraste al escalamiento min-max. El procedimiento de estandarización se realiza con:\n",
    "\n",
    "$$ x^{(i)}_{std} = \\frac{x^{i}-\\mu_x}{\\sigma_x} $$\n",
    "\n",
    "donde $\\mu_x$ es la media muestral de una columna particular y $\\sigma_x$ es su correspondiente dessviación estándar.\n",
    "\n",
    "Otro enfoque menos usado se conoce como Normalizer :\n",
    "***Normalizer***, escala las muestras individuales a vectores unitarios; es decir, cada muestra\n",
    "(renglón de la matriz de datos) con al menos un compnente difrente de cero se reescala\n",
    "independientemente de las otras muestras de forma que su norma sea cero.:\n",
    "\n",
    "$$ x^{(i)}_{nz} = \\frac{x^{(i)}}{||x||} $$\n",
    "\n",
    "donde $||x||$ es la norma de la muestra (renglón de la matriz)."
   ]
  },
  {
   "cell_type": "code",
   "execution_count": 51,
   "metadata": {},
   "outputs": [
    {
     "name": "stdout",
     "output_type": "stream",
     "text": [
      "Normalizado  : [0.         0.16666667 0.33333333 0.5        0.66666667 0.83333333\n",
      " 1.        ]\n",
      "Estandarizado: [-1.5 -1.  -0.5  0.   0.5  1.   1.5]\n",
      "Normalizer   : [0.         0.10482848 0.20965697 0.31448545 0.41931393 0.52414242\n",
      " 0.6289709 ]\n"
     ]
    }
   ],
   "source": [
    "x = np.array([0,1,2,3,4,5,6])\n",
    "print('Normalizado  :', (x - x.min()) / (x.max() - x.min()))\n",
    "print('Estandarizado:', (x - x.mean()) / x.std())\n",
    "print('Normalizer   :', x / np.linalg.norm(x))\n"
   ]
  },
  {
   "cell_type": "code",
   "execution_count": 72,
   "metadata": {},
   "outputs": [],
   "source": [
    "from sklearn import datasets\n",
    "from sklearn.model_selection import train_test_split "
   ]
  },
  {
   "cell_type": "code",
   "execution_count": 73,
   "metadata": {},
   "outputs": [],
   "source": [
    "iris = datasets.load_iris()\n",
    "# sepal length, petal length\n",
    "X = iris.data[:, [2, 3]]\n",
    "# target : 0, 1, 2 (setosa, versicolor, virginica)\n",
    "y = iris.target[:]\n",
    "X_train, X_test, y_train, y_test = train_test_split(X, y, test_size=0.3, random_state=1, stratify=y)"
   ]
  },
  {
   "cell_type": "code",
   "execution_count": 75,
   "metadata": {},
   "outputs": [],
   "source": [
    "from sklearn.preprocessing import MinMaxScaler\n",
    "mms = MinMaxScaler()\n",
    "X_train_norm = mms.fit_transform(X_train) # datos de entrenamiento\n",
    "X_test_norm = mms.transform(X_test) # datos de prueba\n",
    "from sklearn.preprocessing import StandardScaler\n",
    "stds = StandardScaler()\n",
    "X_train_std = stds.fit_transform(X_train) # datos de entrenamiento\n",
    "X_test_std = stds.transform(X_test) # datos de prueba\n",
    "from sklearn.preprocessing import Normalizer\n",
    "nz = Normalizer()\n",
    "X_train_nz = nz.fit_transform(X_train) # datos de entrenamiento\n",
    "X_test_nz = nz.transform(X_test) # datos de prueba"
   ]
  },
  {
   "cell_type": "markdown",
   "metadata": {},
   "source": [
    "### Detección de anomalías"
   ]
  },
  {
   "cell_type": "markdown",
   "metadata": {},
   "source": [
    "Detectar anomalías es muy útil cuando se está realizando el preprocesamiento de datos: puede\n",
    "ayudar a evitar sesgos no deseados "
   ]
  },
  {
   "cell_type": "code",
   "execution_count": 52,
   "metadata": {},
   "outputs": [],
   "source": [
    "import matplotlib.pyplot as plt"
   ]
  },
  {
   "cell_type": "markdown",
   "metadata": {},
   "source": [
    "### Normalidad de la distribución\n",
    "\n",
    "Para verificar la normalidad de una variable aleatoria es posible utilizar alguna de las siguientes\n",
    "técnicas:\n",
    "\n",
    "- Realizar un histograma y ver si parece normal\n",
    "- Hacer una gráfica *Quantile-Quantile Normal*\n",
    "- Realizar un contraste de normalidad *Shapiro-Wilks*\n",
    "- Hacer un diagrama de dispersión por pares de variables (*PairPlot*)"
   ]
  },
  {
   "cell_type": "code",
   "execution_count": 53,
   "metadata": {},
   "outputs": [],
   "source": [
    "# Conjunto de datos ficticio con distribución normal\n",
    "data = np.random.randn(50000) * 20 + 20"
   ]
  },
  {
   "cell_type": "markdown",
   "metadata": {},
   "source": [
    "Histograma"
   ]
  },
  {
   "cell_type": "code",
   "execution_count": 54,
   "metadata": {},
   "outputs": [
    {
     "data": {
      "image/png": "[encoded data removed]",
      "text/plain": [
       "<Figure size 640x480 with 1 Axes>"
      ]
     },
     "metadata": {},
     "output_type": "display_data"
    }
   ],
   "source": [
    "plt.hist(data, edgecolor='black')\n",
    "plt.show()"
   ]
  },
  {
   "cell_type": "markdown",
   "metadata": {},
   "source": [
    "Gráfica de cuantiles"
   ]
  },
  {
   "cell_type": "code",
   "execution_count": 55,
   "metadata": {},
   "outputs": [],
   "source": [
    "import pylab\n",
    "import scipy.stats as stats"
   ]
  },
  {
   "cell_type": "code",
   "execution_count": 56,
   "metadata": {},
   "outputs": [
    {
     "data": {
      "image/png": "[encoded data removed]",
      "text/plain": [
       "<Figure size 640x480 with 1 Axes>"
      ]
     },
     "metadata": {},
     "output_type": "display_data"
    }
   ],
   "source": [
    "stats.probplot(data, dist='norm', plot=pylab)\n",
    "pylab.show()"
   ]
  },
  {
   "cell_type": "markdown",
   "metadata": {},
   "source": [
    "Prueba de Shapiro"
   ]
  },
  {
   "cell_type": "code",
   "execution_count": 57,
   "metadata": {},
   "outputs": [
    {
     "name": "stdout",
     "output_type": "stream",
     "text": [
      "p_value =  0.8737310034049639\n"
     ]
    },
    {
     "name": "stderr",
     "output_type": "stream",
     "text": [
      "C:\\Users\\denis\\AppData\\Roaming\\Python\\Python312\\site-packages\\scipy\\stats\\_axis_nan_policy.py:531: UserWarning: scipy.stats.shapiro: For N > 5000, computed p-value may not be accurate. Current N is 50000.\n",
      "  res = hypotest_fun_out(*samples, **kwds)\n"
     ]
    }
   ],
   "source": [
    "_, p_value = stats.shapiro(data)\n",
    "print('p_value = ', p_value)\n",
    "# p_value > 0.05 => La distribución es normal"
   ]
  }
 ],
 "metadata": {
  "kernelspec": {
   "display_name": "Python 3",
   "language": "python",
   "name": "python3"
  },
  "language_info": {
   "codemirror_mode": {
    "name": "ipython",
    "version": 3
   },
   "file_extension": ".py",
   "mimetype": "text/x-python",
   "name": "python",
   "nbconvert_exporter": "python",
   "pygments_lexer": "ipython3",
   "version": "3.12.4"
  }
 },
 "nbformat": 4,
 "nbformat_minor": 2
}
