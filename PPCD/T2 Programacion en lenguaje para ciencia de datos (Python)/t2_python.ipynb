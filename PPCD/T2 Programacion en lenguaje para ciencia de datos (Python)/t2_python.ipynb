{
 "cells": [
  {
   "cell_type": "markdown",
   "metadata": {},
   "source": [
    "# Programación en lenguaje para ciencia de datos (Python)"
   ]
  },
  {
   "cell_type": "code",
   "execution_count": 1,
   "metadata": {},
   "outputs": [
    {
     "name": "stdout",
     "output_type": "stream",
     "text": [
      "[1, 1, 0, 0, 1, 0]\n",
      "[6, 2]\n"
     ]
    }
   ],
   "source": [
    "def dec2base(num=0, base=2):\n",
    "    res = []\n",
    "    while(num>0):\n",
    "        res.append(num % base)\n",
    "        num = num // base\n",
    "    res.reverse()\n",
    "    return res\n",
    "\n",
    "print(dec2base(50))\n",
    "print(dec2base(50,8))\n"
   ]
  },
  {
   "cell_type": "code",
   "execution_count": 2,
   "metadata": {},
   "outputs": [
    {
     "name": "stdout",
     "output_type": "stream",
     "text": [
      "110010\n",
      "62\n"
     ]
    }
   ],
   "source": [
    "def decimalabase(decimal=0, base=2):\n",
    "    binario = 0\n",
    "    i = 0\n",
    "    while decimal > 0:\n",
    "        digito = decimal % base\n",
    "        decimal = decimal // base\n",
    "        binario = binario+digito*(10**i)\n",
    "        i = i+1\n",
    "    return binario\n",
    "\n",
    "print(decimalabase(50))\n",
    "print(decimalabase(50,8))"
   ]
  },
  {
   "cell_type": "code",
   "execution_count": 3,
   "metadata": {},
   "outputs": [
    {
     "name": "stdout",
     "output_type": "stream",
     "text": [
      "5\n"
     ]
    }
   ],
   "source": [
    "def baseadecimal(num=0, base=2):\n",
    "    decimal = 0\n",
    "    i = 0\n",
    "    while num > 0:\n",
    "        digito = num % 10\n",
    "        num = num // 10\n",
    "        decimal = decimal+digito*(base**i)\n",
    "        i = i+1\n",
    "    return decimal\n",
    "print(baseadecimal(101,2))"
   ]
  },
  {
   "cell_type": "code",
   "execution_count": 4,
   "metadata": {},
   "outputs": [
    {
     "name": "stdout",
     "output_type": "stream",
     "text": [
      "2023\n"
     ]
    }
   ],
   "source": [
    "def base2dec(num=[], base=2):\n",
    "    num.reverse()\n",
    "    dec = 0\n",
    "    for i in range(len(num)):\n",
    "        dec += num[i] * base**i\n",
    "    return dec\n",
    "print(base2dec([7,14,7],16))"
   ]
  },
  {
   "cell_type": "markdown",
   "metadata": {},
   "source": [
    "### Listas"
   ]
  },
  {
   "cell_type": "code",
   "execution_count": 5,
   "metadata": {},
   "outputs": [
    {
     "name": "stdout",
     "output_type": "stream",
     "text": [
      "['uno', 'dos', 'tres']\n",
      "['dos', 'tres']\n",
      "[]\n"
     ]
    }
   ],
   "source": [
    "x = ['uno', 'dos', 'tres', 'cuatro']\n",
    "print(x[0:3])\n",
    "print(x[1:-1])\n",
    "print(x[1:-3])\n"
   ]
  },
  {
   "cell_type": "code",
   "execution_count": 6,
   "metadata": {},
   "outputs": [
    {
     "data": {
      "text/plain": [
       "[1, 'dos', 3, 4]"
      ]
     },
     "execution_count": 6,
     "metadata": {},
     "output_type": "execute_result"
    }
   ],
   "source": [
    "x = [1, 2, 3, 4]\n",
    "x[1] = 'dos'\n",
    "x"
   ]
  },
  {
   "cell_type": "code",
   "execution_count": 7,
   "metadata": {},
   "outputs": [
    {
     "data": {
      "text/plain": [
       "[1, 'dos', 3, 4, 'cinco']"
      ]
     },
     "execution_count": 7,
     "metadata": {},
     "output_type": "execute_result"
    }
   ],
   "source": [
    "x.append('cinco')\n",
    "x"
   ]
  },
  {
   "cell_type": "code",
   "execution_count": 8,
   "metadata": {},
   "outputs": [
    {
     "data": {
      "text/plain": [
       "[[1, 2], [1, 6], [5, 2], [9, 2]]"
      ]
     },
     "execution_count": 8,
     "metadata": {},
     "output_type": "execute_result"
    }
   ],
   "source": [
    "x = [[9, 2], [1, 6], [5, 2], [1, 2]]\n",
    "x.sort()\n",
    "x"
   ]
  },
  {
   "cell_type": "code",
   "execution_count": 9,
   "metadata": {},
   "outputs": [
    {
     "data": {
      "text/plain": [
       "[0, 1, 2, 3, 4, 8]"
      ]
     },
     "execution_count": 9,
     "metadata": {},
     "output_type": "execute_result"
    }
   ],
   "source": [
    "x = [3, 8, 4, 0, 2, 1]\n",
    "y = x[:]\n",
    "y.sort()\n",
    "y # No modifica el original"
   ]
  },
  {
   "cell_type": "code",
   "execution_count": 10,
   "metadata": {},
   "outputs": [
    {
     "data": {
      "text/plain": [
       "['inicio', 1, 2, 'centro', 3, 'negativo', 4]"
      ]
     },
     "execution_count": 10,
     "metadata": {},
     "output_type": "execute_result"
    }
   ],
   "source": [
    "x = [1, 2, 3, 4]\n",
    "x.insert(2, 'centro')\n",
    "x.insert(0, 'inicio')\n",
    "x.insert(-1, 'negativo')\n",
    "x"
   ]
  },
  {
   "cell_type": "code",
   "execution_count": 11,
   "metadata": {},
   "outputs": [
    {
     "data": {
      "text/plain": [
       "True"
      ]
     },
     "execution_count": 11,
     "metadata": {},
     "output_type": "execute_result"
    }
   ],
   "source": [
    "x = [8, 3, 1, 2, 6, 9]\n",
    "3 in x"
   ]
  },
  {
   "cell_type": "code",
   "execution_count": 12,
   "metadata": {},
   "outputs": [
    {
     "data": {
      "text/plain": [
       "True"
      ]
     },
     "execution_count": 12,
     "metadata": {},
     "output_type": "execute_result"
    }
   ],
   "source": [
    "5 not in x"
   ]
  },
  {
   "cell_type": "code",
   "execution_count": 13,
   "metadata": {},
   "outputs": [
    {
     "data": {
      "text/plain": [
       "[0, 0, 0, 0, 0, 0, 0, 0, 0, 0]"
      ]
     },
     "execution_count": 13,
     "metadata": {},
     "output_type": "execute_result"
    }
   ],
   "source": [
    "x = [0]*10\n",
    "x"
   ]
  },
  {
   "cell_type": "code",
   "execution_count": 14,
   "metadata": {},
   "outputs": [
    {
     "data": {
      "text/plain": [
       "[1, 2, 3, 4, 5, 6, 7]"
      ]
     },
     "execution_count": 14,
     "metadata": {},
     "output_type": "execute_result"
    }
   ],
   "source": [
    "x = [1, 2, 3, 4]\n",
    "y = [5, 6, 7]\n",
    "x.extend(y) # Modifica la lista\n",
    "x"
   ]
  },
  {
   "cell_type": "code",
   "execution_count": 15,
   "metadata": {},
   "outputs": [
    {
     "data": {
      "text/plain": [
       "[1, 2, 3, 4, 5, 6, 7, 5, 6, 7]"
      ]
     },
     "execution_count": 15,
     "metadata": {},
     "output_type": "execute_result"
    }
   ],
   "source": [
    "x+y # Devuelve otra lista"
   ]
  },
  {
   "cell_type": "code",
   "execution_count": 16,
   "metadata": {},
   "outputs": [
    {
     "data": {
      "text/plain": [
       "2"
      ]
     },
     "execution_count": 16,
     "metadata": {},
     "output_type": "execute_result"
    }
   ],
   "source": [
    "x = [0, 1, 2, 3, 4, 2, 6, 4, 7, 2]\n",
    "x.index(2)"
   ]
  },
  {
   "cell_type": "code",
   "execution_count": 17,
   "metadata": {},
   "outputs": [
    {
     "data": {
      "text/plain": [
       "2"
      ]
     },
     "execution_count": 17,
     "metadata": {},
     "output_type": "execute_result"
    }
   ],
   "source": [
    "x.index(2, 2)"
   ]
  },
  {
   "cell_type": "code",
   "execution_count": 18,
   "metadata": {},
   "outputs": [
    {
     "data": {
      "text/plain": [
       "2"
      ]
     },
     "execution_count": 18,
     "metadata": {},
     "output_type": "execute_result"
    }
   ],
   "source": [
    "x.count(4)"
   ]
  },
  {
   "cell_type": "code",
   "execution_count": 19,
   "metadata": {},
   "outputs": [
    {
     "data": {
      "text/plain": [
       "4"
      ]
     },
     "execution_count": 19,
     "metadata": {},
     "output_type": "execute_result"
    }
   ],
   "source": [
    "pop = x.pop(7)\n",
    "pop"
   ]
  },
  {
   "cell_type": "code",
   "execution_count": 20,
   "metadata": {},
   "outputs": [
    {
     "data": {
      "text/plain": [
       "[0, 1, 2, 3, 4, 2, 6, 7, 2]"
      ]
     },
     "execution_count": 20,
     "metadata": {},
     "output_type": "execute_result"
    }
   ],
   "source": [
    "x"
   ]
  },
  {
   "cell_type": "code",
   "execution_count": 21,
   "metadata": {},
   "outputs": [
    {
     "name": "stdout",
     "output_type": "stream",
     "text": [
      "[1, 3, 4, 5, 6, 7, 8]\n",
      "[4, 5, 6, 7, 8]\n",
      "[4, 5]\n"
     ]
    }
   ],
   "source": [
    "x = [1, 2, 3, 4, 5, 6, 7, 8]\n",
    "del x[1]\n",
    "print(x)\n",
    "del x[:2]\n",
    "print(x)\n",
    "del x[2:]\n",
    "print(x)"
   ]
  },
  {
   "cell_type": "code",
   "execution_count": 22,
   "metadata": {},
   "outputs": [
    {
     "data": {
      "text/plain": [
       "[1, 2, 4, 5, 6, 7, 8]"
      ]
     },
     "execution_count": 22,
     "metadata": {},
     "output_type": "execute_result"
    }
   ],
   "source": [
    "x = [1, 2, 3, 4, 5, 6, 7, 8]\n",
    "x.remove(3)\n",
    "x"
   ]
  },
  {
   "cell_type": "code",
   "execution_count": 23,
   "metadata": {},
   "outputs": [
    {
     "data": {
      "text/plain": [
       "[8, 7, 6, 5, 4, 3, 2, 1]"
      ]
     },
     "execution_count": 23,
     "metadata": {},
     "output_type": "execute_result"
    }
   ],
   "source": [
    "x = [1, 2, 3, 4, 5, 6, 7, 8]\n",
    "x.reverse()\n",
    "x"
   ]
  },
  {
   "cell_type": "code",
   "execution_count": 24,
   "metadata": {},
   "outputs": [
    {
     "name": "stdout",
     "output_type": "stream",
     "text": [
      "0\n",
      "8\n"
     ]
    }
   ],
   "source": [
    "x = [3, 8, 4, 0, 2, 1]\n",
    "print(min(x))\n",
    "print(max(x))"
   ]
  },
  {
   "cell_type": "markdown",
   "metadata": {},
   "source": [
    "### Tuplas"
   ]
  },
  {
   "cell_type": "code",
   "execution_count": 25,
   "metadata": {},
   "outputs": [
    {
     "data": {
      "text/plain": [
       "tuple"
      ]
     },
     "execution_count": 25,
     "metadata": {},
     "output_type": "execute_result"
    }
   ],
   "source": [
    "x = (1, 2, 3, 4, 5)\n",
    "type(x)"
   ]
  },
  {
   "cell_type": "code",
   "execution_count": 26,
   "metadata": {},
   "outputs": [
    {
     "data": {
      "text/plain": [
       "5"
      ]
     },
     "execution_count": 26,
     "metadata": {},
     "output_type": "execute_result"
    }
   ],
   "source": [
    "x[-1]"
   ]
  },
  {
   "cell_type": "code",
   "execution_count": 27,
   "metadata": {},
   "outputs": [
    {
     "data": {
      "text/plain": [
       "(3, 4)"
      ]
     },
     "execution_count": 27,
     "metadata": {},
     "output_type": "execute_result"
    }
   ],
   "source": [
    "x[2:4]"
   ]
  },
  {
   "cell_type": "code",
   "execution_count": 28,
   "metadata": {},
   "outputs": [
    {
     "data": {
      "text/plain": [
       "1"
      ]
     },
     "execution_count": 28,
     "metadata": {},
     "output_type": "execute_result"
    }
   ],
   "source": [
    "min(x)"
   ]
  },
  {
   "cell_type": "code",
   "execution_count": 29,
   "metadata": {},
   "outputs": [
    {
     "data": {
      "text/plain": [
       "5"
      ]
     },
     "execution_count": 29,
     "metadata": {},
     "output_type": "execute_result"
    }
   ],
   "source": [
    "len(x)"
   ]
  },
  {
   "cell_type": "code",
   "execution_count": 30,
   "metadata": {},
   "outputs": [
    {
     "data": {
      "text/plain": [
       "False"
      ]
     },
     "execution_count": 30,
     "metadata": {},
     "output_type": "execute_result"
    }
   ],
   "source": [
    "8 in x"
   ]
  },
  {
   "cell_type": "code",
   "execution_count": 31,
   "metadata": {},
   "outputs": [
    {
     "data": {
      "text/plain": [
       "True"
      ]
     },
     "execution_count": 31,
     "metadata": {},
     "output_type": "execute_result"
    }
   ],
   "source": [
    "8 not in x"
   ]
  },
  {
   "cell_type": "code",
   "execution_count": 32,
   "metadata": {},
   "outputs": [
    {
     "data": {
      "text/plain": [
       "('a', 'b', 'c', 'a', 'b', 'c')"
      ]
     },
     "execution_count": 32,
     "metadata": {},
     "output_type": "execute_result"
    }
   ],
   "source": [
    "x = ('a', 'b', 'c')\n",
    "x+x"
   ]
  },
  {
   "cell_type": "code",
   "execution_count": 33,
   "metadata": {},
   "outputs": [
    {
     "data": {
      "text/plain": [
       "(0, 0, 0, 0, 0, 0, 0, 0, 0, 0)"
      ]
     },
     "execution_count": 33,
     "metadata": {},
     "output_type": "execute_result"
    }
   ],
   "source": [
    "(0,)*10"
   ]
  },
  {
   "cell_type": "code",
   "execution_count": 34,
   "metadata": {},
   "outputs": [
    {
     "data": {
      "text/plain": [
       "[1, 2, 3, 4, 5]"
      ]
     },
     "execution_count": 34,
     "metadata": {},
     "output_type": "execute_result"
    }
   ],
   "source": [
    "list((1, 2, 3, 4, 5))"
   ]
  },
  {
   "cell_type": "code",
   "execution_count": 35,
   "metadata": {},
   "outputs": [
    {
     "data": {
      "text/plain": [
       "(9, 8, 7, 6)"
      ]
     },
     "execution_count": 35,
     "metadata": {},
     "output_type": "execute_result"
    }
   ],
   "source": [
    "tuple([9, 8, 7, 6])"
   ]
  },
  {
   "cell_type": "code",
   "execution_count": 36,
   "metadata": {},
   "outputs": [
    {
     "data": {
      "text/plain": [
       "('a', 'b', 'c')"
      ]
     },
     "execution_count": 36,
     "metadata": {},
     "output_type": "execute_result"
    }
   ],
   "source": [
    "y = x[:]\n",
    "y # Crear una copia"
   ]
  },
  {
   "cell_type": "code",
   "execution_count": 37,
   "metadata": {},
   "outputs": [
    {
     "data": {
      "text/plain": [
       "['H', 'o', 'l', 'a']"
      ]
     },
     "execution_count": 37,
     "metadata": {},
     "output_type": "execute_result"
    }
   ],
   "source": [
    "x = list('Hola') # Convertir un string en una lista\n",
    "x"
   ]
  },
  {
   "cell_type": "markdown",
   "metadata": {},
   "source": [
    "### Conjuntos"
   ]
  },
  {
   "cell_type": "code",
   "execution_count": 38,
   "metadata": {},
   "outputs": [
    {
     "data": {
      "text/plain": [
       "{1, 2, 3, 4, 5}"
      ]
     },
     "execution_count": 38,
     "metadata": {},
     "output_type": "execute_result"
    }
   ],
   "source": [
    "x = set([1, 2, 3, 4, 5])\n",
    "x"
   ]
  },
  {
   "cell_type": "code",
   "execution_count": 39,
   "metadata": {},
   "outputs": [
    {
     "name": "stdout",
     "output_type": "stream",
     "text": [
      "True\n",
      "False\n"
     ]
    },
    {
     "data": {
      "text/plain": [
       "{1, 2, 3, 5, 6}"
      ]
     },
     "execution_count": 39,
     "metadata": {},
     "output_type": "execute_result"
    }
   ],
   "source": [
    "x.add(6)\n",
    "x.add(6) # No se repiten los elementos\n",
    "x.remove(4)\n",
    "x.discard(4) # No genera error si no existe\n",
    "print(2 in x)\n",
    "print(4 in x)\n",
    "x"
   ]
  },
  {
   "cell_type": "code",
   "execution_count": 40,
   "metadata": {},
   "outputs": [
    {
     "name": "stdout",
     "output_type": "stream",
     "text": [
      "{1, 2, 3, 4, 5, 6, 7, 8}\n",
      "{4, 5}\n",
      "{1, 2, 3}\n",
      "{1, 2, 3, 6, 7, 8}\n"
     ]
    }
   ],
   "source": [
    "x = set([1, 2, 3, 4, 5])\n",
    "y = set([4, 5, 6, 7, 8])\n",
    "print(x|y) # Union\n",
    "print(x&y) # Interseccion\n",
    "print(x-y) # Diferencia\n",
    "print(x^y) # Diferencia simetrica"
   ]
  },
  {
   "cell_type": "markdown",
   "metadata": {},
   "source": [
    "### Strings"
   ]
  },
  {
   "cell_type": "code",
   "execution_count": 41,
   "metadata": {},
   "outputs": [
    {
     "data": {
      "text/plain": [
       "str"
      ]
     },
     "execution_count": 41,
     "metadata": {},
     "output_type": "execute_result"
    }
   ],
   "source": [
    "x = 'cadena con comilla simple, puede contener \"comillas dobles\"'\n",
    "type(x)"
   ]
  },
  {
   "cell_type": "code",
   "execution_count": 42,
   "metadata": {},
   "outputs": [
    {
     "data": {
      "text/plain": [
       "str"
      ]
     },
     "execution_count": 42,
     "metadata": {},
     "output_type": "execute_result"
    }
   ],
   "source": [
    "x = \"cadena con comilla doble, puede contener 'comillas simples'\"\n",
    "type(x)"
   ]
  },
  {
   "cell_type": "code",
   "execution_count": 43,
   "metadata": {},
   "outputs": [
    {
     "data": {
      "text/plain": [
       "str"
      ]
     },
     "execution_count": 43,
     "metadata": {},
     "output_type": "execute_result"
    }
   ],
   "source": [
    "x = '''\\tcadena con triple comilla simple y una línea nueva\\n'''\n",
    "type(x)"
   ]
  },
  {
   "cell_type": "code",
   "execution_count": 44,
   "metadata": {},
   "outputs": [
    {
     "name": "stdout",
     "output_type": "stream",
     "text": [
      "cadena con triple comilla doble\n",
      "puede tener saltos\n",
      "de linea\n"
     ]
    }
   ],
   "source": [
    "x = \"\"\"cadena con triple comilla doble\n",
    "puede tener saltos\n",
    "de linea\"\"\"\n",
    "print(x)"
   ]
  },
  {
   "cell_type": "code",
   "execution_count": 45,
   "metadata": {},
   "outputs": [
    {
     "data": {
      "text/plain": [
       "'hola mundo'"
      ]
     },
     "execution_count": 45,
     "metadata": {},
     "output_type": "execute_result"
    }
   ],
   "source": [
    "x = 'hola'\n",
    "y = ' mundo'\n",
    "x+y"
   ]
  },
  {
   "cell_type": "code",
   "execution_count": 46,
   "metadata": {},
   "outputs": [
    {
     "data": {
      "text/plain": [
       "'xxxxxxxxxx'"
      ]
     },
     "execution_count": 46,
     "metadata": {},
     "output_type": "execute_result"
    }
   ],
   "source": [
    "x = 'x' * 10\n",
    "x"
   ]
  },
  {
   "cell_type": "markdown",
   "metadata": {},
   "source": [
    "#### Métodos asociados a cadenas"
   ]
  },
  {
   "cell_type": "code",
   "execution_count": 47,
   "metadata": {},
   "outputs": [
    {
     "data": {
      "text/plain": [
       "['hola', 'mundo']"
      ]
     },
     "execution_count": 47,
     "metadata": {},
     "output_type": "execute_result"
    }
   ],
   "source": [
    "s = 'hola mundo'\n",
    "s.split()"
   ]
  },
  {
   "cell_type": "code",
   "execution_count": 48,
   "metadata": {},
   "outputs": [
    {
     "data": {
      "text/plain": [
       "['hola', 'mundo', 'hace', 'calor']"
      ]
     },
     "execution_count": 48,
     "metadata": {},
     "output_type": "execute_result"
    }
   ],
   "source": [
    "s = 'hola;mundo;hace;calor'\n",
    "s.split(';')"
   ]
  },
  {
   "cell_type": "code",
   "execution_count": 49,
   "metadata": {},
   "outputs": [
    {
     "data": {
      "text/plain": [
       "['hola', 'mundo;hace;calor']"
      ]
     },
     "execution_count": 49,
     "metadata": {},
     "output_type": "execute_result"
    }
   ],
   "source": [
    "s.split(';', 1)"
   ]
  },
  {
   "cell_type": "code",
   "execution_count": 50,
   "metadata": {},
   "outputs": [
    {
     "data": {
      "text/plain": [
       "'cadena con espacios'"
      ]
     },
     "execution_count": 50,
     "metadata": {},
     "output_type": "execute_result"
    }
   ],
   "source": [
    "x = \" \".join(['cadena', 'con', 'espacios'])\n",
    "x"
   ]
  },
  {
   "cell_type": "code",
   "execution_count": 51,
   "metadata": {},
   "outputs": [
    {
     "data": {
      "text/plain": [
       "'cadena&con&otros&caracteres'"
      ]
     },
     "execution_count": 51,
     "metadata": {},
     "output_type": "execute_result"
    }
   ],
   "source": [
    "x = \"&\".join(['cadena', 'con', 'otros', 'caracteres'])\n",
    "x"
   ]
  },
  {
   "cell_type": "code",
   "execution_count": 52,
   "metadata": {},
   "outputs": [
    {
     "data": {
      "text/plain": [
       "'cadenasinespacios'"
      ]
     },
     "execution_count": 52,
     "metadata": {},
     "output_type": "execute_result"
    }
   ],
   "source": [
    "x = \"\".join(['cadena', 'sin', 'espacios'])\n",
    "x"
   ]
  },
  {
   "cell_type": "code",
   "execution_count": 53,
   "metadata": {},
   "outputs": [
    {
     "data": {
      "text/plain": [
       "'cadenalo que seasinlo que seaespacios'"
      ]
     },
     "execution_count": 53,
     "metadata": {},
     "output_type": "execute_result"
    }
   ],
   "source": [
    "x = \"lo que sea\".join(['cadena', 'sin', 'espacios'])\n",
    "x"
   ]
  },
  {
   "cell_type": "code",
   "execution_count": 54,
   "metadata": {},
   "outputs": [
    {
     "data": {
      "text/plain": [
       "2534"
      ]
     },
     "execution_count": 54,
     "metadata": {},
     "output_type": "execute_result"
    }
   ],
   "source": [
    "int('2534')"
   ]
  },
  {
   "cell_type": "code",
   "execution_count": 55,
   "metadata": {},
   "outputs": [
    {
     "data": {
      "text/plain": [
       "198.253"
      ]
     },
     "execution_count": 55,
     "metadata": {},
     "output_type": "execute_result"
    }
   ],
   "source": [
    "float('198.253')"
   ]
  },
  {
   "cell_type": "code",
   "execution_count": 56,
   "metadata": {},
   "outputs": [
    {
     "data": {
      "text/plain": [
       "50"
      ]
     },
     "execution_count": 56,
     "metadata": {},
     "output_type": "execute_result"
    }
   ],
   "source": [
    "int('110010', 2)"
   ]
  },
  {
   "cell_type": "code",
   "execution_count": 57,
   "metadata": {},
   "outputs": [
    {
     "data": {
      "text/plain": [
       "50"
      ]
     },
     "execution_count": 57,
     "metadata": {},
     "output_type": "execute_result"
    }
   ],
   "source": [
    "int('62', 8)"
   ]
  },
  {
   "cell_type": "code",
   "execution_count": 58,
   "metadata": {},
   "outputs": [
    {
     "data": {
      "text/plain": [
       "255"
      ]
     },
     "execution_count": 58,
     "metadata": {},
     "output_type": "execute_result"
    }
   ],
   "source": [
    "int('ff', 16)"
   ]
  },
  {
   "cell_type": "code",
   "execution_count": 59,
   "metadata": {},
   "outputs": [
    {
     "data": {
      "text/plain": [
       "2"
      ]
     },
     "execution_count": 59,
     "metadata": {},
     "output_type": "execute_result"
    }
   ],
   "source": [
    "x = 'ferrocarril'\n",
    "x.find('rr')"
   ]
  },
  {
   "cell_type": "code",
   "execution_count": 60,
   "metadata": {},
   "outputs": [
    {
     "data": {
      "text/plain": [
       "7"
      ]
     },
     "execution_count": 60,
     "metadata": {},
     "output_type": "execute_result"
    }
   ],
   "source": [
    "x.find('rr', 3)"
   ]
  },
  {
   "cell_type": "code",
   "execution_count": 61,
   "metadata": {},
   "outputs": [
    {
     "data": {
      "text/plain": [
       "True"
      ]
     },
     "execution_count": 61,
     "metadata": {},
     "output_type": "execute_result"
    }
   ],
   "source": [
    "x.startswith('fe')"
   ]
  },
  {
   "cell_type": "code",
   "execution_count": 62,
   "metadata": {},
   "outputs": [
    {
     "data": {
      "text/plain": [
       "False"
      ]
     },
     "execution_count": 62,
     "metadata": {},
     "output_type": "execute_result"
    }
   ],
   "source": [
    "x.startswith('rr')"
   ]
  },
  {
   "cell_type": "code",
   "execution_count": 63,
   "metadata": {},
   "outputs": [
    {
     "data": {
      "text/plain": [
       "True"
      ]
     },
     "execution_count": 63,
     "metadata": {},
     "output_type": "execute_result"
    }
   ],
   "source": [
    "x.endswith(('i', 'il'))"
   ]
  },
  {
   "cell_type": "code",
   "execution_count": 64,
   "metadata": {},
   "outputs": [
    {
     "data": {
      "text/plain": [
       "'[1, 2, 3, 4]'"
      ]
     },
     "execution_count": 64,
     "metadata": {},
     "output_type": "execute_result"
    }
   ],
   "source": [
    "repr([1,2,3,4])"
   ]
  },
  {
   "cell_type": "code",
   "execution_count": 65,
   "metadata": {},
   "outputs": [
    {
     "data": {
      "text/plain": [
       "'(1, 2, 3)'"
      ]
     },
     "execution_count": 65,
     "metadata": {},
     "output_type": "execute_result"
    }
   ],
   "source": [
    "repr((1,2,3))"
   ]
  },
  {
   "cell_type": "code",
   "execution_count": 66,
   "metadata": {},
   "outputs": [
    {
     "data": {
      "text/plain": [
       "'123'"
      ]
     },
     "execution_count": 66,
     "metadata": {},
     "output_type": "execute_result"
    }
   ],
   "source": [
    "repr(123)"
   ]
  },
  {
   "cell_type": "code",
   "execution_count": 67,
   "metadata": {},
   "outputs": [
    {
     "data": {
      "text/plain": [
       "'[1, 2, 3]'"
      ]
     },
     "execution_count": 67,
     "metadata": {},
     "output_type": "execute_result"
    }
   ],
   "source": [
    "str([1,2,3])"
   ]
  },
  {
   "cell_type": "markdown",
   "metadata": {},
   "source": [
    "#### Formato para cadenas"
   ]
  },
  {
   "cell_type": "code",
   "execution_count": 68,
   "metadata": {},
   "outputs": [
    {
     "data": {
      "text/plain": [
       "'el mezcal es la bebida de los dioses'"
      ]
     },
     "execution_count": 68,
     "metadata": {},
     "output_type": "execute_result"
    }
   ],
   "source": [
    "\"el %s es la %s de los %s\" % ('mezcal', 'bebida', 'dioses')"
   ]
  },
  {
   "cell_type": "code",
   "execution_count": 69,
   "metadata": {},
   "outputs": [
    {
     "data": {
      "text/plain": [
       "\"La lista contiene [5, 'dos', [1, 2, 3]] \""
      ]
     },
     "execution_count": 69,
     "metadata": {},
     "output_type": "execute_result"
    }
   ],
   "source": [
    "\"La % s contiene % s \" % (\"lista\" , [5, \"dos\" , [1 , 2 , 3]])"
   ]
  },
  {
   "cell_type": "code",
   "execution_count": 70,
   "metadata": {},
   "outputs": [
    {
     "name": "stdout",
     "output_type": "stream",
     "text": [
      "entero : 2\n",
      "flotante : 7.123419\n",
      "flotante : >      7.12<\n",
      "flotante : 1.234e-13\n"
     ]
    }
   ],
   "source": [
    "print('entero : %d' % 2)\n",
    "print('flotante : %f' % 7.1234192838123)\n",
    "print('flotante : >%10.2f<' % 7.1234192838123)\n",
    "print('flotante : %.3e' % 0.00000000000012345) # Notación científica"
   ]
  },
  {
   "cell_type": "code",
   "execution_count": 71,
   "metadata": {},
   "outputs": [
    {
     "data": {
      "text/plain": [
       "'el mezcal es la bebida de los dioses'"
      ]
     },
     "execution_count": 71,
     "metadata": {},
     "output_type": "execute_result"
    }
   ],
   "source": [
    "\"el {0} es la {1} de los {2}\".format('mezcal', 'bebida', 'dioses')"
   ]
  },
  {
   "cell_type": "code",
   "execution_count": 72,
   "metadata": {},
   "outputs": [
    {
     "data": {
      "text/plain": [
       "'el dioses es la bebida de los dioses'"
      ]
     },
     "execution_count": 72,
     "metadata": {},
     "output_type": "execute_result"
    }
   ],
   "source": [
    "\"el {2} es la {1} de los {2}\".format('mezcal', 'bebida', 'dioses')"
   ]
  },
  {
   "cell_type": "code",
   "execution_count": 73,
   "metadata": {},
   "outputs": [
    {
     "data": {
      "text/plain": [
       "'el mezcal es la bebida de los humanos'"
      ]
     },
     "execution_count": 73,
     "metadata": {},
     "output_type": "execute_result"
    }
   ],
   "source": [
    "\"el {bebida} es la bebida de los {usrs[1]}\".format(bebida='mezcal', usrs=['dioses', 'humanos'])"
   ]
  },
  {
   "cell_type": "code",
   "execution_count": 74,
   "metadata": {},
   "outputs": [
    {
     "data": {
      "text/plain": [
       "'5'"
      ]
     },
     "execution_count": 74,
     "metadata": {},
     "output_type": "execute_result"
    }
   ],
   "source": [
    "x = input('Ingresa un numero: ')\n",
    "x"
   ]
  },
  {
   "cell_type": "code",
   "execution_count": 75,
   "metadata": {},
   "outputs": [
    {
     "data": {
      "text/plain": [
       "(5+0j)"
      ]
     },
     "execution_count": 75,
     "metadata": {},
     "output_type": "execute_result"
    }
   ],
   "source": [
    "complex(x)"
   ]
  },
  {
   "cell_type": "markdown",
   "metadata": {},
   "source": [
    "### Diccionarios"
   ]
  },
  {
   "cell_type": "code",
   "execution_count": 76,
   "metadata": {},
   "outputs": [
    {
     "data": {
      "text/plain": [
       "'red'"
      ]
     },
     "execution_count": 76,
     "metadata": {},
     "output_type": "execute_result"
    }
   ],
   "source": [
    "x = {'rojo':'red', 'azul':'blue', 'verde':'green'}\n",
    "x['rojo']"
   ]
  },
  {
   "cell_type": "code",
   "execution_count": 77,
   "metadata": {},
   "outputs": [
    {
     "data": {
      "text/plain": [
       "3"
      ]
     },
     "execution_count": 77,
     "metadata": {},
     "output_type": "execute_result"
    }
   ],
   "source": [
    "len(x)"
   ]
  },
  {
   "cell_type": "code",
   "execution_count": 78,
   "metadata": {},
   "outputs": [
    {
     "data": {
      "text/plain": [
       "{'rojo': 'red', 'azul': 'blue', 'verde': 'green', 'blanco': 'black'}"
      ]
     },
     "execution_count": 78,
     "metadata": {},
     "output_type": "execute_result"
    }
   ],
   "source": [
    "x['blanco']='black'\n",
    "x"
   ]
  },
  {
   "cell_type": "code",
   "execution_count": 79,
   "metadata": {},
   "outputs": [
    {
     "data": {
      "text/plain": [
       "{'rojo': 'red', 'azul': 'blue', 'verde': 'green', 'blanco': 'white'}"
      ]
     },
     "execution_count": 79,
     "metadata": {},
     "output_type": "execute_result"
    }
   ],
   "source": [
    "x['blanco']='white'\n",
    "x"
   ]
  },
  {
   "cell_type": "code",
   "execution_count": 80,
   "metadata": {},
   "outputs": [
    {
     "data": {
      "text/plain": [
       "True"
      ]
     },
     "execution_count": 80,
     "metadata": {},
     "output_type": "execute_result"
    }
   ],
   "source": [
    "'rojo' in x"
   ]
  },
  {
   "cell_type": "code",
   "execution_count": 81,
   "metadata": {},
   "outputs": [
    {
     "data": {
      "text/plain": [
       "False"
      ]
     },
     "execution_count": 81,
     "metadata": {},
     "output_type": "execute_result"
    }
   ],
   "source": [
    "'red' in x"
   ]
  },
  {
   "cell_type": "code",
   "execution_count": 82,
   "metadata": {},
   "outputs": [
    {
     "data": {
      "text/plain": [
       "dict_keys(['rojo', 'azul', 'verde', 'blanco'])"
      ]
     },
     "execution_count": 82,
     "metadata": {},
     "output_type": "execute_result"
    }
   ],
   "source": [
    "x.keys()"
   ]
  },
  {
   "cell_type": "code",
   "execution_count": 83,
   "metadata": {},
   "outputs": [
    {
     "data": {
      "text/plain": [
       "dict_values(['red', 'blue', 'green', 'white'])"
      ]
     },
     "execution_count": 83,
     "metadata": {},
     "output_type": "execute_result"
    }
   ],
   "source": [
    "x.values()"
   ]
  },
  {
   "cell_type": "code",
   "execution_count": 84,
   "metadata": {},
   "outputs": [
    {
     "data": {
      "text/plain": [
       "True"
      ]
     },
     "execution_count": 84,
     "metadata": {},
     "output_type": "execute_result"
    }
   ],
   "source": [
    "'red' in x.values()"
   ]
  },
  {
   "cell_type": "code",
   "execution_count": 85,
   "metadata": {},
   "outputs": [
    {
     "data": {
      "text/plain": [
       "dict_items([('rojo', 'red'), ('azul', 'blue'), ('verde', 'green'), ('blanco', 'white')])"
      ]
     },
     "execution_count": 85,
     "metadata": {},
     "output_type": "execute_result"
    }
   ],
   "source": [
    "x.items()"
   ]
  },
  {
   "cell_type": "code",
   "execution_count": 86,
   "metadata": {},
   "outputs": [],
   "source": [
    "# x['negro']"
   ]
  },
  {
   "cell_type": "code",
   "execution_count": 87,
   "metadata": {},
   "outputs": [
    {
     "data": {
      "text/plain": [
       "'no disponible'"
      ]
     },
     "execution_count": 87,
     "metadata": {},
     "output_type": "execute_result"
    }
   ],
   "source": [
    "x.get('negro', 'no disponible')"
   ]
  },
  {
   "cell_type": "code",
   "execution_count": 88,
   "metadata": {},
   "outputs": [
    {
     "data": {
      "text/plain": [
       "'green'"
      ]
     },
     "execution_count": 88,
     "metadata": {},
     "output_type": "execute_result"
    }
   ],
   "source": [
    "x.get('verde', 'no disponible')"
   ]
  },
  {
   "cell_type": "code",
   "execution_count": 89,
   "metadata": {},
   "outputs": [
    {
     "data": {
      "text/plain": [
       "{'rojo': 'red', 'azul': 'blue', 'verde': 'green', 'blanco': 'white'}"
      ]
     },
     "execution_count": 89,
     "metadata": {},
     "output_type": "execute_result"
    }
   ],
   "source": [
    "x"
   ]
  },
  {
   "cell_type": "code",
   "execution_count": 90,
   "metadata": {},
   "outputs": [
    {
     "data": {
      "text/plain": [
       "{'rojo': 'red',\n",
       " 'azul': 'blue',\n",
       " 'verde': 'green',\n",
       " 'blanco': 'white',\n",
       " 'negro': 'no disponible'}"
      ]
     },
     "execution_count": 90,
     "metadata": {},
     "output_type": "execute_result"
    }
   ],
   "source": [
    "x.setdefault('negro', 'no disponible')\n",
    "x"
   ]
  },
  {
   "cell_type": "code",
   "execution_count": 91,
   "metadata": {},
   "outputs": [
    {
     "data": {
      "text/plain": [
       "{'rojo': 'red',\n",
       " 'azul': 'blue',\n",
       " 'verde': 'green',\n",
       " 'blanco': 'white',\n",
       " 'negro': 'no disponible'}"
      ]
     },
     "execution_count": 91,
     "metadata": {},
     "output_type": "execute_result"
    }
   ],
   "source": [
    "y = x.copy()\n",
    "y"
   ]
  },
  {
   "cell_type": "markdown",
   "metadata": {},
   "source": [
    "#### Formato de cadenas con diccionarios"
   ]
  },
  {
   "cell_type": "code",
   "execution_count": 92,
   "metadata": {},
   "outputs": [
    {
     "name": "stdout",
     "output_type": "stream",
     "text": [
      "3.14 \n",
      "3.1416 \n",
      "2.72\n"
     ]
    }
   ],
   "source": [
    "x = {'e':2.718, 'pi':3.14159}\n",
    "print('%(pi).2f \\n%(pi).4f \\n%(e).2f' % x)"
   ]
  },
  {
   "cell_type": "markdown",
   "metadata": {},
   "source": [
    "#### Uso de tuplas como claves"
   ]
  },
  {
   "cell_type": "code",
   "execution_count": 93,
   "metadata": {},
   "outputs": [
    {
     "name": "stdout",
     "output_type": "stream",
     "text": [
      "3\n",
      "0\n"
     ]
    }
   ],
   "source": [
    "m = {(0, 0): 3, (0, 2): 4, (1, 2): 1, (1, 3): 7, (2, 1): 2, (2, 3): 3, (3, 0): 6, (3, 2): 1}\n",
    "print(m.get((2,3),0))\n",
    "print(m.get((0,1), 0))"
   ]
  },
  {
   "cell_type": "markdown",
   "metadata": {},
   "source": [
    "### Control de flujo"
   ]
  },
  {
   "cell_type": "code",
   "execution_count": 94,
   "metadata": {},
   "outputs": [
    {
     "data": {
      "text/plain": [
       "[0, 1, 2, 3, 4, 5, 6, 7, 8, 9]"
      ]
     },
     "execution_count": 94,
     "metadata": {},
     "output_type": "execute_result"
    }
   ],
   "source": [
    "list(range(10))"
   ]
  },
  {
   "cell_type": "code",
   "execution_count": 95,
   "metadata": {},
   "outputs": [
    {
     "data": {
      "text/plain": [
       "[5, 6, 7, 8, 9, 10, 11, 12, 13, 14, 15, 16, 17, 18, 19]"
      ]
     },
     "execution_count": 95,
     "metadata": {},
     "output_type": "execute_result"
    }
   ],
   "source": [
    "list(range(5,20))"
   ]
  },
  {
   "cell_type": "code",
   "execution_count": 96,
   "metadata": {},
   "outputs": [
    {
     "data": {
      "text/plain": [
       "[5, 8, 11, 14, 17]"
      ]
     },
     "execution_count": 96,
     "metadata": {},
     "output_type": "execute_result"
    }
   ],
   "source": [
    "list(range(5,20,3))"
   ]
  },
  {
   "cell_type": "code",
   "execution_count": 97,
   "metadata": {},
   "outputs": [
    {
     "data": {
      "text/plain": [
       "[20, 18, 16, 14, 12, 10, 8, 6]"
      ]
     },
     "execution_count": 97,
     "metadata": {},
     "output_type": "execute_result"
    }
   ],
   "source": [
    "list(range(20,5,-2))"
   ]
  },
  {
   "cell_type": "code",
   "execution_count": 98,
   "metadata": {},
   "outputs": [
    {
     "name": "stdout",
     "output_type": "stream",
     "text": [
      "1 2 3\n"
     ]
    }
   ],
   "source": [
    "nums = [1,2,3]\n",
    "print(*nums)"
   ]
  },
  {
   "cell_type": "code",
   "execution_count": 99,
   "metadata": {},
   "outputs": [
    {
     "data": {
      "text/plain": [
       "{'a': 1, 'b': 2, 'c': 3, 'one': 'two', 'three': 'four'}"
      ]
     },
     "execution_count": 99,
     "metadata": {},
     "output_type": "execute_result"
    }
   ],
   "source": [
    "dict_1 = {'a': 1, 'b': 2, 'c': 3}\n",
    "dict_2 = {'one': 'two', 'three': 'four'}\n",
    "\n",
    "dict_3 = {**dict_1, **dict_2}\n",
    "# {'a': 1, 'b': 2, 'c': 3, 'one': 'two', 'three': 'four'}\n",
    "dict_3"
   ]
  },
  {
   "cell_type": "code",
   "execution_count": 100,
   "metadata": {},
   "outputs": [
    {
     "name": "stdout",
     "output_type": "stream",
     "text": [
      "Para arriba\n",
      "Para arriba\n",
      "Para arriba\n",
      "No adivinaste, suerte para la próxima\n"
     ]
    }
   ],
   "source": [
    "import random\n",
    "y = random.randint(1,11)\n",
    "for i in range(3):\n",
    "    z = int(input('Adivina el numero: '))\n",
    "    if y>z:\n",
    "        print('Para arriba')\n",
    "    elif y<z:\n",
    "        print('Para abajo')\n",
    "    else:\n",
    "        print('Adivinaste')\n",
    "        break\n",
    "    continue\n",
    "    print('No llega a esta linea')\n",
    "else:\n",
    "    print('No adivinaste, suerte para la próxima')"
   ]
  },
  {
   "cell_type": "code",
   "execution_count": 101,
   "metadata": {},
   "outputs": [
    {
     "name": "stdout",
     "output_type": "stream",
     "text": [
      "VACÍA\n"
     ]
    }
   ],
   "source": [
    "l = []\n",
    "if l:\n",
    "    print('NO VACÍA')\n",
    "else:\n",
    "    print('VACÍA')"
   ]
  },
  {
   "cell_type": "markdown",
   "metadata": {},
   "source": [
    "### List/Dict comprehension"
   ]
  },
  {
   "cell_type": "code",
   "execution_count": 102,
   "metadata": {},
   "outputs": [
    {
     "data": {
      "text/plain": [
       "[0, 4, 16, 36, 64, 100, 144, 196, 256, 324]"
      ]
     },
     "execution_count": 102,
     "metadata": {},
     "output_type": "execute_result"
    }
   ],
   "source": [
    "l, nl = range(20), []\n",
    "for e in l:\n",
    "    if not e%2:\n",
    "        nl.append(e**2)\n",
    "nl"
   ]
  },
  {
   "cell_type": "code",
   "execution_count": 103,
   "metadata": {},
   "outputs": [
    {
     "data": {
      "text/plain": [
       "[0, 4, 16, 36, 64, 100, 144, 196, 256, 324]"
      ]
     },
     "execution_count": 103,
     "metadata": {},
     "output_type": "execute_result"
    }
   ],
   "source": [
    "l = range(20)\n",
    "nl = [e**2 for e in l if not e%2]\n",
    "nl"
   ]
  },
  {
   "cell_type": "code",
   "execution_count": 104,
   "metadata": {},
   "outputs": [
    {
     "data": {
      "text/plain": [
       "{0: 0, 2: 4, 4: 16, 6: 36, 8: 64, 10: 100, 12: 144, 14: 196, 16: 256, 18: 324}"
      ]
     },
     "execution_count": 104,
     "metadata": {},
     "output_type": "execute_result"
    }
   ],
   "source": [
    "l = range(20)\n",
    "nd = {e:e**2 for e in l if not e%2}\n",
    "nd"
   ]
  },
  {
   "cell_type": "markdown",
   "metadata": {},
   "source": [
    "### Funciones"
   ]
  },
  {
   "cell_type": "code",
   "execution_count": 105,
   "metadata": {},
   "outputs": [
    {
     "data": {
      "text/plain": [
       "25"
      ]
     },
     "execution_count": 105,
     "metadata": {},
     "output_type": "execute_result"
    }
   ],
   "source": [
    "def pow(x,y=2): # Valor por omisión\n",
    "    ''' Devuelve x^y '''\n",
    "    return x**y\n",
    "\n",
    "pow(5)"
   ]
  },
  {
   "cell_type": "code",
   "execution_count": 106,
   "metadata": {},
   "outputs": [
    {
     "data": {
      "text/plain": [
       "' Devuelve x^y '"
      ]
     },
     "execution_count": 106,
     "metadata": {},
     "output_type": "execute_result"
    }
   ],
   "source": [
    "pow.__doc__"
   ]
  },
  {
   "cell_type": "code",
   "execution_count": 107,
   "metadata": {},
   "outputs": [
    {
     "data": {
      "text/plain": [
       "32"
      ]
     },
     "execution_count": 107,
     "metadata": {},
     "output_type": "execute_result"
    }
   ],
   "source": [
    "pow(y=5, x=2) # Paso de parámetros por nombre"
   ]
  },
  {
   "cell_type": "code",
   "execution_count": 108,
   "metadata": {},
   "outputs": [
    {
     "data": {
      "text/plain": [
       "16"
      ]
     },
     "execution_count": 108,
     "metadata": {},
     "output_type": "execute_result"
    }
   ],
   "source": [
    "lambda_pow = lambda x,y : x**y\n",
    "lambda_pow(4,2)"
   ]
  },
  {
   "cell_type": "code",
   "execution_count": 109,
   "metadata": {},
   "outputs": [
    {
     "data": {
      "text/plain": [
       "9"
      ]
     },
     "execution_count": 109,
     "metadata": {},
     "output_type": "execute_result"
    }
   ],
   "source": [
    "def maximo(*numeros): # Numero indefinido de parametros por posicion\n",
    "    if not numeros:\n",
    "        return None\n",
    "    n_max = numeros[0]\n",
    "    for n in numeros[1:]:\n",
    "        if n > n_max:\n",
    "            n_max = n\n",
    "    return n_max\n",
    "\n",
    "maximo(2,4,1,6,8,9,3)"
   ]
  },
  {
   "cell_type": "code",
   "execution_count": 110,
   "metadata": {},
   "outputs": [
    {
     "name": "stdout",
     "output_type": "stream",
     "text": [
      "x = 6, dict = {'y': 'hola', 'z': [1, 2, 3]}\n"
     ]
    }
   ],
   "source": [
    "def ejem(x, **dic): # Numero indefinido de parametros por posicion\n",
    "    print('x = %s, dict = %s' % (x, dic))\n",
    "\n",
    "ejem(6, y='hola', z=[1,2,3])"
   ]
  },
  {
   "cell_type": "markdown",
   "metadata": {},
   "source": [
    "### Módulos"
   ]
  },
  {
   "cell_type": "code",
   "execution_count": 111,
   "metadata": {},
   "outputs": [
    {
     "data": {
      "text/plain": [
       "5.0"
      ]
     },
     "execution_count": 111,
     "metadata": {},
     "output_type": "execute_result"
    }
   ],
   "source": [
    "import math\n",
    "math.sqrt(25)"
   ]
  },
  {
   "cell_type": "code",
   "execution_count": 112,
   "metadata": {},
   "outputs": [
    {
     "data": {
      "text/plain": [
       "6.0"
      ]
     },
     "execution_count": 112,
     "metadata": {},
     "output_type": "execute_result"
    }
   ],
   "source": [
    "from math import sqrt\n",
    "sqrt(36)"
   ]
  },
  {
   "cell_type": "code",
   "execution_count": 113,
   "metadata": {},
   "outputs": [
    {
     "data": {
      "text/plain": [
       "-1.0"
      ]
     },
     "execution_count": 113,
     "metadata": {},
     "output_type": "execute_result"
    }
   ],
   "source": [
    "# No recomendado\n",
    "from math import *\n",
    "cos(pi)"
   ]
  },
  {
   "cell_type": "markdown",
   "metadata": {},
   "source": [
    "### Clases y POO"
   ]
  },
  {
   "cell_type": "code",
   "execution_count": 114,
   "metadata": {},
   "outputs": [],
   "source": [
    "class mi_clase(object):\n",
    "    '''Mi primera clase en Python'''\n",
    "    pass"
   ]
  },
  {
   "cell_type": "code",
   "execution_count": 115,
   "metadata": {},
   "outputs": [
    {
     "data": {
      "text/plain": [
       "__main__.mi_clase"
      ]
     },
     "execution_count": 115,
     "metadata": {},
     "output_type": "execute_result"
    }
   ],
   "source": [
    "obj = mi_clase()\n",
    "type(obj)"
   ]
  },
  {
   "cell_type": "code",
   "execution_count": 116,
   "metadata": {},
   "outputs": [
    {
     "name": "stdout",
     "output_type": "stream",
     "text": [
      "<__main__.mi_clase object at 0x000002365D918CE0>\n"
     ]
    }
   ],
   "source": [
    "print(obj)"
   ]
  },
  {
   "cell_type": "code",
   "execution_count": 117,
   "metadata": {},
   "outputs": [
    {
     "data": {
      "text/plain": [
       "['__class__',\n",
       " '__delattr__',\n",
       " '__dict__',\n",
       " '__dir__',\n",
       " '__doc__',\n",
       " '__eq__',\n",
       " '__format__',\n",
       " '__ge__',\n",
       " '__getattribute__',\n",
       " '__getstate__',\n",
       " '__gt__',\n",
       " '__hash__',\n",
       " '__init__',\n",
       " '__init_subclass__',\n",
       " '__le__',\n",
       " '__lt__',\n",
       " '__module__',\n",
       " '__ne__',\n",
       " '__new__',\n",
       " '__reduce__',\n",
       " '__reduce_ex__',\n",
       " '__repr__',\n",
       " '__setattr__',\n",
       " '__sizeof__',\n",
       " '__str__',\n",
       " '__subclasshook__',\n",
       " '__weakref__']"
      ]
     },
     "execution_count": 117,
     "metadata": {},
     "output_type": "execute_result"
    }
   ],
   "source": [
    "dir(obj)"
   ]
  },
  {
   "cell_type": "code",
   "execution_count": 118,
   "metadata": {},
   "outputs": [],
   "source": [
    "class circulo():\n",
    "    def __init__(self) -> None:\n",
    "        self.radio = 1"
   ]
  },
  {
   "cell_type": "code",
   "execution_count": 119,
   "metadata": {},
   "outputs": [
    {
     "data": {
      "text/plain": [
       "1"
      ]
     },
     "execution_count": 119,
     "metadata": {},
     "output_type": "execute_result"
    }
   ],
   "source": [
    "c1 = circulo()\n",
    "c2 = circulo()\n",
    "c1.radio"
   ]
  },
  {
   "cell_type": "code",
   "execution_count": 120,
   "metadata": {},
   "outputs": [
    {
     "data": {
      "text/plain": [
       "10"
      ]
     },
     "execution_count": 120,
     "metadata": {},
     "output_type": "execute_result"
    }
   ],
   "source": [
    "c2.radio = 10\n",
    "c2.radio"
   ]
  },
  {
   "cell_type": "code",
   "execution_count": 121,
   "metadata": {},
   "outputs": [],
   "source": [
    "class circulo():\n",
    "    pi = 3.141592 # Atributos de clase, los comparten todos los objetos\n",
    "    todos_los_circulos = []\n",
    "    def __init__(self, radio=1) -> None: # Atributos de objeto\n",
    "        self.radio = radio\n",
    "        self.todos_los_circulos.append(self)\n",
    "    def area(self):\n",
    "        return self.pi * self.radio**2\n",
    "    @staticmethod\n",
    "    def area_total():\n",
    "        total = 0\n",
    "        for c in circulo.todos_los_circulos:\n",
    "            total+=c.area()\n",
    "        return total"
   ]
  },
  {
   "cell_type": "code",
   "execution_count": 122,
   "metadata": {},
   "outputs": [
    {
     "data": {
      "text/plain": [
       "1"
      ]
     },
     "execution_count": 122,
     "metadata": {},
     "output_type": "execute_result"
    }
   ],
   "source": [
    "c1 = circulo()\n",
    "c2 = circulo(10)\n",
    "c1.radio"
   ]
  },
  {
   "cell_type": "code",
   "execution_count": 123,
   "metadata": {},
   "outputs": [
    {
     "data": {
      "text/plain": [
       "10"
      ]
     },
     "execution_count": 123,
     "metadata": {},
     "output_type": "execute_result"
    }
   ],
   "source": [
    "c2.radio"
   ]
  },
  {
   "cell_type": "code",
   "execution_count": 124,
   "metadata": {},
   "outputs": [
    {
     "data": {
      "text/plain": [
       "'hola'"
      ]
     },
     "execution_count": 124,
     "metadata": {},
     "output_type": "execute_result"
    }
   ],
   "source": [
    "c2.nuevo = 'hola' # Atributo nuevo en ejecución\n",
    "c2.nuevo # En este ejemplo, solo disponible para c2"
   ]
  },
  {
   "cell_type": "code",
   "execution_count": 125,
   "metadata": {},
   "outputs": [
    {
     "name": "stdout",
     "output_type": "stream",
     "text": [
      "3.141592\n",
      "3\n"
     ]
    }
   ],
   "source": [
    "c1.pi = 3\n",
    "print(c1.__class__.pi)\n",
    "print(c1.pi)"
   ]
  },
  {
   "cell_type": "code",
   "execution_count": 126,
   "metadata": {},
   "outputs": [
    {
     "data": {
      "text/plain": [
       "314.1592"
      ]
     },
     "execution_count": 126,
     "metadata": {},
     "output_type": "execute_result"
    }
   ],
   "source": [
    "c2.area()"
   ]
  },
  {
   "cell_type": "code",
   "execution_count": 127,
   "metadata": {},
   "outputs": [
    {
     "data": {
      "text/plain": [
       "395.699"
      ]
     },
     "execution_count": 127,
     "metadata": {},
     "output_type": "execute_result"
    }
   ],
   "source": [
    "c3 = circulo(5)\n",
    "circulo.area_total()"
   ]
  },
  {
   "cell_type": "code",
   "execution_count": 128,
   "metadata": {},
   "outputs": [
    {
     "data": {
      "text/plain": [
       "395.699"
      ]
     },
     "execution_count": 128,
     "metadata": {},
     "output_type": "execute_result"
    }
   ],
   "source": [
    "c1.area_total()"
   ]
  },
  {
   "cell_type": "code",
   "execution_count": 129,
   "metadata": {},
   "outputs": [
    {
     "data": {
      "text/plain": [
       "[<__main__.circulo at 0x2365d943ef0>,\n",
       " <__main__.circulo at 0x2365d918d70>,\n",
       " <__main__.circulo at 0x2365d941e50>]"
      ]
     },
     "execution_count": 129,
     "metadata": {},
     "output_type": "execute_result"
    }
   ],
   "source": [
    "c1.todos_los_circulos"
   ]
  },
  {
   "cell_type": "code",
   "execution_count": 130,
   "metadata": {},
   "outputs": [],
   "source": [
    "class circulo():\n",
    "    pi = 3.141592 # Atributos de clase, los comparten todos los objetos\n",
    "    todos_los_circulos = []\n",
    "    def __init__(self, radio=1) -> None: # Atributos de objeto\n",
    "        self.radio = radio\n",
    "        self.todos_los_circulos.append(self)\n",
    "    def area(self):\n",
    "        return self.pi * self.radio**2\n",
    "    @classmethod\n",
    "    def area_total(cls):\n",
    "        total = 0\n",
    "        for c in cls.todos_los_circulos:\n",
    "            total+=c.area()\n",
    "        return total"
   ]
  },
  {
   "cell_type": "markdown",
   "metadata": {},
   "source": [
    "#### Herencia"
   ]
  },
  {
   "cell_type": "code",
   "execution_count": 131,
   "metadata": {},
   "outputs": [],
   "source": [
    "class forma(object):\n",
    "    def __init__(self, x, y) -> None:\n",
    "        self.x = x\n",
    "        self.y = y\n",
    "    def mover(self, dx=0, dy=0):\n",
    "        self.x+=dx\n",
    "        self.y+=dy\n",
    "\n",
    "class cuadro(forma):\n",
    "    def __init__(self, lado=1, x=0, y=0) -> None:\n",
    "        super().__init__(x, y) # Llama a __init__ de forma\n",
    "        self.lado = lado\n",
    "\n",
    "class circulo(forma):\n",
    "    def __init__(self, radio=1, x=0, y=0) -> None:\n",
    "        super().__init__(x, y)\n",
    "        self.radio = radio\n"
   ]
  },
  {
   "cell_type": "code",
   "execution_count": 132,
   "metadata": {},
   "outputs": [
    {
     "data": {
      "text/plain": [
       "(3, 8)"
      ]
     },
     "execution_count": 132,
     "metadata": {},
     "output_type": "execute_result"
    }
   ],
   "source": [
    "ci1 = circulo(10,3,8)\n",
    "ci1.x, ci1.y"
   ]
  },
  {
   "cell_type": "code",
   "execution_count": 133,
   "metadata": {},
   "outputs": [
    {
     "data": {
      "text/plain": [
       "(8, 7)"
      ]
     },
     "execution_count": 133,
     "metadata": {},
     "output_type": "execute_result"
    }
   ],
   "source": [
    "ci1.mover(5,-1)\n",
    "ci1.x, ci1.y"
   ]
  },
  {
   "cell_type": "markdown",
   "metadata": {},
   "source": [
    "### Pandas"
   ]
  },
  {
   "cell_type": "markdown",
   "metadata": {},
   "source": [
    "#### Dataframes"
   ]
  },
  {
   "cell_type": "code",
   "execution_count": 134,
   "metadata": {},
   "outputs": [],
   "source": [
    "import pandas as pd"
   ]
  },
  {
   "cell_type": "code",
   "execution_count": 135,
   "metadata": {},
   "outputs": [],
   "source": [
    "data = pd.read_csv('https://bit.ly/31B56KB')"
   ]
  },
  {
   "cell_type": "code",
   "execution_count": 136,
   "metadata": {},
   "outputs": [
    {
     "data": {
      "text/html": [
       "<div>\n",
       "<style scoped>\n",
       "    .dataframe tbody tr th:only-of-type {\n",
       "        vertical-align: middle;\n",
       "    }\n",
       "\n",
       "    .dataframe tbody tr th {\n",
       "        vertical-align: top;\n",
       "    }\n",
       "\n",
       "    .dataframe thead th {\n",
       "        text-align: right;\n",
       "    }\n",
       "</style>\n",
       "<table border=\"1\" class=\"dataframe\">\n",
       "  <thead>\n",
       "    <tr style=\"text-align: right;\">\n",
       "      <th></th>\n",
       "      <th>Contaminacion_SO2</th>\n",
       "      <th>Temperatura</th>\n",
       "      <th>Fabricas</th>\n",
       "      <th>Habitantes</th>\n",
       "      <th>Velocidad_viento</th>\n",
       "      <th>Lluvia</th>\n",
       "      <th>Dias_Lluvia</th>\n",
       "    </tr>\n",
       "  </thead>\n",
       "  <tbody>\n",
       "    <tr>\n",
       "      <th>0</th>\n",
       "      <td>10</td>\n",
       "      <td>70.3</td>\n",
       "      <td>213</td>\n",
       "      <td>582</td>\n",
       "      <td>6.0</td>\n",
       "      <td>7.05</td>\n",
       "      <td>36</td>\n",
       "    </tr>\n",
       "    <tr>\n",
       "      <th>1</th>\n",
       "      <td>13</td>\n",
       "      <td>61.0</td>\n",
       "      <td>91</td>\n",
       "      <td>132</td>\n",
       "      <td>8.2</td>\n",
       "      <td>48.52</td>\n",
       "      <td>100</td>\n",
       "    </tr>\n",
       "  </tbody>\n",
       "</table>\n",
       "</div>"
      ],
      "text/plain": [
       "   Contaminacion_SO2  Temperatura  Fabricas  Habitantes  Velocidad_viento  \\\n",
       "0                 10         70.3       213         582               6.0   \n",
       "1                 13         61.0        91         132               8.2   \n",
       "\n",
       "   Lluvia  Dias_Lluvia  \n",
       "0    7.05           36  \n",
       "1   48.52          100  "
      ]
     },
     "execution_count": 136,
     "metadata": {},
     "output_type": "execute_result"
    }
   ],
   "source": [
    "data.head(2)"
   ]
  },
  {
   "cell_type": "code",
   "execution_count": 137,
   "metadata": {},
   "outputs": [
    {
     "data": {
      "text/html": [
       "<div>\n",
       "<style scoped>\n",
       "    .dataframe tbody tr th:only-of-type {\n",
       "        vertical-align: middle;\n",
       "    }\n",
       "\n",
       "    .dataframe tbody tr th {\n",
       "        vertical-align: top;\n",
       "    }\n",
       "\n",
       "    .dataframe thead th {\n",
       "        text-align: right;\n",
       "    }\n",
       "</style>\n",
       "<table border=\"1\" class=\"dataframe\">\n",
       "  <thead>\n",
       "    <tr style=\"text-align: right;\">\n",
       "      <th></th>\n",
       "      <th>Contaminacion_SO2</th>\n",
       "      <th>Temperatura</th>\n",
       "      <th>Fabricas</th>\n",
       "      <th>Habitantes</th>\n",
       "      <th>Velocidad_viento</th>\n",
       "      <th>Lluvia</th>\n",
       "      <th>Dias_Lluvia</th>\n",
       "    </tr>\n",
       "  </thead>\n",
       "  <tbody>\n",
       "    <tr>\n",
       "      <th>39</th>\n",
       "      <td>31</td>\n",
       "      <td>55.2</td>\n",
       "      <td>35</td>\n",
       "      <td>71</td>\n",
       "      <td>6.5</td>\n",
       "      <td>40.75</td>\n",
       "      <td>148</td>\n",
       "    </tr>\n",
       "    <tr>\n",
       "      <th>40</th>\n",
       "      <td>16</td>\n",
       "      <td>45.7</td>\n",
       "      <td>569</td>\n",
       "      <td>717</td>\n",
       "      <td>11.8</td>\n",
       "      <td>29.07</td>\n",
       "      <td>123</td>\n",
       "    </tr>\n",
       "  </tbody>\n",
       "</table>\n",
       "</div>"
      ],
      "text/plain": [
       "    Contaminacion_SO2  Temperatura  Fabricas  Habitantes  Velocidad_viento  \\\n",
       "39                 31         55.2        35          71               6.5   \n",
       "40                 16         45.7       569         717              11.8   \n",
       "\n",
       "    Lluvia  Dias_Lluvia  \n",
       "39   40.75          148  \n",
       "40   29.07          123  "
      ]
     },
     "execution_count": 137,
     "metadata": {},
     "output_type": "execute_result"
    }
   ],
   "source": [
    "data.tail(2)"
   ]
  },
  {
   "cell_type": "code",
   "execution_count": 138,
   "metadata": {},
   "outputs": [
    {
     "name": "stdout",
     "output_type": "stream",
     "text": [
      "<class 'pandas.core.frame.DataFrame'>\n",
      "RangeIndex: 41 entries, 0 to 40\n",
      "Data columns (total 7 columns):\n",
      " #   Column             Non-Null Count  Dtype  \n",
      "---  ------             --------------  -----  \n",
      " 0   Contaminacion_SO2  41 non-null     int64  \n",
      " 1   Temperatura        41 non-null     float64\n",
      " 2   Fabricas           41 non-null     int64  \n",
      " 3   Habitantes         41 non-null     int64  \n",
      " 4   Velocidad_viento   41 non-null     float64\n",
      " 5   Lluvia             41 non-null     float64\n",
      " 6   Dias_Lluvia        41 non-null     int64  \n",
      "dtypes: float64(3), int64(4)\n",
      "memory usage: 2.4 KB\n"
     ]
    }
   ],
   "source": [
    "data.info()"
   ]
  },
  {
   "cell_type": "code",
   "execution_count": 139,
   "metadata": {},
   "outputs": [
    {
     "data": {
      "text/html": [
       "<div>\n",
       "<style scoped>\n",
       "    .dataframe tbody tr th:only-of-type {\n",
       "        vertical-align: middle;\n",
       "    }\n",
       "\n",
       "    .dataframe tbody tr th {\n",
       "        vertical-align: top;\n",
       "    }\n",
       "\n",
       "    .dataframe thead th {\n",
       "        text-align: right;\n",
       "    }\n",
       "</style>\n",
       "<table border=\"1\" class=\"dataframe\">\n",
       "  <thead>\n",
       "    <tr style=\"text-align: right;\">\n",
       "      <th></th>\n",
       "      <th>Contaminacion_SO2</th>\n",
       "      <th>Temperatura</th>\n",
       "      <th>Fabricas</th>\n",
       "      <th>Habitantes</th>\n",
       "      <th>Velocidad_viento</th>\n",
       "      <th>Lluvia</th>\n",
       "      <th>Dias_Lluvia</th>\n",
       "    </tr>\n",
       "  </thead>\n",
       "  <tbody>\n",
       "    <tr>\n",
       "      <th>count</th>\n",
       "      <td>41.000000</td>\n",
       "      <td>41.000000</td>\n",
       "      <td>41.000000</td>\n",
       "      <td>41.000000</td>\n",
       "      <td>41.000000</td>\n",
       "      <td>41.000000</td>\n",
       "      <td>41.000000</td>\n",
       "    </tr>\n",
       "    <tr>\n",
       "      <th>mean</th>\n",
       "      <td>30.048780</td>\n",
       "      <td>55.763415</td>\n",
       "      <td>463.097561</td>\n",
       "      <td>608.609756</td>\n",
       "      <td>9.443902</td>\n",
       "      <td>36.769024</td>\n",
       "      <td>113.902439</td>\n",
       "    </tr>\n",
       "    <tr>\n",
       "      <th>std</th>\n",
       "      <td>23.472272</td>\n",
       "      <td>7.227716</td>\n",
       "      <td>563.473948</td>\n",
       "      <td>579.113023</td>\n",
       "      <td>1.428644</td>\n",
       "      <td>11.771550</td>\n",
       "      <td>26.506419</td>\n",
       "    </tr>\n",
       "    <tr>\n",
       "      <th>min</th>\n",
       "      <td>8.000000</td>\n",
       "      <td>43.500000</td>\n",
       "      <td>35.000000</td>\n",
       "      <td>71.000000</td>\n",
       "      <td>6.000000</td>\n",
       "      <td>7.050000</td>\n",
       "      <td>36.000000</td>\n",
       "    </tr>\n",
       "    <tr>\n",
       "      <th>25%</th>\n",
       "      <td>13.000000</td>\n",
       "      <td>50.600000</td>\n",
       "      <td>181.000000</td>\n",
       "      <td>299.000000</td>\n",
       "      <td>8.700000</td>\n",
       "      <td>30.960000</td>\n",
       "      <td>103.000000</td>\n",
       "    </tr>\n",
       "    <tr>\n",
       "      <th>50%</th>\n",
       "      <td>26.000000</td>\n",
       "      <td>54.600000</td>\n",
       "      <td>347.000000</td>\n",
       "      <td>515.000000</td>\n",
       "      <td>9.300000</td>\n",
       "      <td>38.740000</td>\n",
       "      <td>115.000000</td>\n",
       "    </tr>\n",
       "    <tr>\n",
       "      <th>75%</th>\n",
       "      <td>35.000000</td>\n",
       "      <td>59.300000</td>\n",
       "      <td>462.000000</td>\n",
       "      <td>717.000000</td>\n",
       "      <td>10.600000</td>\n",
       "      <td>43.110000</td>\n",
       "      <td>128.000000</td>\n",
       "    </tr>\n",
       "    <tr>\n",
       "      <th>max</th>\n",
       "      <td>110.000000</td>\n",
       "      <td>75.500000</td>\n",
       "      <td>3344.000000</td>\n",
       "      <td>3369.000000</td>\n",
       "      <td>12.700000</td>\n",
       "      <td>59.800000</td>\n",
       "      <td>166.000000</td>\n",
       "    </tr>\n",
       "  </tbody>\n",
       "</table>\n",
       "</div>"
      ],
      "text/plain": [
       "       Contaminacion_SO2  Temperatura     Fabricas   Habitantes  \\\n",
       "count          41.000000    41.000000    41.000000    41.000000   \n",
       "mean           30.048780    55.763415   463.097561   608.609756   \n",
       "std            23.472272     7.227716   563.473948   579.113023   \n",
       "min             8.000000    43.500000    35.000000    71.000000   \n",
       "25%            13.000000    50.600000   181.000000   299.000000   \n",
       "50%            26.000000    54.600000   347.000000   515.000000   \n",
       "75%            35.000000    59.300000   462.000000   717.000000   \n",
       "max           110.000000    75.500000  3344.000000  3369.000000   \n",
       "\n",
       "       Velocidad_viento     Lluvia  Dias_Lluvia  \n",
       "count         41.000000  41.000000    41.000000  \n",
       "mean           9.443902  36.769024   113.902439  \n",
       "std            1.428644  11.771550    26.506419  \n",
       "min            6.000000   7.050000    36.000000  \n",
       "25%            8.700000  30.960000   103.000000  \n",
       "50%            9.300000  38.740000   115.000000  \n",
       "75%           10.600000  43.110000   128.000000  \n",
       "max           12.700000  59.800000   166.000000  "
      ]
     },
     "execution_count": 139,
     "metadata": {},
     "output_type": "execute_result"
    }
   ],
   "source": [
    "data.describe()"
   ]
  },
  {
   "cell_type": "code",
   "execution_count": 140,
   "metadata": {},
   "outputs": [
    {
     "data": {
      "text/plain": [
       "41"
      ]
     },
     "execution_count": 140,
     "metadata": {},
     "output_type": "execute_result"
    }
   ],
   "source": [
    "len(data)"
   ]
  },
  {
   "cell_type": "code",
   "execution_count": 141,
   "metadata": {},
   "outputs": [
    {
     "data": {
      "text/plain": [
       "Index(['Contaminacion_SO2', 'Temperatura', 'Fabricas', 'Habitantes',\n",
       "       'Velocidad_viento', 'Lluvia', 'Dias_Lluvia'],\n",
       "      dtype='object')"
      ]
     },
     "execution_count": 141,
     "metadata": {},
     "output_type": "execute_result"
    }
   ],
   "source": [
    "data.columns"
   ]
  },
  {
   "cell_type": "code",
   "execution_count": 142,
   "metadata": {},
   "outputs": [
    {
     "data": {
      "text/plain": [
       "Contaminacion_SO2      int64\n",
       "Temperatura          float64\n",
       "Fabricas               int64\n",
       "Habitantes             int64\n",
       "Velocidad_viento     float64\n",
       "Lluvia               float64\n",
       "Dias_Lluvia            int64\n",
       "dtype: object"
      ]
     },
     "execution_count": 142,
     "metadata": {},
     "output_type": "execute_result"
    }
   ],
   "source": [
    "data.dtypes"
   ]
  },
  {
   "cell_type": "code",
   "execution_count": 143,
   "metadata": {},
   "outputs": [
    {
     "data": {
      "text/plain": [
       "(41, 7)"
      ]
     },
     "execution_count": 143,
     "metadata": {},
     "output_type": "execute_result"
    }
   ],
   "source": [
    "data.shape"
   ]
  },
  {
   "cell_type": "code",
   "execution_count": 144,
   "metadata": {},
   "outputs": [
    {
     "data": {
      "text/plain": [
       "array([[  10.  ,   70.3 ,  213.  ,  582.  ,    6.  ,    7.05,   36.  ],\n",
       "       [  13.  ,   61.  ,   91.  ,  132.  ,    8.2 ,   48.52,  100.  ],\n",
       "       [  12.  ,   56.7 ,  453.  ,  716.  ,    8.7 ,   20.66,   67.  ],\n",
       "       [  17.  ,   51.9 ,  454.  ,  515.  ,    9.  ,   12.95,   86.  ],\n",
       "       [  56.  ,   49.1 ,  412.  ,  158.  ,    9.  ,   43.37,  127.  ],\n",
       "       [  36.  ,   54.  ,   80.  ,   80.  ,    9.  ,   40.25,  114.  ],\n",
       "       [  29.  ,   57.3 ,  434.  ,  757.  ,    9.3 ,   38.89,  111.  ],\n",
       "       [  14.  ,   68.4 ,  136.  ,  529.  ,    8.8 ,   54.47,  116.  ],\n",
       "       [  10.  ,   75.5 ,  207.  ,  335.  ,    9.  ,   59.8 ,  128.  ],\n",
       "       [  24.  ,   61.5 ,  368.  ,  497.  ,    9.1 ,   48.34,  115.  ],\n",
       "       [ 110.  ,   50.6 , 3344.  , 3369.  ,   10.4 ,   34.44,  122.  ],\n",
       "       [  28.  ,   52.3 ,  361.  ,  746.  ,    9.7 ,   38.74,  121.  ],\n",
       "       [  17.  ,   49.  ,  104.  ,  201.  ,   11.2 ,   30.85,  103.  ],\n",
       "       [   8.  ,   56.6 ,  125.  ,  277.  ,   12.7 ,   30.58,   82.  ],\n",
       "       [  30.  ,   55.6 ,  291.  ,  593.  ,    8.3 ,   43.11,  123.  ],\n",
       "       [   9.  ,   68.3 ,  204.  ,  361.  ,    8.4 ,   56.77,  113.  ],\n",
       "       [  47.  ,   55.  ,  625.  ,  905.  ,    9.6 ,   41.31,  111.  ],\n",
       "       [  35.  ,   49.9 , 1064.  , 1513.  ,   10.1 ,   30.96,  129.  ],\n",
       "       [  29.  ,   43.5 ,  699.  ,  744.  ,   10.6 ,   25.94,  137.  ],\n",
       "       [  14.  ,   54.5 ,  381.  ,  507.  ,   10.  ,   37.  ,   99.  ],\n",
       "       [  56.  ,   55.9 ,  775.  ,  622.  ,    9.5 ,   35.89,  105.  ],\n",
       "       [  14.  ,   51.5 ,  181.  ,  347.  ,   10.9 ,   30.18,   98.  ],\n",
       "       [  11.  ,   56.8 ,   46.  ,  244.  ,    8.9 ,    7.77,   58.  ],\n",
       "       [  46.  ,   47.6 ,   44.  ,  116.  ,    8.8 ,   33.36,  135.  ],\n",
       "       [  11.  ,   47.1 ,  391.  ,  463.  ,   12.4 ,   36.11,  166.  ],\n",
       "       [  23.  ,   54.  ,  462.  ,  453.  ,    7.1 ,   39.04,  132.  ],\n",
       "       [  65.  ,   49.7 , 1007.  ,  751.  ,   10.9 ,   34.99,  155.  ],\n",
       "       [  26.  ,   51.5 ,  266.  ,  540.  ,    8.6 ,   37.01,  134.  ],\n",
       "       [  69.  ,   54.6 , 1692.  , 1950.  ,    9.6 ,   39.93,  115.  ],\n",
       "       [  61.  ,   50.4 ,  347.  ,  520.  ,    9.4 ,   36.22,  147.  ],\n",
       "       [  94.  ,   50.  ,  343.  ,  179.  ,   10.6 ,   42.75,  125.  ],\n",
       "       [  10.  ,   61.6 ,  337.  ,  624.  ,    9.2 ,   49.1 ,  105.  ],\n",
       "       [  18.  ,   59.4 ,  275.  ,  448.  ,    7.9 ,   46.  ,  119.  ],\n",
       "       [   9.  ,   66.2 ,  641.  ,  844.  ,   10.9 ,   35.94,   78.  ],\n",
       "       [  10.  ,   68.9 ,  721.  , 1233.  ,   10.8 ,   48.19,  103.  ],\n",
       "       [  28.  ,   51.  ,  137.  ,  176.  ,    8.7 ,   15.17,   89.  ],\n",
       "       [  31.  ,   59.3 ,   96.  ,  308.  ,   10.6 ,   44.68,  116.  ],\n",
       "       [  26.  ,   57.8 ,  197.  ,  299.  ,    7.6 ,   42.59,  115.  ],\n",
       "       [  29.  ,   51.1 ,  379.  ,  531.  ,    9.4 ,   38.79,  164.  ],\n",
       "       [  31.  ,   55.2 ,   35.  ,   71.  ,    6.5 ,   40.75,  148.  ],\n",
       "       [  16.  ,   45.7 ,  569.  ,  717.  ,   11.8 ,   29.07,  123.  ]])"
      ]
     },
     "execution_count": 144,
     "metadata": {},
     "output_type": "execute_result"
    }
   ],
   "source": [
    "data.values"
   ]
  },
  {
   "cell_type": "code",
   "execution_count": 145,
   "metadata": {},
   "outputs": [
    {
     "data": {
      "text/html": [
       "<div>\n",
       "<style scoped>\n",
       "    .dataframe tbody tr th:only-of-type {\n",
       "        vertical-align: middle;\n",
       "    }\n",
       "\n",
       "    .dataframe tbody tr th {\n",
       "        vertical-align: top;\n",
       "    }\n",
       "\n",
       "    .dataframe thead th {\n",
       "        text-align: right;\n",
       "    }\n",
       "</style>\n",
       "<table border=\"1\" class=\"dataframe\">\n",
       "  <thead>\n",
       "    <tr style=\"text-align: right;\">\n",
       "      <th></th>\n",
       "      <th>Contaminacion_SO2</th>\n",
       "      <th>Temperatura</th>\n",
       "      <th>Fabricas</th>\n",
       "      <th>Habitantes</th>\n",
       "      <th>Velocidad_viento</th>\n",
       "      <th>Lluvia</th>\n",
       "      <th>Dias_Lluvia</th>\n",
       "    </tr>\n",
       "  </thead>\n",
       "  <tbody>\n",
       "    <tr>\n",
       "      <th>6</th>\n",
       "      <td>29</td>\n",
       "      <td>57.3</td>\n",
       "      <td>434</td>\n",
       "      <td>757</td>\n",
       "      <td>9.3</td>\n",
       "      <td>38.89</td>\n",
       "      <td>111</td>\n",
       "    </tr>\n",
       "    <tr>\n",
       "      <th>7</th>\n",
       "      <td>14</td>\n",
       "      <td>68.4</td>\n",
       "      <td>136</td>\n",
       "      <td>529</td>\n",
       "      <td>8.8</td>\n",
       "      <td>54.47</td>\n",
       "      <td>116</td>\n",
       "    </tr>\n",
       "    <tr>\n",
       "      <th>8</th>\n",
       "      <td>10</td>\n",
       "      <td>75.5</td>\n",
       "      <td>207</td>\n",
       "      <td>335</td>\n",
       "      <td>9.0</td>\n",
       "      <td>59.80</td>\n",
       "      <td>128</td>\n",
       "    </tr>\n",
       "    <tr>\n",
       "      <th>9</th>\n",
       "      <td>24</td>\n",
       "      <td>61.5</td>\n",
       "      <td>368</td>\n",
       "      <td>497</td>\n",
       "      <td>9.1</td>\n",
       "      <td>48.34</td>\n",
       "      <td>115</td>\n",
       "    </tr>\n",
       "  </tbody>\n",
       "</table>\n",
       "</div>"
      ],
      "text/plain": [
       "   Contaminacion_SO2  Temperatura  Fabricas  Habitantes  Velocidad_viento  \\\n",
       "6                 29         57.3       434         757               9.3   \n",
       "7                 14         68.4       136         529               8.8   \n",
       "8                 10         75.5       207         335               9.0   \n",
       "9                 24         61.5       368         497               9.1   \n",
       "\n",
       "   Lluvia  Dias_Lluvia  \n",
       "6   38.89          111  \n",
       "7   54.47          116  \n",
       "8   59.80          128  \n",
       "9   48.34          115  "
      ]
     },
     "execution_count": 145,
     "metadata": {},
     "output_type": "execute_result"
    }
   ],
   "source": [
    "data[6:10]"
   ]
  },
  {
   "cell_type": "code",
   "execution_count": 146,
   "metadata": {},
   "outputs": [
    {
     "data": {
      "text/html": [
       "<div>\n",
       "<style scoped>\n",
       "    .dataframe tbody tr th:only-of-type {\n",
       "        vertical-align: middle;\n",
       "    }\n",
       "\n",
       "    .dataframe tbody tr th {\n",
       "        vertical-align: top;\n",
       "    }\n",
       "\n",
       "    .dataframe thead th {\n",
       "        text-align: right;\n",
       "    }\n",
       "</style>\n",
       "<table border=\"1\" class=\"dataframe\">\n",
       "  <thead>\n",
       "    <tr style=\"text-align: right;\">\n",
       "      <th></th>\n",
       "      <th>Temperatura</th>\n",
       "      <th>Fabricas</th>\n",
       "      <th>Habitantes</th>\n",
       "    </tr>\n",
       "  </thead>\n",
       "  <tbody>\n",
       "    <tr>\n",
       "      <th>6</th>\n",
       "      <td>57.3</td>\n",
       "      <td>434</td>\n",
       "      <td>757</td>\n",
       "    </tr>\n",
       "    <tr>\n",
       "      <th>7</th>\n",
       "      <td>68.4</td>\n",
       "      <td>136</td>\n",
       "      <td>529</td>\n",
       "    </tr>\n",
       "    <tr>\n",
       "      <th>8</th>\n",
       "      <td>75.5</td>\n",
       "      <td>207</td>\n",
       "      <td>335</td>\n",
       "    </tr>\n",
       "    <tr>\n",
       "      <th>9</th>\n",
       "      <td>61.5</td>\n",
       "      <td>368</td>\n",
       "      <td>497</td>\n",
       "    </tr>\n",
       "  </tbody>\n",
       "</table>\n",
       "</div>"
      ],
      "text/plain": [
       "   Temperatura  Fabricas  Habitantes\n",
       "6         57.3       434         757\n",
       "7         68.4       136         529\n",
       "8         75.5       207         335\n",
       "9         61.5       368         497"
      ]
     },
     "execution_count": 146,
     "metadata": {},
     "output_type": "execute_result"
    }
   ],
   "source": [
    "data.iloc[6:10, 1:4]"
   ]
  },
  {
   "cell_type": "code",
   "execution_count": 147,
   "metadata": {},
   "outputs": [
    {
     "data": {
      "text/plain": [
       "array([[ 57.3, 434. , 757. ],\n",
       "       [ 68.4, 136. , 529. ],\n",
       "       [ 75.5, 207. , 335. ],\n",
       "       [ 61.5, 368. , 497. ]])"
      ]
     },
     "execution_count": 147,
     "metadata": {},
     "output_type": "execute_result"
    }
   ],
   "source": [
    "data.iloc[6:10, 1:4].values"
   ]
  },
  {
   "cell_type": "code",
   "execution_count": 148,
   "metadata": {},
   "outputs": [
    {
     "data": {
      "text/html": [
       "<div>\n",
       "<style scoped>\n",
       "    .dataframe tbody tr th:only-of-type {\n",
       "        vertical-align: middle;\n",
       "    }\n",
       "\n",
       "    .dataframe tbody tr th {\n",
       "        vertical-align: top;\n",
       "    }\n",
       "\n",
       "    .dataframe thead th {\n",
       "        text-align: right;\n",
       "    }\n",
       "</style>\n",
       "<table border=\"1\" class=\"dataframe\">\n",
       "  <thead>\n",
       "    <tr style=\"text-align: right;\">\n",
       "      <th></th>\n",
       "      <th>Fabricas</th>\n",
       "      <th>Temperatura</th>\n",
       "      <th>Habitantes</th>\n",
       "    </tr>\n",
       "  </thead>\n",
       "  <tbody>\n",
       "    <tr>\n",
       "      <th>0</th>\n",
       "      <td>213</td>\n",
       "      <td>70.3</td>\n",
       "      <td>582</td>\n",
       "    </tr>\n",
       "    <tr>\n",
       "      <th>1</th>\n",
       "      <td>91</td>\n",
       "      <td>61.0</td>\n",
       "      <td>132</td>\n",
       "    </tr>\n",
       "    <tr>\n",
       "      <th>2</th>\n",
       "      <td>453</td>\n",
       "      <td>56.7</td>\n",
       "      <td>716</td>\n",
       "    </tr>\n",
       "    <tr>\n",
       "      <th>3</th>\n",
       "      <td>454</td>\n",
       "      <td>51.9</td>\n",
       "      <td>515</td>\n",
       "    </tr>\n",
       "    <tr>\n",
       "      <th>4</th>\n",
       "      <td>412</td>\n",
       "      <td>49.1</td>\n",
       "      <td>158</td>\n",
       "    </tr>\n",
       "    <tr>\n",
       "      <th>5</th>\n",
       "      <td>80</td>\n",
       "      <td>54.0</td>\n",
       "      <td>80</td>\n",
       "    </tr>\n",
       "    <tr>\n",
       "      <th>6</th>\n",
       "      <td>434</td>\n",
       "      <td>57.3</td>\n",
       "      <td>757</td>\n",
       "    </tr>\n",
       "    <tr>\n",
       "      <th>7</th>\n",
       "      <td>136</td>\n",
       "      <td>68.4</td>\n",
       "      <td>529</td>\n",
       "    </tr>\n",
       "    <tr>\n",
       "      <th>8</th>\n",
       "      <td>207</td>\n",
       "      <td>75.5</td>\n",
       "      <td>335</td>\n",
       "    </tr>\n",
       "    <tr>\n",
       "      <th>9</th>\n",
       "      <td>368</td>\n",
       "      <td>61.5</td>\n",
       "      <td>497</td>\n",
       "    </tr>\n",
       "    <tr>\n",
       "      <th>10</th>\n",
       "      <td>3344</td>\n",
       "      <td>50.6</td>\n",
       "      <td>3369</td>\n",
       "    </tr>\n",
       "    <tr>\n",
       "      <th>11</th>\n",
       "      <td>361</td>\n",
       "      <td>52.3</td>\n",
       "      <td>746</td>\n",
       "    </tr>\n",
       "    <tr>\n",
       "      <th>12</th>\n",
       "      <td>104</td>\n",
       "      <td>49.0</td>\n",
       "      <td>201</td>\n",
       "    </tr>\n",
       "    <tr>\n",
       "      <th>13</th>\n",
       "      <td>125</td>\n",
       "      <td>56.6</td>\n",
       "      <td>277</td>\n",
       "    </tr>\n",
       "    <tr>\n",
       "      <th>14</th>\n",
       "      <td>291</td>\n",
       "      <td>55.6</td>\n",
       "      <td>593</td>\n",
       "    </tr>\n",
       "    <tr>\n",
       "      <th>15</th>\n",
       "      <td>204</td>\n",
       "      <td>68.3</td>\n",
       "      <td>361</td>\n",
       "    </tr>\n",
       "    <tr>\n",
       "      <th>16</th>\n",
       "      <td>625</td>\n",
       "      <td>55.0</td>\n",
       "      <td>905</td>\n",
       "    </tr>\n",
       "    <tr>\n",
       "      <th>17</th>\n",
       "      <td>1064</td>\n",
       "      <td>49.9</td>\n",
       "      <td>1513</td>\n",
       "    </tr>\n",
       "    <tr>\n",
       "      <th>18</th>\n",
       "      <td>699</td>\n",
       "      <td>43.5</td>\n",
       "      <td>744</td>\n",
       "    </tr>\n",
       "    <tr>\n",
       "      <th>19</th>\n",
       "      <td>381</td>\n",
       "      <td>54.5</td>\n",
       "      <td>507</td>\n",
       "    </tr>\n",
       "    <tr>\n",
       "      <th>20</th>\n",
       "      <td>775</td>\n",
       "      <td>55.9</td>\n",
       "      <td>622</td>\n",
       "    </tr>\n",
       "    <tr>\n",
       "      <th>21</th>\n",
       "      <td>181</td>\n",
       "      <td>51.5</td>\n",
       "      <td>347</td>\n",
       "    </tr>\n",
       "    <tr>\n",
       "      <th>22</th>\n",
       "      <td>46</td>\n",
       "      <td>56.8</td>\n",
       "      <td>244</td>\n",
       "    </tr>\n",
       "    <tr>\n",
       "      <th>23</th>\n",
       "      <td>44</td>\n",
       "      <td>47.6</td>\n",
       "      <td>116</td>\n",
       "    </tr>\n",
       "    <tr>\n",
       "      <th>24</th>\n",
       "      <td>391</td>\n",
       "      <td>47.1</td>\n",
       "      <td>463</td>\n",
       "    </tr>\n",
       "    <tr>\n",
       "      <th>25</th>\n",
       "      <td>462</td>\n",
       "      <td>54.0</td>\n",
       "      <td>453</td>\n",
       "    </tr>\n",
       "    <tr>\n",
       "      <th>26</th>\n",
       "      <td>1007</td>\n",
       "      <td>49.7</td>\n",
       "      <td>751</td>\n",
       "    </tr>\n",
       "    <tr>\n",
       "      <th>27</th>\n",
       "      <td>266</td>\n",
       "      <td>51.5</td>\n",
       "      <td>540</td>\n",
       "    </tr>\n",
       "    <tr>\n",
       "      <th>28</th>\n",
       "      <td>1692</td>\n",
       "      <td>54.6</td>\n",
       "      <td>1950</td>\n",
       "    </tr>\n",
       "    <tr>\n",
       "      <th>29</th>\n",
       "      <td>347</td>\n",
       "      <td>50.4</td>\n",
       "      <td>520</td>\n",
       "    </tr>\n",
       "    <tr>\n",
       "      <th>30</th>\n",
       "      <td>343</td>\n",
       "      <td>50.0</td>\n",
       "      <td>179</td>\n",
       "    </tr>\n",
       "    <tr>\n",
       "      <th>31</th>\n",
       "      <td>337</td>\n",
       "      <td>61.6</td>\n",
       "      <td>624</td>\n",
       "    </tr>\n",
       "    <tr>\n",
       "      <th>32</th>\n",
       "      <td>275</td>\n",
       "      <td>59.4</td>\n",
       "      <td>448</td>\n",
       "    </tr>\n",
       "    <tr>\n",
       "      <th>33</th>\n",
       "      <td>641</td>\n",
       "      <td>66.2</td>\n",
       "      <td>844</td>\n",
       "    </tr>\n",
       "    <tr>\n",
       "      <th>34</th>\n",
       "      <td>721</td>\n",
       "      <td>68.9</td>\n",
       "      <td>1233</td>\n",
       "    </tr>\n",
       "    <tr>\n",
       "      <th>35</th>\n",
       "      <td>137</td>\n",
       "      <td>51.0</td>\n",
       "      <td>176</td>\n",
       "    </tr>\n",
       "    <tr>\n",
       "      <th>36</th>\n",
       "      <td>96</td>\n",
       "      <td>59.3</td>\n",
       "      <td>308</td>\n",
       "    </tr>\n",
       "    <tr>\n",
       "      <th>37</th>\n",
       "      <td>197</td>\n",
       "      <td>57.8</td>\n",
       "      <td>299</td>\n",
       "    </tr>\n",
       "    <tr>\n",
       "      <th>38</th>\n",
       "      <td>379</td>\n",
       "      <td>51.1</td>\n",
       "      <td>531</td>\n",
       "    </tr>\n",
       "    <tr>\n",
       "      <th>39</th>\n",
       "      <td>35</td>\n",
       "      <td>55.2</td>\n",
       "      <td>71</td>\n",
       "    </tr>\n",
       "    <tr>\n",
       "      <th>40</th>\n",
       "      <td>569</td>\n",
       "      <td>45.7</td>\n",
       "      <td>717</td>\n",
       "    </tr>\n",
       "  </tbody>\n",
       "</table>\n",
       "</div>"
      ],
      "text/plain": [
       "    Fabricas  Temperatura  Habitantes\n",
       "0        213         70.3         582\n",
       "1         91         61.0         132\n",
       "2        453         56.7         716\n",
       "3        454         51.9         515\n",
       "4        412         49.1         158\n",
       "5         80         54.0          80\n",
       "6        434         57.3         757\n",
       "7        136         68.4         529\n",
       "8        207         75.5         335\n",
       "9        368         61.5         497\n",
       "10      3344         50.6        3369\n",
       "11       361         52.3         746\n",
       "12       104         49.0         201\n",
       "13       125         56.6         277\n",
       "14       291         55.6         593\n",
       "15       204         68.3         361\n",
       "16       625         55.0         905\n",
       "17      1064         49.9        1513\n",
       "18       699         43.5         744\n",
       "19       381         54.5         507\n",
       "20       775         55.9         622\n",
       "21       181         51.5         347\n",
       "22        46         56.8         244\n",
       "23        44         47.6         116\n",
       "24       391         47.1         463\n",
       "25       462         54.0         453\n",
       "26      1007         49.7         751\n",
       "27       266         51.5         540\n",
       "28      1692         54.6        1950\n",
       "29       347         50.4         520\n",
       "30       343         50.0         179\n",
       "31       337         61.6         624\n",
       "32       275         59.4         448\n",
       "33       641         66.2         844\n",
       "34       721         68.9        1233\n",
       "35       137         51.0         176\n",
       "36        96         59.3         308\n",
       "37       197         57.8         299\n",
       "38       379         51.1         531\n",
       "39        35         55.2          71\n",
       "40       569         45.7         717"
      ]
     },
     "execution_count": 148,
     "metadata": {},
     "output_type": "execute_result"
    }
   ],
   "source": [
    "df1 = data.filter(('Fabricas', 'Temperatura', 'Habitantes'), axis = 1)\n",
    "df1"
   ]
  },
  {
   "cell_type": "code",
   "execution_count": 149,
   "metadata": {},
   "outputs": [
    {
     "data": {
      "text/html": [
       "<div>\n",
       "<style scoped>\n",
       "    .dataframe tbody tr th:only-of-type {\n",
       "        vertical-align: middle;\n",
       "    }\n",
       "\n",
       "    .dataframe tbody tr th {\n",
       "        vertical-align: top;\n",
       "    }\n",
       "\n",
       "    .dataframe thead th {\n",
       "        text-align: right;\n",
       "    }\n",
       "</style>\n",
       "<table border=\"1\" class=\"dataframe\">\n",
       "  <thead>\n",
       "    <tr style=\"text-align: right;\">\n",
       "      <th></th>\n",
       "      <th>Fabricas</th>\n",
       "      <th>Temperatura</th>\n",
       "      <th>Habitantes</th>\n",
       "    </tr>\n",
       "  </thead>\n",
       "  <tbody>\n",
       "    <tr>\n",
       "      <th>0</th>\n",
       "      <td>213</td>\n",
       "      <td>70.3</td>\n",
       "      <td>582</td>\n",
       "    </tr>\n",
       "    <tr>\n",
       "      <th>1</th>\n",
       "      <td>91</td>\n",
       "      <td>61.0</td>\n",
       "      <td>132</td>\n",
       "    </tr>\n",
       "    <tr>\n",
       "      <th>2</th>\n",
       "      <td>453</td>\n",
       "      <td>56.7</td>\n",
       "      <td>716</td>\n",
       "    </tr>\n",
       "    <tr>\n",
       "      <th>3</th>\n",
       "      <td>454</td>\n",
       "      <td>51.9</td>\n",
       "      <td>515</td>\n",
       "    </tr>\n",
       "    <tr>\n",
       "      <th>4</th>\n",
       "      <td>412</td>\n",
       "      <td>49.1</td>\n",
       "      <td>158</td>\n",
       "    </tr>\n",
       "  </tbody>\n",
       "</table>\n",
       "</div>"
      ],
      "text/plain": [
       "   Fabricas  Temperatura  Habitantes\n",
       "0       213         70.3         582\n",
       "1        91         61.0         132\n",
       "2       453         56.7         716\n",
       "3       454         51.9         515\n",
       "4       412         49.1         158"
      ]
     },
     "execution_count": 149,
     "metadata": {},
     "output_type": "execute_result"
    }
   ],
   "source": [
    "df1.head()"
   ]
  },
  {
   "cell_type": "code",
   "execution_count": 150,
   "metadata": {},
   "outputs": [
    {
     "data": {
      "text/html": [
       "<div>\n",
       "<style scoped>\n",
       "    .dataframe tbody tr th:only-of-type {\n",
       "        vertical-align: middle;\n",
       "    }\n",
       "\n",
       "    .dataframe tbody tr th {\n",
       "        vertical-align: top;\n",
       "    }\n",
       "\n",
       "    .dataframe thead th {\n",
       "        text-align: right;\n",
       "    }\n",
       "</style>\n",
       "<table border=\"1\" class=\"dataframe\">\n",
       "  <thead>\n",
       "    <tr style=\"text-align: right;\">\n",
       "      <th></th>\n",
       "      <th>Temperatura</th>\n",
       "      <th>Habitantes</th>\n",
       "      <th>Velocidad_viento</th>\n",
       "      <th>Lluvia</th>\n",
       "      <th>Dias_Lluvia</th>\n",
       "    </tr>\n",
       "  </thead>\n",
       "  <tbody>\n",
       "    <tr>\n",
       "      <th>0</th>\n",
       "      <td>70.3</td>\n",
       "      <td>582</td>\n",
       "      <td>6.0</td>\n",
       "      <td>7.05</td>\n",
       "      <td>36</td>\n",
       "    </tr>\n",
       "    <tr>\n",
       "      <th>1</th>\n",
       "      <td>61.0</td>\n",
       "      <td>132</td>\n",
       "      <td>8.2</td>\n",
       "      <td>48.52</td>\n",
       "      <td>100</td>\n",
       "    </tr>\n",
       "  </tbody>\n",
       "</table>\n",
       "</div>"
      ],
      "text/plain": [
       "   Temperatura  Habitantes  Velocidad_viento  Lluvia  Dias_Lluvia\n",
       "0         70.3         582               6.0    7.05           36\n",
       "1         61.0         132               8.2   48.52          100"
      ]
     },
     "execution_count": 150,
     "metadata": {},
     "output_type": "execute_result"
    }
   ],
   "source": [
    "df2 = data.drop(['Contaminacion_SO2', 'Fabricas'], axis=1) # axis = 1 : columnas, axis = 0 : filas\n",
    "df2.head(2)"
   ]
  },
  {
   "cell_type": "markdown",
   "metadata": {},
   "source": [
    "#### Series"
   ]
  },
  {
   "cell_type": "code",
   "execution_count": 151,
   "metadata": {},
   "outputs": [
    {
     "data": {
      "text/plain": [
       "pandas.core.series.Series"
      ]
     },
     "execution_count": 151,
     "metadata": {},
     "output_type": "execute_result"
    }
   ],
   "source": [
    "s = data.Contaminacion_SO2\n",
    "type(s)"
   ]
  },
  {
   "cell_type": "code",
   "execution_count": 152,
   "metadata": {},
   "outputs": [
    {
     "data": {
      "text/plain": [
       "dtype('int64')"
      ]
     },
     "execution_count": 152,
     "metadata": {},
     "output_type": "execute_result"
    }
   ],
   "source": [
    "s.dtype"
   ]
  },
  {
   "cell_type": "code",
   "execution_count": 153,
   "metadata": {},
   "outputs": [
    {
     "data": {
      "text/plain": [
       "array([ 10,  13,  12,  17,  56,  36,  29,  14,  10,  24, 110,  28,  17,\n",
       "         8,  30,   9,  47,  35,  29,  14,  56,  14,  11,  46,  11,  23,\n",
       "        65,  26,  69,  61,  94,  10,  18,   9,  10,  28,  31,  26,  29,\n",
       "        31,  16])"
      ]
     },
     "execution_count": 153,
     "metadata": {},
     "output_type": "execute_result"
    }
   ],
   "source": [
    "s.values"
   ]
  },
  {
   "cell_type": "code",
   "execution_count": 154,
   "metadata": {},
   "outputs": [
    {
     "name": "stdout",
     "output_type": "stream",
     "text": [
      "1232\n",
      "30.048780487804876\n",
      "23.4722721732603\n",
      "110\n",
      "8\n",
      "[ 10  13  12  17  56  36  29  14  24 110  28   8  30   9  47  35  11  46\n",
      "  23  65  26  69  61  94  18  31  16]\n",
      "Contaminacion_SO2\n",
      "10     4\n",
      "14     3\n",
      "29     3\n",
      "28     2\n",
      "17     2\n",
      "56     2\n",
      "9      2\n",
      "26     2\n",
      "31     2\n",
      "11     2\n",
      "13     1\n",
      "110    1\n",
      "24     1\n",
      "36     1\n",
      "12     1\n",
      "47     1\n",
      "35     1\n",
      "30     1\n",
      "8      1\n",
      "23     1\n",
      "46     1\n",
      "69     1\n",
      "65     1\n",
      "61     1\n",
      "94     1\n",
      "18     1\n",
      "16     1\n",
      "Name: count, dtype: int64\n"
     ]
    }
   ],
   "source": [
    "print(s.sum())\n",
    "print(s.mean())\n",
    "print(s.std())\n",
    "print(s.max())\n",
    "print(s.min())\n",
    "print(s.unique())\n",
    "print(s.value_counts())"
   ]
  },
  {
   "cell_type": "code",
   "execution_count": 155,
   "metadata": {},
   "outputs": [
    {
     "data": {
      "text/plain": [
       "10    110\n",
       "30     94\n",
       "28     69\n",
       "Name: Contaminacion_SO2, dtype: int64"
      ]
     },
     "execution_count": 155,
     "metadata": {},
     "output_type": "execute_result"
    }
   ],
   "source": [
    "s.sort_values(ascending=False).head(3)"
   ]
  },
  {
   "cell_type": "markdown",
   "metadata": {},
   "source": [
    "#### Agrupamientos"
   ]
  },
  {
   "cell_type": "code",
   "execution_count": 156,
   "metadata": {},
   "outputs": [
    {
     "data": {
      "text/plain": [
       "pandas.core.groupby.generic.DataFrameGroupBy"
      ]
     },
     "execution_count": 156,
     "metadata": {},
     "output_type": "execute_result"
    }
   ],
   "source": [
    "grupo = data.groupby('Contaminacion_SO2')\n",
    "type(grupo)"
   ]
  },
  {
   "cell_type": "code",
   "execution_count": 157,
   "metadata": {},
   "outputs": [
    {
     "data": {
      "text/html": [
       "<div>\n",
       "<style scoped>\n",
       "    .dataframe tbody tr th:only-of-type {\n",
       "        vertical-align: middle;\n",
       "    }\n",
       "\n",
       "    .dataframe tbody tr th {\n",
       "        vertical-align: top;\n",
       "    }\n",
       "\n",
       "    .dataframe thead th {\n",
       "        text-align: right;\n",
       "    }\n",
       "</style>\n",
       "<table border=\"1\" class=\"dataframe\">\n",
       "  <thead>\n",
       "    <tr style=\"text-align: right;\">\n",
       "      <th></th>\n",
       "      <th>Temperatura</th>\n",
       "      <th>Fabricas</th>\n",
       "      <th>Habitantes</th>\n",
       "      <th>Velocidad_viento</th>\n",
       "      <th>Lluvia</th>\n",
       "      <th>Dias_Lluvia</th>\n",
       "    </tr>\n",
       "    <tr>\n",
       "      <th>Contaminacion_SO2</th>\n",
       "      <th></th>\n",
       "      <th></th>\n",
       "      <th></th>\n",
       "      <th></th>\n",
       "      <th></th>\n",
       "      <th></th>\n",
       "    </tr>\n",
       "  </thead>\n",
       "  <tbody>\n",
       "    <tr>\n",
       "      <th>8</th>\n",
       "      <td>56.600000</td>\n",
       "      <td>125.000000</td>\n",
       "      <td>277.000000</td>\n",
       "      <td>12.700000</td>\n",
       "      <td>30.580</td>\n",
       "      <td>82.000000</td>\n",
       "    </tr>\n",
       "    <tr>\n",
       "      <th>9</th>\n",
       "      <td>67.250000</td>\n",
       "      <td>422.500000</td>\n",
       "      <td>602.500000</td>\n",
       "      <td>9.650000</td>\n",
       "      <td>46.355</td>\n",
       "      <td>95.500000</td>\n",
       "    </tr>\n",
       "    <tr>\n",
       "      <th>10</th>\n",
       "      <td>69.075000</td>\n",
       "      <td>369.500000</td>\n",
       "      <td>693.500000</td>\n",
       "      <td>8.750000</td>\n",
       "      <td>41.035</td>\n",
       "      <td>93.000000</td>\n",
       "    </tr>\n",
       "    <tr>\n",
       "      <th>11</th>\n",
       "      <td>51.950000</td>\n",
       "      <td>218.500000</td>\n",
       "      <td>353.500000</td>\n",
       "      <td>10.650000</td>\n",
       "      <td>21.940</td>\n",
       "      <td>112.000000</td>\n",
       "    </tr>\n",
       "    <tr>\n",
       "      <th>12</th>\n",
       "      <td>56.700000</td>\n",
       "      <td>453.000000</td>\n",
       "      <td>716.000000</td>\n",
       "      <td>8.700000</td>\n",
       "      <td>20.660</td>\n",
       "      <td>67.000000</td>\n",
       "    </tr>\n",
       "    <tr>\n",
       "      <th>13</th>\n",
       "      <td>61.000000</td>\n",
       "      <td>91.000000</td>\n",
       "      <td>132.000000</td>\n",
       "      <td>8.200000</td>\n",
       "      <td>48.520</td>\n",
       "      <td>100.000000</td>\n",
       "    </tr>\n",
       "    <tr>\n",
       "      <th>14</th>\n",
       "      <td>58.133333</td>\n",
       "      <td>232.666667</td>\n",
       "      <td>461.000000</td>\n",
       "      <td>9.900000</td>\n",
       "      <td>40.550</td>\n",
       "      <td>104.333333</td>\n",
       "    </tr>\n",
       "    <tr>\n",
       "      <th>16</th>\n",
       "      <td>45.700000</td>\n",
       "      <td>569.000000</td>\n",
       "      <td>717.000000</td>\n",
       "      <td>11.800000</td>\n",
       "      <td>29.070</td>\n",
       "      <td>123.000000</td>\n",
       "    </tr>\n",
       "    <tr>\n",
       "      <th>17</th>\n",
       "      <td>50.450000</td>\n",
       "      <td>279.000000</td>\n",
       "      <td>358.000000</td>\n",
       "      <td>10.100000</td>\n",
       "      <td>21.900</td>\n",
       "      <td>94.500000</td>\n",
       "    </tr>\n",
       "    <tr>\n",
       "      <th>18</th>\n",
       "      <td>59.400000</td>\n",
       "      <td>275.000000</td>\n",
       "      <td>448.000000</td>\n",
       "      <td>7.900000</td>\n",
       "      <td>46.000</td>\n",
       "      <td>119.000000</td>\n",
       "    </tr>\n",
       "    <tr>\n",
       "      <th>23</th>\n",
       "      <td>54.000000</td>\n",
       "      <td>462.000000</td>\n",
       "      <td>453.000000</td>\n",
       "      <td>7.100000</td>\n",
       "      <td>39.040</td>\n",
       "      <td>132.000000</td>\n",
       "    </tr>\n",
       "    <tr>\n",
       "      <th>24</th>\n",
       "      <td>61.500000</td>\n",
       "      <td>368.000000</td>\n",
       "      <td>497.000000</td>\n",
       "      <td>9.100000</td>\n",
       "      <td>48.340</td>\n",
       "      <td>115.000000</td>\n",
       "    </tr>\n",
       "    <tr>\n",
       "      <th>26</th>\n",
       "      <td>54.650000</td>\n",
       "      <td>231.500000</td>\n",
       "      <td>419.500000</td>\n",
       "      <td>8.100000</td>\n",
       "      <td>39.800</td>\n",
       "      <td>124.500000</td>\n",
       "    </tr>\n",
       "    <tr>\n",
       "      <th>28</th>\n",
       "      <td>51.650000</td>\n",
       "      <td>249.000000</td>\n",
       "      <td>461.000000</td>\n",
       "      <td>9.200000</td>\n",
       "      <td>26.955</td>\n",
       "      <td>105.000000</td>\n",
       "    </tr>\n",
       "    <tr>\n",
       "      <th>29</th>\n",
       "      <td>50.633333</td>\n",
       "      <td>504.000000</td>\n",
       "      <td>677.333333</td>\n",
       "      <td>9.766667</td>\n",
       "      <td>34.540</td>\n",
       "      <td>137.333333</td>\n",
       "    </tr>\n",
       "    <tr>\n",
       "      <th>30</th>\n",
       "      <td>55.600000</td>\n",
       "      <td>291.000000</td>\n",
       "      <td>593.000000</td>\n",
       "      <td>8.300000</td>\n",
       "      <td>43.110</td>\n",
       "      <td>123.000000</td>\n",
       "    </tr>\n",
       "    <tr>\n",
       "      <th>31</th>\n",
       "      <td>57.250000</td>\n",
       "      <td>65.500000</td>\n",
       "      <td>189.500000</td>\n",
       "      <td>8.550000</td>\n",
       "      <td>42.715</td>\n",
       "      <td>132.000000</td>\n",
       "    </tr>\n",
       "    <tr>\n",
       "      <th>35</th>\n",
       "      <td>49.900000</td>\n",
       "      <td>1064.000000</td>\n",
       "      <td>1513.000000</td>\n",
       "      <td>10.100000</td>\n",
       "      <td>30.960</td>\n",
       "      <td>129.000000</td>\n",
       "    </tr>\n",
       "    <tr>\n",
       "      <th>36</th>\n",
       "      <td>54.000000</td>\n",
       "      <td>80.000000</td>\n",
       "      <td>80.000000</td>\n",
       "      <td>9.000000</td>\n",
       "      <td>40.250</td>\n",
       "      <td>114.000000</td>\n",
       "    </tr>\n",
       "    <tr>\n",
       "      <th>46</th>\n",
       "      <td>47.600000</td>\n",
       "      <td>44.000000</td>\n",
       "      <td>116.000000</td>\n",
       "      <td>8.800000</td>\n",
       "      <td>33.360</td>\n",
       "      <td>135.000000</td>\n",
       "    </tr>\n",
       "    <tr>\n",
       "      <th>47</th>\n",
       "      <td>55.000000</td>\n",
       "      <td>625.000000</td>\n",
       "      <td>905.000000</td>\n",
       "      <td>9.600000</td>\n",
       "      <td>41.310</td>\n",
       "      <td>111.000000</td>\n",
       "    </tr>\n",
       "    <tr>\n",
       "      <th>56</th>\n",
       "      <td>52.500000</td>\n",
       "      <td>593.500000</td>\n",
       "      <td>390.000000</td>\n",
       "      <td>9.250000</td>\n",
       "      <td>39.630</td>\n",
       "      <td>116.000000</td>\n",
       "    </tr>\n",
       "    <tr>\n",
       "      <th>61</th>\n",
       "      <td>50.400000</td>\n",
       "      <td>347.000000</td>\n",
       "      <td>520.000000</td>\n",
       "      <td>9.400000</td>\n",
       "      <td>36.220</td>\n",
       "      <td>147.000000</td>\n",
       "    </tr>\n",
       "    <tr>\n",
       "      <th>65</th>\n",
       "      <td>49.700000</td>\n",
       "      <td>1007.000000</td>\n",
       "      <td>751.000000</td>\n",
       "      <td>10.900000</td>\n",
       "      <td>34.990</td>\n",
       "      <td>155.000000</td>\n",
       "    </tr>\n",
       "    <tr>\n",
       "      <th>69</th>\n",
       "      <td>54.600000</td>\n",
       "      <td>1692.000000</td>\n",
       "      <td>1950.000000</td>\n",
       "      <td>9.600000</td>\n",
       "      <td>39.930</td>\n",
       "      <td>115.000000</td>\n",
       "    </tr>\n",
       "    <tr>\n",
       "      <th>94</th>\n",
       "      <td>50.000000</td>\n",
       "      <td>343.000000</td>\n",
       "      <td>179.000000</td>\n",
       "      <td>10.600000</td>\n",
       "      <td>42.750</td>\n",
       "      <td>125.000000</td>\n",
       "    </tr>\n",
       "    <tr>\n",
       "      <th>110</th>\n",
       "      <td>50.600000</td>\n",
       "      <td>3344.000000</td>\n",
       "      <td>3369.000000</td>\n",
       "      <td>10.400000</td>\n",
       "      <td>34.440</td>\n",
       "      <td>122.000000</td>\n",
       "    </tr>\n",
       "  </tbody>\n",
       "</table>\n",
       "</div>"
      ],
      "text/plain": [
       "                   Temperatura     Fabricas   Habitantes  Velocidad_viento  \\\n",
       "Contaminacion_SO2                                                            \n",
       "8                    56.600000   125.000000   277.000000         12.700000   \n",
       "9                    67.250000   422.500000   602.500000          9.650000   \n",
       "10                   69.075000   369.500000   693.500000          8.750000   \n",
       "11                   51.950000   218.500000   353.500000         10.650000   \n",
       "12                   56.700000   453.000000   716.000000          8.700000   \n",
       "13                   61.000000    91.000000   132.000000          8.200000   \n",
       "14                   58.133333   232.666667   461.000000          9.900000   \n",
       "16                   45.700000   569.000000   717.000000         11.800000   \n",
       "17                   50.450000   279.000000   358.000000         10.100000   \n",
       "18                   59.400000   275.000000   448.000000          7.900000   \n",
       "23                   54.000000   462.000000   453.000000          7.100000   \n",
       "24                   61.500000   368.000000   497.000000          9.100000   \n",
       "26                   54.650000   231.500000   419.500000          8.100000   \n",
       "28                   51.650000   249.000000   461.000000          9.200000   \n",
       "29                   50.633333   504.000000   677.333333          9.766667   \n",
       "30                   55.600000   291.000000   593.000000          8.300000   \n",
       "31                   57.250000    65.500000   189.500000          8.550000   \n",
       "35                   49.900000  1064.000000  1513.000000         10.100000   \n",
       "36                   54.000000    80.000000    80.000000          9.000000   \n",
       "46                   47.600000    44.000000   116.000000          8.800000   \n",
       "47                   55.000000   625.000000   905.000000          9.600000   \n",
       "56                   52.500000   593.500000   390.000000          9.250000   \n",
       "61                   50.400000   347.000000   520.000000          9.400000   \n",
       "65                   49.700000  1007.000000   751.000000         10.900000   \n",
       "69                   54.600000  1692.000000  1950.000000          9.600000   \n",
       "94                   50.000000   343.000000   179.000000         10.600000   \n",
       "110                  50.600000  3344.000000  3369.000000         10.400000   \n",
       "\n",
       "                   Lluvia  Dias_Lluvia  \n",
       "Contaminacion_SO2                       \n",
       "8                  30.580    82.000000  \n",
       "9                  46.355    95.500000  \n",
       "10                 41.035    93.000000  \n",
       "11                 21.940   112.000000  \n",
       "12                 20.660    67.000000  \n",
       "13                 48.520   100.000000  \n",
       "14                 40.550   104.333333  \n",
       "16                 29.070   123.000000  \n",
       "17                 21.900    94.500000  \n",
       "18                 46.000   119.000000  \n",
       "23                 39.040   132.000000  \n",
       "24                 48.340   115.000000  \n",
       "26                 39.800   124.500000  \n",
       "28                 26.955   105.000000  \n",
       "29                 34.540   137.333333  \n",
       "30                 43.110   123.000000  \n",
       "31                 42.715   132.000000  \n",
       "35                 30.960   129.000000  \n",
       "36                 40.250   114.000000  \n",
       "46                 33.360   135.000000  \n",
       "47                 41.310   111.000000  \n",
       "56                 39.630   116.000000  \n",
       "61                 36.220   147.000000  \n",
       "65                 34.990   155.000000  \n",
       "69                 39.930   115.000000  \n",
       "94                 42.750   125.000000  \n",
       "110                34.440   122.000000  "
      ]
     },
     "execution_count": 157,
     "metadata": {},
     "output_type": "execute_result"
    }
   ],
   "source": [
    "grupo.mean()"
   ]
  },
  {
   "cell_type": "code",
   "execution_count": 158,
   "metadata": {},
   "outputs": [
    {
     "data": {
      "text/html": [
       "<div>\n",
       "<style scoped>\n",
       "    .dataframe tbody tr th:only-of-type {\n",
       "        vertical-align: middle;\n",
       "    }\n",
       "\n",
       "    .dataframe tbody tr th {\n",
       "        vertical-align: top;\n",
       "    }\n",
       "\n",
       "    .dataframe thead th {\n",
       "        text-align: right;\n",
       "    }\n",
       "</style>\n",
       "<table border=\"1\" class=\"dataframe\">\n",
       "  <thead>\n",
       "    <tr style=\"text-align: right;\">\n",
       "      <th></th>\n",
       "      <th>Temperatura</th>\n",
       "      <th>Fabricas</th>\n",
       "      <th>Habitantes</th>\n",
       "      <th>Velocidad_viento</th>\n",
       "      <th>Lluvia</th>\n",
       "      <th>Dias_Lluvia</th>\n",
       "    </tr>\n",
       "    <tr>\n",
       "      <th>Contaminacion_SO2</th>\n",
       "      <th></th>\n",
       "      <th></th>\n",
       "      <th></th>\n",
       "      <th></th>\n",
       "      <th></th>\n",
       "      <th></th>\n",
       "    </tr>\n",
       "  </thead>\n",
       "  <tbody>\n",
       "    <tr>\n",
       "      <th>8</th>\n",
       "      <td>56.6</td>\n",
       "      <td>125</td>\n",
       "      <td>277</td>\n",
       "      <td>12.7</td>\n",
       "      <td>30.58</td>\n",
       "      <td>82</td>\n",
       "    </tr>\n",
       "    <tr>\n",
       "      <th>9</th>\n",
       "      <td>134.5</td>\n",
       "      <td>845</td>\n",
       "      <td>1205</td>\n",
       "      <td>19.3</td>\n",
       "      <td>92.71</td>\n",
       "      <td>191</td>\n",
       "    </tr>\n",
       "    <tr>\n",
       "      <th>10</th>\n",
       "      <td>276.3</td>\n",
       "      <td>1478</td>\n",
       "      <td>2774</td>\n",
       "      <td>35.0</td>\n",
       "      <td>164.14</td>\n",
       "      <td>372</td>\n",
       "    </tr>\n",
       "  </tbody>\n",
       "</table>\n",
       "</div>"
      ],
      "text/plain": [
       "                   Temperatura  Fabricas  Habitantes  Velocidad_viento  \\\n",
       "Contaminacion_SO2                                                        \n",
       "8                         56.6       125         277              12.7   \n",
       "9                        134.5       845        1205              19.3   \n",
       "10                       276.3      1478        2774              35.0   \n",
       "\n",
       "                   Lluvia  Dias_Lluvia  \n",
       "Contaminacion_SO2                       \n",
       "8                   30.58           82  \n",
       "9                   92.71          191  \n",
       "10                 164.14          372  "
      ]
     },
     "execution_count": 158,
     "metadata": {},
     "output_type": "execute_result"
    }
   ],
   "source": [
    "suma = grupo.sum()\n",
    "suma.head(3)"
   ]
  },
  {
   "cell_type": "code",
   "execution_count": 159,
   "metadata": {},
   "outputs": [
    {
     "data": {
      "text/plain": [
       "Contaminacion_SO2\n",
       "8      False\n",
       "9       True\n",
       "10      True\n",
       "11      True\n",
       "12     False\n",
       "13     False\n",
       "14      True\n",
       "16     False\n",
       "17      True\n",
       "18     False\n",
       "23     False\n",
       "24     False\n",
       "26      True\n",
       "28      True\n",
       "29      True\n",
       "30     False\n",
       "31      True\n",
       "35     False\n",
       "36     False\n",
       "46     False\n",
       "47     False\n",
       "56      True\n",
       "61     False\n",
       "65     False\n",
       "69     False\n",
       "94     False\n",
       "110    False\n",
       "Name: Temperatura, dtype: bool"
      ]
     },
     "execution_count": 159,
     "metadata": {},
     "output_type": "execute_result"
    }
   ],
   "source": [
    "cond = suma.Temperatura > 80\n",
    "cond"
   ]
  },
  {
   "cell_type": "code",
   "execution_count": 160,
   "metadata": {},
   "outputs": [
    {
     "data": {
      "text/html": [
       "<div>\n",
       "<style scoped>\n",
       "    .dataframe tbody tr th:only-of-type {\n",
       "        vertical-align: middle;\n",
       "    }\n",
       "\n",
       "    .dataframe tbody tr th {\n",
       "        vertical-align: top;\n",
       "    }\n",
       "\n",
       "    .dataframe thead th {\n",
       "        text-align: right;\n",
       "    }\n",
       "</style>\n",
       "<table border=\"1\" class=\"dataframe\">\n",
       "  <thead>\n",
       "    <tr style=\"text-align: right;\">\n",
       "      <th></th>\n",
       "      <th>Temperatura</th>\n",
       "      <th>Fabricas</th>\n",
       "      <th>Habitantes</th>\n",
       "      <th>Velocidad_viento</th>\n",
       "      <th>Lluvia</th>\n",
       "      <th>Dias_Lluvia</th>\n",
       "    </tr>\n",
       "    <tr>\n",
       "      <th>Contaminacion_SO2</th>\n",
       "      <th></th>\n",
       "      <th></th>\n",
       "      <th></th>\n",
       "      <th></th>\n",
       "      <th></th>\n",
       "      <th></th>\n",
       "    </tr>\n",
       "  </thead>\n",
       "  <tbody>\n",
       "    <tr>\n",
       "      <th>9</th>\n",
       "      <td>134.5</td>\n",
       "      <td>845</td>\n",
       "      <td>1205</td>\n",
       "      <td>19.3</td>\n",
       "      <td>92.71</td>\n",
       "      <td>191</td>\n",
       "    </tr>\n",
       "    <tr>\n",
       "      <th>10</th>\n",
       "      <td>276.3</td>\n",
       "      <td>1478</td>\n",
       "      <td>2774</td>\n",
       "      <td>35.0</td>\n",
       "      <td>164.14</td>\n",
       "      <td>372</td>\n",
       "    </tr>\n",
       "    <tr>\n",
       "      <th>11</th>\n",
       "      <td>103.9</td>\n",
       "      <td>437</td>\n",
       "      <td>707</td>\n",
       "      <td>21.3</td>\n",
       "      <td>43.88</td>\n",
       "      <td>224</td>\n",
       "    </tr>\n",
       "    <tr>\n",
       "      <th>14</th>\n",
       "      <td>174.4</td>\n",
       "      <td>698</td>\n",
       "      <td>1383</td>\n",
       "      <td>29.7</td>\n",
       "      <td>121.65</td>\n",
       "      <td>313</td>\n",
       "    </tr>\n",
       "    <tr>\n",
       "      <th>17</th>\n",
       "      <td>100.9</td>\n",
       "      <td>558</td>\n",
       "      <td>716</td>\n",
       "      <td>20.2</td>\n",
       "      <td>43.80</td>\n",
       "      <td>189</td>\n",
       "    </tr>\n",
       "    <tr>\n",
       "      <th>26</th>\n",
       "      <td>109.3</td>\n",
       "      <td>463</td>\n",
       "      <td>839</td>\n",
       "      <td>16.2</td>\n",
       "      <td>79.60</td>\n",
       "      <td>249</td>\n",
       "    </tr>\n",
       "    <tr>\n",
       "      <th>28</th>\n",
       "      <td>103.3</td>\n",
       "      <td>498</td>\n",
       "      <td>922</td>\n",
       "      <td>18.4</td>\n",
       "      <td>53.91</td>\n",
       "      <td>210</td>\n",
       "    </tr>\n",
       "    <tr>\n",
       "      <th>29</th>\n",
       "      <td>151.9</td>\n",
       "      <td>1512</td>\n",
       "      <td>2032</td>\n",
       "      <td>29.3</td>\n",
       "      <td>103.62</td>\n",
       "      <td>412</td>\n",
       "    </tr>\n",
       "    <tr>\n",
       "      <th>31</th>\n",
       "      <td>114.5</td>\n",
       "      <td>131</td>\n",
       "      <td>379</td>\n",
       "      <td>17.1</td>\n",
       "      <td>85.43</td>\n",
       "      <td>264</td>\n",
       "    </tr>\n",
       "    <tr>\n",
       "      <th>56</th>\n",
       "      <td>105.0</td>\n",
       "      <td>1187</td>\n",
       "      <td>780</td>\n",
       "      <td>18.5</td>\n",
       "      <td>79.26</td>\n",
       "      <td>232</td>\n",
       "    </tr>\n",
       "  </tbody>\n",
       "</table>\n",
       "</div>"
      ],
      "text/plain": [
       "                   Temperatura  Fabricas  Habitantes  Velocidad_viento  \\\n",
       "Contaminacion_SO2                                                        \n",
       "9                        134.5       845        1205              19.3   \n",
       "10                       276.3      1478        2774              35.0   \n",
       "11                       103.9       437         707              21.3   \n",
       "14                       174.4       698        1383              29.7   \n",
       "17                       100.9       558         716              20.2   \n",
       "26                       109.3       463         839              16.2   \n",
       "28                       103.3       498         922              18.4   \n",
       "29                       151.9      1512        2032              29.3   \n",
       "31                       114.5       131         379              17.1   \n",
       "56                       105.0      1187         780              18.5   \n",
       "\n",
       "                   Lluvia  Dias_Lluvia  \n",
       "Contaminacion_SO2                       \n",
       "9                   92.71          191  \n",
       "10                 164.14          372  \n",
       "11                  43.88          224  \n",
       "14                 121.65          313  \n",
       "17                  43.80          189  \n",
       "26                  79.60          249  \n",
       "28                  53.91          210  \n",
       "29                 103.62          412  \n",
       "31                  85.43          264  \n",
       "56                  79.26          232  "
      ]
     },
     "execution_count": 160,
     "metadata": {},
     "output_type": "execute_result"
    }
   ],
   "source": [
    "suma[cond]"
   ]
  },
  {
   "cell_type": "code",
   "execution_count": 161,
   "metadata": {},
   "outputs": [
    {
     "data": {
      "text/plain": [
       "Contaminacion_SO2\n",
       "8       True\n",
       "9      False\n",
       "10     False\n",
       "11     False\n",
       "12      True\n",
       "13      True\n",
       "14     False\n",
       "16      True\n",
       "17     False\n",
       "18      True\n",
       "23      True\n",
       "24      True\n",
       "26     False\n",
       "28     False\n",
       "29     False\n",
       "30      True\n",
       "31     False\n",
       "35      True\n",
       "36      True\n",
       "46      True\n",
       "47      True\n",
       "56     False\n",
       "61      True\n",
       "65      True\n",
       "69      True\n",
       "94      True\n",
       "110     True\n",
       "Name: Temperatura, dtype: bool"
      ]
     },
     "execution_count": 161,
     "metadata": {},
     "output_type": "execute_result"
    }
   ],
   "source": [
    "cond = suma.Temperatura <= 80\n",
    "cond"
   ]
  },
  {
   "cell_type": "code",
   "execution_count": 162,
   "metadata": {},
   "outputs": [
    {
     "data": {
      "text/html": [
       "<div>\n",
       "<style scoped>\n",
       "    .dataframe tbody tr th:only-of-type {\n",
       "        vertical-align: middle;\n",
       "    }\n",
       "\n",
       "    .dataframe tbody tr th {\n",
       "        vertical-align: top;\n",
       "    }\n",
       "\n",
       "    .dataframe thead th {\n",
       "        text-align: right;\n",
       "    }\n",
       "</style>\n",
       "<table border=\"1\" class=\"dataframe\">\n",
       "  <thead>\n",
       "    <tr style=\"text-align: right;\">\n",
       "      <th></th>\n",
       "      <th>Temperatura</th>\n",
       "      <th>Fabricas</th>\n",
       "      <th>Habitantes</th>\n",
       "      <th>Velocidad_viento</th>\n",
       "      <th>Lluvia</th>\n",
       "      <th>Dias_Lluvia</th>\n",
       "    </tr>\n",
       "    <tr>\n",
       "      <th>Contaminacion_SO2</th>\n",
       "      <th></th>\n",
       "      <th></th>\n",
       "      <th></th>\n",
       "      <th></th>\n",
       "      <th></th>\n",
       "      <th></th>\n",
       "    </tr>\n",
       "  </thead>\n",
       "  <tbody>\n",
       "    <tr>\n",
       "      <th>8</th>\n",
       "      <td>56.6</td>\n",
       "      <td>125</td>\n",
       "      <td>277</td>\n",
       "      <td>12.7</td>\n",
       "      <td>30.58</td>\n",
       "      <td>82</td>\n",
       "    </tr>\n",
       "    <tr>\n",
       "      <th>12</th>\n",
       "      <td>56.7</td>\n",
       "      <td>453</td>\n",
       "      <td>716</td>\n",
       "      <td>8.7</td>\n",
       "      <td>20.66</td>\n",
       "      <td>67</td>\n",
       "    </tr>\n",
       "    <tr>\n",
       "      <th>13</th>\n",
       "      <td>61.0</td>\n",
       "      <td>91</td>\n",
       "      <td>132</td>\n",
       "      <td>8.2</td>\n",
       "      <td>48.52</td>\n",
       "      <td>100</td>\n",
       "    </tr>\n",
       "    <tr>\n",
       "      <th>16</th>\n",
       "      <td>45.7</td>\n",
       "      <td>569</td>\n",
       "      <td>717</td>\n",
       "      <td>11.8</td>\n",
       "      <td>29.07</td>\n",
       "      <td>123</td>\n",
       "    </tr>\n",
       "    <tr>\n",
       "      <th>18</th>\n",
       "      <td>59.4</td>\n",
       "      <td>275</td>\n",
       "      <td>448</td>\n",
       "      <td>7.9</td>\n",
       "      <td>46.00</td>\n",
       "      <td>119</td>\n",
       "    </tr>\n",
       "    <tr>\n",
       "      <th>23</th>\n",
       "      <td>54.0</td>\n",
       "      <td>462</td>\n",
       "      <td>453</td>\n",
       "      <td>7.1</td>\n",
       "      <td>39.04</td>\n",
       "      <td>132</td>\n",
       "    </tr>\n",
       "    <tr>\n",
       "      <th>24</th>\n",
       "      <td>61.5</td>\n",
       "      <td>368</td>\n",
       "      <td>497</td>\n",
       "      <td>9.1</td>\n",
       "      <td>48.34</td>\n",
       "      <td>115</td>\n",
       "    </tr>\n",
       "    <tr>\n",
       "      <th>30</th>\n",
       "      <td>55.6</td>\n",
       "      <td>291</td>\n",
       "      <td>593</td>\n",
       "      <td>8.3</td>\n",
       "      <td>43.11</td>\n",
       "      <td>123</td>\n",
       "    </tr>\n",
       "    <tr>\n",
       "      <th>35</th>\n",
       "      <td>49.9</td>\n",
       "      <td>1064</td>\n",
       "      <td>1513</td>\n",
       "      <td>10.1</td>\n",
       "      <td>30.96</td>\n",
       "      <td>129</td>\n",
       "    </tr>\n",
       "    <tr>\n",
       "      <th>36</th>\n",
       "      <td>54.0</td>\n",
       "      <td>80</td>\n",
       "      <td>80</td>\n",
       "      <td>9.0</td>\n",
       "      <td>40.25</td>\n",
       "      <td>114</td>\n",
       "    </tr>\n",
       "    <tr>\n",
       "      <th>46</th>\n",
       "      <td>47.6</td>\n",
       "      <td>44</td>\n",
       "      <td>116</td>\n",
       "      <td>8.8</td>\n",
       "      <td>33.36</td>\n",
       "      <td>135</td>\n",
       "    </tr>\n",
       "    <tr>\n",
       "      <th>47</th>\n",
       "      <td>55.0</td>\n",
       "      <td>625</td>\n",
       "      <td>905</td>\n",
       "      <td>9.6</td>\n",
       "      <td>41.31</td>\n",
       "      <td>111</td>\n",
       "    </tr>\n",
       "    <tr>\n",
       "      <th>61</th>\n",
       "      <td>50.4</td>\n",
       "      <td>347</td>\n",
       "      <td>520</td>\n",
       "      <td>9.4</td>\n",
       "      <td>36.22</td>\n",
       "      <td>147</td>\n",
       "    </tr>\n",
       "    <tr>\n",
       "      <th>65</th>\n",
       "      <td>49.7</td>\n",
       "      <td>1007</td>\n",
       "      <td>751</td>\n",
       "      <td>10.9</td>\n",
       "      <td>34.99</td>\n",
       "      <td>155</td>\n",
       "    </tr>\n",
       "    <tr>\n",
       "      <th>69</th>\n",
       "      <td>54.6</td>\n",
       "      <td>1692</td>\n",
       "      <td>1950</td>\n",
       "      <td>9.6</td>\n",
       "      <td>39.93</td>\n",
       "      <td>115</td>\n",
       "    </tr>\n",
       "    <tr>\n",
       "      <th>94</th>\n",
       "      <td>50.0</td>\n",
       "      <td>343</td>\n",
       "      <td>179</td>\n",
       "      <td>10.6</td>\n",
       "      <td>42.75</td>\n",
       "      <td>125</td>\n",
       "    </tr>\n",
       "    <tr>\n",
       "      <th>110</th>\n",
       "      <td>50.6</td>\n",
       "      <td>3344</td>\n",
       "      <td>3369</td>\n",
       "      <td>10.4</td>\n",
       "      <td>34.44</td>\n",
       "      <td>122</td>\n",
       "    </tr>\n",
       "  </tbody>\n",
       "</table>\n",
       "</div>"
      ],
      "text/plain": [
       "                   Temperatura  Fabricas  Habitantes  Velocidad_viento  \\\n",
       "Contaminacion_SO2                                                        \n",
       "8                         56.6       125         277              12.7   \n",
       "12                        56.7       453         716               8.7   \n",
       "13                        61.0        91         132               8.2   \n",
       "16                        45.7       569         717              11.8   \n",
       "18                        59.4       275         448               7.9   \n",
       "23                        54.0       462         453               7.1   \n",
       "24                        61.5       368         497               9.1   \n",
       "30                        55.6       291         593               8.3   \n",
       "35                        49.9      1064        1513              10.1   \n",
       "36                        54.0        80          80               9.0   \n",
       "46                        47.6        44         116               8.8   \n",
       "47                        55.0       625         905               9.6   \n",
       "61                        50.4       347         520               9.4   \n",
       "65                        49.7      1007         751              10.9   \n",
       "69                        54.6      1692        1950               9.6   \n",
       "94                        50.0       343         179              10.6   \n",
       "110                       50.6      3344        3369              10.4   \n",
       "\n",
       "                   Lluvia  Dias_Lluvia  \n",
       "Contaminacion_SO2                       \n",
       "8                   30.58           82  \n",
       "12                  20.66           67  \n",
       "13                  48.52          100  \n",
       "16                  29.07          123  \n",
       "18                  46.00          119  \n",
       "23                  39.04          132  \n",
       "24                  48.34          115  \n",
       "30                  43.11          123  \n",
       "35                  30.96          129  \n",
       "36                  40.25          114  \n",
       "46                  33.36          135  \n",
       "47                  41.31          111  \n",
       "61                  36.22          147  \n",
       "65                  34.99          155  \n",
       "69                  39.93          115  \n",
       "94                  42.75          125  \n",
       "110                 34.44          122  "
      ]
     },
     "execution_count": 162,
     "metadata": {},
     "output_type": "execute_result"
    }
   ],
   "source": [
    "suma[cond]"
   ]
  },
  {
   "cell_type": "code",
   "execution_count": 163,
   "metadata": {},
   "outputs": [
    {
     "data": {
      "text/html": [
       "<div>\n",
       "<style scoped>\n",
       "    .dataframe tbody tr th:only-of-type {\n",
       "        vertical-align: middle;\n",
       "    }\n",
       "\n",
       "    .dataframe tbody tr th {\n",
       "        vertical-align: top;\n",
       "    }\n",
       "\n",
       "    .dataframe thead th {\n",
       "        text-align: right;\n",
       "    }\n",
       "</style>\n",
       "<table border=\"1\" class=\"dataframe\">\n",
       "  <thead>\n",
       "    <tr style=\"text-align: right;\">\n",
       "      <th></th>\n",
       "      <th>Temperatura</th>\n",
       "      <th>Fabricas</th>\n",
       "      <th>Habitantes</th>\n",
       "      <th>Velocidad_viento</th>\n",
       "      <th>Lluvia</th>\n",
       "      <th>Dias_Lluvia</th>\n",
       "    </tr>\n",
       "    <tr>\n",
       "      <th>Contaminacion_SO2</th>\n",
       "      <th></th>\n",
       "      <th></th>\n",
       "      <th></th>\n",
       "      <th></th>\n",
       "      <th></th>\n",
       "      <th></th>\n",
       "    </tr>\n",
       "  </thead>\n",
       "  <tbody>\n",
       "    <tr>\n",
       "      <th>8</th>\n",
       "      <td>NaN</td>\n",
       "      <td>125.0</td>\n",
       "      <td>277.0</td>\n",
       "      <td>NaN</td>\n",
       "      <td>NaN</td>\n",
       "      <td>82.0</td>\n",
       "    </tr>\n",
       "    <tr>\n",
       "      <th>9</th>\n",
       "      <td>134.5</td>\n",
       "      <td>845.0</td>\n",
       "      <td>1205.0</td>\n",
       "      <td>NaN</td>\n",
       "      <td>92.71</td>\n",
       "      <td>191.0</td>\n",
       "    </tr>\n",
       "    <tr>\n",
       "      <th>10</th>\n",
       "      <td>276.3</td>\n",
       "      <td>1478.0</td>\n",
       "      <td>2774.0</td>\n",
       "      <td>NaN</td>\n",
       "      <td>164.14</td>\n",
       "      <td>372.0</td>\n",
       "    </tr>\n",
       "    <tr>\n",
       "      <th>11</th>\n",
       "      <td>103.9</td>\n",
       "      <td>437.0</td>\n",
       "      <td>707.0</td>\n",
       "      <td>NaN</td>\n",
       "      <td>NaN</td>\n",
       "      <td>224.0</td>\n",
       "    </tr>\n",
       "    <tr>\n",
       "      <th>12</th>\n",
       "      <td>NaN</td>\n",
       "      <td>453.0</td>\n",
       "      <td>716.0</td>\n",
       "      <td>NaN</td>\n",
       "      <td>NaN</td>\n",
       "      <td>NaN</td>\n",
       "    </tr>\n",
       "    <tr>\n",
       "      <th>13</th>\n",
       "      <td>NaN</td>\n",
       "      <td>91.0</td>\n",
       "      <td>132.0</td>\n",
       "      <td>NaN</td>\n",
       "      <td>NaN</td>\n",
       "      <td>100.0</td>\n",
       "    </tr>\n",
       "    <tr>\n",
       "      <th>14</th>\n",
       "      <td>174.4</td>\n",
       "      <td>698.0</td>\n",
       "      <td>1383.0</td>\n",
       "      <td>NaN</td>\n",
       "      <td>121.65</td>\n",
       "      <td>313.0</td>\n",
       "    </tr>\n",
       "    <tr>\n",
       "      <th>16</th>\n",
       "      <td>NaN</td>\n",
       "      <td>569.0</td>\n",
       "      <td>717.0</td>\n",
       "      <td>NaN</td>\n",
       "      <td>NaN</td>\n",
       "      <td>123.0</td>\n",
       "    </tr>\n",
       "    <tr>\n",
       "      <th>17</th>\n",
       "      <td>100.9</td>\n",
       "      <td>558.0</td>\n",
       "      <td>716.0</td>\n",
       "      <td>NaN</td>\n",
       "      <td>NaN</td>\n",
       "      <td>189.0</td>\n",
       "    </tr>\n",
       "    <tr>\n",
       "      <th>18</th>\n",
       "      <td>NaN</td>\n",
       "      <td>275.0</td>\n",
       "      <td>448.0</td>\n",
       "      <td>NaN</td>\n",
       "      <td>NaN</td>\n",
       "      <td>119.0</td>\n",
       "    </tr>\n",
       "    <tr>\n",
       "      <th>23</th>\n",
       "      <td>NaN</td>\n",
       "      <td>462.0</td>\n",
       "      <td>453.0</td>\n",
       "      <td>NaN</td>\n",
       "      <td>NaN</td>\n",
       "      <td>132.0</td>\n",
       "    </tr>\n",
       "    <tr>\n",
       "      <th>24</th>\n",
       "      <td>NaN</td>\n",
       "      <td>368.0</td>\n",
       "      <td>497.0</td>\n",
       "      <td>NaN</td>\n",
       "      <td>NaN</td>\n",
       "      <td>115.0</td>\n",
       "    </tr>\n",
       "    <tr>\n",
       "      <th>26</th>\n",
       "      <td>109.3</td>\n",
       "      <td>463.0</td>\n",
       "      <td>839.0</td>\n",
       "      <td>NaN</td>\n",
       "      <td>NaN</td>\n",
       "      <td>249.0</td>\n",
       "    </tr>\n",
       "    <tr>\n",
       "      <th>28</th>\n",
       "      <td>103.3</td>\n",
       "      <td>498.0</td>\n",
       "      <td>922.0</td>\n",
       "      <td>NaN</td>\n",
       "      <td>NaN</td>\n",
       "      <td>210.0</td>\n",
       "    </tr>\n",
       "    <tr>\n",
       "      <th>29</th>\n",
       "      <td>151.9</td>\n",
       "      <td>1512.0</td>\n",
       "      <td>2032.0</td>\n",
       "      <td>NaN</td>\n",
       "      <td>103.62</td>\n",
       "      <td>412.0</td>\n",
       "    </tr>\n",
       "    <tr>\n",
       "      <th>30</th>\n",
       "      <td>NaN</td>\n",
       "      <td>291.0</td>\n",
       "      <td>593.0</td>\n",
       "      <td>NaN</td>\n",
       "      <td>NaN</td>\n",
       "      <td>123.0</td>\n",
       "    </tr>\n",
       "    <tr>\n",
       "      <th>31</th>\n",
       "      <td>114.5</td>\n",
       "      <td>131.0</td>\n",
       "      <td>379.0</td>\n",
       "      <td>NaN</td>\n",
       "      <td>85.43</td>\n",
       "      <td>264.0</td>\n",
       "    </tr>\n",
       "    <tr>\n",
       "      <th>35</th>\n",
       "      <td>NaN</td>\n",
       "      <td>1064.0</td>\n",
       "      <td>1513.0</td>\n",
       "      <td>NaN</td>\n",
       "      <td>NaN</td>\n",
       "      <td>129.0</td>\n",
       "    </tr>\n",
       "    <tr>\n",
       "      <th>36</th>\n",
       "      <td>NaN</td>\n",
       "      <td>NaN</td>\n",
       "      <td>NaN</td>\n",
       "      <td>NaN</td>\n",
       "      <td>NaN</td>\n",
       "      <td>114.0</td>\n",
       "    </tr>\n",
       "    <tr>\n",
       "      <th>46</th>\n",
       "      <td>NaN</td>\n",
       "      <td>NaN</td>\n",
       "      <td>116.0</td>\n",
       "      <td>NaN</td>\n",
       "      <td>NaN</td>\n",
       "      <td>135.0</td>\n",
       "    </tr>\n",
       "    <tr>\n",
       "      <th>47</th>\n",
       "      <td>NaN</td>\n",
       "      <td>625.0</td>\n",
       "      <td>905.0</td>\n",
       "      <td>NaN</td>\n",
       "      <td>NaN</td>\n",
       "      <td>111.0</td>\n",
       "    </tr>\n",
       "    <tr>\n",
       "      <th>56</th>\n",
       "      <td>105.0</td>\n",
       "      <td>1187.0</td>\n",
       "      <td>780.0</td>\n",
       "      <td>NaN</td>\n",
       "      <td>NaN</td>\n",
       "      <td>232.0</td>\n",
       "    </tr>\n",
       "    <tr>\n",
       "      <th>61</th>\n",
       "      <td>NaN</td>\n",
       "      <td>347.0</td>\n",
       "      <td>520.0</td>\n",
       "      <td>NaN</td>\n",
       "      <td>NaN</td>\n",
       "      <td>147.0</td>\n",
       "    </tr>\n",
       "    <tr>\n",
       "      <th>65</th>\n",
       "      <td>NaN</td>\n",
       "      <td>1007.0</td>\n",
       "      <td>751.0</td>\n",
       "      <td>NaN</td>\n",
       "      <td>NaN</td>\n",
       "      <td>155.0</td>\n",
       "    </tr>\n",
       "    <tr>\n",
       "      <th>69</th>\n",
       "      <td>NaN</td>\n",
       "      <td>1692.0</td>\n",
       "      <td>1950.0</td>\n",
       "      <td>NaN</td>\n",
       "      <td>NaN</td>\n",
       "      <td>115.0</td>\n",
       "    </tr>\n",
       "    <tr>\n",
       "      <th>94</th>\n",
       "      <td>NaN</td>\n",
       "      <td>343.0</td>\n",
       "      <td>179.0</td>\n",
       "      <td>NaN</td>\n",
       "      <td>NaN</td>\n",
       "      <td>125.0</td>\n",
       "    </tr>\n",
       "    <tr>\n",
       "      <th>110</th>\n",
       "      <td>NaN</td>\n",
       "      <td>3344.0</td>\n",
       "      <td>3369.0</td>\n",
       "      <td>NaN</td>\n",
       "      <td>NaN</td>\n",
       "      <td>122.0</td>\n",
       "    </tr>\n",
       "  </tbody>\n",
       "</table>\n",
       "</div>"
      ],
      "text/plain": [
       "                   Temperatura  Fabricas  Habitantes  Velocidad_viento  \\\n",
       "Contaminacion_SO2                                                        \n",
       "8                          NaN     125.0       277.0               NaN   \n",
       "9                        134.5     845.0      1205.0               NaN   \n",
       "10                       276.3    1478.0      2774.0               NaN   \n",
       "11                       103.9     437.0       707.0               NaN   \n",
       "12                         NaN     453.0       716.0               NaN   \n",
       "13                         NaN      91.0       132.0               NaN   \n",
       "14                       174.4     698.0      1383.0               NaN   \n",
       "16                         NaN     569.0       717.0               NaN   \n",
       "17                       100.9     558.0       716.0               NaN   \n",
       "18                         NaN     275.0       448.0               NaN   \n",
       "23                         NaN     462.0       453.0               NaN   \n",
       "24                         NaN     368.0       497.0               NaN   \n",
       "26                       109.3     463.0       839.0               NaN   \n",
       "28                       103.3     498.0       922.0               NaN   \n",
       "29                       151.9    1512.0      2032.0               NaN   \n",
       "30                         NaN     291.0       593.0               NaN   \n",
       "31                       114.5     131.0       379.0               NaN   \n",
       "35                         NaN    1064.0      1513.0               NaN   \n",
       "36                         NaN       NaN         NaN               NaN   \n",
       "46                         NaN       NaN       116.0               NaN   \n",
       "47                         NaN     625.0       905.0               NaN   \n",
       "56                       105.0    1187.0       780.0               NaN   \n",
       "61                         NaN     347.0       520.0               NaN   \n",
       "65                         NaN    1007.0       751.0               NaN   \n",
       "69                         NaN    1692.0      1950.0               NaN   \n",
       "94                         NaN     343.0       179.0               NaN   \n",
       "110                        NaN    3344.0      3369.0               NaN   \n",
       "\n",
       "                   Lluvia  Dias_Lluvia  \n",
       "Contaminacion_SO2                       \n",
       "8                     NaN         82.0  \n",
       "9                   92.71        191.0  \n",
       "10                 164.14        372.0  \n",
       "11                    NaN        224.0  \n",
       "12                    NaN          NaN  \n",
       "13                    NaN        100.0  \n",
       "14                 121.65        313.0  \n",
       "16                    NaN        123.0  \n",
       "17                    NaN        189.0  \n",
       "18                    NaN        119.0  \n",
       "23                    NaN        132.0  \n",
       "24                    NaN        115.0  \n",
       "26                    NaN        249.0  \n",
       "28                    NaN        210.0  \n",
       "29                 103.62        412.0  \n",
       "30                    NaN        123.0  \n",
       "31                  85.43        264.0  \n",
       "35                    NaN        129.0  \n",
       "36                    NaN        114.0  \n",
       "46                    NaN        135.0  \n",
       "47                    NaN        111.0  \n",
       "56                    NaN        232.0  \n",
       "61                    NaN        147.0  \n",
       "65                    NaN        155.0  \n",
       "69                    NaN        115.0  \n",
       "94                    NaN        125.0  \n",
       "110                   NaN        122.0  "
      ]
     },
     "execution_count": 163,
     "metadata": {},
     "output_type": "execute_result"
    }
   ],
   "source": [
    "suma[suma > 80]"
   ]
  },
  {
   "cell_type": "markdown",
   "metadata": {},
   "source": [
    "### Numpy"
   ]
  },
  {
   "cell_type": "code",
   "execution_count": 164,
   "metadata": {},
   "outputs": [],
   "source": [
    "import numpy as np"
   ]
  },
  {
   "cell_type": "code",
   "execution_count": 165,
   "metadata": {},
   "outputs": [
    {
     "name": "stdout",
     "output_type": "stream",
     "text": [
      "<class 'numpy.ndarray'>\n",
      "(5,)\n",
      "1\n",
      "int64\n"
     ]
    }
   ],
   "source": [
    "v = np.array([1, 2, 3, 4, 5])\n",
    "print(type(v))\n",
    "print(v.shape)\n",
    "print(v.ndim)\n",
    "print(v.dtype)"
   ]
  },
  {
   "cell_type": "markdown",
   "metadata": {},
   "source": [
    "#### Operaciones vectorizadas"
   ]
  },
  {
   "cell_type": "code",
   "execution_count": 166,
   "metadata": {},
   "outputs": [
    {
     "data": {
      "text/plain": [
       "array([ 2,  4,  6,  8, 10])"
      ]
     },
     "execution_count": 166,
     "metadata": {},
     "output_type": "execute_result"
    }
   ],
   "source": [
    "v+v"
   ]
  },
  {
   "cell_type": "code",
   "execution_count": 167,
   "metadata": {},
   "outputs": [
    {
     "data": {
      "text/plain": [
       "array([ 5.3, 10.6, 15.9, 21.2, 26.5])"
      ]
     },
     "execution_count": 167,
     "metadata": {},
     "output_type": "execute_result"
    }
   ],
   "source": [
    "5.3*v"
   ]
  },
  {
   "cell_type": "code",
   "execution_count": 168,
   "metadata": {},
   "outputs": [
    {
     "data": {
      "text/plain": [
       "array([ 1,  4,  9, 16, 25])"
      ]
     },
     "execution_count": 168,
     "metadata": {},
     "output_type": "execute_result"
    }
   ],
   "source": [
    "v*v # Elemento a elemento"
   ]
  },
  {
   "cell_type": "code",
   "execution_count": 169,
   "metadata": {},
   "outputs": [
    {
     "data": {
      "text/plain": [
       "np.int64(55)"
      ]
     },
     "execution_count": 169,
     "metadata": {},
     "output_type": "execute_result"
    }
   ],
   "source": [
    "v@v # Producto punto"
   ]
  },
  {
   "cell_type": "code",
   "execution_count": 170,
   "metadata": {},
   "outputs": [
    {
     "name": "stdout",
     "output_type": "stream",
     "text": [
      "<class 'numpy.ndarray'>\n",
      "(3, 3)\n",
      "2\n",
      "int64\n"
     ]
    }
   ],
   "source": [
    "m = np.array([[1, 2, 3], [4, 5, 6], [7, 8, 9]])\n",
    "print(type(m))\n",
    "print(m.shape)\n",
    "print(m.ndim)\n",
    "print(m.dtype)"
   ]
  },
  {
   "cell_type": "code",
   "execution_count": 171,
   "metadata": {},
   "outputs": [
    {
     "name": "stdout",
     "output_type": "stream",
     "text": [
      "<class 'numpy.ndarray'>\n",
      "(3, 3)\n",
      "2\n",
      "float64\n"
     ]
    }
   ],
   "source": [
    "m = np.array([[1, 2, 3], [4, 5., 6], [7, 8, 9]])\n",
    "print(type(m))\n",
    "print(m.shape)\n",
    "print(m.ndim)\n",
    "print(m.dtype)"
   ]
  },
  {
   "cell_type": "code",
   "execution_count": 172,
   "metadata": {},
   "outputs": [
    {
     "data": {
      "text/plain": [
       "array([[ 2.,  4.,  6.],\n",
       "       [ 8., 10., 12.],\n",
       "       [14., 16., 18.]])"
      ]
     },
     "execution_count": 172,
     "metadata": {},
     "output_type": "execute_result"
    }
   ],
   "source": [
    "m+m"
   ]
  },
  {
   "cell_type": "code",
   "execution_count": 173,
   "metadata": {},
   "outputs": [
    {
     "data": {
      "text/plain": [
       "array([[ 6.9, 13.8, 20.7],\n",
       "       [27.6, 34.5, 41.4],\n",
       "       [48.3, 55.2, 62.1]])"
      ]
     },
     "execution_count": 173,
     "metadata": {},
     "output_type": "execute_result"
    }
   ],
   "source": [
    "6.9*m"
   ]
  },
  {
   "cell_type": "code",
   "execution_count": 174,
   "metadata": {},
   "outputs": [
    {
     "data": {
      "text/plain": [
       "array([[ 1.,  4.,  9.],\n",
       "       [16., 25., 36.],\n",
       "       [49., 64., 81.]])"
      ]
     },
     "execution_count": 174,
     "metadata": {},
     "output_type": "execute_result"
    }
   ],
   "source": [
    "m*m # Elemento a elemento"
   ]
  },
  {
   "cell_type": "code",
   "execution_count": 175,
   "metadata": {},
   "outputs": [
    {
     "data": {
      "text/plain": [
       "array([[ 30.,  36.,  42.],\n",
       "       [ 66.,  81.,  96.],\n",
       "       [102., 126., 150.]])"
      ]
     },
     "execution_count": 175,
     "metadata": {},
     "output_type": "execute_result"
    }
   ],
   "source": [
    "m@m # Multiplicación convencional"
   ]
  },
  {
   "cell_type": "code",
   "execution_count": 176,
   "metadata": {},
   "outputs": [
    {
     "data": {
      "text/plain": [
       "array([0, 0, 0, 0, 0, 0, 0, 0, 0])"
      ]
     },
     "execution_count": 176,
     "metadata": {},
     "output_type": "execute_result"
    }
   ],
   "source": [
    "a = np.array([0]*9)\n",
    "a"
   ]
  },
  {
   "cell_type": "code",
   "execution_count": 177,
   "metadata": {},
   "outputs": [
    {
     "data": {
      "text/plain": [
       "array([[0, 0, 0],\n",
       "       [0, 0, 0],\n",
       "       [0, 0, 0]])"
      ]
     },
     "execution_count": 177,
     "metadata": {},
     "output_type": "execute_result"
    }
   ],
   "source": [
    "a = a.reshape((3,3))\n",
    "a"
   ]
  },
  {
   "cell_type": "code",
   "execution_count": 178,
   "metadata": {},
   "outputs": [
    {
     "data": {
      "text/plain": [
       "array([0., 0., 0., 0., 0., 0., 0., 0., 0.])"
      ]
     },
     "execution_count": 178,
     "metadata": {},
     "output_type": "execute_result"
    }
   ],
   "source": [
    "np.zeros(9)"
   ]
  },
  {
   "cell_type": "code",
   "execution_count": 179,
   "metadata": {},
   "outputs": [
    {
     "data": {
      "text/plain": [
       "array([[0., 0., 0.],\n",
       "       [0., 0., 0.],\n",
       "       [0., 0., 0.]])"
      ]
     },
     "execution_count": 179,
     "metadata": {},
     "output_type": "execute_result"
    }
   ],
   "source": [
    "np.zeros((3,3))"
   ]
  },
  {
   "cell_type": "code",
   "execution_count": 180,
   "metadata": {},
   "outputs": [
    {
     "data": {
      "text/plain": [
       "array([1., 1., 1., 1., 1., 1., 1., 1., 1.])"
      ]
     },
     "execution_count": 180,
     "metadata": {},
     "output_type": "execute_result"
    }
   ],
   "source": [
    "np.ones(9)"
   ]
  },
  {
   "cell_type": "code",
   "execution_count": 181,
   "metadata": {},
   "outputs": [
    {
     "data": {
      "text/plain": [
       "array([[1., 1., 1., 1.],\n",
       "       [1., 1., 1., 1.]])"
      ]
     },
     "execution_count": 181,
     "metadata": {},
     "output_type": "execute_result"
    }
   ],
   "source": [
    "np.ones((2,4))"
   ]
  },
  {
   "cell_type": "code",
   "execution_count": 182,
   "metadata": {},
   "outputs": [
    {
     "data": {
      "text/plain": [
       "array([[75.60625662, 15.55697873, 99.27303694, 69.35519777, 21.01680256],\n",
       "       [38.11946999, 68.16248287, 64.38849491, 37.04886687,  5.26720889],\n",
       "       [45.25939699, 24.39040575, 27.76196796,  6.95579695, 91.834074  ]])"
      ]
     },
     "execution_count": 182,
     "metadata": {},
     "output_type": "execute_result"
    }
   ],
   "source": [
    "mr = np.random.random((3,5)) * 100\n",
    "mr"
   ]
  },
  {
   "cell_type": "code",
   "execution_count": 183,
   "metadata": {},
   "outputs": [
    {
     "data": {
      "text/plain": [
       "array([73.3831725 ,  9.36909151, 55.42551598, 56.94158416,  5.91779122])"
      ]
     },
     "execution_count": 183,
     "metadata": {},
     "output_type": "execute_result"
    }
   ],
   "source": [
    "ar = np.random.rand(5) * 100\n",
    "ar"
   ]
  },
  {
   "cell_type": "code",
   "execution_count": 184,
   "metadata": {},
   "outputs": [
    {
     "data": {
      "text/plain": [
       "np.float64(91.83407400381405)"
      ]
     },
     "execution_count": 184,
     "metadata": {},
     "output_type": "execute_result"
    }
   ],
   "source": [
    "mr[2,4]"
   ]
  },
  {
   "cell_type": "code",
   "execution_count": 185,
   "metadata": {},
   "outputs": [
    {
     "data": {
      "text/plain": [
       "array([38.11946999, 68.16248287, 64.38849491, 37.04886687,  5.26720889])"
      ]
     },
     "execution_count": 185,
     "metadata": {},
     "output_type": "execute_result"
    }
   ],
   "source": [
    "mr[1,:]"
   ]
  },
  {
   "cell_type": "code",
   "execution_count": 186,
   "metadata": {},
   "outputs": [
    {
     "data": {
      "text/plain": [
       "array([69.35519777, 37.04886687,  6.95579695])"
      ]
     },
     "execution_count": 186,
     "metadata": {},
     "output_type": "execute_result"
    }
   ],
   "source": [
    "mr[:,3]"
   ]
  },
  {
   "cell_type": "code",
   "execution_count": 187,
   "metadata": {},
   "outputs": [
    {
     "data": {
      "text/plain": [
       "array([[99.27303694, 69.35519777],\n",
       "       [64.38849491, 37.04886687]])"
      ]
     },
     "execution_count": 187,
     "metadata": {},
     "output_type": "execute_result"
    }
   ],
   "source": [
    "mr[0:2, 2:4]"
   ]
  },
  {
   "cell_type": "code",
   "execution_count": 188,
   "metadata": {},
   "outputs": [
    {
     "data": {
      "text/plain": [
       "array([75.60625662, 99.27303694, 69.35519777, 68.16248287, 64.38849491,\n",
       "       45.25939699, 91.834074  ])"
      ]
     },
     "execution_count": 188,
     "metadata": {},
     "output_type": "execute_result"
    }
   ],
   "source": [
    "mr[mr>40]"
   ]
  },
  {
   "cell_type": "code",
   "execution_count": 189,
   "metadata": {},
   "outputs": [
    {
     "data": {
      "text/plain": [
       "array([[ True, False,  True,  True, False],\n",
       "       [False,  True,  True, False, False],\n",
       "       [ True, False, False, False,  True]])"
      ]
     },
     "execution_count": 189,
     "metadata": {},
     "output_type": "execute_result"
    }
   ],
   "source": [
    "mr>40"
   ]
  },
  {
   "cell_type": "code",
   "execution_count": 190,
   "metadata": {},
   "outputs": [
    {
     "data": {
      "text/plain": [
       "np.float64(689.9964378097677)"
      ]
     },
     "execution_count": 190,
     "metadata": {},
     "output_type": "execute_result"
    }
   ],
   "source": [
    "mr.sum()"
   ]
  },
  {
   "cell_type": "code",
   "execution_count": 191,
   "metadata": {},
   "outputs": [
    {
     "data": {
      "text/plain": [
       "array([280.80827263, 212.98652353, 196.20164165])"
      ]
     },
     "execution_count": 191,
     "metadata": {},
     "output_type": "execute_result"
    }
   ],
   "source": [
    "mr.sum(axis=1) # axis = 1 : filas"
   ]
  },
  {
   "cell_type": "code",
   "execution_count": 192,
   "metadata": {},
   "outputs": [
    {
     "data": {
      "text/plain": [
       "array([158.98512359, 108.10986735, 191.42349982, 113.35986159,\n",
       "       118.11808546])"
      ]
     },
     "execution_count": 192,
     "metadata": {},
     "output_type": "execute_result"
    }
   ],
   "source": [
    "mr.sum(axis=0) # axis = 0 : columnas"
   ]
  },
  {
   "cell_type": "code",
   "execution_count": 193,
   "metadata": {},
   "outputs": [
    {
     "data": {
      "text/plain": [
       "array([0, 1, 2, 3, 4, 5, 6, 7, 8, 9])"
      ]
     },
     "execution_count": 193,
     "metadata": {},
     "output_type": "execute_result"
    }
   ],
   "source": [
    "a = np.arange(10)\n",
    "a"
   ]
  },
  {
   "cell_type": "code",
   "execution_count": 194,
   "metadata": {},
   "outputs": [
    {
     "data": {
      "text/plain": [
       "array([[0, 1],\n",
       "       [2, 3],\n",
       "       [4, 5],\n",
       "       [6, 7],\n",
       "       [8, 9]])"
      ]
     },
     "execution_count": 194,
     "metadata": {},
     "output_type": "execute_result"
    }
   ],
   "source": [
    "a2 = a.reshape((5,2)) # Se guarda en otra variable\n",
    "a2"
   ]
  },
  {
   "cell_type": "code",
   "execution_count": 195,
   "metadata": {},
   "outputs": [
    {
     "data": {
      "text/plain": [
       "array([0, 1, 2, 3, 4, 5, 6, 7, 8, 9])"
      ]
     },
     "execution_count": 195,
     "metadata": {},
     "output_type": "execute_result"
    }
   ],
   "source": [
    "a"
   ]
  },
  {
   "cell_type": "code",
   "execution_count": 196,
   "metadata": {},
   "outputs": [],
   "source": [
    "a.resize(2,5) # Se modifica el arreglo original"
   ]
  },
  {
   "cell_type": "code",
   "execution_count": 197,
   "metadata": {},
   "outputs": [
    {
     "name": "stdout",
     "output_type": "stream",
     "text": [
      "(5,)\n",
      "(3, 2)\n"
     ]
    }
   ],
   "source": [
    "av = np.array((3,5))\n",
    "m = np.array(((1,2,3),(4,5,6))).T\n",
    "print(v.shape)\n",
    "print(m.shape)"
   ]
  },
  {
   "cell_type": "code",
   "execution_count": 199,
   "metadata": {},
   "outputs": [
    {
     "data": {
      "text/plain": [
       "array([[ 3, 20],\n",
       "       [ 6, 25],\n",
       "       [ 9, 30]])"
      ]
     },
     "execution_count": 199,
     "metadata": {},
     "output_type": "execute_result"
    }
   ],
   "source": [
    "av*m"
   ]
  },
  {
   "cell_type": "code",
   "execution_count": 201,
   "metadata": {},
   "outputs": [
    {
     "data": {
      "text/plain": [
       "array([23, 31, 39])"
      ]
     },
     "execution_count": 201,
     "metadata": {},
     "output_type": "execute_result"
    }
   ],
   "source": [
    "m@av"
   ]
  },
  {
   "cell_type": "markdown",
   "metadata": {},
   "source": [
    "### Matplotlib"
   ]
  },
  {
   "cell_type": "code",
   "execution_count": 202,
   "metadata": {},
   "outputs": [],
   "source": [
    "import matplotlib.pyplot as plt"
   ]
  },
  {
   "cell_type": "code",
   "execution_count": 203,
   "metadata": {},
   "outputs": [
    {
     "data": {
      "text/plain": [
       "[<matplotlib.lines.Line2D at 0x2366cae2510>]"
      ]
     },
     "execution_count": 203,
     "metadata": {},
     "output_type": "execute_result"
    },
    {
     "data": {
      "image/png": "[encoded data removed]",
      "text/plain": [
       "<Figure size 640x480 with 1 Axes>"
      ]
     },
     "metadata": {},
     "output_type": "display_data"
    }
   ],
   "source": [
    "x = np.linspace(-5,5,10)\n",
    "y = np.cos(x)\n",
    "plt.plot(x,y)"
   ]
  },
  {
   "cell_type": "code",
   "execution_count": 204,
   "metadata": {},
   "outputs": [
    {
     "data": {
      "text/plain": [
       "[<matplotlib.lines.Line2D at 0x2366ec471a0>]"
      ]
     },
     "execution_count": 204,
     "metadata": {},
     "output_type": "execute_result"
    },
    {
     "data": {
      "image/png": "[encoded data removed]",
      "text/plain": [
       "<Figure size 640x480 with 1 Axes>"
      ]
     },
     "metadata": {},
     "output_type": "display_data"
    }
   ],
   "source": [
    "x = np.linspace(-5,5,50)\n",
    "y = np.cos(x)\n",
    "plt.plot(x,y,'r*', linestyle='solid', markersize=10)"
   ]
  },
  {
   "cell_type": "markdown",
   "metadata": {},
   "source": [
    "### Método de Herón"
   ]
  },
  {
   "cell_type": "code",
   "execution_count": 205,
   "metadata": {},
   "outputs": [],
   "source": [
    "def heron(N, n=1, e=1e-5) -> float:\n",
    "    \"\"\"\n",
    "    heron: Función que obtiene la raíz cuadrada de N con el método de Herón de Alejandría\n",
    "\n",
    "    Params\n",
    "    -------------\n",
    "    N : número real (positivo)\n",
    "        Número del cual se desea calcular la raíz\n",
    "    n : número real (positivo)\n",
    "        Valor inicial para la posible raíz\n",
    "    e : número real (positivo)\n",
    "        Error máximo aceptado\n",
    "    \n",
    "    Returns\n",
    "    --------------\n",
    "    n : número flotante (positivo)\n",
    "        Raíz calculada\n",
    "    \"\"\"\n",
    "    if N <= 0:\n",
    "        return None\n",
    "    err, i = 1.0, 0\n",
    "    while err > e:\n",
    "        print(i, ' => ', n, ' error:', err)\n",
    "        i += 1\n",
    "        plt.scatter(i, n, c='green', s=10)\n",
    "        plt.scatter(i, err, c='red', s=10)\n",
    "        nn = 0.5*(N/n + n)\n",
    "        err = abs(n-nn)/n\n",
    "        n = nn\n",
    "    plt.xlabel('iteracion')\n",
    "    plt.ylabel('raíz (verde) y error (rojo)')\n",
    "    return n"
   ]
  },
  {
   "cell_type": "code",
   "execution_count": 206,
   "metadata": {},
   "outputs": [
    {
     "name": "stdout",
     "output_type": "stream",
     "text": [
      "0  =>  5  error: 1.0\n",
      "1  =>  5.2  error: 0.040000000000000036\n",
      "2  =>  5.196153846153846  error: 0.0007396449704141986\n"
     ]
    },
    {
     "data": {
      "text/plain": [
       "('math.sqrt = ', 5.196152422706632)"
      ]
     },
     "execution_count": 206,
     "metadata": {},
     "output_type": "execute_result"
    },
    {
     "data": {
      "image/png": "[encoded data removed]",
      "text/plain": [
       "<Figure size 640x480 with 1 Axes>"
      ]
     },
     "metadata": {},
     "output_type": "display_data"
    }
   ],
   "source": [
    "N, n = 27, 5\n",
    "heron(N, n)\n",
    "'math.sqrt = ', sqrt(27)"
   ]
  },
  {
   "cell_type": "markdown",
   "metadata": {},
   "source": [
    "### Bisección"
   ]
  },
  {
   "cell_type": "code",
   "execution_count": 207,
   "metadata": {},
   "outputs": [],
   "source": [
    "import matplotlib as mpl\n",
    "mpl.style.use('ggplot')"
   ]
  },
  {
   "cell_type": "code",
   "execution_count": 208,
   "metadata": {},
   "outputs": [],
   "source": [
    "def grafica(f, c, fc):\n",
    "    \"\"\"\n",
    "    docstring\n",
    "    \"\"\"\n",
    "    c_c = c.copy()\n",
    "    c_c.sort()\n",
    "    x = np.linspace(c_c[0]-0.1, c_c[-1]+0.1, 100)\n",
    "    plt.plot(x, f(x), color='green')\n",
    "    plt.scatter(c, fc, c='red', s=10)\n",
    "    plt.scatter(c[-1], fc[-1], c='blue', s=20, marker='*')\n",
    "    plt.show()"
   ]
  },
  {
   "cell_type": "code",
   "execution_count": 209,
   "metadata": {},
   "outputs": [],
   "source": [
    "def biseccion(f, a0, b0, emax=1e-5, iter_max=50, graf=False):\n",
    "    \"\"\"\n",
    "    docstring\n",
    "    \"\"\"\n",
    "    a, b = a0, b0\n",
    "    error, i = 1.0, 0\n",
    "    C, Fc = [], []\n",
    "    while error > emax and i < iter_max:\n",
    "        c = (a+b)/2\n",
    "        fa = f(a)\n",
    "        fc = f(c)\n",
    "        C.append(c)\n",
    "        Fc.append(fc)\n",
    "        if fa * fc < 0:\n",
    "            b = c\n",
    "        else:\n",
    "            a = c\n",
    "        error = abs(fc)\n",
    "        i += 1\n",
    "    if graf:\n",
    "        grafica(f, C, Fc)\n",
    "    return i, c\n"
   ]
  },
  {
   "cell_type": "code",
   "execution_count": 210,
   "metadata": {},
   "outputs": [],
   "source": [
    "def f1(x):\n",
    "    return x**3 - 2*x**2 - 1"
   ]
  },
  {
   "cell_type": "code",
   "execution_count": 211,
   "metadata": {},
   "outputs": [
    {
     "data": {
      "image/png": "[encoded data removed]",
      "text/plain": [
       "<Figure size 640x480 with 1 Axes>"
      ]
     },
     "metadata": {},
     "output_type": "display_data"
    }
   ],
   "source": [
    "x = np.linspace(-1,3,100)\n",
    "plt.plot(x, f1(x))\n",
    "plt.show()"
   ]
  },
  {
   "cell_type": "code",
   "execution_count": 212,
   "metadata": {},
   "outputs": [
    {
     "data": {
      "text/plain": [
       "(18, 2.2055702209472656)"
      ]
     },
     "execution_count": 212,
     "metadata": {},
     "output_type": "execute_result"
    }
   ],
   "source": [
    "biseccion(f1, 1.5, 2.5)"
   ]
  },
  {
   "cell_type": "code",
   "execution_count": 213,
   "metadata": {},
   "outputs": [
    {
     "data": {
      "image/png": "[encoded data removed]",
      "text/plain": [
       "<Figure size 640x480 with 1 Axes>"
      ]
     },
     "metadata": {},
     "output_type": "display_data"
    },
    {
     "data": {
      "text/plain": [
       "(18, 2.2055702209472656)"
      ]
     },
     "execution_count": 213,
     "metadata": {},
     "output_type": "execute_result"
    }
   ],
   "source": [
    "biseccion(f1, 1.5, 2.5, graf=True)"
   ]
  },
  {
   "cell_type": "code",
   "execution_count": 214,
   "metadata": {},
   "outputs": [],
   "source": [
    "def f2(x):\n",
    "    return np.sin(2*x) * (x**3 - 2*x**2 - 1)"
   ]
  },
  {
   "cell_type": "code",
   "execution_count": 215,
   "metadata": {},
   "outputs": [
    {
     "data": {
      "image/png": "[encoded data removed]",
      "text/plain": [
       "<Figure size 640x480 with 1 Axes>"
      ]
     },
     "metadata": {},
     "output_type": "display_data"
    }
   ],
   "source": [
    "x = np.linspace(-4, 4, 100)\n",
    "plt.plot(x, f2(x))\n",
    "plt.show()"
   ]
  },
  {
   "cell_type": "code",
   "execution_count": 216,
   "metadata": {},
   "outputs": [
    {
     "data": {
      "image/png": "[encoded data removed]",
      "text/plain": [
       "<Figure size 640x480 with 1 Axes>"
      ]
     },
     "metadata": {},
     "output_type": "display_data"
    },
    {
     "data": {
      "text/plain": [
       "(22, -3.1415927410125732)"
      ]
     },
     "execution_count": 216,
     "metadata": {},
     "output_type": "execute_result"
    }
   ],
   "source": [
    "iter, raiz = biseccion(f2, -4, -3, graf=True)\n",
    "iter, raiz"
   ]
  },
  {
   "cell_type": "code",
   "execution_count": 217,
   "metadata": {},
   "outputs": [],
   "source": [
    "# Derivada numérica\n",
    "def Df(f, x, dx=1e-3):\n",
    "    return (f(x+dx)-f(x)) / dx"
   ]
  },
  {
   "cell_type": "code",
   "execution_count": 218,
   "metadata": {},
   "outputs": [
    {
     "data": {
      "image/png": "[encoded data removed]",
      "text/plain": [
       "<Figure size 640x480 with 1 Axes>"
      ]
     },
     "metadata": {},
     "output_type": "display_data"
    }
   ],
   "source": [
    "x = np.linspace(0, 4*np.pi, 100)\n",
    "f = np.sin(x)\n",
    "fp = np.cos(x)\n",
    "\n",
    "plt.plot(x, f, label='FO')\n",
    "plt.plot(x, fp, label = 'DS')\n",
    "plt.plot(x, Df(np.sin, x), 'o', label='DN')\n",
    "plt.legend()\n",
    "plt.show()"
   ]
  },
  {
   "cell_type": "markdown",
   "metadata": {},
   "source": [
    "### Newton-Raphson "
   ]
  },
  {
   "cell_type": "code",
   "execution_count": 219,
   "metadata": {},
   "outputs": [],
   "source": [
    "def newthon_raphson(f, x0, emax=1e-1, iter_max=50, graf=True):\n",
    "    \"\"\"\n",
    "    docstring\n",
    "    \"\"\"\n",
    "    error, i = 10, 0\n",
    "    C, Fc = [], []\n",
    "    while error > emax and i < iter_max:\n",
    "        xi = x0-f(x0) / Df(f, x0)\n",
    "        C.append(x0)\n",
    "        Fc.append(f(x0))\n",
    "        error = abs(f(xi)-f(x0))\n",
    "        x0 = xi\n",
    "        i += 1\n",
    "    if graf:\n",
    "        grafica(f, C, Fc)\n",
    "    return i, x0"
   ]
  },
  {
   "cell_type": "code",
   "execution_count": 220,
   "metadata": {},
   "outputs": [
    {
     "data": {
      "image/png": "[encoded data removed]",
      "text/plain": [
       "<Figure size 640x480 with 1 Axes>"
      ]
     },
     "metadata": {},
     "output_type": "display_data"
    },
    {
     "data": {
      "text/plain": [
       "(5, 2.2055835548532996)"
      ]
     },
     "execution_count": 220,
     "metadata": {},
     "output_type": "execute_result"
    }
   ],
   "source": [
    "iter, raiz = newthon_raphson(f1, 1.6)\n",
    "iter, raiz"
   ]
  },
  {
   "cell_type": "code",
   "execution_count": 221,
   "metadata": {},
   "outputs": [
    {
     "data": {
      "image/png": "[encoded data removed]",
      "text/plain": [
       "<Figure size 640x480 with 1 Axes>"
      ]
     },
     "metadata": {},
     "output_type": "display_data"
    },
    {
     "data": {
      "text/plain": [
       "(3, np.float64(3.141637005572229))"
      ]
     },
     "execution_count": 221,
     "metadata": {},
     "output_type": "execute_result"
    }
   ],
   "source": [
    "iter, raiz = newthon_raphson(f2, 3)\n",
    "iter, raiz"
   ]
  }
 ],
 "metadata": {
  "kernelspec": {
   "display_name": "Python 3",
   "language": "python",
   "name": "python3"
  },
  "language_info": {
   "codemirror_mode": {
    "name": "ipython",
    "version": 3
   },
   "file_extension": ".py",
   "mimetype": "text/x-python",
   "name": "python",
   "nbconvert_exporter": "python",
   "pygments_lexer": "ipython3",
   "version": "3.12.6"
  }
 },
 "nbformat": 4,
 "nbformat_minor": 2
}
