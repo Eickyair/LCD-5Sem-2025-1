{
 "cells": [
  {
   "cell_type": "markdown",
   "id": "282253f2",
   "metadata": {},
   "source": [
    "# Integrantes\n",
    "- Aguilar Martínez Erick Yair\n",
    "- Martínez Muñoz Alan Magno\n",
    "- Mendoza Hernández Carlos Emiliano"
   ]
  },
  {
   "cell_type": "markdown",
   "id": "cc5cc5f3",
   "metadata": {},
   "source": [
    "## Funciones"
   ]
  },
  {
   "cell_type": "code",
   "execution_count": 6,
   "id": "initial_id",
   "metadata": {
    "ExecuteTime": {
     "end_time": "2024-08-30T23:20:52.637830Z",
     "start_time": "2024-08-30T23:20:52.631223Z"
    },
    "collapsed": true
   },
   "outputs": [],
   "source": [
    "def encrypt(key: str, text: str) -> str:\n",
    "    \"\"\"\n",
    "    Encrypts text using given key. Note that this function fills empty spaces with 'S'.\n",
    "    \n",
    "    Examples\n",
    "    --------\n",
    "    >>> encrypt('hola', 'la criptografia es romantica')\n",
    "    'ROFSACSLIGIRNACTAEMISAPRAOTS'\n",
    "    >>> encrypt('pythonisgreat', 'the life of a programmer is not easy')\n",
    "    'RTSPOSFSSLMSERSFESIMSTGAANSOISEAYOESHRS'\n",
    "    >>> encrypt('pepepe', 'camus said that one must imagine sisyphus happy')\n",
    "    'AIOTNPPUTEMSUYSAUGSHSCATSIYAMDNIEHPSHMAISS'\n",
    "\n",
    "    Parameters\n",
    "    ----------\n",
    "    key (str) : Key to encrypt text (Only alpabetic characters and spaces are allowed)\n",
    "    text (str) : Text to be encrypted (Only alpabetic characters are allowed)\n",
    "\n",
    "    Returns\n",
    "    -------\n",
    "    str : Encrypted text (uppercase)\n",
    "    \"\"\"\n",
    "    key = key.upper()\n",
    "    text = text.upper().replace(' ','')\n",
    "    # Fills empty spaces with 'S'\n",
    "    text += 'S' * (len(key) - len(text) % len(key)) if len(text) % len(key) != 0 else ''\n",
    "    row_size = len(key)\n",
    "    start_index = 0\n",
    "    row_count = 1\n",
    "    text_as_rows = []\n",
    "    # Splitting text into a list\n",
    "    while start_index < len(text):\n",
    "        text_as_rows.append(text[start_index:row_count*row_size])\n",
    "        start_index += row_size\n",
    "        row_count += 1\n",
    "    # Creating list with tuples (key char, insertion order, column) to sort it alphabetically by key chars\n",
    "    sorting_columns = []\n",
    "    # Transform rows into columns\n",
    "    for i in range(len(key)):\n",
    "        column = ''\n",
    "        for row in text_as_rows:\n",
    "            column += row[i]\n",
    "            # =>>> Since sort() method is going to be used, the insertion order is also needed in order to keep the original insertion order of duplicate key chars\n",
    "            # =>>> The insertion order is the index of the key char in the key\n",
    "        sorting_columns.append((key[i], i, column))\n",
    "    sorting_columns.sort()\n",
    "    # Generating output string\n",
    "    encrypted_text = ''\n",
    "    for _, _, value in sorting_columns:\n",
    "        encrypted_text += value\n",
    "    return encrypted_text"
   ]
  },
  {
   "cell_type": "code",
   "execution_count": 7,
   "id": "208facf643776385",
   "metadata": {
    "ExecuteTime": {
     "end_time": "2024-08-30T23:16:06.509567Z",
     "start_time": "2024-08-30T23:16:06.499249Z"
    }
   },
   "outputs": [],
   "source": [
    "def decrypt(key: str, encrypted_text: str) -> str:\n",
    "    \"\"\"\n",
    "    Decrypts text using given key. Encrypted text should have been generated using encrypt function.\n",
    "\n",
    "    Examples\n",
    "    --------\n",
    "    >>> decrypt('hola', 'ROFSACSLIGIRNACTAEMISAPRAOTS')\n",
    "    'LACRIPTOGRAFIAESROMANTICASSS'\n",
    "    >>> decrypt('pythonisgreat', 'RTSPOSFSSLMSERSFESIMSTGAANSOISEAYOESHRS')\n",
    "    'THELIFEOFAPROGRAMMERISNOTEASYSSSSSSSSSS'\n",
    "    >>> decrypt('pepepe', 'AIOTNPPUTEMSUYSAUGSHSCATSIYAMDNIEHPSHMAISS')\n",
    "    'CAMUSSAIDTHATONEMUSTIMAGINESISYPHUSHAPPYSS'\n",
    "\n",
    "    Parameters\n",
    "    ----------\n",
    "    key (str) : Key to decrypt text\n",
    "    encrypted_text (str) : Encrypted text\n",
    "\n",
    "    Returns\n",
    "    -------\n",
    "    str :  Decrypted text \n",
    "    \"\"\"\n",
    "    key = key.upper()\n",
    "    # Ordering key chars\n",
    "    # =>>> The original order of the key chars is needed to decrypt the text\n",
    "    # =>>> The original order is the index i in the tuple (letter, i)\n",
    "    char_order = [(letter, i) for i, letter in enumerate(key)]\n",
    "    char_order.sort()\n",
    "    # Splitting text into a list of columns\n",
    "    column_size = len(encrypted_text) // len(key)\n",
    "    column_count = 1\n",
    "    start_index = 0\n",
    "    sorting_columns = []\n",
    "    while start_index < len(encrypted_text):\n",
    "        sorting_columns.append(encrypted_text[start_index:column_count*column_size])\n",
    "        start_index += column_size\n",
    "        column_count += 1\n",
    "    # Creating tuples (char order, key char, column) to sort it by the original order of the key chars\n",
    "    ordering_tuples = [(char_ord[1] , sorting_columns[i]) for i, char_ord in enumerate(char_order)]\n",
    "    ordering_tuples.sort()\n",
    "    # Generating output string\n",
    "    decrypted_text = ''\n",
    "    for i in range(column_size):\n",
    "        for _, word in ordering_tuples:\n",
    "            decrypted_text += word[i]\n",
    "    return decrypted_text"
   ]
  },
  {
   "cell_type": "markdown",
   "id": "56f14eaf",
   "metadata": {},
   "source": [
    "## Testing"
   ]
  },
  {
   "cell_type": "code",
   "execution_count": 8,
   "id": "c40ffc55",
   "metadata": {},
   "outputs": [],
   "source": [
    "import doctest"
   ]
  },
  {
   "cell_type": "code",
   "execution_count": 9,
   "id": "2a652bd3",
   "metadata": {},
   "outputs": [
    {
     "name": "stdout",
     "output_type": "stream",
     "text": [
      "Trying:\n",
      "    decrypt('hola', 'ROFSACSLIGIRNACTAEMISAPRAOTS')\n",
      "Expecting:\n",
      "    'LACRIPTOGRAFIAESROMANTICASSS'\n",
      "ok\n",
      "Trying:\n",
      "    decrypt('pythonisgreat', 'RTSPOSFSSLMSERSFESIMSTGAANSOISEAYOESHRS')\n",
      "Expecting:\n",
      "    'THELIFEOFAPROGRAMMERISNOTEASYSSSSSSSSSS'\n",
      "ok\n",
      "Trying:\n",
      "    decrypt('pepepe', 'AIOTNPPUTEMSUYSAUGSHSCATSIYAMDNIEHPSHMAISS')\n",
      "Expecting:\n",
      "    'CAMUSSAIDTHATONEMUSTIMAGINESISYPHUSHAPPYSS'\n",
      "ok\n",
      "Trying:\n",
      "    encrypt('hola', 'la criptografia es romantica')\n",
      "Expecting:\n",
      "    'ROFSACSLIGIRNACTAEMISAPRAOTS'\n",
      "ok\n",
      "Trying:\n",
      "    encrypt('pythonisgreat', 'the life of a programmer is not easy')\n",
      "Expecting:\n",
      "    'RTSPOSFSSLMSERSFESIMSTGAANSOISEAYOESHRS'\n",
      "ok\n",
      "Trying:\n",
      "    encrypt('pepepe', 'camus said that one must imagine sisyphus happy')\n",
      "Expecting:\n",
      "    'AIOTNPPUTEMSUYSAUGSHSCATSIYAMDNIEHPSHMAISS'\n",
      "ok\n",
      "1 items had no tests:\n",
      "    __main__\n",
      "2 items passed all tests:\n",
      "   3 tests in __main__.decrypt\n",
      "   3 tests in __main__.encrypt\n",
      "6 tests in 3 items.\n",
      "6 passed and 0 failed.\n",
      "Test passed.\n"
     ]
    },
    {
     "data": {
      "text/plain": [
       "TestResults(failed=0, attempted=6)"
      ]
     },
     "execution_count": 9,
     "metadata": {},
     "output_type": "execute_result"
    }
   ],
   "source": [
    "doctest.testmod(verbose=True)"
   ]
  }
 ],
 "metadata": {
  "kernelspec": {
   "display_name": "Python 3",
   "language": "python",
   "name": "python3"
  },
  "language_info": {
   "codemirror_mode": {
    "name": "ipython",
    "version": 3
   },
   "file_extension": ".py",
   "mimetype": "text/x-python",
   "name": "python",
   "nbconvert_exporter": "python",
   "pygments_lexer": "ipython3",
   "version": "3.12.4"
  }
 },
 "nbformat": 4,
 "nbformat_minor": 5
}
