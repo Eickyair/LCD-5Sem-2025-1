{
 "cells": [
  {
   "cell_type": "markdown",
   "metadata": {},
   "source": [
    "# Integrantes\n",
    "- Aguilar Martínez Erick Yair\n",
    "- Martínez Muñoz Alan Magno\n",
    "- Mendoza Hernández Carlos Emiliano"
   ]
  },
  {
   "cell_type": "markdown",
   "metadata": {},
   "source": [
    "El conjunto de datos *anorexia*, dentro del paquete *MASS* de R reune datos de 72 pacientes que participaron en un experimento para determinar la efectividad de terapias. Se aplicaron tres tipos: terapia familiar (*FT*), terapia cognitiva conductual (*CBT*) y un grupo de control sin terapia (*Cont*). El objetivo del análisis es determinar la efectividad de los tratamientos, así como estimar la media de ganancia de peso, comparando el peso antes y después del\n",
    "tratamiento (*Prewt* y *Postwt*). como evidencia de que son ganancias reales."
   ]
  },
  {
   "cell_type": "code",
   "execution_count": 1,
   "metadata": {
    "vscode": {
     "languageId": "r"
    }
   },
   "outputs": [
    {
     "data": {
      "text/html": [
       "<table class=\"dataframe\">\n",
       "<caption>A data.frame: 6 × 3</caption>\n",
       "<thead>\n",
       "\t<tr><th></th><th scope=col>Treat</th><th scope=col>Prewt</th><th scope=col>Postwt</th></tr>\n",
       "\t<tr><th></th><th scope=col>&lt;fct&gt;</th><th scope=col>&lt;dbl&gt;</th><th scope=col>&lt;dbl&gt;</th></tr>\n",
       "</thead>\n",
       "<tbody>\n",
       "\t<tr><th scope=row>1</th><td>Cont</td><td>80.7</td><td>80.2</td></tr>\n",
       "\t<tr><th scope=row>2</th><td>Cont</td><td>89.4</td><td>80.1</td></tr>\n",
       "\t<tr><th scope=row>3</th><td>Cont</td><td>91.8</td><td>86.4</td></tr>\n",
       "\t<tr><th scope=row>4</th><td>Cont</td><td>74.0</td><td>86.3</td></tr>\n",
       "\t<tr><th scope=row>5</th><td>Cont</td><td>78.1</td><td>76.1</td></tr>\n",
       "\t<tr><th scope=row>6</th><td>Cont</td><td>88.3</td><td>78.1</td></tr>\n",
       "</tbody>\n",
       "</table>\n"
      ],
      "text/latex": [
       "A data.frame: 6 × 3\n",
       "\\begin{tabular}{r|lll}\n",
       "  & Treat & Prewt & Postwt\\\\\n",
       "  & <fct> & <dbl> & <dbl>\\\\\n",
       "\\hline\n",
       "\t1 & Cont & 80.7 & 80.2\\\\\n",
       "\t2 & Cont & 89.4 & 80.1\\\\\n",
       "\t3 & Cont & 91.8 & 86.4\\\\\n",
       "\t4 & Cont & 74.0 & 86.3\\\\\n",
       "\t5 & Cont & 78.1 & 76.1\\\\\n",
       "\t6 & Cont & 88.3 & 78.1\\\\\n",
       "\\end{tabular}\n"
      ],
      "text/markdown": [
       "\n",
       "A data.frame: 6 × 3\n",
       "\n",
       "| <!--/--> | Treat &lt;fct&gt; | Prewt &lt;dbl&gt; | Postwt &lt;dbl&gt; |\n",
       "|---|---|---|---|\n",
       "| 1 | Cont | 80.7 | 80.2 |\n",
       "| 2 | Cont | 89.4 | 80.1 |\n",
       "| 3 | Cont | 91.8 | 86.4 |\n",
       "| 4 | Cont | 74.0 | 86.3 |\n",
       "| 5 | Cont | 78.1 | 76.1 |\n",
       "| 6 | Cont | 88.3 | 78.1 |\n",
       "\n"
      ],
      "text/plain": [
       "  Treat Prewt Postwt\n",
       "1 Cont  80.7  80.2  \n",
       "2 Cont  89.4  80.1  \n",
       "3 Cont  91.8  86.4  \n",
       "4 Cont  74.0  86.3  \n",
       "5 Cont  78.1  76.1  \n",
       "6 Cont  88.3  78.1  "
      ]
     },
     "metadata": {},
     "output_type": "display_data"
    },
    {
     "name": "stdout",
     "output_type": "stream",
     "text": [
      "'data.frame':\t72 obs. of  3 variables:\n",
      " $ Treat : Factor w/ 3 levels \"CBT\",\"Cont\",\"FT\": 2 2 2 2 2 2 2 2 2 2 ...\n",
      " $ Prewt : num  80.7 89.4 91.8 74 78.1 88.3 87.3 75.1 80.6 78.4 ...\n",
      " $ Postwt: num  80.2 80.1 86.4 86.3 76.1 78.1 75.1 86.7 73.5 84.6 ...\n"
     ]
    }
   ],
   "source": [
    "library(\"MASS\")\n",
    "head(anorexia)\n",
    "str(anorexia)"
   ]
  },
  {
   "cell_type": "code",
   "execution_count": 2,
   "metadata": {
    "vscode": {
     "languageId": "r"
    }
   },
   "outputs": [
    {
     "name": "stdout",
     "output_type": "stream",
     "text": [
      "anorexia                 package:MASS                  R Documentation\n",
      "\n",
      "_\bA_\bn_\bo_\br_\be_\bx_\bi_\ba _\bD_\ba_\bt_\ba _\bo_\bn _\bW_\be_\bi_\bg_\bh_\bt _\bC_\bh_\ba_\bn_\bg_\be\n",
      "\n",
      "_\bD_\be_\bs_\bc_\br_\bi_\bp_\bt_\bi_\bo_\bn:\n",
      "\n",
      "     The 'anorexia' data frame has 72 rows and 3 columns.  Weight\n",
      "     change data for young female anorexia patients.\n",
      "\n",
      "_\bU_\bs_\ba_\bg_\be:\n",
      "\n",
      "     anorexia\n",
      "     \n",
      "_\bF_\bo_\br_\bm_\ba_\bt:\n",
      "\n",
      "     This data frame contains the following columns:\n",
      "\n",
      "     'Treat' Factor of three levels: '\"Cont\"' (control), '\"CBT\"'\n",
      "          (Cognitive Behavioural treatment) and '\"FT\"' (family\n",
      "          treatment).\n",
      "\n",
      "     'Prewt' Weight of patient before study period, in lbs.\n",
      "\n",
      "     'Postwt' Weight of patient after study period, in lbs.\n",
      "\n",
      "_\bS_\bo_\bu_\br_\bc_\be:\n",
      "\n",
      "     Hand, D. J., Daly, F., McConway, K., Lunn, D. and Ostrowski, E.\n",
      "     eds (1993) _A Handbook of Small Data Sets._ Chapman & Hall, Data\n",
      "     set 285 (p. 229)\n",
      "\n",
      "     (Note that the original source mistakenly says that weights are in\n",
      "     kg.)\n",
      "\n",
      "_\bR_\be_\bf_\be_\br_\be_\bn_\bc_\be_\bs:\n",
      "\n",
      "     Venables, W. N. and Ripley, B. D. (2002) _Modern Applied\n",
      "     Statistics with S._ Fourth edition.  Springer.\n"
     ]
    }
   ],
   "source": [
    "help(anorexia)"
   ]
  },
  {
   "cell_type": "markdown",
   "metadata": {},
   "source": [
    "- Grafica el peso antes y después del experimento identificando los puntos de cada grupo con diferentes formas y colores (como se añadirán más elementos a la gráfica, se sugiere usar *ggplot*)"
   ]
  },
  {
   "cell_type": "code",
   "execution_count": 3,
   "metadata": {
    "vscode": {
     "languageId": "r"
    }
   },
   "outputs": [],
   "source": [
    "library(ggplot2)"
   ]
  },
  {
   "cell_type": "code",
   "execution_count": 4,
   "metadata": {
    "vscode": {
     "languageId": "r"
    }
   },
   "outputs": [
    {
     "data": {
      "image/png": "[encoded data removed]",
      "text/plain": [
       "plot without title"
      ]
     },
     "metadata": {
      "image/png": {
       "height": 420,
       "width": 420
      }
     },
     "output_type": "display_data"
    }
   ],
   "source": [
    "plt <- ggplot(anorexia, aes(x = Prewt, y = Postwt,\n",
    "                            colour = Treat, shape = Treat)) +\n",
    "  geom_point(size = 4)\n",
    "plt"
   ]
  },
  {
   "cell_type": "markdown",
   "metadata": {},
   "source": [
    "- Agrega líneas de regresión por mínimos cuadrados usando los mismos colores para identificarlos (*ggplot* regala los intervalos de confianza)"
   ]
  },
  {
   "cell_type": "code",
   "execution_count": 5,
   "metadata": {
    "vscode": {
     "languageId": "r"
    }
   },
   "outputs": [
    {
     "name": "stderr",
     "output_type": "stream",
     "text": [
      "\u001b[1m\u001b[22m`geom_smooth()` using formula = 'y ~ x'\n"
     ]
    },
    {
     "data": {
      "image/png": "[encoded data removed]",
      "text/plain": [
       "plot without title"
      ]
     },
     "metadata": {
      "image/png": {
       "height": 420,
       "width": 420
      }
     },
     "output_type": "display_data"
    }
   ],
   "source": [
    "plt <- plt + geom_smooth(method = \"lm\")\n",
    "plt"
   ]
  },
  {
   "cell_type": "markdown",
   "metadata": {},
   "source": [
    "- Agrega una línea con pendiente 1 y ordenada al origen 0"
   ]
  },
  {
   "cell_type": "code",
   "execution_count": 6,
   "metadata": {
    "vscode": {
     "languageId": "r"
    }
   },
   "outputs": [
    {
     "name": "stderr",
     "output_type": "stream",
     "text": [
      "\u001b[1m\u001b[22m`geom_smooth()` using formula = 'y ~ x'\n"
     ]
    },
    {
     "data": {
      "image/png": "[encoded data removed]",
      "text/plain": [
       "plot without title"
      ]
     },
     "metadata": {
      "image/png": {
       "height": 420,
       "width": 420
      }
     },
     "output_type": "display_data"
    }
   ],
   "source": [
    "plt <- plt + geom_abline(slope = 1, intercept = 0,\n",
    "                         color = \"black\", linewidth = 1)\n",
    "plt"
   ]
  },
  {
   "cell_type": "markdown",
   "metadata": {},
   "source": [
    "- ¿Se puede concluir algo sobre la eficacia de los tratamientos?"
   ]
  },
  {
   "cell_type": "markdown",
   "metadata": {},
   "source": []
  },
  {
   "cell_type": "markdown",
   "metadata": {},
   "source": [
    "- Otra forma de ver los datos es dividir la gráfica de acuerdo al tipo de tratamiento; se puede realizar con *facet_grid*:"
   ]
  },
  {
   "cell_type": "code",
   "execution_count": 7,
   "metadata": {
    "vscode": {
     "languageId": "r"
    }
   },
   "outputs": [
    {
     "name": "stderr",
     "output_type": "stream",
     "text": [
      "\u001b[1m\u001b[22m`geom_smooth()` using formula = 'y ~ x'\n"
     ]
    },
    {
     "data": {
      "image/png": "[encoded data removed]",
      "text/plain": [
       "plot without title"
      ]
     },
     "metadata": {
      "image/png": {
       "height": 420,
       "width": 420
      }
     },
     "output_type": "display_data"
    }
   ],
   "source": [
    "ggplot(anorexia, aes(x = Prewt, y = Postwt, colour = Treat)) +\n",
    "  facet_grid(. ~ Treat) +\n",
    "  geom_smooth(method = \"lm\") +\n",
    "  geom_point(size = 4) +\n",
    "  scale_colour_discrete(guide = \"none\")"
   ]
  },
  {
   "cell_type": "markdown",
   "metadata": {},
   "source": [
    "- Muestra el resumen de cada modelo de regresión. ¿Para qué grupos existe evidencia de una relación entre los pesos? Explica la diferencia entre el grupo de control y los grupos con terapias; genera una conclusión al respecto."
   ]
  },
  {
   "cell_type": "code",
   "execution_count": 8,
   "metadata": {
    "vscode": {
     "languageId": "r"
    }
   },
   "outputs": [],
   "source": [
    "# Filtrar datos por tratamiento\n",
    "cbt <- subset(anorexia, Treat == \"CBT\")\n",
    "ft <- subset(anorexia, Treat == \"FT\")\n",
    "cont <- subset(anorexia, Treat == \"Cont\")"
   ]
  },
  {
   "cell_type": "code",
   "execution_count": 10,
   "metadata": {
    "vscode": {
     "languageId": "r"
    }
   },
   "outputs": [
    {
     "data": {
      "text/html": [
       "<style>\n",
       ".dl-inline {width: auto; margin:0; padding: 0}\n",
       ".dl-inline>dt, .dl-inline>dd {float: none; width: auto; display: inline-block}\n",
       ".dl-inline>dt::after {content: \":\\0020\"; padding-right: .5ex}\n",
       ".dl-inline>dt:not(:first-of-type) {padding-left: .5ex}\n",
       "</style><dl class=dl-inline><dt>(Intercept)</dt><dd>15.5772439259788</dd><dt>cbt$Prewt</dt><dd>0.847981620578238</dd></dl>\n"
      ],
      "text/latex": [
       "\\begin{description*}\n",
       "\\item[(Intercept)] 15.5772439259788\n",
       "\\item[cbt\\textbackslash{}\\$Prewt] 0.847981620578238\n",
       "\\end{description*}\n"
      ],
      "text/markdown": [
       "(Intercept)\n",
       ":   15.5772439259788cbt$Prewt\n",
       ":   0.847981620578238\n",
       "\n"
      ],
      "text/plain": [
       "(Intercept)   cbt$Prewt \n",
       " 15.5772439   0.8479816 "
      ]
     },
     "metadata": {},
     "output_type": "display_data"
    }
   ],
   "source": [
    "# Coeficientes de la regresión para cada tratamiento\n",
    "lm_cbt <- lm(cbt$Postwt ~ cbt$Prewt)\n",
    "b_cbt <- lm_cbt$coefficients\n",
    "b_cbt"
   ]
  },
  {
   "cell_type": "code",
   "execution_count": 11,
   "metadata": {
    "vscode": {
     "languageId": "r"
    }
   },
   "outputs": [
    {
     "data": {
      "text/html": [
       "<style>\n",
       ".dl-inline {width: auto; margin:0; padding: 0}\n",
       ".dl-inline>dt, .dl-inline>dd {float: none; width: auto; display: inline-block}\n",
       ".dl-inline>dt::after {content: \":\\0020\"; padding-right: .5ex}\n",
       ".dl-inline>dt:not(:first-of-type) {padding-left: .5ex}\n",
       "</style><dl class=dl-inline><dt>(Intercept)</dt><dd>14.8197530341189</dd><dt>ft$Prewt</dt><dd>0.909226233952914</dd></dl>\n"
      ],
      "text/latex": [
       "\\begin{description*}\n",
       "\\item[(Intercept)] 14.8197530341189\n",
       "\\item[ft\\textbackslash{}\\$Prewt] 0.909226233952914\n",
       "\\end{description*}\n"
      ],
      "text/markdown": [
       "(Intercept)\n",
       ":   14.8197530341189ft$Prewt\n",
       ":   0.909226233952914\n",
       "\n"
      ],
      "text/plain": [
       "(Intercept)    ft$Prewt \n",
       " 14.8197530   0.9092262 "
      ]
     },
     "metadata": {},
     "output_type": "display_data"
    }
   ],
   "source": [
    "lm_ft <- lm(ft$Postwt ~ ft$Prewt)\n",
    "b_ft <- lm_ft$coefficients\n",
    "b_ft"
   ]
  },
  {
   "cell_type": "code",
   "execution_count": 12,
   "metadata": {
    "vscode": {
     "languageId": "r"
    }
   },
   "outputs": [
    {
     "data": {
      "text/html": [
       "<style>\n",
       ".dl-inline {width: auto; margin:0; padding: 0}\n",
       ".dl-inline>dt, .dl-inline>dd {float: none; width: auto; display: inline-block}\n",
       ".dl-inline>dt::after {content: \":\\0020\"; padding-right: .5ex}\n",
       ".dl-inline>dt:not(:first-of-type) {padding-left: .5ex}\n",
       "</style><dl class=dl-inline><dt>(Intercept)</dt><dd>92.051470772312</dd><dt>cont$Prewt</dt><dd>-0.134184503692577</dd></dl>\n"
      ],
      "text/latex": [
       "\\begin{description*}\n",
       "\\item[(Intercept)] 92.051470772312\n",
       "\\item[cont\\textbackslash{}\\$Prewt] -0.134184503692577\n",
       "\\end{description*}\n"
      ],
      "text/markdown": [
       "(Intercept)\n",
       ":   92.051470772312cont$Prewt\n",
       ":   -0.134184503692577\n",
       "\n"
      ],
      "text/plain": [
       "(Intercept)  cont$Prewt \n",
       " 92.0514708  -0.1341845 "
      ]
     },
     "metadata": {},
     "output_type": "display_data"
    }
   ],
   "source": [
    "lm_cont <- lm(cont$Postwt ~ cont$Prewt)\n",
    "b_cont <- lm(cont$Postwt ~ cont$Prewt)$coefficients\n",
    "b_cont"
   ]
  },
  {
   "cell_type": "markdown",
   "metadata": {},
   "source": [
    "Resumen estadístico"
   ]
  },
  {
   "cell_type": "code",
   "execution_count": 14,
   "metadata": {
    "vscode": {
     "languageId": "r"
    }
   },
   "outputs": [
    {
     "data": {
      "text/plain": [
       "\n",
       "Call:\n",
       "lm(formula = cbt$Postwt ~ cbt$Prewt)\n",
       "\n",
       "Residuals:\n",
       "    Min      1Q  Median      3Q     Max \n",
       "-12.455  -3.720  -1.740   2.349  15.964 \n",
       "\n",
       "Coefficients:\n",
       "            Estimate Std. Error t value Pr(>|t|)   \n",
       "(Intercept)  15.5772    23.9200   0.651  0.52041   \n",
       "cbt$Prewt     0.8480     0.2888   2.936  0.00671 **\n",
       "---\n",
       "Signif. codes:  0 '***' 0.001 '**' 0.01 '*' 0.05 '.' 0.1 ' ' 1\n",
       "\n",
       "Residual standard error: 7.405 on 27 degrees of freedom\n",
       "Multiple R-squared:  0.242,\tAdjusted R-squared:  0.214 \n",
       "F-statistic: 8.622 on 1 and 27 DF,  p-value: 0.006713\n"
      ]
     },
     "metadata": {},
     "output_type": "display_data"
    }
   ],
   "source": [
    "# CBT\n",
    "summary(lm_cbt)"
   ]
  },
  {
   "cell_type": "code",
   "execution_count": 15,
   "metadata": {
    "vscode": {
     "languageId": "r"
    }
   },
   "outputs": [
    {
     "data": {
      "text/html": [
       "<table class=\"dataframe\">\n",
       "<caption>A matrix: 2 × 2 of type dbl</caption>\n",
       "<thead>\n",
       "\t<tr><th></th><th scope=col>2.5 %</th><th scope=col>97.5 %</th></tr>\n",
       "</thead>\n",
       "<tbody>\n",
       "\t<tr><th scope=row>(Intercept)</th><td>-33.5025626</td><td>64.657050</td></tr>\n",
       "\t<tr><th scope=row>cbt$Prewt</th><td>  0.2554208</td><td> 1.440542</td></tr>\n",
       "</tbody>\n",
       "</table>\n"
      ],
      "text/latex": [
       "A matrix: 2 × 2 of type dbl\n",
       "\\begin{tabular}{r|ll}\n",
       "  & 2.5 \\% & 97.5 \\%\\\\\n",
       "\\hline\n",
       "\t(Intercept) & -33.5025626 & 64.657050\\\\\n",
       "\tcbt\\$Prewt &   0.2554208 &  1.440542\\\\\n",
       "\\end{tabular}\n"
      ],
      "text/markdown": [
       "\n",
       "A matrix: 2 × 2 of type dbl\n",
       "\n",
       "| <!--/--> | 2.5 % | 97.5 % |\n",
       "|---|---|---|\n",
       "| (Intercept) | -33.5025626 | 64.657050 |\n",
       "| cbt$Prewt |   0.2554208 |  1.440542 |\n",
       "\n"
      ],
      "text/plain": [
       "            2.5 %       97.5 %   \n",
       "(Intercept) -33.5025626 64.657050\n",
       "cbt$Prewt     0.2554208  1.440542"
      ]
     },
     "metadata": {},
     "output_type": "display_data"
    }
   ],
   "source": [
    "confint(lm_cbt)"
   ]
  },
  {
   "cell_type": "code",
   "execution_count": 16,
   "metadata": {
    "vscode": {
     "languageId": "r"
    }
   },
   "outputs": [
    {
     "data": {
      "text/plain": [
       "\n",
       "Call:\n",
       "lm(formula = ft$Postwt ~ ft$Prewt)\n",
       "\n",
       "Residuals:\n",
       "    Min      1Q  Median      3Q     Max \n",
       "-12.812  -2.759   1.760   4.187  13.343 \n",
       "\n",
       "Coefficients:\n",
       "            Estimate Std. Error t value Pr(>|t|)  \n",
       "(Intercept)  14.8198    30.6500   0.484   0.6357  \n",
       "ft$Prewt      0.9092     0.3676   2.473   0.0258 *\n",
       "---\n",
       "Signif. codes:  0 '***' 0.001 '**' 0.01 '*' 0.05 '.' 0.1 ' ' 1\n",
       "\n",
       "Residual standard error: 7.377 on 15 degrees of freedom\n",
       "Multiple R-squared:  0.2897,\tAdjusted R-squared:  0.2423 \n",
       "F-statistic: 6.117 on 1 and 15 DF,  p-value: 0.02584\n"
      ]
     },
     "metadata": {},
     "output_type": "display_data"
    }
   ],
   "source": [
    "# FT\n",
    "summary(lm_ft)"
   ]
  },
  {
   "cell_type": "code",
   "execution_count": 17,
   "metadata": {
    "vscode": {
     "languageId": "r"
    }
   },
   "outputs": [
    {
     "data": {
      "text/html": [
       "<table class=\"dataframe\">\n",
       "<caption>A matrix: 2 × 2 of type dbl</caption>\n",
       "<thead>\n",
       "\t<tr><th></th><th scope=col>2.5 %</th><th scope=col>97.5 %</th></tr>\n",
       "</thead>\n",
       "<tbody>\n",
       "\t<tr><th scope=row>(Intercept)</th><td>-50.5092108</td><td>80.148717</td></tr>\n",
       "\t<tr><th scope=row>ft$Prewt</th><td>  0.1256384</td><td> 1.692814</td></tr>\n",
       "</tbody>\n",
       "</table>\n"
      ],
      "text/latex": [
       "A matrix: 2 × 2 of type dbl\n",
       "\\begin{tabular}{r|ll}\n",
       "  & 2.5 \\% & 97.5 \\%\\\\\n",
       "\\hline\n",
       "\t(Intercept) & -50.5092108 & 80.148717\\\\\n",
       "\tft\\$Prewt &   0.1256384 &  1.692814\\\\\n",
       "\\end{tabular}\n"
      ],
      "text/markdown": [
       "\n",
       "A matrix: 2 × 2 of type dbl\n",
       "\n",
       "| <!--/--> | 2.5 % | 97.5 % |\n",
       "|---|---|---|\n",
       "| (Intercept) | -50.5092108 | 80.148717 |\n",
       "| ft$Prewt |   0.1256384 |  1.692814 |\n",
       "\n"
      ],
      "text/plain": [
       "            2.5 %       97.5 %   \n",
       "(Intercept) -50.5092108 80.148717\n",
       "ft$Prewt      0.1256384  1.692814"
      ]
     },
     "metadata": {},
     "output_type": "display_data"
    }
   ],
   "source": [
    "confint(lm_ft)"
   ]
  },
  {
   "cell_type": "code",
   "execution_count": 18,
   "metadata": {
    "vscode": {
     "languageId": "r"
    }
   },
   "outputs": [
    {
     "data": {
      "text/plain": [
       "\n",
       "Call:\n",
       "lm(formula = cont$Postwt ~ cont$Prewt)\n",
       "\n",
       "Residuals:\n",
       "    Min      1Q  Median      3Q     Max \n",
       "-8.3570 -3.7048 -0.5507  3.8755  8.4577 \n",
       "\n",
       "Coefficients:\n",
       "            Estimate Std. Error t value Pr(>|t|)    \n",
       "(Intercept)  92.0515    13.6900   6.724 5.91e-07 ***\n",
       "cont$Prewt   -0.1342     0.1675  -0.801    0.431    \n",
       "---\n",
       "Signif. codes:  0 '***' 0.001 '**' 0.01 '*' 0.05 '.' 0.1 ' ' 1\n",
       "\n",
       "Residual standard error: 4.779 on 24 degrees of freedom\n",
       "Multiple R-squared:  0.02606,\tAdjusted R-squared:  -0.01453 \n",
       "F-statistic: 0.6421 on 1 and 24 DF,  p-value: 0.4308\n"
      ]
     },
     "metadata": {},
     "output_type": "display_data"
    }
   ],
   "source": [
    "# Cont\n",
    "summary(lm_cont)"
   ]
  },
  {
   "cell_type": "code",
   "execution_count": 19,
   "metadata": {
    "vscode": {
     "languageId": "r"
    }
   },
   "outputs": [
    {
     "data": {
      "text/html": [
       "<table class=\"dataframe\">\n",
       "<caption>A matrix: 2 × 2 of type dbl</caption>\n",
       "<thead>\n",
       "\t<tr><th></th><th scope=col>2.5 %</th><th scope=col>97.5 %</th></tr>\n",
       "</thead>\n",
       "<tbody>\n",
       "\t<tr><th scope=row>(Intercept)</th><td>63.7968024</td><td>120.3061391</td></tr>\n",
       "\t<tr><th scope=row>cont$Prewt</th><td>-0.4798096</td><td>  0.2114406</td></tr>\n",
       "</tbody>\n",
       "</table>\n"
      ],
      "text/latex": [
       "A matrix: 2 × 2 of type dbl\n",
       "\\begin{tabular}{r|ll}\n",
       "  & 2.5 \\% & 97.5 \\%\\\\\n",
       "\\hline\n",
       "\t(Intercept) & 63.7968024 & 120.3061391\\\\\n",
       "\tcont\\$Prewt & -0.4798096 &   0.2114406\\\\\n",
       "\\end{tabular}\n"
      ],
      "text/markdown": [
       "\n",
       "A matrix: 2 × 2 of type dbl\n",
       "\n",
       "| <!--/--> | 2.5 % | 97.5 % |\n",
       "|---|---|---|\n",
       "| (Intercept) | 63.7968024 | 120.3061391 |\n",
       "| cont$Prewt | -0.4798096 |   0.2114406 |\n",
       "\n"
      ],
      "text/plain": [
       "            2.5 %      97.5 %     \n",
       "(Intercept) 63.7968024 120.3061391\n",
       "cont$Prewt  -0.4798096   0.2114406"
      ]
     },
     "metadata": {},
     "output_type": "display_data"
    }
   ],
   "source": [
    "confint(lm_cont)"
   ]
  },
  {
   "cell_type": "markdown",
   "metadata": {},
   "source": []
  }
 ],
 "metadata": {
  "kernelspec": {
   "display_name": "R",
   "language": "R",
   "name": "ir"
  },
  "language_info": {
   "codemirror_mode": "r",
   "file_extension": ".r",
   "mimetype": "text/x-r-source",
   "name": "R",
   "pygments_lexer": "r",
   "version": "4.4.1"
  }
 },
 "nbformat": 4,
 "nbformat_minor": 2
}
