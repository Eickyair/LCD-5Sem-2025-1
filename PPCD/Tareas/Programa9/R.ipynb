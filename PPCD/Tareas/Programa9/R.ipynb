{
 "cells": [
  {
   "cell_type": "markdown",
   "metadata": {},
   "source": [
    "# Integrantes\n",
    "- Aguilar Martínez Erick Yair\n",
    "- Martínez Muñoz Alan Magno\n",
    "- Mendoza Hernández Carlos Emiliano"
   ]
  },
  {
   "cell_type": "code",
   "execution_count": null,
   "metadata": {
    "vscode": {
     "languageId": "r"
    }
   },
   "outputs": [],
   "source": [
    "cpi_data <- read.csv(\"CPIAUCSL.csv\")\n",
    "cpi_ts <- ts(cpi_data$CPIAUCSL, start = c(1947, 1), frequency = 12)"
   ]
  },
  {
   "cell_type": "code",
   "execution_count": null,
   "metadata": {
    "vscode": {
     "languageId": "r"
    }
   },
   "outputs": [],
   "source": [
    "# Moving average\n",
    "media_movil <- function(serie, n) {\n",
    "  mov_avg <- numeric(length(serie))\n",
    "  for (i in seq_along(serie)) {\n",
    "    if (i < n) {\n",
    "      mov_avg[i] <- NA\n",
    "    } else {\n",
    "      mov_avg[i] <- mean(serie[(i - n + 1):i])\n",
    "    }\n",
    "  }\n",
    "  return(mov_avg)\n",
    "}"
   ]
  },
  {
   "cell_type": "code",
   "execution_count": null,
   "metadata": {
    "vscode": {
     "languageId": "r"
    }
   },
   "outputs": [],
   "source": [
    "# Simple Exponential Smoothing\n",
    "suavizado_exponencial <- function(serie, alpha) {\n",
    "  suavizado <- numeric(length(serie))\n",
    "  suavizado[1] <- serie[1]\n",
    "  for (i in 2:length(serie)) {\n",
    "    suavizado[i] <- alpha * serie[i] + (1 - alpha) * suavizado[i - 1]\n",
    "  }\n",
    "  return(suavizado)\n",
    "}"
   ]
  },
  {
   "cell_type": "code",
   "execution_count": null,
   "metadata": {
    "vscode": {
     "languageId": "r"
    }
   },
   "outputs": [],
   "source": [
    "# Usar nuestra función para una media móvil\n",
    "media_movil_a_mano <- media_movil(cpi_ts, 12)"
   ]
  },
  {
   "cell_type": "code",
   "execution_count": null,
   "metadata": {
    "vscode": {
     "languageId": "r"
    }
   },
   "outputs": [],
   "source": [
    "if (!require(forecast)) install.packages(\"forecast\")\n",
    "library(forecast)\n",
    "\n",
    "# Usar la media móvil de la biblioteca forecast\n",
    "media_movil <- ma(cpi_ts, order = 12)"
   ]
  },
  {
   "cell_type": "code",
   "execution_count": null,
   "metadata": {
    "vscode": {
     "languageId": "r"
    }
   },
   "outputs": [],
   "source": [
    "# Usar nuestra función para la exponencial simple\n",
    "suavizado_exponencial_a_mano <- suavizado_exponencial(cpi_ts, 0.2)"
   ]
  },
  {
   "cell_type": "code",
   "execution_count": null,
   "metadata": {
    "vscode": {
     "languageId": "r"
    }
   },
   "outputs": [],
   "source": [
    "# Usar la función `ses` de la biblioteca forecast para el suavizado exponencial\n",
    "suavizado_exponencial <- ses(cpi_ts, alpha = 0.2)$fitted"
   ]
  },
  {
   "cell_type": "code",
   "execution_count": 24,
   "metadata": {
    "vscode": {
     "languageId": "r"
    }
   },
   "outputs": [
    {
     "data": {
      "image/png": "[encoded data removed]",
      "text/plain": [
       "Plot with title \"Comparacion de Media Movil y Suavizado Exponencial\""
      ]
     },
     "metadata": {
      "image/png": {
       "height": 420,
       "width": 420
      }
     },
     "output_type": "display_data"
    }
   ],
   "source": [
    "par(bg = \"white\")\n",
    "plot(cpi_ts, main = \"Comparacion de Media Movil y Suavizado Exponencial\",\n",
    "     col = \"black\", ylab = \"CPI\", xlab = \"Tiempo\", lwd = 1.5)\n",
    "\n",
    "lines(media_movil_a_mano, col = \"blue\", lwd = 2, lty = 2) #Media Móvil a mano\n",
    "lines(media_movil, col = \"darkblue\", lwd = 2, lty = 1) #Media Móvil con forecast\n",
    "\n",
    "#Suavizado Exponencial a mano\n",
    "lines(suavizado_exponencial_a_mano, col = \"green\", lwd = 2, lty = 2)\n",
    "#Suavizado Exponencial con forecast\n",
    "lines(suavizado_exponencial, col = \"darkgreen\", lwd = 2, lty = 1)\n",
    "\n",
    "legend(\"topleft\", legend = c(\"Original\", \"Media Movil (a mano)\", \"Media Movil (forecast)\", \n",
    "                             \"Suavizado Exponencial (a mano)\", \"Suavizado Exponencial (forecast)\"),\n",
    "       col = c(\"black\", \"blue\", \"darkblue\", \"green\", \"darkgreen\"), lty = c(1, 2, 1, 2, 1), lwd = 2)"
   ]
  }
 ],
 "metadata": {
  "colab": {
   "provenance": []
  },
  "kernelspec": {
   "display_name": "R",
   "language": "R",
   "name": "ir"
  },
  "language_info": {
   "codemirror_mode": "r",
   "file_extension": ".r",
   "mimetype": "text/x-r-source",
   "name": "R",
   "pygments_lexer": "r",
   "version": "4.4.1"
  }
 },
 "nbformat": 4,
 "nbformat_minor": 0
}
